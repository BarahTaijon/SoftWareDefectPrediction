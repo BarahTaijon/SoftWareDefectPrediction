{
  "nbformat": 4,
  "nbformat_minor": 0,
  "metadata": {
    "colab": {
      "provenance": []
    },
    "kernelspec": {
      "name": "python3",
      "display_name": "Python 3"
    },
    "language_info": {
      "name": "python"
    }
  },
  "cells": [
    {
      "cell_type": "markdown",
      "source": [
        "# **Data Preprocessing: connect, Drop NaN, Spliting, GA**\n",
        "\n"
      ],
      "metadata": {
        "id": "FYSPoimha_CP"
      }
    },
    {
      "cell_type": "code",
      "execution_count": 1,
      "metadata": {
        "id": "IRXi4gk3lz-i"
      },
      "outputs": [],
      "source": [
        "import pandas as pd\n",
        "import numpy as np\n",
        "from sklearn.model_selection import train_test_split\n",
        "from sklearn import svm\n",
        "from sklearn.ensemble import RandomForestClassifier\n",
        "from sklearn import metrics\n",
        "\n",
        "url1 = \"https://raw.githubusercontent.com/BarahTaijon/SoftWareDefectPrediction/main/Datasets/jm1.csv\"\n",
        "url2 = \"https://raw.githubusercontent.com/BarahTaijon/SoftWareDefectPrediction/main/Datasets/cm1.csv\"\n",
        "url3 = \"https://raw.githubusercontent.com/BarahTaijon/SoftWareDefectPrediction/main/Datasets/kc1.csv\"\n",
        "url4 = \"https://raw.githubusercontent.com/BarahTaijon/SoftWareDefectPrediction/main/Datasets/kc2.csv\"\n",
        "url5 = \"https://raw.githubusercontent.com/BarahTaijon/SoftWareDefectPrediction/main/Datasets/pc1.csv\"\n",
        "\n",
        "dataset_jm1 = pd.read_csv(url1)\n",
        "dataset_cm1 = pd.read_csv(url2)\n",
        "dataset_kc1 = pd.read_csv(url3)\n",
        "dataset_kc2 = pd.read_csv(url4)\n",
        "dataset_pc1 = pd.read_csv(url5)\n"
      ]
    },
    {
      "cell_type": "code",
      "source": [
        "#drop empty rows in jm1 dataset\n",
        "\n",
        "modi_dataset_jm1 = dataset_jm1.copy()\n",
        "modi_dataset_jm1  = modi_dataset_jm1.replace(r'^\\s*$', float('NaN'), regex = True)\n",
        "modi_dataset_jm1.dropna(inplace = True)\n",
        "\n",
        "#modi_dataset_jm1.count()"
      ],
      "metadata": {
        "id": "j661uH51lVuR"
      },
      "execution_count": 2,
      "outputs": []
    },
    {
      "cell_type": "code",
      "source": [
        "# x & y for all datasets\n",
        "\n",
        "#-----jm1----------\n",
        "jm1_x = modi_dataset_jm1.drop('defects', axis=1)\n",
        "jm1_y = modi_dataset_jm1['defects']\n",
        "#-----cm1----------\n",
        "cm1_x = dataset_cm1.drop('defects', axis=1)\n",
        "cm1_y = dataset_cm1['defects']\n",
        "#-----kc1----------\n",
        "kc1_x = dataset_kc1.drop('defects', axis=1)\n",
        "kc1_y = dataset_kc1['defects']\n",
        "#-----kc2----------\n",
        "kc2_x = dataset_kc2.drop('defects', axis=1)\n",
        "kc2_y = dataset_kc2['defects']\n",
        "#-----pc1----------\n",
        "pc1_x = dataset_pc1.drop('defects', axis=1)\n",
        "pc1_y = dataset_pc1['defects']\n"
      ],
      "metadata": {
        "id": "82KOTpdTyxGi"
      },
      "execution_count": 3,
      "outputs": []
    },
    {
      "cell_type": "code",
      "source": [
        "#spliting data without feature selection (no GA & MVO)\n",
        "\n",
        "jm1_x_train, jm1_x_test, jm1_y_train, jm1_y_test =  train_test_split(jm1_x, jm1_y, test_size = 0.3)\n",
        "cm1_x_train, cm1_x_test, cm1_y_train, cm1_y_test =  train_test_split(cm1_x, cm1_y, test_size = 0.3)\n",
        "kc1_x_train, kc1_x_test, kc1_y_train, kc1_y_test =  train_test_split(kc1_x, kc1_y, test_size = 0.3)\n",
        "kc2_x_train, kc2_x_test, kc2_y_train, kc2_y_test =  train_test_split(kc2_x, kc2_y, test_size = 0.3)\n",
        "pc1_x_train, pc1_x_test, pc1_y_train, pc1_y_test =  train_test_split(pc1_x, pc1_y, test_size = 0.3)\n"
      ],
      "metadata": {
        "id": "cFLj19zhgpmt"
      },
      "execution_count": 4,
      "outputs": []
    },
    {
      "cell_type": "code",
      "source": [
        "pip install sklearn-genetic"
      ],
      "metadata": {
        "colab": {
          "base_uri": "https://localhost:8080/"
        },
        "id": "ziZl2IguX9aa",
        "outputId": "3f54a710-9458-44db-f350-b3b00a22d548"
      },
      "execution_count": 7,
      "outputs": [
        {
          "output_type": "stream",
          "name": "stdout",
          "text": [
            "Requirement already satisfied: sklearn-genetic in /usr/local/lib/python3.10/dist-packages (0.5.1)\n",
            "Requirement already satisfied: scikit-learn>=0.23 in /usr/local/lib/python3.10/dist-packages (from sklearn-genetic) (1.2.2)\n",
            "Requirement already satisfied: deap>=1.0.2 in /usr/local/lib/python3.10/dist-packages (from sklearn-genetic) (1.4.1)\n",
            "Requirement already satisfied: numpy in /usr/local/lib/python3.10/dist-packages (from sklearn-genetic) (1.23.5)\n",
            "Requirement already satisfied: multiprocess in /usr/local/lib/python3.10/dist-packages (from sklearn-genetic) (0.70.15)\n",
            "Requirement already satisfied: scipy>=1.3.2 in /usr/local/lib/python3.10/dist-packages (from scikit-learn>=0.23->sklearn-genetic) (1.11.4)\n",
            "Requirement already satisfied: joblib>=1.1.1 in /usr/local/lib/python3.10/dist-packages (from scikit-learn>=0.23->sklearn-genetic) (1.3.2)\n",
            "Requirement already satisfied: threadpoolctl>=2.0.0 in /usr/local/lib/python3.10/dist-packages (from scikit-learn>=0.23->sklearn-genetic) (3.2.0)\n",
            "Requirement already satisfied: dill>=0.3.7 in /usr/local/lib/python3.10/dist-packages (from multiprocess->sklearn-genetic) (0.3.7)\n"
          ]
        }
      ]
    },
    {
      "cell_type": "code",
      "source": [
        "# Genetic Algorithm code\n",
        "\n",
        "from genetic_selection import GeneticSelectionCV\n",
        "from sklearn.tree import DecisionTreeClassifier\n",
        "import pandas as pds\n",
        "import numpy as num\n",
        "\n",
        "estimators = DecisionTreeClassifier()\n",
        "models = GeneticSelectionCV(\n",
        "    estimators, cv=5, verbose=0,\n",
        "    scoring=\"accuracy\", max_features=5,\n",
        "    n_population=100, crossover_proba=0.5,\n",
        "    mutation_proba=0.2, n_generations=50,\n",
        "    crossover_independent_proba=0.5,\n",
        "    mutation_independent_proba=0.04,\n",
        "    tournament_size=3, n_gen_no_change=10,\n",
        "    caching=True, n_jobs=-1)\n",
        "\n",
        "#  Genetic Algorithm fits datasets\n",
        "\n",
        "models = models.fit(jm1_x, jm1_y)\n",
        "ga_jm1_x = jm1_x[jm1_x.columns[models.support_]]\n",
        "\n",
        "models = models.fit(cm1_x, cm1_y)\n",
        "ga_cm1_x = cm1_x[cm1_x.columns[models.support_]]\n",
        "\n",
        "models = models.fit(kc1_x, kc1_y)\n",
        "ga_kc1_x = kc1_x[kc1_x.columns[models.support_]]\n",
        "\n",
        "models = models.fit(kc2_x, kc2_y)\n",
        "ga_kc2_x = kc2_x[kc2_x.columns[models.support_]]\n",
        "\n",
        "models = models.fit(pc1_x, pc1_y)\n",
        "ga_pc1_x =  pc1_x[pc1_x.columns[models.support_]]"
      ],
      "metadata": {
        "id": "gPvjOSFc1jYP"
      },
      "execution_count": 8,
      "outputs": []
    },
    {
      "cell_type": "code",
      "source": [
        "#spliting data with feature selection (GA)\n",
        "\n",
        "jm1_ga_x_train, jm1_ga_x_test, jm1_y_train, jm1_y_test =  train_test_split(ga_jm1_x, jm1_y, test_size = 0.3)\n",
        "cm1_ga_x_train, cm1_ga_x_test, cm1_y_train, cm1_y_test =  train_test_split(ga_cm1_x, cm1_y, test_size = 0.3)\n",
        "kc1_ga_x_train, kc1_ga_x_test, kc1_y_train, kc1_y_test =  train_test_split(ga_kc1_x, kc1_y, test_size = 0.3)\n",
        "kc2_ga_x_train, kc2_ga_x_test, kc2_y_train, kc2_y_test =  train_test_split(ga_kc2_x, kc2_y, test_size = 0.3)\n",
        "pc1_ga_x_train, pc1_ga_x_test, pc1_y_train, pc1_y_test =  train_test_split(ga_pc1_x, pc1_y, test_size = 0.3)"
      ],
      "metadata": {
        "id": "fV9j84-u-43a"
      },
      "execution_count": 9,
      "outputs": []
    },
    {
      "cell_type": "markdown",
      "source": [
        "# **SVM: train, testing & evaluate**\n",
        "\n",
        "1. **without FS**\n",
        "2. **with FS(GA)**\n",
        "3. **with FS(MVO)**\n",
        "\n",
        "\n"
      ],
      "metadata": {
        "id": "h3vi0yMIcBmj"
      }
    },
    {
      "cell_type": "markdown",
      "source": [
        "## **1) SVM without FS**"
      ],
      "metadata": {
        "id": "4IVR2W0oA6o1"
      }
    },
    {
      "cell_type": "code",
      "source": [
        "#train & testing models  [SVM]\n",
        "\n",
        "#svm.SVC(kernel='linear', C = 1.0)\n",
        "\n",
        "clf_jm1 = svm.SVC(kernel='rbf', C = 1.0, gamma = 0.1)\n",
        "clf_jm1.fit(jm1_x_train, jm1_y_train)\n",
        "jm1_y_pred = clf_jm1.predict(jm1_x_test)\n",
        "\n",
        "clf_cm1 = svm.SVC(kernel='rbf', C = 1.0, gamma = 0.1)\n",
        "clf_cm1.fit(cm1_x_train, cm1_y_train)\n",
        "cm1_y_pred = clf_cm1.predict(cm1_x_test)\n",
        "\n",
        "clf_kc1 = svm.SVC(kernel='rbf', C = 1.0, gamma = 0.1)\n",
        "clf_kc1.fit(kc1_x_train, kc1_y_train)\n",
        "kc1_y_pred = clf_kc1.predict(kc1_x_test)\n",
        "\n",
        "clf_kc2 = svm.SVC(kernel='rbf', C = 1.0, gamma = 0.1)  #svm.SVC(kernel='linear', C = 1.0)\n",
        "clf_kc2.fit(kc2_x_train, kc2_y_train)\n",
        "kc2_y_pred = clf_kc2.predict(kc2_x_test)\n",
        "\n",
        "clf_pc1 = svm.SVC(kernel='rbf', C = 1.0, gamma = 0.1)  #svm.SVC(kernel='linear', C = 1.0)\n",
        "clf_pc1.fit(pc1_x_train, pc1_y_train)\n",
        "pc1_y_pred = clf_pc1.predict(pc1_x_test)"
      ],
      "metadata": {
        "id": "RRXLKZYeovhw"
      },
      "execution_count": 5,
      "outputs": []
    },
    {
      "cell_type": "code",
      "source": [
        "acc = metrics.accuracy_score(cm1_y_test, cm1_y_pred)\n",
        "f1  = metrics.f1_score(cm1_y_test, cm1_y_pred)\n",
        "auc = metrics.roc_auc_score(cm1_y_test, cm1_y_pred)\n",
        "pre = metrics.precision_score(cm1_y_test, cm1_y_pred)\n",
        "recall = metrics.recall_score(cm1_y_test, cm1_y_pred)\n",
        "print (\"cm1 :  acc ( %f ) , f1 (%f) , auc (%f), pre (%f), recall(%f)\"% (acc, f1 , auc, pre, recall))\n",
        "\n",
        "acc = metrics.accuracy_score(jm1_y_test, jm1_y_pred)\n",
        "f1  = metrics.f1_score(jm1_y_test, jm1_y_pred)\n",
        "auc = metrics.roc_auc_score(jm1_y_test, jm1_y_pred)\n",
        "pre = metrics.precision_score(jm1_y_test, jm1_y_pred)\n",
        "recall = metrics.recall_score(jm1_y_test, jm1_y_pred)\n",
        "print (\"\\njm1 :  acc ( %f ) , f1 (%f) , auc (%f), pre (%f), recall(%f)\"% (acc, f1 , auc, pre, recall))\n",
        "\n",
        "\n",
        "acc = metrics.accuracy_score(kc1_y_test, kc1_y_pred)\n",
        "f1  = metrics.f1_score(kc1_y_test, kc1_y_pred)\n",
        "auc = metrics.roc_auc_score(kc1_y_test, kc1_y_pred)\n",
        "pre = metrics.precision_score(kc1_y_test, kc1_y_pred)\n",
        "recall = metrics.recall_score(kc1_y_test, kc1_y_pred)\n",
        "print (\"\\nkc1 :  acc ( %f ) , f1 (%f) , auc (%f), pre (%f), recall(%f)\"% (acc, f1 , auc, pre, recall))\n",
        "\n",
        "\n",
        "acc = metrics.accuracy_score(kc2_y_test, kc2_y_pred)\n",
        "f1  = metrics.f1_score(kc2_y_test, kc2_y_pred)\n",
        "auc = metrics.roc_auc_score(kc2_y_test, kc2_y_pred)\n",
        "pre = metrics.precision_score(kc2_y_test, kc2_y_pred)\n",
        "recall = metrics.recall_score(kc2_y_test, kc2_y_pred)\n",
        "print (\"\\nkc2 :  acc ( %f ) , f1 (%f) , auc (%f), pre (%f), recall(%f)\"% (acc, f1 , auc, pre, recall))\n",
        "\n",
        "\n",
        "acc = metrics.accuracy_score(pc1_y_test, pc1_y_pred)\n",
        "f1  = metrics.f1_score(pc1_y_test, pc1_y_pred)\n",
        "auc = metrics.roc_auc_score(pc1_y_test, pc1_y_pred)\n",
        "pre = metrics.precision_score(pc1_y_test, pc1_y_pred)\n",
        "recall = metrics.recall_score(pc1_y_test, pc1_y_pred)\n",
        "print (\"\\npc1 :  acc ( %f ) , f1 (%f) , auc (%f), pre (%f), recall(%f)\\n\"% (acc, f1 , auc, pre, recall))\n"
      ],
      "metadata": {
        "colab": {
          "base_uri": "https://localhost:8080/"
        },
        "id": "RZyUfiy3g2Io",
        "outputId": "f846d07b-db00-4775-f38a-adf0e00f7fda"
      },
      "execution_count": 6,
      "outputs": [
        {
          "output_type": "stream",
          "name": "stdout",
          "text": [
            "cm1 :  acc ( 0.900000 ) , f1 (0.000000) , auc (0.500000), pre (0.000000), recall(0.000000)\n",
            "\n",
            "jm1 :  acc ( 0.812500 ) , f1 (0.061350) , auc (0.514674), pre (0.740741), recall(0.032000)\n",
            "\n",
            "kc1 :  acc ( 0.838863 ) , f1 (0.089286) , auc (0.522636), pre (0.833333), recall(0.047170)\n",
            "\n",
            "kc2 :  acc ( 0.783439 ) , f1 (0.000000) , auc (0.500000), pre (0.000000), recall(0.000000)\n",
            "\n",
            "pc1 :  acc ( 0.954955 ) , f1 (0.285714) , auc (0.586653), pre (0.750000), recall(0.176471)\n",
            "\n"
          ]
        },
        {
          "output_type": "stream",
          "name": "stderr",
          "text": [
            "/usr/local/lib/python3.10/dist-packages/sklearn/metrics/_classification.py:1344: UndefinedMetricWarning: Precision is ill-defined and being set to 0.0 due to no predicted samples. Use `zero_division` parameter to control this behavior.\n",
            "  _warn_prf(average, modifier, msg_start, len(result))\n",
            "/usr/local/lib/python3.10/dist-packages/sklearn/metrics/_classification.py:1344: UndefinedMetricWarning: Precision is ill-defined and being set to 0.0 due to no predicted samples. Use `zero_division` parameter to control this behavior.\n",
            "  _warn_prf(average, modifier, msg_start, len(result))\n"
          ]
        }
      ]
    },
    {
      "cell_type": "markdown",
      "source": [
        "## **2) SVM + With FS(GA)**"
      ],
      "metadata": {
        "id": "F8MIFyw1CIDl"
      }
    },
    {
      "cell_type": "code",
      "source": [
        "#train & testing models  [SVM]\n",
        "\n",
        "clf_jm1_ga = svm.SVC(kernel='rbf', C = 1.0, gamma = 0.1)\n",
        "clf_jm1_ga.fit(jm1_ga_x_train, jm1_y_train)\n",
        "jm1_ga_y_pred = clf_jm1_ga.predict(jm1_ga_x_test)\n",
        "\n",
        "clf_cm1_ga = svm.SVC(kernel='rbf', C = 1.0, gamma = 0.1)\n",
        "clf_cm1_ga.fit(cm1_ga_x_train, cm1_y_train)\n",
        "cm1_ga_y_pred = clf_cm1_ga.predict(cm1_ga_x_test)\n",
        "\n",
        "clf_kc1_ga = svm.SVC(kernel='rbf', C = 1.0, gamma = 0.1)\n",
        "clf_kc1_ga.fit(kc1_ga_x_train, kc1_y_train)\n",
        "kc1_ga_y_pred = clf_kc1_ga.predict(kc1_ga_x_test)\n",
        "\n",
        "clf_kc2_ga = svm.SVC(kernel='rbf', C = 1.0, gamma = 0.1)\n",
        "clf_kc2_ga.fit(kc2_ga_x_train, kc2_y_train)\n",
        "kc2_ga_y_pred = clf_kc2_ga.predict(kc2_ga_x_test)\n",
        "\n",
        "clf_pc1_ga = svm.SVC(kernel='rbf', C = 1.0, gamma = 0.1)\n",
        "clf_pc1_ga.fit(pc1_ga_x_train, pc1_y_train)\n",
        "pc1_ga_y_pred = clf_pc1_ga.predict(pc1_ga_x_test)"
      ],
      "metadata": {
        "id": "9j-lL13A-yvv"
      },
      "execution_count": 10,
      "outputs": []
    },
    {
      "cell_type": "code",
      "source": [
        "acc = metrics.accuracy_score(cm1_y_test, cm1_ga_y_pred)\n",
        "f1  = metrics.f1_score(cm1_y_test, cm1_ga_y_pred)\n",
        "auc = metrics.roc_auc_score(cm1_y_test, cm1_ga_y_pred)\n",
        "pre = metrics.precision_score(cm1_y_test, cm1_ga_y_pred)\n",
        "recall = metrics.recall_score(cm1_y_test, cm1_ga_y_pred)\n",
        "print (\"cm1 :  acc ( %f ) , f1 (%f) , auc (%f), pre (%f), recall(%f)\"% (acc, f1 , auc, pre, recall))\n",
        "\n",
        "acc = metrics.accuracy_score(jm1_y_test, jm1_ga_y_pred)\n",
        "f1  = metrics.f1_score(jm1_y_test, jm1_ga_y_pred)\n",
        "auc = metrics.roc_auc_score(jm1_y_test, jm1_ga_y_pred)\n",
        "pre = metrics.precision_score(jm1_y_test, jm1_ga_y_pred)\n",
        "recall = metrics.recall_score(jm1_y_test, jm1_ga_y_pred)\n",
        "print (\"\\njm1 :  acc ( %f ) , f1 (%f) , auc (%f), pre (%f), recall(%f)\"% (acc, f1 , auc, pre, recall))\n",
        "\n",
        "\n",
        "acc = metrics.accuracy_score(kc1_y_test, kc1_ga_y_pred)\n",
        "f1  = metrics.f1_score(kc1_y_test, kc1_ga_y_pred)\n",
        "auc = metrics.roc_auc_score(kc1_y_test, kc1_ga_y_pred)\n",
        "pre = metrics.precision_score(kc1_y_test, kc1_ga_y_pred)\n",
        "recall = metrics.recall_score(kc1_y_test, kc1_ga_y_pred)\n",
        "print (\"\\nkc1 :  acc ( %f ) , f1 (%f) , auc (%f), pre (%f), recall(%f)\"% (acc, f1 , auc, pre, recall))\n",
        "\n",
        "\n",
        "acc = metrics.accuracy_score(kc2_y_test, kc2_ga_y_pred)\n",
        "f1  = metrics.f1_score(kc2_y_test, kc2_ga_y_pred)\n",
        "auc = metrics.roc_auc_score(kc2_y_test, kc2_ga_y_pred)\n",
        "pre = metrics.precision_score(kc2_y_test, kc2_ga_y_pred)\n",
        "recall = metrics.recall_score(kc2_y_test, kc2_ga_y_pred)\n",
        "print (\"\\nkc2 :  acc ( %f ) , f1 (%f) , auc (%f), pre (%f), recall(%f)\"% (acc, f1 , auc, pre, recall))\n",
        "\n",
        "\n",
        "acc = metrics.accuracy_score(pc1_y_test, pc1_ga_y_pred)\n",
        "f1  = metrics.f1_score(pc1_y_test, pc1_ga_y_pred)\n",
        "auc = metrics.roc_auc_score(pc1_y_test, pc1_ga_y_pred)\n",
        "pre = metrics.precision_score(pc1_y_test, pc1_ga_y_pred)\n",
        "recall = metrics.recall_score(pc1_y_test, pc1_ga_y_pred)\n",
        "print (\"\\npc1 :  acc ( %f ) , f1 (%f) , auc (%f), pre (%f), recall(%f)\\n\"% (acc, f1 , auc, pre, recall))\n"
      ],
      "metadata": {
        "colab": {
          "base_uri": "https://localhost:8080/"
        },
        "id": "NEqGSpUIFstJ",
        "outputId": "28629c9b-8193-404f-aadc-29497f0d139d"
      },
      "execution_count": 11,
      "outputs": [
        {
          "output_type": "stream",
          "name": "stdout",
          "text": [
            "cm1 :  acc ( 0.933333 ) , f1 (0.000000) , auc (0.500000), pre (0.000000), recall(0.000000)\n",
            "\n",
            "jm1 :  acc ( 0.798713 ) , f1 (0.029542) , auc (0.505513), pre (0.476190), recall(0.015244)\n",
            "\n",
            "kc1 :  acc ( 0.867299 ) , f1 (0.300000) , auc (0.588324), pre (0.692308), recall(0.191489)\n",
            "\n",
            "kc2 :  acc ( 0.802548 ) , f1 (0.456140) , auc (0.645480), pre (0.722222), recall(0.333333)\n",
            "\n",
            "pc1 :  acc ( 0.915916 ) , f1 (0.000000) , auc (0.498366), pre (0.000000), recall(0.000000)\n",
            "\n"
          ]
        },
        {
          "output_type": "stream",
          "name": "stderr",
          "text": [
            "/usr/local/lib/python3.10/dist-packages/sklearn/metrics/_classification.py:1344: UndefinedMetricWarning: Precision is ill-defined and being set to 0.0 due to no predicted samples. Use `zero_division` parameter to control this behavior.\n",
            "  _warn_prf(average, modifier, msg_start, len(result))\n"
          ]
        }
      ]
    },
    {
      "cell_type": "markdown",
      "source": [
        "# **RF: train, testing & evaluate**\n",
        "1. **without FS**\n",
        "2. **with FS(GA)**\n",
        "3. **with FS(MVO)**\n"
      ],
      "metadata": {
        "id": "nTYHfF1VcbAI"
      }
    },
    {
      "cell_type": "markdown",
      "source": [
        "## **1) RF without FS**"
      ],
      "metadata": {
        "id": "TgMyopduYG7A"
      }
    },
    {
      "cell_type": "code",
      "source": [
        "from sklearn.model_selection import GridSearchCV\n",
        "\n",
        "p_grid = { 'n_estimators':[1000, 500, 800],\n",
        "          'max_features':['sqrt', 'log2'],\n",
        "           'max_depth':[4,6,8],\n",
        "           'criterion':['gini', 'entropy']\n",
        "           }\n",
        "\n",
        "est = RandomForestClassifier(n_jobs = 1)\n",
        "grid = GridSearchCV(estimator= est ,param_grid= p_grid , verbose = 2)\n",
        "grid2 = GridSearchCV(estimator= est ,param_grid= p_grid , verbose = 2)\n",
        "grid3 = GridSearchCV(estimator= est ,param_grid= p_grid , verbose = 2)\n",
        "grid4 = GridSearchCV(estimator= est ,param_grid= p_grid , verbose = 2)\n",
        "grid5 = GridSearchCV(estimator= est ,param_grid= p_grid , verbose = 2)"
      ],
      "metadata": {
        "id": "NytjUD9HMpt3"
      },
      "execution_count": 12,
      "outputs": []
    },
    {
      "cell_type": "code",
      "source": [
        "grid.fit(cm1_x_train, cm1_y_train)\n",
        "cm1_rf_y_pred = grid.predict(cm1_x_test)\n",
        "\n",
        "print('Best random search hyperparameters are: '+str(grid.best_params_))"
      ],
      "metadata": {
        "id": "KZisEJWZzgCN",
        "colab": {
          "base_uri": "https://localhost:8080/"
        },
        "outputId": "8bc5a6e5-0746-4512-fb3b-8c620540a98a"
      },
      "execution_count": 6,
      "outputs": [
        {
          "output_type": "stream",
          "name": "stdout",
          "text": [
            "Fitting 5 folds for each of 36 candidates, totalling 180 fits\n",
            "[CV] END criterion=gini, max_depth=4, max_features=sqrt, n_estimators=1000; total time=   1.7s\n",
            "[CV] END criterion=gini, max_depth=4, max_features=sqrt, n_estimators=1000; total time=   1.7s\n",
            "[CV] END criterion=gini, max_depth=4, max_features=sqrt, n_estimators=1000; total time=   1.6s\n",
            "[CV] END criterion=gini, max_depth=4, max_features=sqrt, n_estimators=1000; total time=   1.6s\n",
            "[CV] END criterion=gini, max_depth=4, max_features=sqrt, n_estimators=1000; total time=   2.2s\n",
            "[CV] END criterion=gini, max_depth=4, max_features=sqrt, n_estimators=500; total time=   1.4s\n",
            "[CV] END criterion=gini, max_depth=4, max_features=sqrt, n_estimators=500; total time=   1.3s\n",
            "[CV] END criterion=gini, max_depth=4, max_features=sqrt, n_estimators=500; total time=   1.1s\n",
            "[CV] END criterion=gini, max_depth=4, max_features=sqrt, n_estimators=500; total time=   0.8s\n",
            "[CV] END criterion=gini, max_depth=4, max_features=sqrt, n_estimators=500; total time=   0.8s\n",
            "[CV] END criterion=gini, max_depth=4, max_features=sqrt, n_estimators=800; total time=   1.3s\n",
            "[CV] END criterion=gini, max_depth=4, max_features=sqrt, n_estimators=800; total time=   1.3s\n",
            "[CV] END criterion=gini, max_depth=4, max_features=sqrt, n_estimators=800; total time=   1.3s\n",
            "[CV] END criterion=gini, max_depth=4, max_features=sqrt, n_estimators=800; total time=   1.3s\n",
            "[CV] END criterion=gini, max_depth=4, max_features=sqrt, n_estimators=800; total time=   1.3s\n",
            "[CV] END criterion=gini, max_depth=4, max_features=log2, n_estimators=1000; total time=   1.7s\n",
            "[CV] END criterion=gini, max_depth=4, max_features=log2, n_estimators=1000; total time=   4.9s\n",
            "[CV] END criterion=gini, max_depth=4, max_features=log2, n_estimators=1000; total time=   3.5s\n",
            "[CV] END criterion=gini, max_depth=4, max_features=log2, n_estimators=1000; total time=   4.2s\n",
            "[CV] END criterion=gini, max_depth=4, max_features=log2, n_estimators=1000; total time=   6.2s\n",
            "[CV] END criterion=gini, max_depth=4, max_features=log2, n_estimators=500; total time=   1.1s\n",
            "[CV] END criterion=gini, max_depth=4, max_features=log2, n_estimators=500; total time=   0.8s\n",
            "[CV] END criterion=gini, max_depth=4, max_features=log2, n_estimators=500; total time=   0.8s\n",
            "[CV] END criterion=gini, max_depth=4, max_features=log2, n_estimators=500; total time=   0.8s\n",
            "[CV] END criterion=gini, max_depth=4, max_features=log2, n_estimators=500; total time=   0.8s\n",
            "[CV] END criterion=gini, max_depth=4, max_features=log2, n_estimators=800; total time=   1.3s\n",
            "[CV] END criterion=gini, max_depth=4, max_features=log2, n_estimators=800; total time=   1.3s\n",
            "[CV] END criterion=gini, max_depth=4, max_features=log2, n_estimators=800; total time=   1.3s\n",
            "[CV] END criterion=gini, max_depth=4, max_features=log2, n_estimators=800; total time=   1.6s\n",
            "[CV] END criterion=gini, max_depth=4, max_features=log2, n_estimators=800; total time=   2.1s\n",
            "[CV] END criterion=gini, max_depth=6, max_features=sqrt, n_estimators=1000; total time=   5.4s\n",
            "[CV] END criterion=gini, max_depth=6, max_features=sqrt, n_estimators=1000; total time=   5.5s\n",
            "[CV] END criterion=gini, max_depth=6, max_features=sqrt, n_estimators=1000; total time=   4.0s\n",
            "[CV] END criterion=gini, max_depth=6, max_features=sqrt, n_estimators=1000; total time=   1.7s\n",
            "[CV] END criterion=gini, max_depth=6, max_features=sqrt, n_estimators=1000; total time=   1.7s\n",
            "[CV] END criterion=gini, max_depth=6, max_features=sqrt, n_estimators=500; total time=   0.8s\n",
            "[CV] END criterion=gini, max_depth=6, max_features=sqrt, n_estimators=500; total time=   0.9s\n",
            "[CV] END criterion=gini, max_depth=6, max_features=sqrt, n_estimators=500; total time=   0.9s\n",
            "[CV] END criterion=gini, max_depth=6, max_features=sqrt, n_estimators=500; total time=   0.9s\n",
            "[CV] END criterion=gini, max_depth=6, max_features=sqrt, n_estimators=500; total time=   0.8s\n",
            "[CV] END criterion=gini, max_depth=6, max_features=sqrt, n_estimators=800; total time=   1.4s\n",
            "[CV] END criterion=gini, max_depth=6, max_features=sqrt, n_estimators=800; total time=   1.7s\n",
            "[CV] END criterion=gini, max_depth=6, max_features=sqrt, n_estimators=800; total time=   2.1s\n",
            "[CV] END criterion=gini, max_depth=6, max_features=sqrt, n_estimators=800; total time=   1.4s\n",
            "[CV] END criterion=gini, max_depth=6, max_features=sqrt, n_estimators=800; total time=   1.3s\n",
            "[CV] END criterion=gini, max_depth=6, max_features=log2, n_estimators=1000; total time=   1.7s\n",
            "[CV] END criterion=gini, max_depth=6, max_features=log2, n_estimators=1000; total time=   1.7s\n",
            "[CV] END criterion=gini, max_depth=6, max_features=log2, n_estimators=1000; total time=   1.7s\n",
            "[CV] END criterion=gini, max_depth=6, max_features=log2, n_estimators=1000; total time=   1.7s\n",
            "[CV] END criterion=gini, max_depth=6, max_features=log2, n_estimators=1000; total time=   2.7s\n",
            "[CV] END criterion=gini, max_depth=6, max_features=log2, n_estimators=500; total time=   1.3s\n",
            "[CV] END criterion=gini, max_depth=6, max_features=log2, n_estimators=500; total time=   0.9s\n",
            "[CV] END criterion=gini, max_depth=6, max_features=log2, n_estimators=500; total time=   0.8s\n",
            "[CV] END criterion=gini, max_depth=6, max_features=log2, n_estimators=500; total time=   0.9s\n",
            "[CV] END criterion=gini, max_depth=6, max_features=log2, n_estimators=500; total time=   0.8s\n",
            "[CV] END criterion=gini, max_depth=6, max_features=log2, n_estimators=800; total time=   1.3s\n",
            "[CV] END criterion=gini, max_depth=6, max_features=log2, n_estimators=800; total time=   1.4s\n",
            "[CV] END criterion=gini, max_depth=6, max_features=log2, n_estimators=800; total time=   1.4s\n",
            "[CV] END criterion=gini, max_depth=6, max_features=log2, n_estimators=800; total time=   1.3s\n",
            "[CV] END criterion=gini, max_depth=6, max_features=log2, n_estimators=800; total time=   1.4s\n",
            "[CV] END criterion=gini, max_depth=8, max_features=sqrt, n_estimators=1000; total time=   2.7s\n",
            "[CV] END criterion=gini, max_depth=8, max_features=sqrt, n_estimators=1000; total time=   2.0s\n",
            "[CV] END criterion=gini, max_depth=8, max_features=sqrt, n_estimators=1000; total time=   1.7s\n",
            "[CV] END criterion=gini, max_depth=8, max_features=sqrt, n_estimators=1000; total time=   1.7s\n",
            "[CV] END criterion=gini, max_depth=8, max_features=sqrt, n_estimators=1000; total time=   1.7s\n",
            "[CV] END criterion=gini, max_depth=8, max_features=sqrt, n_estimators=500; total time=   0.9s\n",
            "[CV] END criterion=gini, max_depth=8, max_features=sqrt, n_estimators=500; total time=   0.8s\n",
            "[CV] END criterion=gini, max_depth=8, max_features=sqrt, n_estimators=500; total time=   0.9s\n",
            "[CV] END criterion=gini, max_depth=8, max_features=sqrt, n_estimators=500; total time=   0.9s\n",
            "[CV] END criterion=gini, max_depth=8, max_features=sqrt, n_estimators=500; total time=   1.3s\n",
            "[CV] END criterion=gini, max_depth=8, max_features=sqrt, n_estimators=800; total time=   2.2s\n",
            "[CV] END criterion=gini, max_depth=8, max_features=sqrt, n_estimators=800; total time=   1.4s\n",
            "[CV] END criterion=gini, max_depth=8, max_features=sqrt, n_estimators=800; total time=   1.4s\n",
            "[CV] END criterion=gini, max_depth=8, max_features=sqrt, n_estimators=800; total time=   1.4s\n",
            "[CV] END criterion=gini, max_depth=8, max_features=sqrt, n_estimators=800; total time=   1.4s\n",
            "[CV] END criterion=gini, max_depth=8, max_features=log2, n_estimators=1000; total time=   1.7s\n",
            "[CV] END criterion=gini, max_depth=8, max_features=log2, n_estimators=1000; total time=   1.7s\n",
            "[CV] END criterion=gini, max_depth=8, max_features=log2, n_estimators=1000; total time=   2.0s\n",
            "[CV] END criterion=gini, max_depth=8, max_features=log2, n_estimators=1000; total time=   3.8s\n",
            "[CV] END criterion=gini, max_depth=8, max_features=log2, n_estimators=1000; total time=   3.9s\n",
            "[CV] END criterion=gini, max_depth=8, max_features=log2, n_estimators=500; total time=   1.3s\n",
            "[CV] END criterion=gini, max_depth=8, max_features=log2, n_estimators=500; total time=   1.7s\n",
            "[CV] END criterion=gini, max_depth=8, max_features=log2, n_estimators=500; total time=   1.5s\n",
            "[CV] END criterion=gini, max_depth=8, max_features=log2, n_estimators=500; total time=   1.4s\n",
            "[CV] END criterion=gini, max_depth=8, max_features=log2, n_estimators=500; total time=   1.4s\n",
            "[CV] END criterion=gini, max_depth=8, max_features=log2, n_estimators=800; total time=   2.2s\n",
            "[CV] END criterion=gini, max_depth=8, max_features=log2, n_estimators=800; total time=   1.4s\n",
            "[CV] END criterion=gini, max_depth=8, max_features=log2, n_estimators=800; total time=   1.4s\n",
            "[CV] END criterion=gini, max_depth=8, max_features=log2, n_estimators=800; total time=   1.4s\n",
            "[CV] END criterion=gini, max_depth=8, max_features=log2, n_estimators=800; total time=   1.4s\n",
            "[CV] END criterion=entropy, max_depth=4, max_features=sqrt, n_estimators=1000; total time=   1.7s\n",
            "[CV] END criterion=entropy, max_depth=4, max_features=sqrt, n_estimators=1000; total time=   1.7s\n",
            "[CV] END criterion=entropy, max_depth=4, max_features=sqrt, n_estimators=1000; total time=   2.3s\n",
            "[CV] END criterion=entropy, max_depth=4, max_features=sqrt, n_estimators=1000; total time=   2.4s\n",
            "[CV] END criterion=entropy, max_depth=4, max_features=sqrt, n_estimators=1000; total time=   1.6s\n",
            "[CV] END criterion=entropy, max_depth=4, max_features=sqrt, n_estimators=500; total time=   0.8s\n",
            "[CV] END criterion=entropy, max_depth=4, max_features=sqrt, n_estimators=500; total time=   0.8s\n",
            "[CV] END criterion=entropy, max_depth=4, max_features=sqrt, n_estimators=500; total time=   0.8s\n",
            "[CV] END criterion=entropy, max_depth=4, max_features=sqrt, n_estimators=500; total time=   0.9s\n",
            "[CV] END criterion=entropy, max_depth=4, max_features=sqrt, n_estimators=500; total time=   0.8s\n",
            "[CV] END criterion=entropy, max_depth=4, max_features=sqrt, n_estimators=800; total time=   1.3s\n",
            "[CV] END criterion=entropy, max_depth=4, max_features=sqrt, n_estimators=800; total time=   1.3s\n",
            "[CV] END criterion=entropy, max_depth=4, max_features=sqrt, n_estimators=800; total time=   1.6s\n",
            "[CV] END criterion=entropy, max_depth=4, max_features=sqrt, n_estimators=800; total time=   2.1s\n",
            "[CV] END criterion=entropy, max_depth=4, max_features=sqrt, n_estimators=800; total time=   1.6s\n",
            "[CV] END criterion=entropy, max_depth=4, max_features=log2, n_estimators=1000; total time=   1.7s\n",
            "[CV] END criterion=entropy, max_depth=4, max_features=log2, n_estimators=1000; total time=   1.7s\n",
            "[CV] END criterion=entropy, max_depth=4, max_features=log2, n_estimators=1000; total time=   1.7s\n",
            "[CV] END criterion=entropy, max_depth=4, max_features=log2, n_estimators=1000; total time=   1.7s\n",
            "[CV] END criterion=entropy, max_depth=4, max_features=log2, n_estimators=1000; total time=   1.7s\n",
            "[CV] END criterion=entropy, max_depth=4, max_features=log2, n_estimators=500; total time=   0.9s\n",
            "[CV] END criterion=entropy, max_depth=4, max_features=log2, n_estimators=500; total time=   1.3s\n",
            "[CV] END criterion=entropy, max_depth=4, max_features=log2, n_estimators=500; total time=   1.3s\n",
            "[CV] END criterion=entropy, max_depth=4, max_features=log2, n_estimators=500; total time=   1.0s\n",
            "[CV] END criterion=entropy, max_depth=4, max_features=log2, n_estimators=500; total time=   0.8s\n",
            "[CV] END criterion=entropy, max_depth=4, max_features=log2, n_estimators=800; total time=   1.4s\n",
            "[CV] END criterion=entropy, max_depth=4, max_features=log2, n_estimators=800; total time=   1.4s\n",
            "[CV] END criterion=entropy, max_depth=4, max_features=log2, n_estimators=800; total time=   1.4s\n",
            "[CV] END criterion=entropy, max_depth=4, max_features=log2, n_estimators=800; total time=   1.3s\n",
            "[CV] END criterion=entropy, max_depth=4, max_features=log2, n_estimators=800; total time=   1.3s\n",
            "[CV] END criterion=entropy, max_depth=6, max_features=sqrt, n_estimators=1000; total time=   1.7s\n",
            "[CV] END criterion=entropy, max_depth=6, max_features=sqrt, n_estimators=1000; total time=   2.6s\n",
            "[CV] END criterion=entropy, max_depth=6, max_features=sqrt, n_estimators=1000; total time=   2.1s\n",
            "[CV] END criterion=entropy, max_depth=6, max_features=sqrt, n_estimators=1000; total time=   1.7s\n",
            "[CV] END criterion=entropy, max_depth=6, max_features=sqrt, n_estimators=1000; total time=   1.7s\n",
            "[CV] END criterion=entropy, max_depth=6, max_features=sqrt, n_estimators=500; total time=   0.9s\n",
            "[CV] END criterion=entropy, max_depth=6, max_features=sqrt, n_estimators=500; total time=   0.9s\n",
            "[CV] END criterion=entropy, max_depth=6, max_features=sqrt, n_estimators=500; total time=   0.9s\n",
            "[CV] END criterion=entropy, max_depth=6, max_features=sqrt, n_estimators=500; total time=   0.9s\n",
            "[CV] END criterion=entropy, max_depth=6, max_features=sqrt, n_estimators=500; total time=   0.9s\n",
            "[CV] END criterion=entropy, max_depth=6, max_features=sqrt, n_estimators=800; total time=   1.6s\n",
            "[CV] END criterion=entropy, max_depth=6, max_features=sqrt, n_estimators=800; total time=   2.2s\n",
            "[CV] END criterion=entropy, max_depth=6, max_features=sqrt, n_estimators=800; total time=   1.6s\n",
            "[CV] END criterion=entropy, max_depth=6, max_features=sqrt, n_estimators=800; total time=   1.4s\n",
            "[CV] END criterion=entropy, max_depth=6, max_features=sqrt, n_estimators=800; total time=   1.4s\n",
            "[CV] END criterion=entropy, max_depth=6, max_features=log2, n_estimators=1000; total time=   1.8s\n",
            "[CV] END criterion=entropy, max_depth=6, max_features=log2, n_estimators=1000; total time=   1.7s\n",
            "[CV] END criterion=entropy, max_depth=6, max_features=log2, n_estimators=1000; total time=   1.7s\n",
            "[CV] END criterion=entropy, max_depth=6, max_features=log2, n_estimators=1000; total time=   2.2s\n",
            "[CV] END criterion=entropy, max_depth=6, max_features=log2, n_estimators=1000; total time=   2.5s\n",
            "[CV] END criterion=entropy, max_depth=6, max_features=log2, n_estimators=500; total time=   0.9s\n",
            "[CV] END criterion=entropy, max_depth=6, max_features=log2, n_estimators=500; total time=   0.9s\n",
            "[CV] END criterion=entropy, max_depth=6, max_features=log2, n_estimators=500; total time=   0.9s\n",
            "[CV] END criterion=entropy, max_depth=6, max_features=log2, n_estimators=500; total time=   0.9s\n",
            "[CV] END criterion=entropy, max_depth=6, max_features=log2, n_estimators=500; total time=   0.9s\n",
            "[CV] END criterion=entropy, max_depth=6, max_features=log2, n_estimators=800; total time=   1.4s\n",
            "[CV] END criterion=entropy, max_depth=6, max_features=log2, n_estimators=800; total time=   1.4s\n",
            "[CV] END criterion=entropy, max_depth=6, max_features=log2, n_estimators=800; total time=   1.4s\n",
            "[CV] END criterion=entropy, max_depth=6, max_features=log2, n_estimators=800; total time=   1.6s\n",
            "[CV] END criterion=entropy, max_depth=6, max_features=log2, n_estimators=800; total time=   2.2s\n",
            "[CV] END criterion=entropy, max_depth=8, max_features=sqrt, n_estimators=1000; total time=   2.1s\n",
            "[CV] END criterion=entropy, max_depth=8, max_features=sqrt, n_estimators=1000; total time=   1.9s\n",
            "[CV] END criterion=entropy, max_depth=8, max_features=sqrt, n_estimators=1000; total time=   2.0s\n",
            "[CV] END criterion=entropy, max_depth=8, max_features=sqrt, n_estimators=1000; total time=   1.8s\n",
            "[CV] END criterion=entropy, max_depth=8, max_features=sqrt, n_estimators=1000; total time=   1.8s\n",
            "[CV] END criterion=entropy, max_depth=8, max_features=sqrt, n_estimators=500; total time=   0.9s\n",
            "[CV] END criterion=entropy, max_depth=8, max_features=sqrt, n_estimators=500; total time=   1.2s\n",
            "[CV] END criterion=entropy, max_depth=8, max_features=sqrt, n_estimators=500; total time=   1.9s\n",
            "[CV] END criterion=entropy, max_depth=8, max_features=sqrt, n_estimators=500; total time=   1.2s\n",
            "[CV] END criterion=entropy, max_depth=8, max_features=sqrt, n_estimators=500; total time=   0.9s\n",
            "[CV] END criterion=entropy, max_depth=8, max_features=sqrt, n_estimators=800; total time=   1.4s\n",
            "[CV] END criterion=entropy, max_depth=8, max_features=sqrt, n_estimators=800; total time=   1.4s\n",
            "[CV] END criterion=entropy, max_depth=8, max_features=sqrt, n_estimators=800; total time=   1.4s\n",
            "[CV] END criterion=entropy, max_depth=8, max_features=sqrt, n_estimators=800; total time=   1.5s\n",
            "[CV] END criterion=entropy, max_depth=8, max_features=sqrt, n_estimators=800; total time=   1.4s\n",
            "[CV] END criterion=entropy, max_depth=8, max_features=log2, n_estimators=1000; total time=   1.9s\n",
            "[CV] END criterion=entropy, max_depth=8, max_features=log2, n_estimators=1000; total time=   2.8s\n",
            "[CV] END criterion=entropy, max_depth=8, max_features=log2, n_estimators=1000; total time=   1.9s\n",
            "[CV] END criterion=entropy, max_depth=8, max_features=log2, n_estimators=1000; total time=   1.8s\n",
            "[CV] END criterion=entropy, max_depth=8, max_features=log2, n_estimators=1000; total time=   3.6s\n",
            "[CV] END criterion=entropy, max_depth=8, max_features=log2, n_estimators=500; total time=   1.9s\n",
            "[CV] END criterion=entropy, max_depth=8, max_features=log2, n_estimators=500; total time=   1.5s\n",
            "[CV] END criterion=entropy, max_depth=8, max_features=log2, n_estimators=500; total time=   1.4s\n",
            "[CV] END criterion=entropy, max_depth=8, max_features=log2, n_estimators=500; total time=   1.4s\n",
            "[CV] END criterion=entropy, max_depth=8, max_features=log2, n_estimators=500; total time=   1.0s\n",
            "[CV] END criterion=entropy, max_depth=8, max_features=log2, n_estimators=800; total time=   1.4s\n",
            "[CV] END criterion=entropy, max_depth=8, max_features=log2, n_estimators=800; total time=   1.4s\n",
            "[CV] END criterion=entropy, max_depth=8, max_features=log2, n_estimators=800; total time=   1.8s\n",
            "[CV] END criterion=entropy, max_depth=8, max_features=log2, n_estimators=800; total time=   3.3s\n",
            "[CV] END criterion=entropy, max_depth=8, max_features=log2, n_estimators=800; total time=   4.9s\n",
            "Best random search hyperparameters are: {'criterion': 'gini', 'max_depth': 4, 'max_features': 'sqrt', 'n_estimators': 1000}\n"
          ]
        }
      ]
    },
    {
      "cell_type": "code",
      "source": [
        "acc = metrics.accuracy_score(cm1_y_test, cm1_rf_y_pred)\n",
        "f1  = metrics.f1_score(cm1_y_test, cm1_rf_y_pred)\n",
        "auc = metrics.roc_auc_score(cm1_y_test, cm1_rf_y_pred)\n",
        "pre = metrics.precision_score(cm1_y_test, cm1_rf_y_pred)\n",
        "recall = metrics.recall_score(cm1_y_test, cm1_rf_y_pred)\n",
        "print (\"cm1 :  acc ( %f ) , f1 (%f) , auc (%f), pre (%f), recall(%f)\"% (acc, f1 , auc, pre, recall))\n"
      ],
      "metadata": {
        "colab": {
          "base_uri": "https://localhost:8080/"
        },
        "id": "wPgROdaYSjhh",
        "outputId": "13259e4b-c452-4919-e467-13c7557dc793"
      },
      "execution_count": 26,
      "outputs": [
        {
          "output_type": "stream",
          "name": "stdout",
          "text": [
            "cm1 :  acc ( 0.866667 ) , f1 (0.000000) , auc (0.500000), pre (0.000000), recall(0.000000)\n"
          ]
        },
        {
          "output_type": "stream",
          "name": "stderr",
          "text": [
            "/usr/local/lib/python3.10/dist-packages/sklearn/metrics/_classification.py:1344: UndefinedMetricWarning: Precision is ill-defined and being set to 0.0 due to no predicted samples. Use `zero_division` parameter to control this behavior.\n",
            "  _warn_prf(average, modifier, msg_start, len(result))\n"
          ]
        }
      ]
    },
    {
      "cell_type": "code",
      "source": [
        "grid2.fit(jm1_x_train, jm1_y_train)\n",
        "jm1_rf_y_pred = grid2.predict(jm1_x_test)\n"
      ],
      "metadata": {
        "colab": {
          "base_uri": "https://localhost:8080/"
        },
        "id": "aUhM8IqNRsOf",
        "outputId": "1e016f46-f88d-4326-dc3e-b6ef686d6b02"
      },
      "execution_count": 9,
      "outputs": [
        {
          "output_type": "stream",
          "name": "stdout",
          "text": [
            "Fitting 5 folds for each of 36 candidates, totalling 180 fits\n",
            "[CV] END criterion=gini, max_depth=4, max_features=sqrt, n_estimators=1000; total time=   8.3s\n",
            "[CV] END criterion=gini, max_depth=4, max_features=sqrt, n_estimators=1000; total time=   5.5s\n",
            "[CV] END criterion=gini, max_depth=4, max_features=sqrt, n_estimators=1000; total time=   6.4s\n",
            "[CV] END criterion=gini, max_depth=4, max_features=sqrt, n_estimators=1000; total time=   5.8s\n",
            "[CV] END criterion=gini, max_depth=4, max_features=sqrt, n_estimators=1000; total time=   9.6s\n",
            "[CV] END criterion=gini, max_depth=4, max_features=sqrt, n_estimators=500; total time=   2.8s\n",
            "[CV] END criterion=gini, max_depth=4, max_features=sqrt, n_estimators=500; total time=   2.7s\n",
            "[CV] END criterion=gini, max_depth=4, max_features=sqrt, n_estimators=500; total time=   7.2s\n",
            "[CV] END criterion=gini, max_depth=4, max_features=sqrt, n_estimators=500; total time=   3.6s\n",
            "[CV] END criterion=gini, max_depth=4, max_features=sqrt, n_estimators=500; total time=   2.7s\n",
            "[CV] END criterion=gini, max_depth=4, max_features=sqrt, n_estimators=800; total time=   4.6s\n",
            "[CV] END criterion=gini, max_depth=4, max_features=sqrt, n_estimators=800; total time=   5.2s\n",
            "[CV] END criterion=gini, max_depth=4, max_features=sqrt, n_estimators=800; total time=   4.4s\n",
            "[CV] END criterion=gini, max_depth=4, max_features=sqrt, n_estimators=800; total time=   5.0s\n",
            "[CV] END criterion=gini, max_depth=4, max_features=sqrt, n_estimators=800; total time=   7.1s\n",
            "[CV] END criterion=gini, max_depth=4, max_features=log2, n_estimators=1000; total time=   5.8s\n",
            "[CV] END criterion=gini, max_depth=4, max_features=log2, n_estimators=1000; total time=   6.3s\n",
            "[CV] END criterion=gini, max_depth=4, max_features=log2, n_estimators=1000; total time=   5.4s\n",
            "[CV] END criterion=gini, max_depth=4, max_features=log2, n_estimators=1000; total time=   6.5s\n",
            "[CV] END criterion=gini, max_depth=4, max_features=log2, n_estimators=1000; total time=   5.4s\n",
            "[CV] END criterion=gini, max_depth=4, max_features=log2, n_estimators=500; total time=   3.1s\n",
            "[CV] END criterion=gini, max_depth=4, max_features=log2, n_estimators=500; total time=   3.6s\n",
            "[CV] END criterion=gini, max_depth=4, max_features=log2, n_estimators=500; total time=   2.7s\n",
            "[CV] END criterion=gini, max_depth=4, max_features=log2, n_estimators=500; total time=   2.7s\n",
            "[CV] END criterion=gini, max_depth=4, max_features=log2, n_estimators=500; total time=   2.7s\n",
            "[CV] END criterion=gini, max_depth=4, max_features=log2, n_estimators=800; total time=   5.5s\n",
            "[CV] END criterion=gini, max_depth=4, max_features=log2, n_estimators=800; total time=   4.3s\n",
            "[CV] END criterion=gini, max_depth=4, max_features=log2, n_estimators=800; total time=   4.3s\n",
            "[CV] END criterion=gini, max_depth=4, max_features=log2, n_estimators=800; total time=   5.4s\n",
            "[CV] END criterion=gini, max_depth=4, max_features=log2, n_estimators=800; total time=   4.4s\n",
            "[CV] END criterion=gini, max_depth=6, max_features=sqrt, n_estimators=1000; total time=  14.1s\n",
            "[CV] END criterion=gini, max_depth=6, max_features=sqrt, n_estimators=1000; total time=   8.1s\n",
            "[CV] END criterion=gini, max_depth=6, max_features=sqrt, n_estimators=1000; total time=   7.0s\n",
            "[CV] END criterion=gini, max_depth=6, max_features=sqrt, n_estimators=1000; total time=   8.1s\n",
            "[CV] END criterion=gini, max_depth=6, max_features=sqrt, n_estimators=1000; total time=   7.0s\n",
            "[CV] END criterion=gini, max_depth=6, max_features=sqrt, n_estimators=500; total time=   4.6s\n",
            "[CV] END criterion=gini, max_depth=6, max_features=sqrt, n_estimators=500; total time=   3.5s\n",
            "[CV] END criterion=gini, max_depth=6, max_features=sqrt, n_estimators=500; total time=   3.6s\n",
            "[CV] END criterion=gini, max_depth=6, max_features=sqrt, n_estimators=500; total time=   4.3s\n",
            "[CV] END criterion=gini, max_depth=6, max_features=sqrt, n_estimators=500; total time=   3.8s\n",
            "[CV] END criterion=gini, max_depth=6, max_features=sqrt, n_estimators=800; total time=   5.7s\n",
            "[CV] END criterion=gini, max_depth=6, max_features=sqrt, n_estimators=800; total time=   6.8s\n",
            "[CV] END criterion=gini, max_depth=6, max_features=sqrt, n_estimators=800; total time=   5.7s\n",
            "[CV] END criterion=gini, max_depth=6, max_features=sqrt, n_estimators=800; total time=   6.7s\n",
            "[CV] END criterion=gini, max_depth=6, max_features=sqrt, n_estimators=800; total time=   5.6s\n",
            "[CV] END criterion=gini, max_depth=6, max_features=log2, n_estimators=1000; total time=   8.2s\n",
            "[CV] END criterion=gini, max_depth=6, max_features=log2, n_estimators=1000; total time=   7.1s\n",
            "[CV] END criterion=gini, max_depth=6, max_features=log2, n_estimators=1000; total time=  11.5s\n",
            "[CV] END criterion=gini, max_depth=6, max_features=log2, n_estimators=1000; total time=  13.3s\n",
            "[CV] END criterion=gini, max_depth=6, max_features=log2, n_estimators=1000; total time=  11.9s\n",
            "[CV] END criterion=gini, max_depth=6, max_features=log2, n_estimators=500; total time=   3.9s\n",
            "[CV] END criterion=gini, max_depth=6, max_features=log2, n_estimators=500; total time=   5.1s\n",
            "[CV] END criterion=gini, max_depth=6, max_features=log2, n_estimators=500; total time=   5.3s\n",
            "[CV] END criterion=gini, max_depth=6, max_features=log2, n_estimators=500; total time=   4.4s\n",
            "[CV] END criterion=gini, max_depth=6, max_features=log2, n_estimators=500; total time=   5.0s\n",
            "[CV] END criterion=gini, max_depth=6, max_features=log2, n_estimators=800; total time=   6.7s\n",
            "[CV] END criterion=gini, max_depth=6, max_features=log2, n_estimators=800; total time=  10.6s\n",
            "[CV] END criterion=gini, max_depth=6, max_features=log2, n_estimators=800; total time=   5.8s\n",
            "[CV] END criterion=gini, max_depth=6, max_features=log2, n_estimators=800; total time=   6.8s\n",
            "[CV] END criterion=gini, max_depth=6, max_features=log2, n_estimators=800; total time=   5.7s\n",
            "[CV] END criterion=gini, max_depth=8, max_features=sqrt, n_estimators=1000; total time=  11.9s\n",
            "[CV] END criterion=gini, max_depth=8, max_features=sqrt, n_estimators=1000; total time=  10.2s\n",
            "[CV] END criterion=gini, max_depth=8, max_features=sqrt, n_estimators=1000; total time=   9.5s\n",
            "[CV] END criterion=gini, max_depth=8, max_features=sqrt, n_estimators=1000; total time=   9.1s\n",
            "[CV] END criterion=gini, max_depth=8, max_features=sqrt, n_estimators=1000; total time=  13.6s\n",
            "[CV] END criterion=gini, max_depth=8, max_features=sqrt, n_estimators=500; total time=   7.1s\n",
            "[CV] END criterion=gini, max_depth=8, max_features=sqrt, n_estimators=500; total time=   4.3s\n",
            "[CV] END criterion=gini, max_depth=8, max_features=sqrt, n_estimators=500; total time=   4.4s\n",
            "[CV] END criterion=gini, max_depth=8, max_features=sqrt, n_estimators=500; total time=   5.6s\n",
            "[CV] END criterion=gini, max_depth=8, max_features=sqrt, n_estimators=500; total time=   4.4s\n",
            "[CV] END criterion=gini, max_depth=8, max_features=sqrt, n_estimators=800; total time=   8.1s\n",
            "[CV] END criterion=gini, max_depth=8, max_features=sqrt, n_estimators=800; total time=   7.0s\n",
            "[CV] END criterion=gini, max_depth=8, max_features=sqrt, n_estimators=800; total time=   8.2s\n",
            "[CV] END criterion=gini, max_depth=8, max_features=sqrt, n_estimators=800; total time=   7.1s\n",
            "[CV] END criterion=gini, max_depth=8, max_features=sqrt, n_estimators=800; total time=   8.1s\n",
            "[CV] END criterion=gini, max_depth=8, max_features=log2, n_estimators=1000; total time=   9.9s\n",
            "[CV] END criterion=gini, max_depth=8, max_features=log2, n_estimators=1000; total time=   8.8s\n",
            "[CV] END criterion=gini, max_depth=8, max_features=log2, n_estimators=1000; total time=  10.5s\n",
            "[CV] END criterion=gini, max_depth=8, max_features=log2, n_estimators=1000; total time=   9.9s\n",
            "[CV] END criterion=gini, max_depth=8, max_features=log2, n_estimators=1000; total time=   9.9s\n",
            "[CV] END criterion=gini, max_depth=8, max_features=log2, n_estimators=500; total time=   4.6s\n",
            "[CV] END criterion=gini, max_depth=8, max_features=log2, n_estimators=500; total time=   4.4s\n",
            "[CV] END criterion=gini, max_depth=8, max_features=log2, n_estimators=500; total time=   5.5s\n",
            "[CV] END criterion=gini, max_depth=8, max_features=log2, n_estimators=500; total time=   4.4s\n",
            "[CV] END criterion=gini, max_depth=8, max_features=log2, n_estimators=500; total time=   4.4s\n",
            "[CV] END criterion=gini, max_depth=8, max_features=log2, n_estimators=800; total time=   8.1s\n",
            "[CV] END criterion=gini, max_depth=8, max_features=log2, n_estimators=800; total time=   7.6s\n",
            "[CV] END criterion=gini, max_depth=8, max_features=log2, n_estimators=800; total time=   7.6s\n",
            "[CV] END criterion=gini, max_depth=8, max_features=log2, n_estimators=800; total time=   8.1s\n",
            "[CV] END criterion=gini, max_depth=8, max_features=log2, n_estimators=800; total time=   7.0s\n",
            "[CV] END criterion=entropy, max_depth=4, max_features=sqrt, n_estimators=1000; total time=   7.7s\n",
            "[CV] END criterion=entropy, max_depth=4, max_features=sqrt, n_estimators=1000; total time=  12.1s\n",
            "[CV] END criterion=entropy, max_depth=4, max_features=sqrt, n_estimators=1000; total time=   9.4s\n",
            "[CV] END criterion=entropy, max_depth=4, max_features=sqrt, n_estimators=1000; total time=   7.2s\n",
            "[CV] END criterion=entropy, max_depth=4, max_features=sqrt, n_estimators=1000; total time=   6.0s\n",
            "[CV] END criterion=entropy, max_depth=4, max_features=sqrt, n_estimators=500; total time=   4.1s\n",
            "[CV] END criterion=entropy, max_depth=4, max_features=sqrt, n_estimators=500; total time=   3.0s\n",
            "[CV] END criterion=entropy, max_depth=4, max_features=sqrt, n_estimators=500; total time=   3.0s\n",
            "[CV] END criterion=entropy, max_depth=4, max_features=sqrt, n_estimators=500; total time=   3.0s\n",
            "[CV] END criterion=entropy, max_depth=4, max_features=sqrt, n_estimators=500; total time=   4.0s\n",
            "[CV] END criterion=entropy, max_depth=4, max_features=sqrt, n_estimators=800; total time=   5.1s\n",
            "[CV] END criterion=entropy, max_depth=4, max_features=sqrt, n_estimators=800; total time=   4.8s\n",
            "[CV] END criterion=entropy, max_depth=4, max_features=sqrt, n_estimators=800; total time=   6.0s\n",
            "[CV] END criterion=entropy, max_depth=4, max_features=sqrt, n_estimators=800; total time=   4.8s\n",
            "[CV] END criterion=entropy, max_depth=4, max_features=sqrt, n_estimators=800; total time=   5.6s\n",
            "[CV] END criterion=entropy, max_depth=4, max_features=log2, n_estimators=1000; total time=  10.9s\n",
            "[CV] END criterion=entropy, max_depth=4, max_features=log2, n_estimators=1000; total time=   9.6s\n",
            "[CV] END criterion=entropy, max_depth=4, max_features=log2, n_estimators=1000; total time=   7.7s\n",
            "[CV] END criterion=entropy, max_depth=4, max_features=log2, n_estimators=1000; total time=   7.3s\n",
            "[CV] END criterion=entropy, max_depth=4, max_features=log2, n_estimators=1000; total time=   7.2s\n",
            "[CV] END criterion=entropy, max_depth=4, max_features=log2, n_estimators=500; total time=   3.0s\n",
            "[CV] END criterion=entropy, max_depth=4, max_features=log2, n_estimators=500; total time=   3.1s\n",
            "[CV] END criterion=entropy, max_depth=4, max_features=log2, n_estimators=500; total time=   3.0s\n",
            "[CV] END criterion=entropy, max_depth=4, max_features=log2, n_estimators=500; total time=   4.2s\n",
            "[CV] END criterion=entropy, max_depth=4, max_features=log2, n_estimators=500; total time=   3.0s\n",
            "[CV] END criterion=entropy, max_depth=4, max_features=log2, n_estimators=800; total time=   4.8s\n",
            "[CV] END criterion=entropy, max_depth=4, max_features=log2, n_estimators=800; total time=   6.0s\n",
            "[CV] END criterion=entropy, max_depth=4, max_features=log2, n_estimators=800; total time=   4.9s\n",
            "[CV] END criterion=entropy, max_depth=4, max_features=log2, n_estimators=800; total time=   5.1s\n",
            "[CV] END criterion=entropy, max_depth=4, max_features=log2, n_estimators=800; total time=   5.8s\n",
            "[CV] END criterion=entropy, max_depth=6, max_features=sqrt, n_estimators=1000; total time=   8.5s\n",
            "[CV] END criterion=entropy, max_depth=6, max_features=sqrt, n_estimators=1000; total time=   8.7s\n",
            "[CV] END criterion=entropy, max_depth=6, max_features=sqrt, n_estimators=1000; total time=   9.1s\n",
            "[CV] END criterion=entropy, max_depth=6, max_features=sqrt, n_estimators=1000; total time=  12.2s\n",
            "[CV] END criterion=entropy, max_depth=6, max_features=sqrt, n_estimators=1000; total time=   8.0s\n",
            "[CV] END criterion=entropy, max_depth=6, max_features=sqrt, n_estimators=500; total time=   5.2s\n",
            "[CV] END criterion=entropy, max_depth=6, max_features=sqrt, n_estimators=500; total time=   5.6s\n",
            "[CV] END criterion=entropy, max_depth=6, max_features=sqrt, n_estimators=500; total time=   6.7s\n",
            "[CV] END criterion=entropy, max_depth=6, max_features=sqrt, n_estimators=500; total time=   6.0s\n",
            "[CV] END criterion=entropy, max_depth=6, max_features=sqrt, n_estimators=500; total time=   9.4s\n",
            "[CV] END criterion=entropy, max_depth=6, max_features=sqrt, n_estimators=800; total time=  14.8s\n",
            "[CV] END criterion=entropy, max_depth=6, max_features=sqrt, n_estimators=800; total time=   6.7s\n",
            "[CV] END criterion=entropy, max_depth=6, max_features=sqrt, n_estimators=800; total time=   7.5s\n",
            "[CV] END criterion=entropy, max_depth=6, max_features=sqrt, n_estimators=800; total time=   6.4s\n",
            "[CV] END criterion=entropy, max_depth=6, max_features=sqrt, n_estimators=800; total time=   9.8s\n",
            "[CV] END criterion=entropy, max_depth=6, max_features=log2, n_estimators=1000; total time=   9.1s\n",
            "[CV] END criterion=entropy, max_depth=6, max_features=log2, n_estimators=1000; total time=  10.0s\n",
            "[CV] END criterion=entropy, max_depth=6, max_features=log2, n_estimators=1000; total time=  10.7s\n",
            "[CV] END criterion=entropy, max_depth=6, max_features=log2, n_estimators=1000; total time=  10.2s\n",
            "[CV] END criterion=entropy, max_depth=6, max_features=log2, n_estimators=1000; total time=  11.7s\n",
            "[CV] END criterion=entropy, max_depth=6, max_features=log2, n_estimators=500; total time=   4.9s\n",
            "[CV] END criterion=entropy, max_depth=6, max_features=log2, n_estimators=500; total time=   4.1s\n",
            "[CV] END criterion=entropy, max_depth=6, max_features=log2, n_estimators=500; total time=   5.2s\n",
            "[CV] END criterion=entropy, max_depth=6, max_features=log2, n_estimators=500; total time=   4.0s\n",
            "[CV] END criterion=entropy, max_depth=6, max_features=log2, n_estimators=500; total time=   4.0s\n",
            "[CV] END criterion=entropy, max_depth=6, max_features=log2, n_estimators=800; total time=   7.8s\n",
            "[CV] END criterion=entropy, max_depth=6, max_features=log2, n_estimators=800; total time=  13.3s\n",
            "[CV] END criterion=entropy, max_depth=6, max_features=log2, n_estimators=800; total time=  13.7s\n",
            "[CV] END criterion=entropy, max_depth=6, max_features=log2, n_estimators=800; total time=   7.4s\n",
            "[CV] END criterion=entropy, max_depth=6, max_features=log2, n_estimators=800; total time=   7.6s\n",
            "[CV] END criterion=entropy, max_depth=8, max_features=sqrt, n_estimators=1000; total time=  18.1s\n",
            "[CV] END criterion=entropy, max_depth=8, max_features=sqrt, n_estimators=1000; total time=  11.1s\n",
            "[CV] END criterion=entropy, max_depth=8, max_features=sqrt, n_estimators=1000; total time=  14.1s\n",
            "[CV] END criterion=entropy, max_depth=8, max_features=sqrt, n_estimators=1000; total time=  11.0s\n",
            "[CV] END criterion=entropy, max_depth=8, max_features=sqrt, n_estimators=1000; total time=  13.5s\n",
            "[CV] END criterion=entropy, max_depth=8, max_features=sqrt, n_estimators=500; total time=   5.6s\n",
            "[CV] END criterion=entropy, max_depth=8, max_features=sqrt, n_estimators=500; total time=   6.4s\n",
            "[CV] END criterion=entropy, max_depth=8, max_features=sqrt, n_estimators=500; total time=   5.4s\n",
            "[CV] END criterion=entropy, max_depth=8, max_features=sqrt, n_estimators=500; total time=   6.2s\n",
            "[CV] END criterion=entropy, max_depth=8, max_features=sqrt, n_estimators=500; total time=   7.9s\n",
            "[CV] END criterion=entropy, max_depth=8, max_features=sqrt, n_estimators=800; total time=   9.2s\n",
            "[CV] END criterion=entropy, max_depth=8, max_features=sqrt, n_estimators=800; total time=   9.5s\n",
            "[CV] END criterion=entropy, max_depth=8, max_features=sqrt, n_estimators=800; total time=   8.0s\n",
            "[CV] END criterion=entropy, max_depth=8, max_features=sqrt, n_estimators=800; total time=  11.4s\n",
            "[CV] END criterion=entropy, max_depth=8, max_features=sqrt, n_estimators=800; total time=   9.1s\n",
            "[CV] END criterion=entropy, max_depth=8, max_features=log2, n_estimators=1000; total time=  12.5s\n",
            "[CV] END criterion=entropy, max_depth=8, max_features=log2, n_estimators=1000; total time=  10.3s\n",
            "[CV] END criterion=entropy, max_depth=8, max_features=log2, n_estimators=1000; total time=  10.9s\n",
            "[CV] END criterion=entropy, max_depth=8, max_features=log2, n_estimators=1000; total time=  11.2s\n",
            "[CV] END criterion=entropy, max_depth=8, max_features=log2, n_estimators=1000; total time=  11.1s\n",
            "[CV] END criterion=entropy, max_depth=8, max_features=log2, n_estimators=500; total time=   5.0s\n",
            "[CV] END criterion=entropy, max_depth=8, max_features=log2, n_estimators=500; total time=   6.2s\n",
            "[CV] END criterion=entropy, max_depth=8, max_features=log2, n_estimators=500; total time=   5.0s\n",
            "[CV] END criterion=entropy, max_depth=8, max_features=log2, n_estimators=500; total time=   5.7s\n",
            "[CV] END criterion=entropy, max_depth=8, max_features=log2, n_estimators=500; total time=   5.5s\n",
            "[CV] END criterion=entropy, max_depth=8, max_features=log2, n_estimators=800; total time=   9.1s\n",
            "[CV] END criterion=entropy, max_depth=8, max_features=log2, n_estimators=800; total time=   8.1s\n",
            "[CV] END criterion=entropy, max_depth=8, max_features=log2, n_estimators=800; total time=   9.1s\n",
            "[CV] END criterion=entropy, max_depth=8, max_features=log2, n_estimators=800; total time=   8.7s\n",
            "[CV] END criterion=entropy, max_depth=8, max_features=log2, n_estimators=800; total time=   8.5s\n"
          ]
        }
      ]
    },
    {
      "cell_type": "code",
      "source": [
        "acc = metrics.accuracy_score(jm1_y_test, jm1_rf_y_pred)\n",
        "f1  = metrics.f1_score(jm1_y_test, jm1_rf_y_pred)\n",
        "auc = metrics.roc_auc_score(jm1_y_test, jm1_rf_y_pred)\n",
        "pre = metrics.precision_score(jm1_y_test, jm1_rf_y_pred)\n",
        "recall = metrics.recall_score(jm1_y_test, jm1_rf_y_pred)\n",
        "print (\"\\njm1 :  acc ( %f ) , f1 (%f) , auc (%f), pre (%f), recall(%f)\"% (acc, f1 , auc, pre, recall))\n"
      ],
      "metadata": {
        "colab": {
          "base_uri": "https://localhost:8080/"
        },
        "id": "i4c9V4hLSxOW",
        "outputId": "dbbc5bc8-4112-46f9-9616-463fc9c18d8b"
      },
      "execution_count": 10,
      "outputs": [
        {
          "output_type": "stream",
          "name": "stdout",
          "text": [
            "\n",
            "jm1 :  acc ( 0.811887 ) , f1 (0.200521) , auc (0.550625), pre (0.611111), recall(0.119938)\n"
          ]
        }
      ]
    },
    {
      "cell_type": "code",
      "source": [
        "grid3.fit(kc1_x_train, kc1_y_train)\n",
        "kc1_rf_y_pred = grid3.predict(kc1_x_test)"
      ],
      "metadata": {
        "colab": {
          "base_uri": "https://localhost:8080/"
        },
        "id": "W3CJ5fbxRvYy",
        "outputId": "aa1cfacd-0c66-4d18-a08c-e58f21b98e0a"
      },
      "execution_count": 11,
      "outputs": [
        {
          "output_type": "stream",
          "name": "stdout",
          "text": [
            "Fitting 5 folds for each of 36 candidates, totalling 180 fits\n",
            "[CV] END criterion=gini, max_depth=4, max_features=sqrt, n_estimators=1000; total time=   2.1s\n",
            "[CV] END criterion=gini, max_depth=4, max_features=sqrt, n_estimators=1000; total time=   2.1s\n",
            "[CV] END criterion=gini, max_depth=4, max_features=sqrt, n_estimators=1000; total time=   2.1s\n",
            "[CV] END criterion=gini, max_depth=4, max_features=sqrt, n_estimators=1000; total time=   2.1s\n",
            "[CV] END criterion=gini, max_depth=4, max_features=sqrt, n_estimators=1000; total time=   5.0s\n",
            "[CV] END criterion=gini, max_depth=4, max_features=sqrt, n_estimators=500; total time=   3.0s\n",
            "[CV] END criterion=gini, max_depth=4, max_features=sqrt, n_estimators=500; total time=   1.1s\n",
            "[CV] END criterion=gini, max_depth=4, max_features=sqrt, n_estimators=500; total time=   1.1s\n",
            "[CV] END criterion=gini, max_depth=4, max_features=sqrt, n_estimators=500; total time=   1.1s\n",
            "[CV] END criterion=gini, max_depth=4, max_features=sqrt, n_estimators=500; total time=   1.1s\n",
            "[CV] END criterion=gini, max_depth=4, max_features=sqrt, n_estimators=800; total time=   2.5s\n",
            "[CV] END criterion=gini, max_depth=4, max_features=sqrt, n_estimators=800; total time=   4.9s\n",
            "[CV] END criterion=gini, max_depth=4, max_features=sqrt, n_estimators=800; total time=   1.9s\n",
            "[CV] END criterion=gini, max_depth=4, max_features=sqrt, n_estimators=800; total time=   1.7s\n",
            "[CV] END criterion=gini, max_depth=4, max_features=sqrt, n_estimators=800; total time=   1.7s\n",
            "[CV] END criterion=gini, max_depth=4, max_features=log2, n_estimators=1000; total time=   2.1s\n",
            "[CV] END criterion=gini, max_depth=4, max_features=log2, n_estimators=1000; total time=   2.3s\n",
            "[CV] END criterion=gini, max_depth=4, max_features=log2, n_estimators=1000; total time=   3.1s\n",
            "[CV] END criterion=gini, max_depth=4, max_features=log2, n_estimators=1000; total time=   2.1s\n",
            "[CV] END criterion=gini, max_depth=4, max_features=log2, n_estimators=1000; total time=   2.1s\n",
            "[CV] END criterion=gini, max_depth=4, max_features=log2, n_estimators=500; total time=   1.5s\n",
            "[CV] END criterion=gini, max_depth=4, max_features=log2, n_estimators=500; total time=   1.9s\n",
            "[CV] END criterion=gini, max_depth=4, max_features=log2, n_estimators=500; total time=   1.4s\n",
            "[CV] END criterion=gini, max_depth=4, max_features=log2, n_estimators=500; total time=   1.2s\n",
            "[CV] END criterion=gini, max_depth=4, max_features=log2, n_estimators=500; total time=   1.6s\n",
            "[CV] END criterion=gini, max_depth=4, max_features=log2, n_estimators=800; total time=   2.3s\n",
            "[CV] END criterion=gini, max_depth=4, max_features=log2, n_estimators=800; total time=   1.7s\n",
            "[CV] END criterion=gini, max_depth=4, max_features=log2, n_estimators=800; total time=   2.1s\n",
            "[CV] END criterion=gini, max_depth=4, max_features=log2, n_estimators=800; total time=   3.7s\n",
            "[CV] END criterion=gini, max_depth=4, max_features=log2, n_estimators=800; total time=   3.2s\n",
            "[CV] END criterion=gini, max_depth=6, max_features=sqrt, n_estimators=1000; total time=   4.4s\n",
            "[CV] END criterion=gini, max_depth=6, max_features=sqrt, n_estimators=1000; total time=   3.2s\n",
            "[CV] END criterion=gini, max_depth=6, max_features=sqrt, n_estimators=1000; total time=   2.4s\n",
            "[CV] END criterion=gini, max_depth=6, max_features=sqrt, n_estimators=1000; total time=   2.3s\n",
            "[CV] END criterion=gini, max_depth=6, max_features=sqrt, n_estimators=1000; total time=   4.9s\n",
            "[CV] END criterion=gini, max_depth=6, max_features=sqrt, n_estimators=500; total time=   1.1s\n",
            "[CV] END criterion=gini, max_depth=6, max_features=sqrt, n_estimators=500; total time=   1.2s\n",
            "[CV] END criterion=gini, max_depth=6, max_features=sqrt, n_estimators=500; total time=   1.2s\n",
            "[CV] END criterion=gini, max_depth=6, max_features=sqrt, n_estimators=500; total time=   1.2s\n",
            "[CV] END criterion=gini, max_depth=6, max_features=sqrt, n_estimators=500; total time=   1.2s\n",
            "[CV] END criterion=gini, max_depth=6, max_features=sqrt, n_estimators=800; total time=   1.9s\n",
            "[CV] END criterion=gini, max_depth=6, max_features=sqrt, n_estimators=800; total time=   6.0s\n",
            "[CV] END criterion=gini, max_depth=6, max_features=sqrt, n_estimators=800; total time=   3.7s\n",
            "[CV] END criterion=gini, max_depth=6, max_features=sqrt, n_estimators=800; total time=   3.6s\n",
            "[CV] END criterion=gini, max_depth=6, max_features=sqrt, n_estimators=800; total time=   3.4s\n",
            "[CV] END criterion=gini, max_depth=6, max_features=log2, n_estimators=1000; total time=   4.9s\n",
            "[CV] END criterion=gini, max_depth=6, max_features=log2, n_estimators=1000; total time=   3.0s\n",
            "[CV] END criterion=gini, max_depth=6, max_features=log2, n_estimators=1000; total time=   3.9s\n",
            "[CV] END criterion=gini, max_depth=6, max_features=log2, n_estimators=1000; total time=   3.0s\n",
            "[CV] END criterion=gini, max_depth=6, max_features=log2, n_estimators=1000; total time=   2.9s\n",
            "[CV] END criterion=gini, max_depth=6, max_features=log2, n_estimators=500; total time=   1.1s\n",
            "[CV] END criterion=gini, max_depth=6, max_features=log2, n_estimators=500; total time=   1.2s\n",
            "[CV] END criterion=gini, max_depth=6, max_features=log2, n_estimators=500; total time=   1.2s\n",
            "[CV] END criterion=gini, max_depth=6, max_features=log2, n_estimators=500; total time=   1.2s\n",
            "[CV] END criterion=gini, max_depth=6, max_features=log2, n_estimators=500; total time=   1.2s\n",
            "[CV] END criterion=gini, max_depth=6, max_features=log2, n_estimators=800; total time=   1.8s\n",
            "[CV] END criterion=gini, max_depth=6, max_features=log2, n_estimators=800; total time=   2.3s\n",
            "[CV] END criterion=gini, max_depth=6, max_features=log2, n_estimators=800; total time=   2.6s\n",
            "[CV] END criterion=gini, max_depth=6, max_features=log2, n_estimators=800; total time=   1.9s\n",
            "[CV] END criterion=gini, max_depth=6, max_features=log2, n_estimators=800; total time=   1.8s\n",
            "[CV] END criterion=gini, max_depth=8, max_features=sqrt, n_estimators=1000; total time=   2.5s\n",
            "[CV] END criterion=gini, max_depth=8, max_features=sqrt, n_estimators=1000; total time=   2.5s\n",
            "[CV] END criterion=gini, max_depth=8, max_features=sqrt, n_estimators=1000; total time=   3.4s\n",
            "[CV] END criterion=gini, max_depth=8, max_features=sqrt, n_estimators=1000; total time=   2.8s\n",
            "[CV] END criterion=gini, max_depth=8, max_features=sqrt, n_estimators=1000; total time=   2.5s\n",
            "[CV] END criterion=gini, max_depth=8, max_features=sqrt, n_estimators=500; total time=   1.2s\n",
            "[CV] END criterion=gini, max_depth=8, max_features=sqrt, n_estimators=500; total time=   1.3s\n",
            "[CV] END criterion=gini, max_depth=8, max_features=sqrt, n_estimators=500; total time=   1.2s\n",
            "[CV] END criterion=gini, max_depth=8, max_features=sqrt, n_estimators=500; total time=   1.3s\n",
            "[CV] END criterion=gini, max_depth=8, max_features=sqrt, n_estimators=500; total time=   1.7s\n",
            "[CV] END criterion=gini, max_depth=8, max_features=sqrt, n_estimators=800; total time=   3.8s\n",
            "[CV] END criterion=gini, max_depth=8, max_features=sqrt, n_estimators=800; total time=   3.8s\n",
            "[CV] END criterion=gini, max_depth=8, max_features=sqrt, n_estimators=800; total time=   2.0s\n",
            "[CV] END criterion=gini, max_depth=8, max_features=sqrt, n_estimators=800; total time=   2.0s\n",
            "[CV] END criterion=gini, max_depth=8, max_features=sqrt, n_estimators=800; total time=   2.8s\n",
            "[CV] END criterion=gini, max_depth=8, max_features=log2, n_estimators=1000; total time=   3.0s\n",
            "[CV] END criterion=gini, max_depth=8, max_features=log2, n_estimators=1000; total time=   2.5s\n",
            "[CV] END criterion=gini, max_depth=8, max_features=log2, n_estimators=1000; total time=   2.5s\n",
            "[CV] END criterion=gini, max_depth=8, max_features=log2, n_estimators=1000; total time=   2.5s\n",
            "[CV] END criterion=gini, max_depth=8, max_features=log2, n_estimators=1000; total time=   3.4s\n",
            "[CV] END criterion=gini, max_depth=8, max_features=log2, n_estimators=500; total time=   1.5s\n",
            "[CV] END criterion=gini, max_depth=8, max_features=log2, n_estimators=500; total time=   1.3s\n",
            "[CV] END criterion=gini, max_depth=8, max_features=log2, n_estimators=500; total time=   1.3s\n",
            "[CV] END criterion=gini, max_depth=8, max_features=log2, n_estimators=500; total time=   1.3s\n",
            "[CV] END criterion=gini, max_depth=8, max_features=log2, n_estimators=500; total time=   1.3s\n",
            "[CV] END criterion=gini, max_depth=8, max_features=log2, n_estimators=800; total time=   2.0s\n",
            "[CV] END criterion=gini, max_depth=8, max_features=log2, n_estimators=800; total time=   2.0s\n",
            "[CV] END criterion=gini, max_depth=8, max_features=log2, n_estimators=800; total time=   3.2s\n",
            "[CV] END criterion=gini, max_depth=8, max_features=log2, n_estimators=800; total time=   2.1s\n",
            "[CV] END criterion=gini, max_depth=8, max_features=log2, n_estimators=800; total time=   2.0s\n",
            "[CV] END criterion=entropy, max_depth=4, max_features=sqrt, n_estimators=1000; total time=   2.2s\n",
            "[CV] END criterion=entropy, max_depth=4, max_features=sqrt, n_estimators=1000; total time=   2.9s\n",
            "[CV] END criterion=entropy, max_depth=4, max_features=sqrt, n_estimators=1000; total time=   5.4s\n",
            "[CV] END criterion=entropy, max_depth=4, max_features=sqrt, n_estimators=1000; total time=   2.4s\n",
            "[CV] END criterion=entropy, max_depth=4, max_features=sqrt, n_estimators=1000; total time=   2.2s\n",
            "[CV] END criterion=entropy, max_depth=4, max_features=sqrt, n_estimators=500; total time=   1.1s\n",
            "[CV] END criterion=entropy, max_depth=4, max_features=sqrt, n_estimators=500; total time=   1.1s\n",
            "[CV] END criterion=entropy, max_depth=4, max_features=sqrt, n_estimators=500; total time=   1.1s\n",
            "[CV] END criterion=entropy, max_depth=4, max_features=sqrt, n_estimators=500; total time=   1.1s\n",
            "[CV] END criterion=entropy, max_depth=4, max_features=sqrt, n_estimators=500; total time=   1.4s\n",
            "[CV] END criterion=entropy, max_depth=4, max_features=sqrt, n_estimators=800; total time=   2.7s\n",
            "[CV] END criterion=entropy, max_depth=4, max_features=sqrt, n_estimators=800; total time=   1.8s\n",
            "[CV] END criterion=entropy, max_depth=4, max_features=sqrt, n_estimators=800; total time=   1.8s\n",
            "[CV] END criterion=entropy, max_depth=4, max_features=sqrt, n_estimators=800; total time=   5.3s\n",
            "[CV] END criterion=entropy, max_depth=4, max_features=sqrt, n_estimators=800; total time=   6.2s\n",
            "[CV] END criterion=entropy, max_depth=4, max_features=log2, n_estimators=1000; total time=   3.5s\n",
            "[CV] END criterion=entropy, max_depth=4, max_features=log2, n_estimators=1000; total time=   2.2s\n",
            "[CV] END criterion=entropy, max_depth=4, max_features=log2, n_estimators=1000; total time=   2.2s\n",
            "[CV] END criterion=entropy, max_depth=4, max_features=log2, n_estimators=1000; total time=   2.7s\n",
            "[CV] END criterion=entropy, max_depth=4, max_features=log2, n_estimators=1000; total time=   2.9s\n",
            "[CV] END criterion=entropy, max_depth=4, max_features=log2, n_estimators=500; total time=   1.1s\n",
            "[CV] END criterion=entropy, max_depth=4, max_features=log2, n_estimators=500; total time=   1.1s\n",
            "[CV] END criterion=entropy, max_depth=4, max_features=log2, n_estimators=500; total time=   1.1s\n",
            "[CV] END criterion=entropy, max_depth=4, max_features=log2, n_estimators=500; total time=   1.1s\n",
            "[CV] END criterion=entropy, max_depth=4, max_features=log2, n_estimators=500; total time=   1.1s\n",
            "[CV] END criterion=entropy, max_depth=4, max_features=log2, n_estimators=800; total time=   1.7s\n",
            "[CV] END criterion=entropy, max_depth=4, max_features=log2, n_estimators=800; total time=   1.8s\n",
            "[CV] END criterion=entropy, max_depth=4, max_features=log2, n_estimators=800; total time=   2.8s\n",
            "[CV] END criterion=entropy, max_depth=4, max_features=log2, n_estimators=800; total time=   2.0s\n",
            "[CV] END criterion=entropy, max_depth=4, max_features=log2, n_estimators=800; total time=   1.7s\n",
            "[CV] END criterion=entropy, max_depth=6, max_features=sqrt, n_estimators=1000; total time=   2.5s\n",
            "[CV] END criterion=entropy, max_depth=6, max_features=sqrt, n_estimators=1000; total time=   2.5s\n",
            "[CV] END criterion=entropy, max_depth=6, max_features=sqrt, n_estimators=1000; total time=   2.8s\n",
            "[CV] END criterion=entropy, max_depth=6, max_features=sqrt, n_estimators=1000; total time=   3.4s\n",
            "[CV] END criterion=entropy, max_depth=6, max_features=sqrt, n_estimators=1000; total time=   2.5s\n",
            "[CV] END criterion=entropy, max_depth=6, max_features=sqrt, n_estimators=500; total time=   1.2s\n",
            "[CV] END criterion=entropy, max_depth=6, max_features=sqrt, n_estimators=500; total time=   1.3s\n",
            "[CV] END criterion=entropy, max_depth=6, max_features=sqrt, n_estimators=500; total time=   1.3s\n",
            "[CV] END criterion=entropy, max_depth=6, max_features=sqrt, n_estimators=500; total time=   1.2s\n",
            "[CV] END criterion=entropy, max_depth=6, max_features=sqrt, n_estimators=500; total time=   1.2s\n",
            "[CV] END criterion=entropy, max_depth=6, max_features=sqrt, n_estimators=800; total time=   2.8s\n",
            "[CV] END criterion=entropy, max_depth=6, max_features=sqrt, n_estimators=800; total time=   2.3s\n",
            "[CV] END criterion=entropy, max_depth=6, max_features=sqrt, n_estimators=800; total time=   2.0s\n",
            "[CV] END criterion=entropy, max_depth=6, max_features=sqrt, n_estimators=800; total time=   2.0s\n",
            "[CV] END criterion=entropy, max_depth=6, max_features=sqrt, n_estimators=800; total time=   2.0s\n",
            "[CV] END criterion=entropy, max_depth=6, max_features=log2, n_estimators=1000; total time=   2.5s\n",
            "[CV] END criterion=entropy, max_depth=6, max_features=log2, n_estimators=1000; total time=   3.7s\n",
            "[CV] END criterion=entropy, max_depth=6, max_features=log2, n_estimators=1000; total time=   2.5s\n",
            "[CV] END criterion=entropy, max_depth=6, max_features=log2, n_estimators=1000; total time=   2.5s\n",
            "[CV] END criterion=entropy, max_depth=6, max_features=log2, n_estimators=1000; total time=   2.5s\n",
            "[CV] END criterion=entropy, max_depth=6, max_features=log2, n_estimators=500; total time=   1.3s\n",
            "[CV] END criterion=entropy, max_depth=6, max_features=log2, n_estimators=500; total time=   1.3s\n",
            "[CV] END criterion=entropy, max_depth=6, max_features=log2, n_estimators=500; total time=   1.9s\n",
            "[CV] END criterion=entropy, max_depth=6, max_features=log2, n_estimators=500; total time=   1.7s\n",
            "[CV] END criterion=entropy, max_depth=6, max_features=log2, n_estimators=500; total time=   1.2s\n",
            "[CV] END criterion=entropy, max_depth=6, max_features=log2, n_estimators=800; total time=   2.0s\n",
            "[CV] END criterion=entropy, max_depth=6, max_features=log2, n_estimators=800; total time=   2.0s\n",
            "[CV] END criterion=entropy, max_depth=6, max_features=log2, n_estimators=800; total time=   2.0s\n",
            "[CV] END criterion=entropy, max_depth=6, max_features=log2, n_estimators=800; total time=   2.0s\n",
            "[CV] END criterion=entropy, max_depth=6, max_features=log2, n_estimators=800; total time=   2.8s\n",
            "[CV] END criterion=entropy, max_depth=8, max_features=sqrt, n_estimators=1000; total time=   3.2s\n",
            "[CV] END criterion=entropy, max_depth=8, max_features=sqrt, n_estimators=1000; total time=   2.7s\n",
            "[CV] END criterion=entropy, max_depth=8, max_features=sqrt, n_estimators=1000; total time=   2.7s\n",
            "[CV] END criterion=entropy, max_depth=8, max_features=sqrt, n_estimators=1000; total time=   2.8s\n",
            "[CV] END criterion=entropy, max_depth=8, max_features=sqrt, n_estimators=1000; total time=   4.3s\n",
            "[CV] END criterion=entropy, max_depth=8, max_features=sqrt, n_estimators=500; total time=   1.3s\n",
            "[CV] END criterion=entropy, max_depth=8, max_features=sqrt, n_estimators=500; total time=   1.4s\n",
            "[CV] END criterion=entropy, max_depth=8, max_features=sqrt, n_estimators=500; total time=   1.4s\n",
            "[CV] END criterion=entropy, max_depth=8, max_features=sqrt, n_estimators=500; total time=   1.4s\n",
            "[CV] END criterion=entropy, max_depth=8, max_features=sqrt, n_estimators=500; total time=   1.4s\n",
            "[CV] END criterion=entropy, max_depth=8, max_features=sqrt, n_estimators=800; total time=   2.1s\n",
            "[CV] END criterion=entropy, max_depth=8, max_features=sqrt, n_estimators=800; total time=   3.4s\n",
            "[CV] END criterion=entropy, max_depth=8, max_features=sqrt, n_estimators=800; total time=   2.2s\n",
            "[CV] END criterion=entropy, max_depth=8, max_features=sqrt, n_estimators=800; total time=   2.2s\n",
            "[CV] END criterion=entropy, max_depth=8, max_features=sqrt, n_estimators=800; total time=   2.2s\n",
            "[CV] END criterion=entropy, max_depth=8, max_features=log2, n_estimators=1000; total time=   2.7s\n",
            "[CV] END criterion=entropy, max_depth=8, max_features=log2, n_estimators=1000; total time=   3.7s\n",
            "[CV] END criterion=entropy, max_depth=8, max_features=log2, n_estimators=1000; total time=   3.0s\n",
            "[CV] END criterion=entropy, max_depth=8, max_features=log2, n_estimators=1000; total time=   2.7s\n",
            "[CV] END criterion=entropy, max_depth=8, max_features=log2, n_estimators=1000; total time=   2.7s\n",
            "[CV] END criterion=entropy, max_depth=8, max_features=log2, n_estimators=500; total time=   1.4s\n",
            "[CV] END criterion=entropy, max_depth=8, max_features=log2, n_estimators=500; total time=   1.6s\n",
            "[CV] END criterion=entropy, max_depth=8, max_features=log2, n_estimators=500; total time=   2.9s\n",
            "[CV] END criterion=entropy, max_depth=8, max_features=log2, n_estimators=500; total time=   1.4s\n",
            "[CV] END criterion=entropy, max_depth=8, max_features=log2, n_estimators=500; total time=   1.4s\n",
            "[CV] END criterion=entropy, max_depth=8, max_features=log2, n_estimators=800; total time=   2.5s\n",
            "[CV] END criterion=entropy, max_depth=8, max_features=log2, n_estimators=800; total time=   8.7s\n",
            "[CV] END criterion=entropy, max_depth=8, max_features=log2, n_estimators=800; total time=   3.5s\n",
            "[CV] END criterion=entropy, max_depth=8, max_features=log2, n_estimators=800; total time=   2.7s\n",
            "[CV] END criterion=entropy, max_depth=8, max_features=log2, n_estimators=800; total time=   3.8s\n"
          ]
        }
      ]
    },
    {
      "cell_type": "code",
      "source": [
        "\n",
        "acc = metrics.accuracy_score(kc1_y_test, kc1_rf_y_pred)\n",
        "f1  = metrics.f1_score(kc1_y_test, kc1_rf_y_pred)\n",
        "auc = metrics.roc_auc_score(kc1_y_test, kc1_rf_y_pred)\n",
        "pre = metrics.precision_score(kc1_y_test, kc1_rf_y_pred)\n",
        "recall = metrics.recall_score(kc1_y_test, kc1_rf_y_pred)\n",
        "print (\"\\nkc1 :  acc ( %f ) , f1 (%f) , auc (%f), pre (%f), recall(%f)\"% (acc, f1 , auc, pre, recall))\n"
      ],
      "metadata": {
        "colab": {
          "base_uri": "https://localhost:8080/"
        },
        "id": "GYl2MgnBWrS9",
        "outputId": "704a3505-1322-4c55-ac23-b22446e36962"
      },
      "execution_count": 12,
      "outputs": [
        {
          "output_type": "stream",
          "name": "stdout",
          "text": [
            "\n",
            "kc1 :  acc ( 0.840442 ) , f1 (0.229008) , auc (0.561538), pre (0.625000), recall(0.140187)\n"
          ]
        }
      ]
    },
    {
      "cell_type": "code",
      "source": [
        "grid4.fit(kc2_x_train, kc2_y_train)\n",
        "kc2_rf_y_pred= grid4.predict(kc2_x_test)\n"
      ],
      "metadata": {
        "colab": {
          "base_uri": "https://localhost:8080/"
        },
        "id": "qaVwUYTDRxK6",
        "outputId": "49cd9854-2014-4315-d861-a64d7f23b14c"
      },
      "execution_count": 13,
      "outputs": [
        {
          "output_type": "stream",
          "name": "stdout",
          "text": [
            "Fitting 5 folds for each of 36 candidates, totalling 180 fits\n",
            "[CV] END criterion=gini, max_depth=4, max_features=sqrt, n_estimators=1000; total time=   2.8s\n",
            "[CV] END criterion=gini, max_depth=4, max_features=sqrt, n_estimators=1000; total time=   2.4s\n",
            "[CV] END criterion=gini, max_depth=4, max_features=sqrt, n_estimators=1000; total time=   5.1s\n",
            "[CV] END criterion=gini, max_depth=4, max_features=sqrt, n_estimators=1000; total time=   2.6s\n",
            "[CV] END criterion=gini, max_depth=4, max_features=sqrt, n_estimators=1000; total time=   1.6s\n",
            "[CV] END criterion=gini, max_depth=4, max_features=sqrt, n_estimators=500; total time=   0.8s\n",
            "[CV] END criterion=gini, max_depth=4, max_features=sqrt, n_estimators=500; total time=   0.8s\n",
            "[CV] END criterion=gini, max_depth=4, max_features=sqrt, n_estimators=500; total time=   0.8s\n",
            "[CV] END criterion=gini, max_depth=4, max_features=sqrt, n_estimators=500; total time=   0.8s\n",
            "[CV] END criterion=gini, max_depth=4, max_features=sqrt, n_estimators=500; total time=   0.8s\n",
            "[CV] END criterion=gini, max_depth=4, max_features=sqrt, n_estimators=800; total time=   1.3s\n",
            "[CV] END criterion=gini, max_depth=4, max_features=sqrt, n_estimators=800; total time=   1.5s\n",
            "[CV] END criterion=gini, max_depth=4, max_features=sqrt, n_estimators=800; total time=   2.1s\n",
            "[CV] END criterion=gini, max_depth=4, max_features=sqrt, n_estimators=800; total time=   1.6s\n",
            "[CV] END criterion=gini, max_depth=4, max_features=sqrt, n_estimators=800; total time=   1.3s\n",
            "[CV] END criterion=gini, max_depth=4, max_features=log2, n_estimators=1000; total time=   1.6s\n",
            "[CV] END criterion=gini, max_depth=4, max_features=log2, n_estimators=1000; total time=   1.6s\n",
            "[CV] END criterion=gini, max_depth=4, max_features=log2, n_estimators=1000; total time=   1.6s\n",
            "[CV] END criterion=gini, max_depth=4, max_features=log2, n_estimators=1000; total time=   1.6s\n",
            "[CV] END criterion=gini, max_depth=4, max_features=log2, n_estimators=1000; total time=   1.8s\n",
            "[CV] END criterion=gini, max_depth=4, max_features=log2, n_estimators=500; total time=   1.3s\n",
            "[CV] END criterion=gini, max_depth=4, max_features=log2, n_estimators=500; total time=   1.3s\n",
            "[CV] END criterion=gini, max_depth=4, max_features=log2, n_estimators=500; total time=   1.0s\n",
            "[CV] END criterion=gini, max_depth=4, max_features=log2, n_estimators=500; total time=   0.8s\n",
            "[CV] END criterion=gini, max_depth=4, max_features=log2, n_estimators=500; total time=   0.8s\n",
            "[CV] END criterion=gini, max_depth=4, max_features=log2, n_estimators=800; total time=   1.3s\n",
            "[CV] END criterion=gini, max_depth=4, max_features=log2, n_estimators=800; total time=   1.3s\n",
            "[CV] END criterion=gini, max_depth=4, max_features=log2, n_estimators=800; total time=   1.3s\n",
            "[CV] END criterion=gini, max_depth=4, max_features=log2, n_estimators=800; total time=   1.3s\n",
            "[CV] END criterion=gini, max_depth=4, max_features=log2, n_estimators=800; total time=   1.3s\n",
            "[CV] END criterion=gini, max_depth=6, max_features=sqrt, n_estimators=1000; total time=   1.9s\n",
            "[CV] END criterion=gini, max_depth=6, max_features=sqrt, n_estimators=1000; total time=   2.6s\n",
            "[CV] END criterion=gini, max_depth=6, max_features=sqrt, n_estimators=1000; total time=   1.8s\n",
            "[CV] END criterion=gini, max_depth=6, max_features=sqrt, n_estimators=1000; total time=   1.7s\n",
            "[CV] END criterion=gini, max_depth=6, max_features=sqrt, n_estimators=1000; total time=   2.2s\n",
            "[CV] END criterion=gini, max_depth=6, max_features=sqrt, n_estimators=500; total time=   1.5s\n",
            "[CV] END criterion=gini, max_depth=6, max_features=sqrt, n_estimators=500; total time=   1.7s\n",
            "[CV] END criterion=gini, max_depth=6, max_features=sqrt, n_estimators=500; total time=   1.3s\n",
            "[CV] END criterion=gini, max_depth=6, max_features=sqrt, n_estimators=500; total time=   1.4s\n",
            "[CV] END criterion=gini, max_depth=6, max_features=sqrt, n_estimators=500; total time=   1.6s\n",
            "[CV] END criterion=gini, max_depth=6, max_features=sqrt, n_estimators=800; total time=   3.7s\n",
            "[CV] END criterion=gini, max_depth=6, max_features=sqrt, n_estimators=800; total time=   2.7s\n",
            "[CV] END criterion=gini, max_depth=6, max_features=sqrt, n_estimators=800; total time=   2.4s\n",
            "[CV] END criterion=gini, max_depth=6, max_features=sqrt, n_estimators=800; total time=   1.4s\n",
            "[CV] END criterion=gini, max_depth=6, max_features=sqrt, n_estimators=800; total time=   1.8s\n",
            "[CV] END criterion=gini, max_depth=6, max_features=log2, n_estimators=1000; total time=   2.4s\n",
            "[CV] END criterion=gini, max_depth=6, max_features=log2, n_estimators=1000; total time=   1.7s\n",
            "[CV] END criterion=gini, max_depth=6, max_features=log2, n_estimators=1000; total time=   1.7s\n",
            "[CV] END criterion=gini, max_depth=6, max_features=log2, n_estimators=1000; total time=   1.7s\n",
            "[CV] END criterion=gini, max_depth=6, max_features=log2, n_estimators=1000; total time=   1.7s\n",
            "[CV] END criterion=gini, max_depth=6, max_features=log2, n_estimators=500; total time=   0.9s\n",
            "[CV] END criterion=gini, max_depth=6, max_features=log2, n_estimators=500; total time=   0.9s\n",
            "[CV] END criterion=gini, max_depth=6, max_features=log2, n_estimators=500; total time=   0.9s\n",
            "[CV] END criterion=gini, max_depth=6, max_features=log2, n_estimators=500; total time=   1.2s\n",
            "[CV] END criterion=gini, max_depth=6, max_features=log2, n_estimators=500; total time=   1.3s\n",
            "[CV] END criterion=gini, max_depth=6, max_features=log2, n_estimators=800; total time=   1.8s\n",
            "[CV] END criterion=gini, max_depth=6, max_features=log2, n_estimators=800; total time=   1.4s\n",
            "[CV] END criterion=gini, max_depth=6, max_features=log2, n_estimators=800; total time=   1.3s\n",
            "[CV] END criterion=gini, max_depth=6, max_features=log2, n_estimators=800; total time=   1.4s\n",
            "[CV] END criterion=gini, max_depth=6, max_features=log2, n_estimators=800; total time=   1.3s\n",
            "[CV] END criterion=gini, max_depth=8, max_features=sqrt, n_estimators=1000; total time=   1.7s\n",
            "[CV] END criterion=gini, max_depth=8, max_features=sqrt, n_estimators=1000; total time=   1.7s\n",
            "[CV] END criterion=gini, max_depth=8, max_features=sqrt, n_estimators=1000; total time=   2.3s\n",
            "[CV] END criterion=gini, max_depth=8, max_features=sqrt, n_estimators=1000; total time=   2.4s\n",
            "[CV] END criterion=gini, max_depth=8, max_features=sqrt, n_estimators=1000; total time=   1.7s\n",
            "[CV] END criterion=gini, max_depth=8, max_features=sqrt, n_estimators=500; total time=   0.9s\n",
            "[CV] END criterion=gini, max_depth=8, max_features=sqrt, n_estimators=500; total time=   0.9s\n",
            "[CV] END criterion=gini, max_depth=8, max_features=sqrt, n_estimators=500; total time=   0.8s\n",
            "[CV] END criterion=gini, max_depth=8, max_features=sqrt, n_estimators=500; total time=   0.9s\n",
            "[CV] END criterion=gini, max_depth=8, max_features=sqrt, n_estimators=500; total time=   0.9s\n",
            "[CV] END criterion=gini, max_depth=8, max_features=sqrt, n_estimators=800; total time=   1.4s\n",
            "[CV] END criterion=gini, max_depth=8, max_features=sqrt, n_estimators=800; total time=   1.4s\n",
            "[CV] END criterion=gini, max_depth=8, max_features=sqrt, n_estimators=800; total time=   1.8s\n",
            "[CV] END criterion=gini, max_depth=8, max_features=sqrt, n_estimators=800; total time=   2.2s\n",
            "[CV] END criterion=gini, max_depth=8, max_features=sqrt, n_estimators=800; total time=   1.4s\n",
            "[CV] END criterion=gini, max_depth=8, max_features=log2, n_estimators=1000; total time=   1.7s\n",
            "[CV] END criterion=gini, max_depth=8, max_features=log2, n_estimators=1000; total time=   1.7s\n",
            "[CV] END criterion=gini, max_depth=8, max_features=log2, n_estimators=1000; total time=   1.7s\n",
            "[CV] END criterion=gini, max_depth=8, max_features=log2, n_estimators=1000; total time=   1.7s\n",
            "[CV] END criterion=gini, max_depth=8, max_features=log2, n_estimators=1000; total time=   1.7s\n",
            "[CV] END criterion=gini, max_depth=8, max_features=log2, n_estimators=500; total time=   1.3s\n",
            "[CV] END criterion=gini, max_depth=8, max_features=log2, n_estimators=500; total time=   1.4s\n",
            "[CV] END criterion=gini, max_depth=8, max_features=log2, n_estimators=500; total time=   1.2s\n",
            "[CV] END criterion=gini, max_depth=8, max_features=log2, n_estimators=500; total time=   0.9s\n",
            "[CV] END criterion=gini, max_depth=8, max_features=log2, n_estimators=500; total time=   0.9s\n",
            "[CV] END criterion=gini, max_depth=8, max_features=log2, n_estimators=800; total time=   1.4s\n",
            "[CV] END criterion=gini, max_depth=8, max_features=log2, n_estimators=800; total time=   1.4s\n",
            "[CV] END criterion=gini, max_depth=8, max_features=log2, n_estimators=800; total time=   1.3s\n",
            "[CV] END criterion=gini, max_depth=8, max_features=log2, n_estimators=800; total time=   1.4s\n",
            "[CV] END criterion=gini, max_depth=8, max_features=log2, n_estimators=800; total time=   1.4s\n",
            "[CV] END criterion=entropy, max_depth=4, max_features=sqrt, n_estimators=1000; total time=   2.0s\n",
            "[CV] END criterion=entropy, max_depth=4, max_features=sqrt, n_estimators=1000; total time=   2.7s\n",
            "[CV] END criterion=entropy, max_depth=4, max_features=sqrt, n_estimators=1000; total time=   1.6s\n",
            "[CV] END criterion=entropy, max_depth=4, max_features=sqrt, n_estimators=1000; total time=   1.7s\n",
            "[CV] END criterion=entropy, max_depth=4, max_features=sqrt, n_estimators=1000; total time=   1.7s\n",
            "[CV] END criterion=entropy, max_depth=4, max_features=sqrt, n_estimators=500; total time=   0.8s\n",
            "[CV] END criterion=entropy, max_depth=4, max_features=sqrt, n_estimators=500; total time=   0.9s\n",
            "[CV] END criterion=entropy, max_depth=4, max_features=sqrt, n_estimators=500; total time=   0.8s\n",
            "[CV] END criterion=entropy, max_depth=4, max_features=sqrt, n_estimators=500; total time=   0.9s\n",
            "[CV] END criterion=entropy, max_depth=4, max_features=sqrt, n_estimators=500; total time=   0.8s\n",
            "[CV] END criterion=entropy, max_depth=4, max_features=sqrt, n_estimators=800; total time=   1.7s\n",
            "[CV] END criterion=entropy, max_depth=4, max_features=sqrt, n_estimators=800; total time=   2.1s\n",
            "[CV] END criterion=entropy, max_depth=4, max_features=sqrt, n_estimators=800; total time=   1.5s\n",
            "[CV] END criterion=entropy, max_depth=4, max_features=sqrt, n_estimators=800; total time=   1.3s\n",
            "[CV] END criterion=entropy, max_depth=4, max_features=sqrt, n_estimators=800; total time=   1.3s\n",
            "[CV] END criterion=entropy, max_depth=4, max_features=log2, n_estimators=1000; total time=   1.7s\n",
            "[CV] END criterion=entropy, max_depth=4, max_features=log2, n_estimators=1000; total time=   1.7s\n",
            "[CV] END criterion=entropy, max_depth=4, max_features=log2, n_estimators=1000; total time=   1.6s\n",
            "[CV] END criterion=entropy, max_depth=4, max_features=log2, n_estimators=1000; total time=   2.0s\n",
            "[CV] END criterion=entropy, max_depth=4, max_features=log2, n_estimators=1000; total time=   2.6s\n",
            "[CV] END criterion=entropy, max_depth=4, max_features=log2, n_estimators=500; total time=   1.1s\n",
            "[CV] END criterion=entropy, max_depth=4, max_features=log2, n_estimators=500; total time=   0.8s\n",
            "[CV] END criterion=entropy, max_depth=4, max_features=log2, n_estimators=500; total time=   0.8s\n",
            "[CV] END criterion=entropy, max_depth=4, max_features=log2, n_estimators=500; total time=   0.8s\n",
            "[CV] END criterion=entropy, max_depth=4, max_features=log2, n_estimators=500; total time=   0.8s\n",
            "[CV] END criterion=entropy, max_depth=4, max_features=log2, n_estimators=800; total time=   1.3s\n",
            "[CV] END criterion=entropy, max_depth=4, max_features=log2, n_estimators=800; total time=   1.6s\n",
            "[CV] END criterion=entropy, max_depth=4, max_features=log2, n_estimators=800; total time=   1.3s\n",
            "[CV] END criterion=entropy, max_depth=4, max_features=log2, n_estimators=800; total time=   1.4s\n",
            "[CV] END criterion=entropy, max_depth=4, max_features=log2, n_estimators=800; total time=   2.2s\n",
            "[CV] END criterion=entropy, max_depth=6, max_features=sqrt, n_estimators=1000; total time=   2.2s\n",
            "[CV] END criterion=entropy, max_depth=6, max_features=sqrt, n_estimators=1000; total time=   1.7s\n",
            "[CV] END criterion=entropy, max_depth=6, max_features=sqrt, n_estimators=1000; total time=   1.7s\n",
            "[CV] END criterion=entropy, max_depth=6, max_features=sqrt, n_estimators=1000; total time=   1.7s\n",
            "[CV] END criterion=entropy, max_depth=6, max_features=sqrt, n_estimators=1000; total time=   1.7s\n",
            "[CV] END criterion=entropy, max_depth=6, max_features=sqrt, n_estimators=500; total time=   0.9s\n",
            "[CV] END criterion=entropy, max_depth=6, max_features=sqrt, n_estimators=500; total time=   0.9s\n",
            "[CV] END criterion=entropy, max_depth=6, max_features=sqrt, n_estimators=500; total time=   1.2s\n",
            "[CV] END criterion=entropy, max_depth=6, max_features=sqrt, n_estimators=500; total time=   1.4s\n",
            "[CV] END criterion=entropy, max_depth=6, max_features=sqrt, n_estimators=500; total time=   1.3s\n",
            "[CV] END criterion=entropy, max_depth=6, max_features=sqrt, n_estimators=800; total time=   1.4s\n",
            "[CV] END criterion=entropy, max_depth=6, max_features=sqrt, n_estimators=800; total time=   1.4s\n",
            "[CV] END criterion=entropy, max_depth=6, max_features=sqrt, n_estimators=800; total time=   1.4s\n",
            "[CV] END criterion=entropy, max_depth=6, max_features=sqrt, n_estimators=800; total time=   1.4s\n",
            "[CV] END criterion=entropy, max_depth=6, max_features=sqrt, n_estimators=800; total time=   1.4s\n",
            "[CV] END criterion=entropy, max_depth=6, max_features=log2, n_estimators=1000; total time=   1.7s\n",
            "[CV] END criterion=entropy, max_depth=6, max_features=log2, n_estimators=1000; total time=   2.1s\n",
            "[CV] END criterion=entropy, max_depth=6, max_features=log2, n_estimators=1000; total time=   2.7s\n",
            "[CV] END criterion=entropy, max_depth=6, max_features=log2, n_estimators=1000; total time=   1.7s\n",
            "[CV] END criterion=entropy, max_depth=6, max_features=log2, n_estimators=1000; total time=   1.7s\n",
            "[CV] END criterion=entropy, max_depth=6, max_features=log2, n_estimators=500; total time=   0.9s\n",
            "[CV] END criterion=entropy, max_depth=6, max_features=log2, n_estimators=500; total time=   0.9s\n",
            "[CV] END criterion=entropy, max_depth=6, max_features=log2, n_estimators=500; total time=   0.9s\n",
            "[CV] END criterion=entropy, max_depth=6, max_features=log2, n_estimators=500; total time=   0.9s\n",
            "[CV] END criterion=entropy, max_depth=6, max_features=log2, n_estimators=500; total time=   0.9s\n",
            "[CV] END criterion=entropy, max_depth=6, max_features=log2, n_estimators=800; total time=   1.4s\n",
            "[CV] END criterion=entropy, max_depth=6, max_features=log2, n_estimators=800; total time=   2.2s\n",
            "[CV] END criterion=entropy, max_depth=6, max_features=log2, n_estimators=800; total time=   2.1s\n",
            "[CV] END criterion=entropy, max_depth=6, max_features=log2, n_estimators=800; total time=   1.4s\n",
            "[CV] END criterion=entropy, max_depth=6, max_features=log2, n_estimators=800; total time=   1.4s\n",
            "[CV] END criterion=entropy, max_depth=8, max_features=sqrt, n_estimators=1000; total time=   1.7s\n",
            "[CV] END criterion=entropy, max_depth=8, max_features=sqrt, n_estimators=1000; total time=   1.8s\n",
            "[CV] END criterion=entropy, max_depth=8, max_features=sqrt, n_estimators=1000; total time=   1.7s\n",
            "[CV] END criterion=entropy, max_depth=8, max_features=sqrt, n_estimators=1000; total time=   1.7s\n",
            "[CV] END criterion=entropy, max_depth=8, max_features=sqrt, n_estimators=1000; total time=   2.7s\n",
            "[CV] END criterion=entropy, max_depth=8, max_features=sqrt, n_estimators=500; total time=   1.2s\n",
            "[CV] END criterion=entropy, max_depth=8, max_features=sqrt, n_estimators=500; total time=   0.9s\n",
            "[CV] END criterion=entropy, max_depth=8, max_features=sqrt, n_estimators=500; total time=   0.9s\n",
            "[CV] END criterion=entropy, max_depth=8, max_features=sqrt, n_estimators=500; total time=   0.9s\n",
            "[CV] END criterion=entropy, max_depth=8, max_features=sqrt, n_estimators=500; total time=   0.9s\n",
            "[CV] END criterion=entropy, max_depth=8, max_features=sqrt, n_estimators=800; total time=   1.4s\n",
            "[CV] END criterion=entropy, max_depth=8, max_features=sqrt, n_estimators=800; total time=   1.4s\n",
            "[CV] END criterion=entropy, max_depth=8, max_features=sqrt, n_estimators=800; total time=   1.4s\n",
            "[CV] END criterion=entropy, max_depth=8, max_features=sqrt, n_estimators=800; total time=   1.4s\n",
            "[CV] END criterion=entropy, max_depth=8, max_features=sqrt, n_estimators=800; total time=   1.9s\n",
            "[CV] END criterion=entropy, max_depth=8, max_features=log2, n_estimators=1000; total time=   2.5s\n",
            "[CV] END criterion=entropy, max_depth=8, max_features=log2, n_estimators=1000; total time=   1.8s\n",
            "[CV] END criterion=entropy, max_depth=8, max_features=log2, n_estimators=1000; total time=   1.7s\n",
            "[CV] END criterion=entropy, max_depth=8, max_features=log2, n_estimators=1000; total time=   1.8s\n",
            "[CV] END criterion=entropy, max_depth=8, max_features=log2, n_estimators=1000; total time=   1.8s\n",
            "[CV] END criterion=entropy, max_depth=8, max_features=log2, n_estimators=500; total time=   0.9s\n",
            "[CV] END criterion=entropy, max_depth=8, max_features=log2, n_estimators=500; total time=   0.9s\n",
            "[CV] END criterion=entropy, max_depth=8, max_features=log2, n_estimators=500; total time=   1.0s\n",
            "[CV] END criterion=entropy, max_depth=8, max_features=log2, n_estimators=500; total time=   1.4s\n",
            "[CV] END criterion=entropy, max_depth=8, max_features=log2, n_estimators=500; total time=   1.4s\n",
            "[CV] END criterion=entropy, max_depth=8, max_features=log2, n_estimators=800; total time=   1.6s\n",
            "[CV] END criterion=entropy, max_depth=8, max_features=log2, n_estimators=800; total time=   1.4s\n",
            "[CV] END criterion=entropy, max_depth=8, max_features=log2, n_estimators=800; total time=   1.4s\n",
            "[CV] END criterion=entropy, max_depth=8, max_features=log2, n_estimators=800; total time=   1.4s\n",
            "[CV] END criterion=entropy, max_depth=8, max_features=log2, n_estimators=800; total time=   1.4s\n"
          ]
        }
      ]
    },
    {
      "cell_type": "code",
      "source": [
        "acc = metrics.accuracy_score(kc2_y_test, kc2_rf_y_pred)\n",
        "f1  = metrics.f1_score(kc2_y_test, kc2_rf_y_pred)\n",
        "auc = metrics.roc_auc_score(kc2_y_test, kc2_rf_y_pred)\n",
        "pre = metrics.precision_score(kc2_y_test, kc2_rf_y_pred)\n",
        "recall = metrics.recall_score(kc2_y_test, kc2_rf_y_pred)\n",
        "print (\"\\nkc2 :  acc ( %f ) , f1 (%f) , auc (%f), pre (%f), recall(%f)\"% (acc, f1 , auc, pre, recall))\n"
      ],
      "metadata": {
        "colab": {
          "base_uri": "https://localhost:8080/"
        },
        "id": "Iut6Yin4XWH1",
        "outputId": "07894af4-4f90-4bfa-caea-e65c2a056ed5"
      },
      "execution_count": 15,
      "outputs": [
        {
          "output_type": "stream",
          "name": "stdout",
          "text": [
            "\n",
            "kc2 :  acc ( 0.808917 ) , f1 (0.516129) , auc (0.690005), pre (0.551724), recall(0.484848)\n"
          ]
        }
      ]
    },
    {
      "cell_type": "code",
      "source": [
        "grid5.fit(pc1_x_train, pc1_y_train)\n",
        "pc1_rf_y_pred = grid5.predict(pc1_x_test)"
      ],
      "metadata": {
        "colab": {
          "base_uri": "https://localhost:8080/"
        },
        "id": "D1Fqk49_Ry5r",
        "outputId": "d471d7b6-5ca1-43fc-ab35-045f824e093b"
      },
      "execution_count": 16,
      "outputs": [
        {
          "metadata": {
            "tags": null
          },
          "name": "stdout",
          "output_type": "stream",
          "text": [
            "Fitting 5 folds for each of 36 candidates, totalling 180 fits\n",
            "[CV] END criterion=gini, max_depth=4, max_features=sqrt, n_estimators=1000; total time=   1.9s\n",
            "[CV] END criterion=gini, max_depth=4, max_features=sqrt, n_estimators=1000; total time=   2.5s\n",
            "[CV] END criterion=gini, max_depth=4, max_features=sqrt, n_estimators=1000; total time=   2.5s\n",
            "[CV] END criterion=gini, max_depth=4, max_features=sqrt, n_estimators=1000; total time=   1.9s\n",
            "[CV] END criterion=gini, max_depth=4, max_features=sqrt, n_estimators=1000; total time=   1.9s\n",
            "[CV] END criterion=gini, max_depth=4, max_features=sqrt, n_estimators=500; total time=   0.9s\n",
            "[CV] END criterion=gini, max_depth=4, max_features=sqrt, n_estimators=500; total time=   0.9s\n",
            "[CV] END criterion=gini, max_depth=4, max_features=sqrt, n_estimators=500; total time=   0.9s\n",
            "[CV] END criterion=gini, max_depth=4, max_features=sqrt, n_estimators=500; total time=   1.0s\n",
            "[CV] END criterion=gini, max_depth=4, max_features=sqrt, n_estimators=500; total time=   0.9s\n",
            "[CV] END criterion=gini, max_depth=4, max_features=sqrt, n_estimators=800; total time=   1.9s\n",
            "[CV] END criterion=gini, max_depth=4, max_features=sqrt, n_estimators=800; total time=   2.4s\n",
            "[CV] END criterion=gini, max_depth=4, max_features=sqrt, n_estimators=800; total time=   1.5s\n",
            "[CV] END criterion=gini, max_depth=4, max_features=sqrt, n_estimators=800; total time=   1.5s\n",
            "[CV] END criterion=gini, max_depth=4, max_features=sqrt, n_estimators=800; total time=   1.5s\n",
            "[CV] END criterion=gini, max_depth=4, max_features=log2, n_estimators=1000; total time=   1.9s\n",
            "[CV] END criterion=gini, max_depth=4, max_features=log2, n_estimators=1000; total time=   1.9s\n",
            "[CV] END criterion=gini, max_depth=4, max_features=log2, n_estimators=1000; total time=   2.0s\n",
            "[CV] END criterion=gini, max_depth=4, max_features=log2, n_estimators=1000; total time=   2.9s\n",
            "[CV] END criterion=gini, max_depth=4, max_features=log2, n_estimators=1000; total time=   2.0s\n",
            "[CV] END criterion=gini, max_depth=4, max_features=log2, n_estimators=500; total time=   0.9s\n",
            "[CV] END criterion=gini, max_depth=4, max_features=log2, n_estimators=500; total time=   0.9s\n",
            "[CV] END criterion=gini, max_depth=4, max_features=log2, n_estimators=500; total time=   0.9s\n",
            "[CV] END criterion=gini, max_depth=4, max_features=log2, n_estimators=500; total time=   0.9s\n",
            "[CV] END criterion=gini, max_depth=4, max_features=log2, n_estimators=500; total time=   0.9s\n",
            "[CV] END criterion=gini, max_depth=4, max_features=log2, n_estimators=800; total time=   1.5s\n",
            "[CV] END criterion=gini, max_depth=4, max_features=log2, n_estimators=800; total time=   1.5s\n",
            "[CV] END criterion=gini, max_depth=4, max_features=log2, n_estimators=800; total time=   2.0s\n",
            "[CV] END criterion=gini, max_depth=4, max_features=log2, n_estimators=800; total time=   2.2s\n",
            "[CV] END criterion=gini, max_depth=4, max_features=log2, n_estimators=800; total time=   1.5s\n",
            "[CV] END criterion=gini, max_depth=6, max_features=sqrt, n_estimators=1000; total time=   2.0s\n",
            "[CV] END criterion=gini, max_depth=6, max_features=sqrt, n_estimators=1000; total time=   2.0s\n",
            "[CV] END criterion=gini, max_depth=6, max_features=sqrt, n_estimators=1000; total time=   2.0s\n",
            "[CV] END criterion=gini, max_depth=6, max_features=sqrt, n_estimators=1000; total time=   2.0s\n",
            "[CV] END criterion=gini, max_depth=6, max_features=sqrt, n_estimators=1000; total time=   3.1s\n",
            "[CV] END criterion=gini, max_depth=6, max_features=sqrt, n_estimators=500; total time=   1.2s\n",
            "[CV] END criterion=gini, max_depth=6, max_features=sqrt, n_estimators=500; total time=   1.0s\n",
            "[CV] END criterion=gini, max_depth=6, max_features=sqrt, n_estimators=500; total time=   1.0s\n",
            "[CV] END criterion=gini, max_depth=6, max_features=sqrt, n_estimators=500; total time=   1.0s\n",
            "[CV] END criterion=gini, max_depth=6, max_features=sqrt, n_estimators=500; total time=   1.0s\n",
            "[CV] END criterion=gini, max_depth=6, max_features=sqrt, n_estimators=800; total time=   1.6s\n",
            "[CV] END criterion=gini, max_depth=6, max_features=sqrt, n_estimators=800; total time=   1.6s\n",
            "[CV] END criterion=gini, max_depth=6, max_features=sqrt, n_estimators=800; total time=   1.6s\n",
            "[CV] END criterion=gini, max_depth=6, max_features=sqrt, n_estimators=800; total time=   2.3s\n",
            "[CV] END criterion=gini, max_depth=6, max_features=sqrt, n_estimators=800; total time=   2.2s\n",
            "[CV] END criterion=gini, max_depth=6, max_features=log2, n_estimators=1000; total time=   2.0s\n",
            "[CV] END criterion=gini, max_depth=6, max_features=log2, n_estimators=1000; total time=   2.0s\n",
            "[CV] END criterion=gini, max_depth=6, max_features=log2, n_estimators=1000; total time=   2.0s\n",
            "[CV] END criterion=gini, max_depth=6, max_features=log2, n_estimators=1000; total time=   2.0s\n",
            "[CV] END criterion=gini, max_depth=6, max_features=log2, n_estimators=1000; total time=   2.4s\n",
            "[CV] END criterion=gini, max_depth=6, max_features=log2, n_estimators=500; total time=   1.6s\n",
            "[CV] END criterion=gini, max_depth=6, max_features=log2, n_estimators=500; total time=   1.3s\n",
            "[CV] END criterion=gini, max_depth=6, max_features=log2, n_estimators=500; total time=   1.0s\n",
            "[CV] END criterion=gini, max_depth=6, max_features=log2, n_estimators=500; total time=   1.0s\n",
            "[CV] END criterion=gini, max_depth=6, max_features=log2, n_estimators=500; total time=   1.0s\n",
            "[CV] END criterion=gini, max_depth=6, max_features=log2, n_estimators=800; total time=   1.6s\n",
            "[CV] END criterion=gini, max_depth=6, max_features=log2, n_estimators=800; total time=   1.6s\n",
            "[CV] END criterion=gini, max_depth=6, max_features=log2, n_estimators=800; total time=   1.6s\n",
            "[CV] END criterion=gini, max_depth=6, max_features=log2, n_estimators=800; total time=   1.6s\n",
            "[CV] END criterion=gini, max_depth=6, max_features=log2, n_estimators=800; total time=   2.5s\n",
            "[CV] END criterion=gini, max_depth=8, max_features=sqrt, n_estimators=1000; total time=   2.4s\n",
            "[CV] END criterion=gini, max_depth=8, max_features=sqrt, n_estimators=1000; total time=   2.1s\n",
            "[CV] END criterion=gini, max_depth=8, max_features=sqrt, n_estimators=1000; total time=   2.1s\n",
            "[CV] END criterion=gini, max_depth=8, max_features=sqrt, n_estimators=1000; total time=   2.1s\n",
            "[CV] END criterion=gini, max_depth=8, max_features=sqrt, n_estimators=1000; total time=   2.1s\n",
            "[CV] END criterion=gini, max_depth=8, max_features=sqrt, n_estimators=500; total time=   1.6s\n",
            "[CV] END criterion=gini, max_depth=8, max_features=sqrt, n_estimators=500; total time=   1.7s\n",
            "[CV] END criterion=gini, max_depth=8, max_features=sqrt, n_estimators=500; total time=   1.2s\n",
            "[CV] END criterion=gini, max_depth=8, max_features=sqrt, n_estimators=500; total time=   1.0s\n",
            "[CV] END criterion=gini, max_depth=8, max_features=sqrt, n_estimators=500; total time=   1.1s\n",
            "[CV] END criterion=gini, max_depth=8, max_features=sqrt, n_estimators=800; total time=   1.7s\n",
            "[CV] END criterion=gini, max_depth=8, max_features=sqrt, n_estimators=800; total time=   1.7s\n",
            "[CV] END criterion=gini, max_depth=8, max_features=sqrt, n_estimators=800; total time=   1.7s\n",
            "[CV] END criterion=gini, max_depth=8, max_features=sqrt, n_estimators=800; total time=   1.7s\n",
            "[CV] END criterion=gini, max_depth=8, max_features=sqrt, n_estimators=800; total time=   2.3s\n",
            "[CV] END criterion=gini, max_depth=8, max_features=log2, n_estimators=1000; total time=   2.7s\n",
            "[CV] END criterion=gini, max_depth=8, max_features=log2, n_estimators=1000; total time=   2.1s\n",
            "[CV] END criterion=gini, max_depth=8, max_features=log2, n_estimators=1000; total time=   2.1s\n",
            "[CV] END criterion=gini, max_depth=8, max_features=log2, n_estimators=1000; total time=   2.1s\n",
            "[CV] END criterion=gini, max_depth=8, max_features=log2, n_estimators=1000; total time=   2.0s\n",
            "[CV] END criterion=gini, max_depth=8, max_features=log2, n_estimators=500; total time=   1.3s\n",
            "[CV] END criterion=gini, max_depth=8, max_features=log2, n_estimators=500; total time=   1.6s\n",
            "[CV] END criterion=gini, max_depth=8, max_features=log2, n_estimators=500; total time=   1.4s\n",
            "[CV] END criterion=gini, max_depth=8, max_features=log2, n_estimators=500; total time=   1.1s\n",
            "[CV] END criterion=gini, max_depth=8, max_features=log2, n_estimators=500; total time=   1.0s\n",
            "[CV] END criterion=gini, max_depth=8, max_features=log2, n_estimators=800; total time=   1.7s\n",
            "[CV] END criterion=gini, max_depth=8, max_features=log2, n_estimators=800; total time=   1.7s\n",
            "[CV] END criterion=gini, max_depth=8, max_features=log2, n_estimators=800; total time=   1.7s\n",
            "[CV] END criterion=gini, max_depth=8, max_features=log2, n_estimators=800; total time=   1.6s\n",
            "[CV] END criterion=gini, max_depth=8, max_features=log2, n_estimators=800; total time=   2.1s\n",
            "[CV] END criterion=entropy, max_depth=4, max_features=sqrt, n_estimators=1000; total time=   2.8s\n",
            "[CV] END criterion=entropy, max_depth=4, max_features=sqrt, n_estimators=1000; total time=   2.0s\n",
            "[CV] END criterion=entropy, max_depth=4, max_features=sqrt, n_estimators=1000; total time=   2.0s\n",
            "[CV] END criterion=entropy, max_depth=4, max_features=sqrt, n_estimators=1000; total time=   1.9s\n",
            "[CV] END criterion=entropy, max_depth=4, max_features=sqrt, n_estimators=1000; total time=   2.0s\n",
            "[CV] END criterion=entropy, max_depth=4, max_features=sqrt, n_estimators=500; total time=   1.0s\n",
            "[CV] END criterion=entropy, max_depth=4, max_features=sqrt, n_estimators=500; total time=   1.2s\n",
            "[CV] END criterion=entropy, max_depth=4, max_features=sqrt, n_estimators=500; total time=   1.5s\n",
            "[CV] END criterion=entropy, max_depth=4, max_features=sqrt, n_estimators=500; total time=   1.5s\n",
            "[CV] END criterion=entropy, max_depth=4, max_features=sqrt, n_estimators=500; total time=   1.0s\n",
            "[CV] END criterion=entropy, max_depth=4, max_features=sqrt, n_estimators=800; total time=   1.6s\n",
            "[CV] END criterion=entropy, max_depth=4, max_features=sqrt, n_estimators=800; total time=   1.6s\n",
            "[CV] END criterion=entropy, max_depth=4, max_features=sqrt, n_estimators=800; total time=   1.6s\n",
            "[CV] END criterion=entropy, max_depth=4, max_features=sqrt, n_estimators=800; total time=   1.6s\n",
            "[CV] END criterion=entropy, max_depth=4, max_features=sqrt, n_estimators=800; total time=   1.6s\n",
            "[CV] END criterion=entropy, max_depth=4, max_features=log2, n_estimators=1000; total time=   2.5s\n",
            "[CV] END criterion=entropy, max_depth=4, max_features=log2, n_estimators=1000; total time=   2.7s\n",
            "[CV] END criterion=entropy, max_depth=4, max_features=log2, n_estimators=1000; total time=   2.0s\n",
            "[CV] END criterion=entropy, max_depth=4, max_features=log2, n_estimators=1000; total time=   1.9s\n",
            "[CV] END criterion=entropy, max_depth=4, max_features=log2, n_estimators=1000; total time=   1.9s\n",
            "[CV] END criterion=entropy, max_depth=4, max_features=log2, n_estimators=500; total time=   1.0s\n",
            "[CV] END criterion=entropy, max_depth=4, max_features=log2, n_estimators=500; total time=   1.0s\n",
            "[CV] END criterion=entropy, max_depth=4, max_features=log2, n_estimators=500; total time=   1.0s\n",
            "[CV] END criterion=entropy, max_depth=4, max_features=log2, n_estimators=500; total time=   1.2s\n",
            "[CV] END criterion=entropy, max_depth=4, max_features=log2, n_estimators=500; total time=   1.5s\n",
            "[CV] END criterion=entropy, max_depth=4, max_features=log2, n_estimators=800; total time=   2.0s\n",
            "[CV] END criterion=entropy, max_depth=4, max_features=log2, n_estimators=800; total time=   1.6s\n",
            "[CV] END criterion=entropy, max_depth=4, max_features=log2, n_estimators=800; total time=   1.6s\n",
            "[CV] END criterion=entropy, max_depth=4, max_features=log2, n_estimators=800; total time=   1.6s\n",
            "[CV] END criterion=entropy, max_depth=4, max_features=log2, n_estimators=800; total time=   1.6s\n",
            "[CV] END criterion=entropy, max_depth=6, max_features=sqrt, n_estimators=1000; total time=   2.1s\n",
            "[CV] END criterion=entropy, max_depth=6, max_features=sqrt, n_estimators=1000; total time=   2.8s\n",
            "[CV] END criterion=entropy, max_depth=6, max_features=sqrt, n_estimators=1000; total time=   2.6s\n",
            "[CV] END criterion=entropy, max_depth=6, max_features=sqrt, n_estimators=1000; total time=   2.1s\n",
            "[CV] END criterion=entropy, max_depth=6, max_features=sqrt, n_estimators=1000; total time=   2.1s\n",
            "[CV] END criterion=entropy, max_depth=6, max_features=sqrt, n_estimators=500; total time=   1.1s\n",
            "[CV] END criterion=entropy, max_depth=6, max_features=sqrt, n_estimators=500; total time=   1.1s\n",
            "[CV] END criterion=entropy, max_depth=6, max_features=sqrt, n_estimators=500; total time=   1.1s\n",
            "[CV] END criterion=entropy, max_depth=6, max_features=sqrt, n_estimators=500; total time=   1.0s\n",
            "[CV] END criterion=entropy, max_depth=6, max_features=sqrt, n_estimators=500; total time=   1.4s\n",
            "[CV] END criterion=entropy, max_depth=6, max_features=sqrt, n_estimators=800; total time=   2.5s\n",
            "[CV] END criterion=entropy, max_depth=6, max_features=sqrt, n_estimators=800; total time=   1.7s\n",
            "[CV] END criterion=entropy, max_depth=6, max_features=sqrt, n_estimators=800; total time=   1.7s\n",
            "[CV] END criterion=entropy, max_depth=6, max_features=sqrt, n_estimators=800; total time=   1.7s\n",
            "[CV] END criterion=entropy, max_depth=6, max_features=sqrt, n_estimators=800; total time=   1.7s\n",
            "[CV] END criterion=entropy, max_depth=6, max_features=log2, n_estimators=1000; total time=   2.1s\n",
            "[CV] END criterion=entropy, max_depth=6, max_features=log2, n_estimators=1000; total time=   2.7s\n",
            "[CV] END criterion=entropy, max_depth=6, max_features=log2, n_estimators=1000; total time=   2.7s\n",
            "[CV] END criterion=entropy, max_depth=6, max_features=log2, n_estimators=1000; total time=   2.1s\n",
            "[CV] END criterion=entropy, max_depth=6, max_features=log2, n_estimators=1000; total time=   2.1s\n",
            "[CV] END criterion=entropy, max_depth=6, max_features=log2, n_estimators=500; total time=   1.0s\n",
            "[CV] END criterion=entropy, max_depth=6, max_features=log2, n_estimators=500; total time=   1.1s\n",
            "[CV] END criterion=entropy, max_depth=6, max_features=log2, n_estimators=500; total time=   1.0s\n",
            "[CV] END criterion=entropy, max_depth=6, max_features=log2, n_estimators=500; total time=   1.0s\n",
            "[CV] END criterion=entropy, max_depth=6, max_features=log2, n_estimators=500; total time=   1.3s\n",
            "[CV] END criterion=entropy, max_depth=6, max_features=log2, n_estimators=800; total time=   2.7s\n",
            "[CV] END criterion=entropy, max_depth=6, max_features=log2, n_estimators=800; total time=   1.7s\n",
            "[CV] END criterion=entropy, max_depth=6, max_features=log2, n_estimators=800; total time=   1.7s\n",
            "[CV] END criterion=entropy, max_depth=6, max_features=log2, n_estimators=800; total time=   1.7s\n",
            "[CV] END criterion=entropy, max_depth=6, max_features=log2, n_estimators=800; total time=   1.7s\n",
            "[CV] END criterion=entropy, max_depth=8, max_features=sqrt, n_estimators=1000; total time=   2.1s\n",
            "[CV] END criterion=entropy, max_depth=8, max_features=sqrt, n_estimators=1000; total time=   2.6s\n",
            "[CV] END criterion=entropy, max_depth=8, max_features=sqrt, n_estimators=1000; total time=   3.0s\n",
            "[CV] END criterion=entropy, max_depth=8, max_features=sqrt, n_estimators=1000; total time=   2.1s\n",
            "[CV] END criterion=entropy, max_depth=8, max_features=sqrt, n_estimators=1000; total time=   2.1s\n",
            "[CV] END criterion=entropy, max_depth=8, max_features=sqrt, n_estimators=500; total time=   1.1s\n",
            "[CV] END criterion=entropy, max_depth=8, max_features=sqrt, n_estimators=500; total time=   1.1s\n",
            "[CV] END criterion=entropy, max_depth=8, max_features=sqrt, n_estimators=500; total time=   1.1s\n",
            "[CV] END criterion=entropy, max_depth=8, max_features=sqrt, n_estimators=500; total time=   1.1s\n",
            "[CV] END criterion=entropy, max_depth=8, max_features=sqrt, n_estimators=500; total time=   1.4s\n",
            "[CV] END criterion=entropy, max_depth=8, max_features=sqrt, n_estimators=800; total time=   2.6s\n",
            "[CV] END criterion=entropy, max_depth=8, max_features=sqrt, n_estimators=800; total time=   1.8s\n",
            "[CV] END criterion=entropy, max_depth=8, max_features=sqrt, n_estimators=800; total time=   1.7s\n",
            "[CV] END criterion=entropy, max_depth=8, max_features=sqrt, n_estimators=800; total time=   1.7s\n",
            "[CV] END criterion=entropy, max_depth=8, max_features=sqrt, n_estimators=800; total time=   1.7s\n",
            "[CV] END criterion=entropy, max_depth=8, max_features=log2, n_estimators=1000; total time=   2.1s\n",
            "[CV] END criterion=entropy, max_depth=8, max_features=log2, n_estimators=1000; total time=   2.9s\n",
            "[CV] END criterion=entropy, max_depth=8, max_features=log2, n_estimators=1000; total time=   2.7s\n",
            "[CV] END criterion=entropy, max_depth=8, max_features=log2, n_estimators=1000; total time=   2.2s\n",
            "[CV] END criterion=entropy, max_depth=8, max_features=log2, n_estimators=1000; total time=   2.1s\n",
            "[CV] END criterion=entropy, max_depth=8, max_features=log2, n_estimators=500; total time=   1.1s\n",
            "[CV] END criterion=entropy, max_depth=8, max_features=log2, n_estimators=500; total time=   1.1s\n",
            "[CV] END criterion=entropy, max_depth=8, max_features=log2, n_estimators=500; total time=   1.1s\n",
            "[CV] END criterion=entropy, max_depth=8, max_features=log2, n_estimators=500; total time=   1.1s\n",
            "[CV] END criterion=entropy, max_depth=8, max_features=log2, n_estimators=500; total time=   1.7s\n",
            "[CV] END criterion=entropy, max_depth=8, max_features=log2, n_estimators=800; total time=   2.4s\n",
            "[CV] END criterion=entropy, max_depth=8, max_features=log2, n_estimators=800; total time=   1.7s\n",
            "[CV] END criterion=entropy, max_depth=8, max_features=log2, n_estimators=800; total time=   1.7s\n",
            "[CV] END criterion=entropy, max_depth=8, max_features=log2, n_estimators=800; total time=   1.7s\n",
            "[CV] END criterion=entropy, max_depth=8, max_features=log2, n_estimators=800; total time=   1.8s\n"
          ]
        }
      ]
    },
    {
      "cell_type": "code",
      "source": [
        "acc = metrics.accuracy_score(pc1_y_test, pc1_rf_y_pred)\n",
        "f1  = metrics.f1_score(pc1_y_test, pc1_rf_y_pred)\n",
        "auc = metrics.roc_auc_score(pc1_y_test, pc1_rf_y_pred)\n",
        "pre = metrics.precision_score(pc1_y_test, pc1_rf_y_pred)\n",
        "recall = metrics.recall_score(pc1_y_test, pc1_rf_y_pred)\n",
        "print (\"\\npc1 :  acc ( %f ) , f1 (%f) , auc (%f), pre (%f), recall(%f)\\n\"% (acc, f1 , auc, pre, recall))"
      ],
      "metadata": {
        "id": "1SYCxAxjMeY9",
        "colab": {
          "base_uri": "https://localhost:8080/"
        },
        "outputId": "828ffe98-67a1-4311-db18-ac37613cb93c"
      },
      "execution_count": 17,
      "outputs": [
        {
          "output_type": "stream",
          "name": "stdout",
          "text": [
            "\n",
            "pc1 :  acc ( 0.936937 ) , f1 (0.160000) , auc (0.543847), pre (0.666667), recall(0.090909)\n",
            "\n"
          ]
        }
      ]
    },
    {
      "cell_type": "markdown",
      "source": [
        "## **2) RF + With FS(GA)**"
      ],
      "metadata": {
        "id": "j_OooZ3AYpGA"
      }
    },
    {
      "cell_type": "code",
      "source": [
        "ga_grid = GridSearchCV(estimator= est ,param_grid= p_grid)\n",
        "\n",
        "ga_grid.fit(cm1_ga_x_train, cm1_y_train)\n",
        "cm1_rf_y_pred = ga_grid.predict(cm1_ga_x_test)\n",
        "\n",
        "print('Best random search hyperparameters are cm1: '+str(ga_grid.best_params_))"
      ],
      "metadata": {
        "colab": {
          "base_uri": "https://localhost:8080/"
        },
        "id": "P1dOaR-mY5Wd",
        "outputId": "cff1f160-4a99-4d55-a9d2-2b674af6ba1e"
      },
      "execution_count": 22,
      "outputs": [
        {
          "output_type": "stream",
          "name": "stdout",
          "text": [
            "Best random search hyperparameters are cm1: {'criterion': 'gini', 'max_depth': 4, 'max_features': 'sqrt', 'n_estimators': 1000}\n"
          ]
        }
      ]
    },
    {
      "cell_type": "code",
      "source": [
        "acc = metrics.accuracy_score(cm1_y_test, cm1_rf_y_pred)\n",
        "f1  = metrics.f1_score(cm1_y_test, cm1_rf_y_pred)\n",
        "auc = metrics.roc_auc_score(cm1_y_test, cm1_rf_y_pred)\n",
        "pre = metrics.precision_score(cm1_y_test, cm1_rf_y_pred)\n",
        "recall = metrics.recall_score(cm1_y_test, cm1_rf_y_pred)\n",
        "print (\"cm1 :  acc ( %f ) , f1 (%f) , auc (%f), pre (%f), recall(%f)\"% (acc, f1 , auc, pre, recall))\n"
      ],
      "metadata": {
        "colab": {
          "base_uri": "https://localhost:8080/"
        },
        "id": "bom78xM-b1v8",
        "outputId": "23100ded-660c-4f20-fa33-f82edee0194f"
      },
      "execution_count": 23,
      "outputs": [
        {
          "output_type": "stream",
          "name": "stdout",
          "text": [
            "cm1 :  acc ( 0.880000 ) , f1 (0.000000) , auc (0.500000), pre (0.000000), recall(0.000000)\n"
          ]
        },
        {
          "output_type": "stream",
          "name": "stderr",
          "text": [
            "/usr/local/lib/python3.10/dist-packages/sklearn/metrics/_classification.py:1344: UndefinedMetricWarning: Precision is ill-defined and being set to 0.0 due to no predicted samples. Use `zero_division` parameter to control this behavior.\n",
            "  _warn_prf(average, modifier, msg_start, len(result))\n"
          ]
        }
      ]
    },
    {
      "cell_type": "code",
      "source": [
        "ga_grid2 = GridSearchCV(estimator= est ,param_grid= p_grid)\n",
        "\n",
        "ga_grid2.fit(jm1_ga_x_train, jm1_y_train)\n",
        "jm1_rf_y_pred = ga_grid2.predict(jm1_ga_x_test)\n",
        "\n",
        "print('Best random search hyperparameters are cm1: '+str(ga_grid2.best_params_))"
      ],
      "metadata": {
        "colab": {
          "base_uri": "https://localhost:8080/"
        },
        "id": "PQqSLL_vaEs2",
        "outputId": "e6931245-6fa3-4855-a1b7-5417f9631240"
      },
      "execution_count": 24,
      "outputs": [
        {
          "output_type": "stream",
          "name": "stdout",
          "text": [
            "Best random search hyperparameters are cm1: {'criterion': 'gini', 'max_depth': 4, 'max_features': 'sqrt', 'n_estimators': 500}\n"
          ]
        }
      ]
    },
    {
      "cell_type": "code",
      "source": [
        "acc = metrics.accuracy_score(jm1_y_test, jm1_rf_y_pred)\n",
        "f1  = metrics.f1_score(jm1_y_test, jm1_rf_y_pred)\n",
        "auc = metrics.roc_auc_score(jm1_y_test, jm1_rf_y_pred)\n",
        "pre = metrics.precision_score(jm1_y_test, jm1_rf_y_pred)\n",
        "recall = metrics.recall_score(jm1_y_test, jm1_rf_y_pred)\n",
        "print (\"\\njm1 :  acc ( %f ) , f1 (%f) , auc (%f), pre (%f), recall(%f)\"% (acc, f1 , auc, pre, recall))"
      ],
      "metadata": {
        "colab": {
          "base_uri": "https://localhost:8080/"
        },
        "id": "1yZ9p3rxddHd",
        "outputId": "20c775ca-2775-4605-b07c-8f9fc7a147d6"
      },
      "execution_count": 25,
      "outputs": [
        {
          "metadata": {
            "tags": null
          },
          "name": "stdout",
          "output_type": "stream",
          "text": [
            "\n",
            "jm1 :  acc ( 0.802083 ) , f1 (0.038690) , auc (0.508279), pre (0.590909), recall(0.020000)\n"
          ]
        }
      ]
    },
    {
      "cell_type": "code",
      "source": [
        "ga_grid3 = GridSearchCV(estimator= est ,param_grid= p_grid)\n",
        "\n",
        "ga_grid3.fit(kc1_ga_x_train, kc1_y_train)\n",
        "kc1_rf_y_pred = ga_grid3.predict(kc1_ga_x_test)\n",
        "\n",
        "print('Best random search hyperparameters are cm1: '+str(ga_grid3.best_params_))"
      ],
      "metadata": {
        "colab": {
          "base_uri": "https://localhost:8080/"
        },
        "id": "wUHEDw95cuBF",
        "outputId": "e7a8d487-7d64-4aac-d900-01577c7a3e47"
      },
      "execution_count": 13,
      "outputs": [
        {
          "output_type": "stream",
          "name": "stdout",
          "text": [
            "Best random search hyperparameters are cm1: {'criterion': 'gini', 'max_depth': 4, 'max_features': 'sqrt', 'n_estimators': 1000}\n"
          ]
        }
      ]
    },
    {
      "cell_type": "code",
      "source": [
        "\n",
        "acc = metrics.accuracy_score(kc1_y_test, kc1_rf_y_pred)\n",
        "f1  = metrics.f1_score(kc1_y_test, kc1_rf_y_pred)\n",
        "auc = metrics.roc_auc_score(kc1_y_test, kc1_rf_y_pred)\n",
        "pre = metrics.precision_score(kc1_y_test, kc1_rf_y_pred)\n",
        "recall = metrics.recall_score(kc1_y_test, kc1_rf_y_pred)\n",
        "print (\"\\nkc1 :  acc ( %f ) , f1 (%f) , auc (%f), pre (%f), recall(%f)\"% (acc, f1 , auc, pre, recall))\n"
      ],
      "metadata": {
        "colab": {
          "base_uri": "https://localhost:8080/"
        },
        "id": "P0Lpcj0LdeBV",
        "outputId": "ddbafcc9-2e63-4e90-d363-927b0ed8cdc6"
      },
      "execution_count": 14,
      "outputs": [
        {
          "output_type": "stream",
          "name": "stdout",
          "text": [
            "\n",
            "kc1 :  acc ( 0.862559 ) , f1 (0.280992) , auc (0.581177), pre (0.772727), recall(0.171717)\n"
          ]
        }
      ]
    },
    {
      "cell_type": "code",
      "source": [
        "ga_grid4 = GridSearchCV(estimator= est ,param_grid= p_grid)\n",
        "\n",
        "ga_grid4.fit(kc2_ga_x_train, kc2_y_train)\n",
        "kc2_rf_y_pred= ga_grid4.predict(kc2_ga_x_test)\n",
        "\n",
        "print('Best random search hyperparameters are cm1: '+str(ga_grid4.best_params_))"
      ],
      "metadata": {
        "colab": {
          "base_uri": "https://localhost:8080/"
        },
        "id": "WydvB0DCcwKv",
        "outputId": "16e9061f-76bf-402c-ab23-215cd6c082a0"
      },
      "execution_count": 15,
      "outputs": [
        {
          "output_type": "stream",
          "name": "stdout",
          "text": [
            "Best random search hyperparameters are cm1: {'criterion': 'gini', 'max_depth': 6, 'max_features': 'sqrt', 'n_estimators': 1000}\n"
          ]
        }
      ]
    },
    {
      "cell_type": "code",
      "source": [
        "acc = metrics.accuracy_score(kc2_y_test, kc2_rf_y_pred)\n",
        "f1  = metrics.f1_score(kc2_y_test, kc2_rf_y_pred)\n",
        "auc = metrics.roc_auc_score(kc2_y_test, kc2_rf_y_pred)\n",
        "pre = metrics.precision_score(kc2_y_test, kc2_rf_y_pred)\n",
        "recall = metrics.recall_score(kc2_y_test, kc2_rf_y_pred)\n",
        "print (\"\\nkc2 :  acc ( %f ) , f1 (%f) , auc (%f), pre (%f), recall(%f)\"% (acc, f1 , auc, pre, recall))\n"
      ],
      "metadata": {
        "colab": {
          "base_uri": "https://localhost:8080/"
        },
        "id": "U0JWgyukfnjw",
        "outputId": "8c4f4b6b-93d3-4223-dbf3-9cef91d1aa56"
      },
      "execution_count": 16,
      "outputs": [
        {
          "output_type": "stream",
          "name": "stdout",
          "text": [
            "\n",
            "kc2 :  acc ( 0.904459 ) , f1 (0.651163) , auc (0.803922), pre (0.636364), recall(0.666667)\n"
          ]
        }
      ]
    },
    {
      "cell_type": "code",
      "source": [
        "ga_grid5 = GridSearchCV(estimator= est ,param_grid= p_grid)\n",
        "\n",
        "ga_grid5.fit(pc1_ga_x_train, pc1_y_train)\n",
        "pc1_rf_y_pred = ga_grid5.predict(pc1_ga_x_test)\n",
        "\n",
        "print('Best random search hyperparameters are cm1: '+str(ga_grid5.best_params_))"
      ],
      "metadata": {
        "colab": {
          "base_uri": "https://localhost:8080/"
        },
        "id": "kB3-JYsRcxps",
        "outputId": "af35a42c-6267-44fc-cad4-646d1bbe4214"
      },
      "execution_count": 17,
      "outputs": [
        {
          "output_type": "stream",
          "name": "stdout",
          "text": [
            "Best random search hyperparameters are cm1: {'criterion': 'gini', 'max_depth': 4, 'max_features': 'sqrt', 'n_estimators': 1000}\n"
          ]
        }
      ]
    },
    {
      "cell_type": "code",
      "source": [
        "acc = metrics.accuracy_score(pc1_y_test, pc1_rf_y_pred)\n",
        "f1  = metrics.f1_score(pc1_y_test, pc1_rf_y_pred)\n",
        "auc = metrics.roc_auc_score(pc1_y_test, pc1_rf_y_pred)\n",
        "pre = metrics.precision_score(pc1_y_test, pc1_rf_y_pred)\n",
        "recall = metrics.recall_score(pc1_y_test, pc1_rf_y_pred)\n",
        "print (\"\\npc1 :  acc ( %f ) , f1 (%f) , auc (%f), pre (%f), recall(%f)\\n\"% (acc, f1 , auc, pre, recall))"
      ],
      "metadata": {
        "colab": {
          "base_uri": "https://localhost:8080/"
        },
        "id": "CEs4hN_GlYc5",
        "outputId": "0c314249-66e4-4adc-93c1-10021b6075a6"
      },
      "execution_count": 18,
      "outputs": [
        {
          "output_type": "stream",
          "name": "stdout",
          "text": [
            "\n",
            "pc1 :  acc ( 0.912913 ) , f1 (0.064516) , auc (0.515597), pre (0.500000), recall(0.034483)\n",
            "\n"
          ]
        }
      ]
    }
  ]
}