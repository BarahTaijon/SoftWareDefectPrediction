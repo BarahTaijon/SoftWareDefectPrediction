{
  "nbformat": 4,
  "nbformat_minor": 0,
  "metadata": {
    "colab": {
      "provenance": []
    },
    "kernelspec": {
      "name": "python3",
      "display_name": "Python 3"
    },
    "language_info": {
      "name": "python"
    }
  },
  "cells": [
    {
      "cell_type": "code",
      "execution_count": 18,
      "metadata": {
        "id": "IRXi4gk3lz-i"
      },
      "outputs": [],
      "source": [
        "import pandas as pd\n",
        "import numpy as np\n",
        "from sklearn.model_selection import train_test_split\n",
        "from sklearn import svm\n",
        "from sklearn.ensemble import RandomForestClassifier\n",
        "from sklearn import metrics\n",
        "\n",
        "url1 = \"https://raw.githubusercontent.com/BarahTaijon/SoftWareDefectPrediction/main/jm1_csv.csv\"\n",
        "url2 = \"https://raw.githubusercontent.com/BarahTaijon/SoftWareDefectPrediction/main/cm1.csv\"\n",
        "url3 = \"https://raw.githubusercontent.com/BarahTaijon/SoftWareDefectPrediction/main/kc1.csv\"\n",
        "url4 = \"https://raw.githubusercontent.com/BarahTaijon/SoftWareDefectPrediction/main/kc2.csv\"\n",
        "url5 = \"https://raw.githubusercontent.com/BarahTaijon/SoftWareDefectPrediction/main/pc1.csv\"\n",
        "\n",
        "dataset_jm1 = pd.read_csv(url1)\n",
        "dataset_cm1 = pd.read_csv(url2)\n",
        "dataset_kc1 = pd.read_csv(url3)\n",
        "dataset_kc2 = pd.read_csv(url4)\n",
        "dataset_pc1 = pd.read_csv(url5)\n",
        "\n",
        "#dataset_jm1.count() -- has empty features\n",
        "#dataset_cm1.count()\n",
        "#dataset_kc1.count()\n",
        "#dataset_kc2.count()\n",
        "#dataset_pc1.count()"
      ]
    },
    {
      "cell_type": "code",
      "source": [
        "#drop empty rows in jm1 dataset\n",
        "\n",
        "modi_dataset_jm1 = dataset_jm1.copy()\n",
        "modi_dataset_jm1  = modi_dataset_jm1.replace(r'^\\s*$', float('NaN'), regex = True)\n",
        "modi_dataset_jm1.dropna(inplace = True)\n",
        "\n",
        "#modi_dataset_jm1.count()"
      ],
      "metadata": {
        "id": "7tXovSYad-2I"
      },
      "execution_count": 19,
      "outputs": []
    },
    {
      "cell_type": "code",
      "source": [
        "#spliting data\n",
        "\n",
        "cm1_x_train, cm1_x_test, cm1_y_train, cm1_y_test =  train_test_split((dataset_cm1.iloc[:,:-1]), (dataset_cm1.iloc[:,-1:]) , test_size = 0.3, random_state = 80)\n",
        "jm1_x_train, jm1_x_test, jm1_y_train, jm1_y_test =  train_test_split((modi_dataset_jm1.iloc[:,:-1]), (modi_dataset_jm1.iloc[:,-1:]), test_size = 0.3, random_state = 80)\n",
        "kc1_x_train, kc1_x_test, kc1_y_train, kc1_y_test =  train_test_split((dataset_kc1.iloc[:,:-1]), (dataset_kc1.iloc[:,-1:]), test_size = 0.3, random_state = 80)\n",
        "kc2_x_train, kc2_x_test, kc2_y_train, kc2_y_test =  train_test_split((dataset_kc2.iloc[:,:-1]), (dataset_kc2.iloc[:,-1:]) , test_size = 0.3, random_state = 80)\n",
        "pc1_x_train, pc1_x_test, pc1_y_train, pc1_y_test =  train_test_split((dataset_pc1.iloc[:,:-1]), (dataset_pc1.iloc[:,-1:]) , test_size = 0.3, random_state = 80)\n"
      ],
      "metadata": {
        "id": "cFLj19zhgpmt"
      },
      "execution_count": 20,
      "outputs": []
    },
    {
      "cell_type": "code",
      "source": [
        "#train & testing models  [SVM]\n",
        "\n",
        "clf_jm1 = svm.SVC(kernel='rbf', C = 1.0, gamma = 0.1)\n",
        "clf_jm1.fit(jm1_x_train, jm1_y_train)\n",
        "jm1_y_pred = clf_jm1.predict(jm1_x_test)\n",
        "\n",
        "clf_cm1 = svm.SVC(kernel='rbf', C = 1.0, gamma = 0.1)\n",
        "clf_cm1.fit(cm1_x_train, cm1_y_train)\n",
        "cm1_y_pred = clf_cm1.predict(cm1_x_test)\n",
        "\n",
        "clf_kc1 = svm.SVC(kernel='rbf', C = 1.0, gamma = 0.1)\n",
        "clf_kc1.fit(kc1_x_train, kc1_y_train)\n",
        "kc1_y_pred = clf_kc1.predict(kc1_x_test)\n",
        "\n",
        "clf_kc2 = svm.SVC(kernel='rbf', C = 1.0, gamma = 0.1)\n",
        "clf_kc2.fit(kc2_x_train, kc2_y_train)\n",
        "kc2_y_pred = clf_kc2.predict(kc2_x_test)\n",
        "\n",
        "clf_pc1 = svm.SVC(kernel='rbf', C = 1.0, gamma = 0.1)\n",
        "clf_pc1.fit(pc1_x_train, pc1_y_train)\n",
        "pc1_y_pred = clf_pc1.predict(pc1_x_test)"
      ],
      "metadata": {
        "colab": {
          "base_uri": "https://localhost:8080/"
        },
        "id": "RRXLKZYeovhw",
        "outputId": "26e4d1ee-62b5-4354-9612-34a0dd2ef0f5"
      },
      "execution_count": 21,
      "outputs": [
        {
          "output_type": "stream",
          "name": "stderr",
          "text": [
            "/usr/local/lib/python3.10/dist-packages/sklearn/utils/validation.py:1143: DataConversionWarning: A column-vector y was passed when a 1d array was expected. Please change the shape of y to (n_samples, ), for example using ravel().\n",
            "  y = column_or_1d(y, warn=True)\n",
            "/usr/local/lib/python3.10/dist-packages/sklearn/utils/validation.py:1143: DataConversionWarning: A column-vector y was passed when a 1d array was expected. Please change the shape of y to (n_samples, ), for example using ravel().\n",
            "  y = column_or_1d(y, warn=True)\n",
            "/usr/local/lib/python3.10/dist-packages/sklearn/utils/validation.py:1143: DataConversionWarning: A column-vector y was passed when a 1d array was expected. Please change the shape of y to (n_samples, ), for example using ravel().\n",
            "  y = column_or_1d(y, warn=True)\n",
            "/usr/local/lib/python3.10/dist-packages/sklearn/utils/validation.py:1143: DataConversionWarning: A column-vector y was passed when a 1d array was expected. Please change the shape of y to (n_samples, ), for example using ravel().\n",
            "  y = column_or_1d(y, warn=True)\n",
            "/usr/local/lib/python3.10/dist-packages/sklearn/utils/validation.py:1143: DataConversionWarning: A column-vector y was passed when a 1d array was expected. Please change the shape of y to (n_samples, ), for example using ravel().\n",
            "  y = column_or_1d(y, warn=True)\n"
          ]
        }
      ]
    },
    {
      "cell_type": "code",
      "source": [
        "acc = metrics.accuracy_score(cm1_y_test, cm1_y_pred)\n",
        "f1  = metrics.f1_score(cm1_y_test, cm1_y_pred)\n",
        "auc = metrics.roc_auc_score(cm1_y_test, cm1_y_pred)\n",
        "pre = metrics.precision_score(cm1_y_test, cm1_y_pred)\n",
        "recall = metrics.recall_score(cm1_y_test, cm1_y_pred)\n",
        "print (\"cm1 :  acc ( %f ) , f1 (%f) , auc (%f), pre (%f), recall(%f)\"% (acc, f1 , auc, pre, recall))\n",
        "\n",
        "acc = metrics.accuracy_score(jm1_y_test, jm1_y_pred)\n",
        "f1  = metrics.f1_score(jm1_y_test, jm1_y_pred)\n",
        "auc = metrics.roc_auc_score(jm1_y_test, jm1_y_pred)\n",
        "pre = metrics.precision_score(jm1_y_test, jm1_y_pred)\n",
        "recall = metrics.recall_score(jm1_y_test, jm1_y_pred)\n",
        "print (\"\\njm1 :  acc ( %f ) , f1 (%f) , auc (%f), pre (%f), recall(%f)\"% (acc, f1 , auc, pre, recall))\n",
        "\n",
        "\n",
        "acc = metrics.accuracy_score(kc1_y_test, kc1_y_pred)\n",
        "f1  = metrics.f1_score(kc1_y_test, kc1_y_pred)\n",
        "auc = metrics.roc_auc_score(kc1_y_test, kc1_y_pred)\n",
        "pre = metrics.precision_score(kc1_y_test, kc1_y_pred)\n",
        "recall = metrics.recall_score(kc1_y_test, kc1_y_pred)\n",
        "print (\"\\nkc1 :  acc ( %f ) , f1 (%f) , auc (%f), pre (%f), recall(%f)\"% (acc, f1 , auc, pre, recall))\n",
        "\n",
        "\n",
        "acc = metrics.accuracy_score(kc2_y_test, kc2_y_pred)\n",
        "f1  = metrics.f1_score(kc2_y_test, kc2_y_pred)\n",
        "auc = metrics.roc_auc_score(kc2_y_test, kc2_y_pred)\n",
        "pre = metrics.precision_score(kc2_y_test, kc2_y_pred)\n",
        "recall = metrics.recall_score(kc2_y_test, kc2_y_pred)\n",
        "print (\"\\nkc2 :  acc ( %f ) , f1 (%f) , auc (%f), pre (%f), recall(%f)\"% (acc, f1 , auc, pre, recall))\n",
        "\n",
        "\n",
        "acc = metrics.accuracy_score(pc1_y_test, pc1_y_pred)\n",
        "f1  = metrics.f1_score(pc1_y_test, pc1_y_pred)\n",
        "auc = metrics.roc_auc_score(pc1_y_test, pc1_y_pred)\n",
        "pre = metrics.precision_score(pc1_y_test, pc1_y_pred)\n",
        "recall = metrics.recall_score(pc1_y_test, pc1_y_pred)\n",
        "print (\"\\npc1 :  acc ( %f ) , f1 (%f) , auc (%f), pre (%f), recall(%f)\\n\"% (acc, f1 , auc, pre, recall))\n"
      ],
      "metadata": {
        "colab": {
          "base_uri": "https://localhost:8080/"
        },
        "id": "RZyUfiy3g2Io",
        "outputId": "d8511f27-34a9-4367-bbb8-aae04969d7a2"
      },
      "execution_count": 22,
      "outputs": [
        {
          "output_type": "stream",
          "name": "stdout",
          "text": [
            "cm1 :  acc ( 0.900000 ) , f1 (0.117647) , auc (0.531250), pre (1.000000), recall(0.062500)\n",
            "\n",
            "jm1 :  acc ( 0.808824 ) , f1 (0.087719) , auc (0.520923), pre (0.697674), recall(0.046802)\n",
            "\n",
            "kc1 :  acc ( 0.860979 ) , f1 (0.000000) , auc (0.500000), pre (0.000000), recall(0.000000)\n",
            "\n",
            "kc2 :  acc ( 0.821656 ) , f1 (0.000000) , auc (0.496154), pre (0.000000), recall(0.000000)\n",
            "\n",
            "pc1 :  acc ( 0.942943 ) , f1 (0.173913) , auc (0.548403), pre (0.666667), recall(0.100000)\n",
            "\n"
          ]
        },
        {
          "output_type": "stream",
          "name": "stderr",
          "text": [
            "/usr/local/lib/python3.10/dist-packages/sklearn/metrics/_classification.py:1344: UndefinedMetricWarning: Precision is ill-defined and being set to 0.0 due to no predicted samples. Use `zero_division` parameter to control this behavior.\n",
            "  _warn_prf(average, modifier, msg_start, len(result))\n"
          ]
        }
      ]
    },
    {
      "cell_type": "code",
      "source": [
        "cm1_rnd_clf = RandomForestClassifier(n_estimators = 500, max_leaf_nodes = 16 , n_jobs = -1 )\n",
        "cm1_rnd_clf.fit(cm1_x_train, cm1_y_train)\n",
        "cm1_rf_y_pred = cm1_rnd_clf.predict(cm1_x_test)\n",
        "\n",
        "jm1_rnd_clf = RandomForestClassifier(n_estimators = 500, max_leaf_nodes = 16 , n_jobs = -1 )\n",
        "jm1_rnd_clf.fit(jm1_x_train, jm1_y_train)\n",
        "jm1_rf_y_pred = jm1_rnd_clf.predict(jm1_x_test)\n",
        "\n",
        "kc1_rnd_clf = RandomForestClassifier(n_estimators = 500, max_leaf_nodes = 16 , n_jobs = -1 )\n",
        "kc1_rnd_clf.fit(kc1_x_train, kc1_y_train)\n",
        "kc1_rf_y_pred = kc1_rnd_clf.predict(kc1_x_test)\n",
        "\n",
        "kc2_rnd_clf = RandomForestClassifier(n_estimators = 500, max_leaf_nodes = 16 , n_jobs = -1 )\n",
        "kc2_rnd_clf.fit(kc2_x_train, kc2_y_train)\n",
        "kc2_rf_y_pred= kc2_rnd_clf.predict(kc2_x_test)\n",
        "\n",
        "pc1_rnd_clf = RandomForestClassifier(n_estimators = 500, max_leaf_nodes = 16 , n_jobs = -1 )\n",
        "pc1_rnd_clf.fit(pc1_x_train, pc1_y_train)\n",
        "pc1_rf_y_pred = pc1_rnd_clf.predict(pc1_x_test)"
      ],
      "metadata": {
        "colab": {
          "base_uri": "https://localhost:8080/"
        },
        "id": "KZisEJWZzgCN",
        "outputId": "ed7b71b3-3e58-4e02-beed-58763bbc94e7"
      },
      "execution_count": null,
      "outputs": [
        {
          "output_type": "stream",
          "name": "stderr",
          "text": [
            "<ipython-input-23-b6afa76c3628>:2: DataConversionWarning: A column-vector y was passed when a 1d array was expected. Please change the shape of y to (n_samples,), for example using ravel().\n",
            "  cm1_rnd_clf.fit(cm1_x_train, cm1_y_train)\n",
            "<ipython-input-23-b6afa76c3628>:6: DataConversionWarning: A column-vector y was passed when a 1d array was expected. Please change the shape of y to (n_samples,), for example using ravel().\n",
            "  jm1_rnd_clf.fit(jm1_x_train, jm1_y_train)\n",
            "<ipython-input-23-b6afa76c3628>:10: DataConversionWarning: A column-vector y was passed when a 1d array was expected. Please change the shape of y to (n_samples,), for example using ravel().\n",
            "  kc1_rnd_clf.fit(kc1_x_train, kc1_y_train)\n",
            "<ipython-input-23-b6afa76c3628>:14: DataConversionWarning: A column-vector y was passed when a 1d array was expected. Please change the shape of y to (n_samples,), for example using ravel().\n",
            "  kc2_rnd_clf.fit(kc2_x_train, kc2_y_train)\n",
            "<ipython-input-23-b6afa76c3628>:18: DataConversionWarning: A column-vector y was passed when a 1d array was expected. Please change the shape of y to (n_samples,), for example using ravel().\n",
            "  pc1_rnd_clf.fit(pc1_x_train, pc1_y_train)\n"
          ]
        }
      ]
    },
    {
      "cell_type": "code",
      "source": [
        "acc = metrics.accuracy_score(cm1_y_test, cm1_rf_y_pred)\n",
        "f1  = metrics.f1_score(cm1_y_test, cm1_rf_y_pred)\n",
        "auc = metrics.roc_auc_score(cm1_y_test, cm1_rf_y_pred)\n",
        "pre = metrics.precision_score(cm1_y_test, cm1_rf_y_pred)\n",
        "recall = metrics.recall_score(cm1_y_test, cm1_rf_y_pred)\n",
        "print (\"cm1 :  acc ( %f ) , f1 (%f) , auc (%f), pre (%f), recall(%f)\"% (acc, f1 , auc, pre, recall))\n",
        "\n",
        "acc = metrics.accuracy_score(jm1_y_test, jm1_rf_y_pred)\n",
        "f1  = metrics.f1_score(jm1_y_test, jm1_rf_y_pred)\n",
        "auc = metrics.roc_auc_score(jm1_y_test, jm1_rf_y_pred)\n",
        "pre = metrics.precision_score(jm1_y_test, jm1_rf_y_pred)\n",
        "recall = metrics.recall_score(jm1_y_test, jm1_rf_y_pred)\n",
        "print (\"\\njm1 :  acc ( %f ) , f1 (%f) , auc (%f), pre (%f), recall(%f)\"% (acc, f1 , auc, pre, recall))\n",
        "\n",
        "\n",
        "acc = metrics.accuracy_score(kc1_y_test, kc1_rf_y_pred)\n",
        "f1  = metrics.f1_score(kc1_y_test, kc1_rf_y_pred)\n",
        "auc = metrics.roc_auc_score(kc1_y_test, kc1_rf_y_pred)\n",
        "pre = metrics.precision_score(kc1_y_test, kc1_rf_y_pred)\n",
        "recall = metrics.recall_score(kc1_y_test, kc1_rf_y_pred)\n",
        "print (\"\\nkc1 :  acc ( %f ) , f1 (%f) , auc (%f), pre (%f), recall(%f)\"% (acc, f1 , auc, pre, recall))\n",
        "\n",
        "\n",
        "acc = metrics.accuracy_score(kc2_y_test, kc2_y_pred)\n",
        "f1  = metrics.f1_score(kc2_y_test, kc2_y_pred)\n",
        "auc = metrics.roc_auc_score(kc2_y_test, kc2_y_pred)\n",
        "pre = metrics.precision_score(kc2_y_test, kc2_y_pred)\n",
        "recall = metrics.recall_score(kc2_y_test, kc2_y_pred)\n",
        "print (\"\\nkc2 :  acc ( %f ) , f1 (%f) , auc (%f), pre (%f), recall(%f)\"% (acc, f1 , auc, pre, recall))\n",
        "\n",
        "\n",
        "acc = metrics.accuracy_score(pc1_y_test, pc1_y_pred)\n",
        "f1  = metrics.f1_score(pc1_y_test, pc1_y_pred)\n",
        "auc = metrics.roc_auc_score(pc1_y_test, pc1_y_pred)\n",
        "pre = metrics.precision_score(pc1_y_test, pc1_y_pred)\n",
        "recall = metrics.recall_score(pc1_y_test, pc1_y_pred)\n",
        "print (\"\\npc1 :  acc ( %f ) , f1 (%f) , auc (%f), pre (%f), recall(%f)\\n\"% (acc, f1 , auc, pre, recall))\n"
      ],
      "metadata": {
        "id": "1SYCxAxjMeY9"
      },
      "execution_count": null,
      "outputs": []
    }
  ]
}
