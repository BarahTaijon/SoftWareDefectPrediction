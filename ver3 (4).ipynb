{
  "cells": [
    {
      "cell_type": "markdown",
      "metadata": {
        "id": "FYSPoimha_CP"
      },
      "source": [
        "# **Data Preprocessing: connect, Drop NaN, Spliting, FS(GA & MVO)**\n",
        "\n"
      ]
    },
    {
      "cell_type": "markdown",
      "metadata": {
        "id": "iYoaWc_8X0yZ"
      },
      "source": [
        "### connect to th ds"
      ]
    },
    {
      "cell_type": "code",
      "execution_count": 1,
      "metadata": {
        "id": "IRXi4gk3lz-i"
      },
      "outputs": [],
      "source": [
        "import pandas as pd\n",
        "import matplotlib.pyplot as plt\n",
        "import numpy as np\n",
        "from sklearn.model_selection import train_test_split\n",
        "from sklearn import svm\n",
        "from sklearn.ensemble import RandomForestClassifier\n",
        "from sklearn import metrics\n",
        "from sklearn.model_selection import cross_val_score\n",
        "from sklearn.model_selection import GridSearchCV\n",
        "from imblearn.over_sampling import SMOTE\n",
        "from imblearn.under_sampling import RandomUnderSampler\n",
        "from imblearn.pipeline import Pipeline\n",
        "\n",
        "url1 = \"https://raw.githubusercontent.com/BarahTaijon/SoftWareDefectPrediction/main/Datasets/jm1.csv\"\n",
        "url2 = \"https://raw.githubusercontent.com/BarahTaijon/SoftWareDefectPrediction/main/Datasets/cm1.csv\"\n",
        "url3 = \"https://raw.githubusercontent.com/BarahTaijon/SoftWareDefectPrediction/main/Datasets/kc1.csv\"\n",
        "url4 = \"https://raw.githubusercontent.com/BarahTaijon/SoftWareDefectPrediction/main/Datasets/kc2.csv\"\n",
        "url5 = \"https://raw.githubusercontent.com/BarahTaijon/SoftWareDefectPrediction/main/Datasets/pc1.csv\"\n",
        "\n",
        "dataset_jm1 = pd.read_csv(url1)\n",
        "dataset_cm1 = pd.read_csv(url2)\n",
        "dataset_kc1 = pd.read_csv(url3)\n",
        "dataset_kc2 = pd.read_csv(url4)\n",
        "dataset_pc1 = pd.read_csv(url5)\n"
      ]
    },
    {
      "cell_type": "code",
      "execution_count": 2,
      "metadata": {
        "id": "j661uH51lVuR"
      },
      "outputs": [],
      "source": [
        "#drop empty rows in jm1 dataset\n",
        "\n",
        "modi_dataset_jm1 = dataset_jm1.copy()\n",
        "modi_dataset_jm1  = modi_dataset_jm1.replace(r'^\\s*$', float('NaN'), regex = True)\n",
        "modi_dataset_jm1.dropna(inplace = True)\n",
        "\n",
        "#modi_dataset_jm1.count()\n"
      ]
    },
    {
      "cell_type": "markdown",
      "metadata": {
        "id": "BfDR3s-zbDnL"
      },
      "source": [
        "## Metrics Lists"
      ]
    },
    {
      "cell_type": "code",
      "execution_count": 3,
      "metadata": {
        "id": "tU5h4rzra0Kn"
      },
      "outputs": [],
      "source": [
        "# 1- Accuracy lists svm\n",
        "accuracy_jm1 = []\n",
        "accuracy_cm1 = []\n",
        "accuracy_kc1 = []\n",
        "accuracy_kc2 = []\n",
        "accuracy_pc1 = []\n",
        "\n",
        "# Accuracy lists rf\n",
        "accuracy_jm12 = []\n",
        "accuracy_cm12 = []\n",
        "accuracy_kc12 = []\n",
        "accuracy_kc22 = []\n",
        "accuracy_pc12 = []"
      ]
    },
    {
      "cell_type": "code",
      "execution_count": 4,
      "metadata": {
        "id": "4kiidDFtb1_v"
      },
      "outputs": [],
      "source": [
        "# 2- Area Under the Curve (AUC) lists - svm\n",
        "auc_jm1 = []\n",
        "auc_cm1 = []\n",
        "auc_kc1 = []\n",
        "auc_kc2 = []\n",
        "auc_pc1 = []\n",
        "\n",
        "# Area Under the Curve (AUC) lists - rf\n",
        "auc_jm12 = []\n",
        "auc_cm12 = []\n",
        "auc_kc12 = []\n",
        "auc_kc22 = []\n",
        "auc_pc12 = []"
      ]
    },
    {
      "cell_type": "code",
      "execution_count": 5,
      "metadata": {
        "id": "2vWRUA1Vcbdc"
      },
      "outputs": [],
      "source": [
        "# 3- Precision lists svm\n",
        "pre_jm1 = []\n",
        "pre_cm1 = []\n",
        "pre_kc1 = []\n",
        "pre_kc2 = []\n",
        "pre_pc1 = []\n",
        "\n",
        "# Precision lists rf\n",
        "pre_jm12 = []\n",
        "pre_cm12 = []\n",
        "pre_kc12 = []\n",
        "pre_kc22 = []\n",
        "pre_pc12 = []"
      ]
    },
    {
      "cell_type": "code",
      "execution_count": 6,
      "metadata": {
        "id": "eqzP_YgMcb7X"
      },
      "outputs": [],
      "source": [
        "# 4- Recall lists svm\n",
        "recall_jm1 = []\n",
        "recall_cm1 = []\n",
        "recall_kc1 = []\n",
        "recall_kc2 = []\n",
        "recall_pc1 = []\n",
        "\n",
        "# Recall lists rf\n",
        "recall_jm12 = []\n",
        "recall_cm12 = []\n",
        "recall_kc12 = []\n",
        "recall_kc22 = []\n",
        "recall_pc12 = []"
      ]
    },
    {
      "cell_type": "code",
      "execution_count": 7,
      "metadata": {
        "id": "NYyMXEOjdMlE"
      },
      "outputs": [],
      "source": [
        "# 5- F1 score lists svm\n",
        "f1_jm1 = []\n",
        "f1_cm1 = []\n",
        "f1_kc1 = []\n",
        "f1_kc2 = []\n",
        "f1_pc1 = []\n",
        "\n",
        "# F1 score lists rf\n",
        "f1_jm12 = []\n",
        "f1_cm12 = []\n",
        "f1_kc12 = []\n",
        "f1_kc22 = []\n",
        "f1_pc12 = []"
      ]
    },
    {
      "cell_type": "markdown",
      "metadata": {
        "id": "r8541npaD5sT"
      },
      "source": [
        "## Time Metrics Lists"
      ]
    },
    {
      "cell_type": "code",
      "execution_count": 8,
      "metadata": {
        "id": "izeA7P-lD2u4"
      },
      "outputs": [],
      "source": [
        "time_jm1 = []\n",
        "time_kc1 = []\n",
        "time_kc2 = []\n",
        "time_pc1 = []\n",
        "time_cm1 = []"
      ]
    },
    {
      "cell_type": "code",
      "source": [
        "time_jm12 = []\n",
        "time_kc12 = []\n",
        "time_kc22 = []\n",
        "time_pc12 = []\n",
        "time_cm12 = []"
      ],
      "metadata": {
        "id": "Nv3KtWWt9skS"
      },
      "execution_count": 9,
      "outputs": []
    },
    {
      "cell_type": "markdown",
      "metadata": {
        "id": "dFyZmQBOZA20"
      },
      "source": [
        "## 1) DataSet: splitting & Balace [SMOTE]"
      ]
    },
    {
      "cell_type": "code",
      "execution_count": 30,
      "metadata": {
        "id": "82KOTpdTyxGi"
      },
      "outputs": [],
      "source": [
        "# x & y for all datasets\n",
        "\n",
        "#-----jm1----------\n",
        "jm1_x = modi_dataset_jm1.drop('defects', axis=1)\n",
        "jm1_y = modi_dataset_jm1['defects']\n",
        "\n",
        "#-----cm1----------\n",
        "cm1_x = dataset_cm1.drop('defects', axis=1)\n",
        "cm1_y = dataset_cm1['defects']\n",
        "\n",
        "#-----kc1----------\n",
        "kc1_x = dataset_kc1.drop('defects', axis=1)\n",
        "kc1_y = dataset_kc1['defects']\n",
        "\n",
        "#-----kc2----------\n",
        "kc2_x = dataset_kc2.drop('defects', axis=1)\n",
        "kc2_y = dataset_kc2['defects']\n",
        "\n",
        "#-----pc1----------\n",
        "pc1_x = dataset_pc1.drop('defects', axis=1)\n",
        "pc1_y = dataset_pc1['defects']\n"
      ]
    },
    {
      "cell_type": "code",
      "execution_count": 31,
      "metadata": {
        "id": "cFLj19zhgpmt"
      },
      "outputs": [],
      "source": [
        "#spliting data , feature selection on x[train and test], data balance on train [x,y]\n",
        "\n",
        "jm1_x_train, jm1_x_test, jm1_y_train, jm1_y_test =  train_test_split(jm1_x, jm1_y, test_size = 0.3)\n",
        "cm1_x_train, cm1_x_test, cm1_y_train, cm1_y_test =  train_test_split(cm1_x, cm1_y, test_size = 0.3)\n",
        "kc1_x_train, kc1_x_test, kc1_y_train, kc1_y_test =  train_test_split(kc1_x, kc1_y, test_size = 0.3)\n",
        "kc2_x_train, kc2_x_test, kc2_y_train, kc2_y_test =  train_test_split(kc2_x, kc2_y, test_size = 0.3)\n",
        "pc1_x_train, pc1_x_test, pc1_y_train, pc1_y_test =  train_test_split(pc1_x, pc1_y, test_size = 0.3)\n"
      ]
    },
    {
      "cell_type": "code",
      "execution_count": 32,
      "metadata": {
        "id": "zGIrosBkBY-t"
      },
      "outputs": [],
      "source": [
        "# x & y : train\n",
        "X_kc1, y_kc1 = SMOTE().fit_resample(kc1_x_train, kc1_y_train)\n",
        "X_kc2, y_kc2 = SMOTE().fit_resample(kc2_x_train, kc2_y_train)\n",
        "X_cm1, y_cm1 = SMOTE().fit_resample(cm1_x_train, cm1_y_train)\n",
        "X_pc1, y_pc1 = SMOTE().fit_resample(pc1_x_train, pc1_y_train)\n",
        "X_jm1, y_jm1 = SMOTE().fit_resample(jm1_x_train, jm1_y_train)"
      ]
    },
    {
      "cell_type": "markdown",
      "metadata": {
        "id": "QuWJBooTYp1h"
      },
      "source": [
        "## 2) DataSets Select Feature [GA]"
      ]
    },
    {
      "cell_type": "code",
      "execution_count": 33,
      "metadata": {
        "colab": {
          "base_uri": "https://localhost:8080/",
          "height": 0
        },
        "id": "ziZl2IguX9aa",
        "outputId": "2d12cc53-47b6-4564-b961-83493f9faf53"
      },
      "outputs": [
        {
          "output_type": "stream",
          "name": "stdout",
          "text": [
            "Collecting sklearn-genetic\n",
            "  Downloading sklearn_genetic-0.6.0-py3-none-any.whl (11 kB)\n",
            "Requirement already satisfied: scikit-learn>=1.0 in /usr/local/lib/python3.10/dist-packages (from sklearn-genetic) (1.2.2)\n",
            "Collecting deap>=1.0.2 (from sklearn-genetic)\n",
            "  Downloading deap-1.4.1-cp310-cp310-manylinux_2_5_x86_64.manylinux1_x86_64.manylinux_2_17_x86_64.manylinux2014_x86_64.whl (135 kB)\n",
            "\u001b[2K     \u001b[90m━━━━━━━━━━━━━━━━━━━━━━━━━━━━━━━━━━━━━━━━\u001b[0m \u001b[32m135.4/135.4 kB\u001b[0m \u001b[31m3.7 MB/s\u001b[0m eta \u001b[36m0:00:00\u001b[0m\n",
            "\u001b[?25hRequirement already satisfied: numpy in /usr/local/lib/python3.10/dist-packages (from sklearn-genetic) (1.23.5)\n",
            "Collecting multiprocess (from sklearn-genetic)\n",
            "  Downloading multiprocess-0.70.15-py310-none-any.whl (134 kB)\n",
            "\u001b[2K     \u001b[90m━━━━━━━━━━━━━━━━━━━━━━━━━━━━━━━━━━━━━━━━\u001b[0m \u001b[32m134.8/134.8 kB\u001b[0m \u001b[31m8.5 MB/s\u001b[0m eta \u001b[36m0:00:00\u001b[0m\n",
            "\u001b[?25hRequirement already satisfied: scipy>=1.3.2 in /usr/local/lib/python3.10/dist-packages (from scikit-learn>=1.0->sklearn-genetic) (1.11.4)\n",
            "Requirement already satisfied: joblib>=1.1.1 in /usr/local/lib/python3.10/dist-packages (from scikit-learn>=1.0->sklearn-genetic) (1.3.2)\n",
            "Requirement already satisfied: threadpoolctl>=2.0.0 in /usr/local/lib/python3.10/dist-packages (from scikit-learn>=1.0->sklearn-genetic) (3.2.0)\n",
            "Collecting dill>=0.3.7 (from multiprocess->sklearn-genetic)\n",
            "  Downloading dill-0.3.7-py3-none-any.whl (115 kB)\n",
            "\u001b[2K     \u001b[90m━━━━━━━━━━━━━━━━━━━━━━━━━━━━━━━━━━━━━━━━\u001b[0m \u001b[32m115.3/115.3 kB\u001b[0m \u001b[31m9.8 MB/s\u001b[0m eta \u001b[36m0:00:00\u001b[0m\n",
            "\u001b[?25hInstalling collected packages: dill, deap, multiprocess, sklearn-genetic\n",
            "Successfully installed deap-1.4.1 dill-0.3.7 multiprocess-0.70.15 sklearn-genetic-0.6.0\n"
          ]
        }
      ],
      "source": [
        "pip install sklearn-genetic"
      ]
    },
    {
      "cell_type": "code",
      "execution_count": 34,
      "metadata": {
        "colab": {
          "base_uri": "https://localhost:8080/",
          "height": 0
        },
        "id": "gPvjOSFc1jYP",
        "outputId": "fdb219a0-534f-4654-841a-2440d3697020"
      },
      "outputs": [
        {
          "output_type": "stream",
          "name": "stdout",
          "text": [
            "Selecting features with genetic algorithm.\n",
            "gen\tnevals\tavg                               \tstd                            \tmin                            \tmax                               \n",
            "0  \t100   \t[  0.73415   10.47       0.042615]\t[ 0.041869  6.299929  0.017083]\t[ 0.549529  1.        0.004185]\t[  0.780735  21.         0.073447]\n",
            "1  \t55    \t[  0.762494  13.32       0.055167]\t[ 0.011743  4.67735   0.008978]\t[ 0.705336  2.        0.011995]\t[  0.780735  21.         0.073447]\n",
            "2  \t62    \t[  0.770001  12.22       0.061207]\t[ 0.005004  3.983918  0.00596 ]\t[ 0.754304  6.        0.048559]\t[  0.780735  21.         0.075916]\n",
            "3  \t54    \t[  0.77259   10.55       0.064536]\t[ 0.00519   2.601442  0.004886]\t[ 0.746928  6.        0.050073]\t[  0.780735  17.         0.07257 ]\n",
            "4  \t52    \t[  0.774687  10.59       0.065877]\t[ 0.004345  2.200432  0.004394]\t[ 0.75925   6.        0.053802]\t[  0.780735  17.         0.07264 ]\n",
            "5  \t70    \t[  0.774507  10.7        0.065847]\t[ 0.004562  2.256103  0.004935]\t[ 0.758521  4.        0.054467]\t[  0.782113  17.         0.078324]\n",
            "6  \t54    \t[  0.776754  10.48       0.067993]\t[ 0.003641  1.802665  0.004196]\t[ 0.763629  6.        0.055465]\t[  0.7826   17.        0.07775]   \n",
            "7  \t66    \t[ 0.777332  9.73      0.069036]   \t[ 0.004508  1.826773  0.004796]\t[ 0.756737  5.        0.057206]\t[  0.783409  15.         0.080604]\n",
            "8  \t66    \t[ 0.777768  9.62      0.069464]   \t[ 0.004367  1.468196  0.004532]\t[ 0.763142  5.        0.058119]\t[  0.784626  13.         0.080604]\n",
            "9  \t59    \t[ 0.778667  9.16      0.07125 ]   \t[ 0.003632  1.447204  0.004291]\t[ 0.767519  5.        0.060465]\t[  0.784626  12.         0.081896]\n",
            "10 \t56    \t[ 0.779376  9.27      0.07203 ]   \t[ 0.003649  1.509006  0.004167]\t[ 0.767601  5.        0.06194 ]\t[  0.784626  13.         0.081896]\n",
            "11 \t53    \t[ 0.779684  9.57      0.071815]   \t[ 0.004321  1.321022  0.004333]\t[ 0.759251  5.        0.060117]\t[  0.784626  12.         0.081896]\n",
            "12 \t62    \t[ 0.779494  9.44      0.07199 ]   \t[ 0.003348  1.202664  0.003434]\t[ 0.769628  5.        0.063301]\t[  0.784626  12.         0.081896]\n",
            "13 \t62    \t[ 0.779543  9.39      0.072104]   \t[ 0.004525  1.103585  0.004112]\t[ 0.754954  6.        0.057287]\t[  0.784626  12.         0.078319]\n",
            "14 \t54    \t[ 0.780672  9.45      0.072864]   \t[ 0.002843  1.023474  0.003278]\t[ 0.77133  6.       0.0617 ]   \t[  0.786167  12.         0.079135]\n",
            "15 \t57    \t[ 0.780217  9.4       0.07179 ]   \t[ 0.004199  0.948683  0.003509]\t[ 0.762655  7.        0.059298]\t[  0.786167  12.         0.078319]\n",
            "16 \t57    \t[ 0.780384  9.49      0.072384]   \t[ 0.003382  0.865968  0.003157]\t[ 0.767439  8.        0.061209]\t[  0.786167  12.         0.078319]\n",
            "17 \t61    \t[ 0.78073   9.6       0.072192]   \t[ 0.003493  0.883176  0.003322]\t[ 0.769627  8.        0.058457]\t[  0.786167  12.         0.078319]\n",
            "18 \t60    \t[ 0.780545  9.51      0.072494]   \t[ 0.003795  0.994937  0.003232]\t[ 0.765575  7.        0.065506]\t[  0.786167  13.         0.078319]\n",
            "19 \t68    \t[ 0.780205  9.39      0.072293]   \t[ 0.003489  0.893252  0.002828]\t[ 0.768168  7.        0.062654]\t[  0.786167  11.         0.078319]\n",
            "20 \t59    \t[ 0.780431  9.6       0.072332]   \t[ 0.003054  1.        0.003379]\t[ 0.768493  7.        0.0581  ]\t[  0.786167  14.         0.079841]\n",
            "21 \t63    \t[ 0.780085  9.5       0.072268]   \t[ 0.003474  0.888819  0.003075]\t[ 0.766466  7.        0.06288 ]\t[  0.786167  12.         0.078319]\n",
            "22 \t59    \t[ 0.780725  9.45      0.072895]   \t[ 0.003356  0.864581  0.002687]\t[ 0.766953  7.        0.062946]\t[  0.786167  11.         0.078319]\n",
            "23 \t77    \t[ 0.780212  9.41      0.072239]   \t[ 0.004342  1.040144  0.003891]\t[ 0.758196  7.        0.057044]\t[  0.787382  12.         0.078594]\n",
            "24 \t61    \t[ 0.77981   9.53      0.072002]   \t[ 0.005155  0.932255  0.004109]\t[ 0.755522  8.        0.05562 ]\t[  0.787382  12.         0.078594]\n",
            "25 \t52    \t[ 0.780589  9.61      0.072251]   \t[ 0.004085  0.84729   0.003582]\t[ 0.765249  8.        0.05451 ]\t[  0.787382  12.         0.077502]\n",
            "26 \t55    \t[ 0.781096  9.52      0.072496]   \t[ 0.004286  0.805978  0.002647]\t[ 0.762656  7.        0.061728]\t[  0.787382  11.         0.076499]\n",
            "27 \t58    \t[ 0.781352  9.53      0.072399]   \t[ 0.004016  0.817985  0.003448]\t[ 0.765655  7.        0.057681]\t[  0.787382  12.         0.078015]\n",
            "28 \t55    \t[ 0.781294  9.43      0.072936]   \t[ 0.004109  0.751731  0.002826]\t[ 0.764035  7.        0.060091]\t[  0.787382  12.         0.079   ]\n",
            "29 \t54    \t[ 0.782559  9.51      0.072496]   \t[ 0.003209  0.556687  0.002381]\t[ 0.775303  8.        0.064307]\t[  0.787382  11.         0.076232]\n",
            "30 \t63    \t[ 0.781636  9.42      0.072818]   \t[ 0.003119  0.586174  0.002388]\t[ 0.77433   8.        0.068681]\t[  0.787382  11.         0.078086]\n",
            "31 \t59    \t[ 0.781199  9.28      0.072665]   \t[ 0.004239  0.679412  0.002823]\t[ 0.76225   7.        0.062587]\t[  0.787382  12.         0.076647]\n",
            "32 \t58    \t[ 0.781209  9.22      0.072416]   \t[ 0.004231  0.756042  0.003258]\t[ 0.767276  7.        0.059062]\t[  0.787382  13.         0.076647]\n",
            "33 \t55    \t[ 0.781674  9.15      0.072721]   \t[ 0.004283  0.68374   0.003474]\t[ 0.761114  7.        0.051469]\t[  0.787382  11.         0.077204]\n"
          ]
        }
      ],
      "source": [
        "from genetic_selection import GeneticSelectionCV\n",
        "from sklearn.tree import DecisionTreeClassifier\n",
        "import pandas as pds\n",
        "import numpy as num\n",
        "\n",
        "# -------------GA ---------- jm1-------\n",
        "\n",
        "model = GeneticSelectionCV(\n",
        "    RandomForestClassifier(max_depth=6, n_estimators=30) , cv=5, verbose=2,\n",
        "    scoring=\"accuracy\", max_features=jm1_x.shape[1],\n",
        "    n_population=100, crossover_proba=0.5,\n",
        "    mutation_proba=0.2, n_generations=50,\n",
        "    crossover_independent_proba=0.5,\n",
        "    mutation_independent_proba=0.04,\n",
        "    tournament_size=3, n_gen_no_change=10,\n",
        "    caching=True, n_jobs=-1)\n",
        "\n",
        "model = model.fit(X_jm1, y_jm1)\n",
        "\n",
        "jm1_ga_x_train = X_jm1[X_jm1.columns[model.support_]] #Balanced feature selected x train\n",
        "jm1_ga_x_test = jm1_x_test[jm1_x_test.columns[model.support_]]\n",
        "\n",
        "# -------------GA ---------- cm1-------\n",
        "\n",
        "model2 = GeneticSelectionCV(\n",
        "    RandomForestClassifier(max_depth=6, n_estimators=30), cv=5, verbose=0,\n",
        "    scoring=\"recall\", max_features=cm1_x.shape[1],\n",
        "    n_population=100, crossover_proba=0.5,\n",
        "    mutation_proba=0.2, n_generations=100,\n",
        "    crossover_independent_proba=0.5,\n",
        "    mutation_independent_proba=0.04,\n",
        "    tournament_size=3, n_gen_no_change=10,\n",
        "    caching=True, n_jobs=-1)\n",
        "\n",
        "model2 = model2.fit(X_cm1, y_cm1)\n",
        "\n",
        "cm1_ga_x_train = X_cm1[X_cm1.columns[model2.support_]]\n",
        "cm1_ga_x_test = cm1_x_test[cm1_x_test.columns[model2.support_]]\n",
        "# -------------GA ---------- kc1-------\n",
        "\n",
        "model3 = GeneticSelectionCV(\n",
        "    RandomForestClassifier(max_depth=6, n_estimators=30), cv=5, verbose=0,\n",
        "    scoring=\"recall\", max_features=kc1_x.shape[1],\n",
        "    n_population=100, crossover_proba=0.5,\n",
        "    mutation_proba=0.2, n_generations=50,\n",
        "    crossover_independent_proba=0.5,\n",
        "    mutation_independent_proba=0.04,\n",
        "    tournament_size=3, n_gen_no_change=10,\n",
        "    caching=True, n_jobs=-1)\n",
        "\n",
        "model3 = model3.fit(X_kc1, y_kc1 )\n",
        "\n",
        "kc1_ga_x_train = X_kc1[X_kc1.columns[model3.support_]]\n",
        "kc1_ga_x_test = kc1_x_test[kc1_x_test.columns[model3.support_]]\n",
        "# -------------GA ---------- kc2-------\n",
        "\n",
        "model4 = GeneticSelectionCV(\n",
        "    RandomForestClassifier(max_depth=6, n_estimators=30), cv=5, verbose=0,\n",
        "    scoring=\"recall\", max_features=kc2_x.shape[1],\n",
        "    n_population=100, crossover_proba=0.5,\n",
        "    mutation_proba=0.2, n_generations=50,\n",
        "    crossover_independent_proba=0.5,\n",
        "    mutation_independent_proba=0.04,\n",
        "    tournament_size=3, n_gen_no_change=10,\n",
        "    caching=True, n_jobs=-1)\n",
        "\n",
        "model4 = model4.fit(X_kc2, y_kc2)\n",
        "kc2_ga_x_train = X_kc2[X_kc2.columns[model4.support_]]\n",
        "kc2_ga_x_test = kc2_x_test[kc2_x_test.columns[model4.support_]]\n",
        "# -------------GA ---------- pc1-------\n",
        "\n",
        "model5 = GeneticSelectionCV(\n",
        "    RandomForestClassifier(max_depth=6, n_estimators=30), cv=5, verbose=0,\n",
        "    scoring=\"recall\", max_features=pc1_x.shape[1],\n",
        "    n_population=100, crossover_proba=0.5,\n",
        "    mutation_proba=0.2, n_generations=50,\n",
        "    crossover_independent_proba=0.5,\n",
        "    mutation_independent_proba=0.04,\n",
        "    tournament_size=3, n_gen_no_change=10,\n",
        "    caching=True, n_jobs=-1)\n",
        "\n",
        "model5 = model5.fit(X_pc1, y_pc1)\n",
        "\n",
        "pc1_ga_x_train = X_pc1[X_pc1.columns[model2.support_]]\n",
        "pc1_ga_x_test = pc1_x_test[pc1_x_test.columns[model2.support_]]"
      ]
    },
    {
      "cell_type": "markdown",
      "metadata": {
        "id": "6dEEs_9NY1cb"
      },
      "source": [
        "## 3) DataSets (with FS (MVO)): select feature, split"
      ]
    },
    {
      "cell_type": "code",
      "execution_count": 35,
      "metadata": {
        "id": "PUu1F_rMYUmo",
        "colab": {
          "base_uri": "https://localhost:8080/",
          "height": 191
        },
        "outputId": "7aadcbf7-c0c3-41dd-c4cf-7b2a564296b2"
      },
      "outputs": [
        {
          "output_type": "execute_result",
          "data": {
            "text/plain": [
              "\"\\nimport random\\nimport math\\n#import time\\nimport operator\\nimport numpy as np\\nfrom sklearn.metrics import f1_score\\nfrom sklearn.neighbors import KNeighborsClassifier\\nfrom sklearn import preprocessing\\n\\nMAX_ITER = 50\\nPOP_SIZE = 49\\n\\nPopulation = []\\nUniverses = []\\nSortedUniverses = []\\nWEP_Max=1 # mimic the nature\\nWEP_Min=0.2\\nBestUniverse = []\\nBestCost = 0.0\\n\\n\\n\\ndef initPop(ds):\\n    for i in range(POP_SIZE):\\n        universe = [random.random() for i in range(ds.shape[1])]\\n        Population.append(universe)\\n    print(Population)\\n\\ndef calc_Fitness(x, trainX, testX, trainY, testY):\\n\\n  trTrainX = trainX\\n  trTestX = testX\\n  trTrainX = np.array(trTrainX)\\n  trTestX = np.array(trTestX)\\n\\n  ans = 0.0\\n  selected_indices = [i for i in range(len(x)) if x[i] < 0.5]\\n  trTrainX = np.delete(trTrainX, selected_indices, 1)\\n  trTestX = np.delete(trTestX, selected_indices, 1)\\n  print(trTrainX.shape, trTestX.shape)\\n\\n  # if number of columns == 0\\n  if len(trTrainX) != 0:\\n    clf = KNeighborsClassifier()\\n    clf.fit(trTrainX,trainY)\\n    predicted = clf.predict(trTestX)\\n    ans =  f1_score(testY, predicted, average = 'micro') #It calculates F1 betw the predicted and actual\\n\\n  return ans\\n\\n\\n\\ndef best_cost():\\n  global Universes\\n  # seq is a 1D array calculate get the cost(f1) of all unis, then return the highest value\\n  seq = [x['cost'] for x in Universes]\\n  return(max(seq))\\n\\n# NormalizedRates\\ndef roulette_wheel_selection(rates):\\n    # fitness_sum var has sum of all the fitness values\\n    fitness_sum = sum(rates)\\n    probability_offset = 0\\n    probabilities = []\\n\\n    #iterates through each element in the rates\\n    for i in range(len(rates)):\\n        # each element = its fitness value divided by the total fitness.\\n        # to create segments on the roulette wheel\\n        #  larger segments = higher fitness values\\n        probabilities.append(probability_offset + (rates[i] / fitness_sum))\\n        probability_offset += probabilities[i]\\n\\n    r = random.random()\\n\\n    selected_ind = 0 # initialize\\n    for i in range(len(rates)):\\n        if probabilities[i] > r:\\n            break;\\n        #choose -> the index where the cumulative probability exceeds the random number.\\n        selected_ind = i\\n    return (selected_ind)\\n\\n# -------------------------------------------- MVO Function --------------------------------------------\\n\\ndef mvo(trainX, testX, trainY, testY):\\n\\n    global Population, Universes, SortedUniverses, BestUniverse, BestCost\\n    Population = []\\n    Universes = []\\n    SortedUniverses = []\\n    BestUniverse = []\\n    BestCost = 0.0\\n\\n    # Each universe has random numbers between 0.0 and 1.0\\n    initPop(trainX)\\n\\n    # EACH UNIVERSE in population calculate (fitness value)\\n    # store it as dictionary ['universe']['cost'] => In Universes\\n    for i in range(len(Population)):\\n      universeObj = {'universe':Population[i],'cost':calc_Fitness(Population[i], trainX, testX, trainY, testY)}\\n      Universes.append(universeObj)\\n\\n    Time = 1\\n    while Time<MAX_ITER+1:\\n      # WEP Update\\n      # WEP (Wormhole Existence Probability)\\n      WEP = WEP_Min+Time * ((WEP_Max-WEP_Min)/MAX_ITER)\\n\\n      # TDR Update\\n      # TDR (Travelling Distance Rate)\\n      TDR=1-((Time)**(1/6)/(MAX_ITER)**(1/6))\\n\\n      #get the max(f1) from all uni.\\n      BestCost = best_cost()\\n      #get the universe of bestCost.\\n      BestUniverse = [x['universe'] for x in Universes if x['cost']==BestCost]\\n\\n      # take a shallow copy of Universes & sort them acording to 'cost' in desending order\\n      SortedUniverses = Universes[:]\\n      SortedUniverses.sort(key = operator.itemgetter('cost'),reverse = True)\\n      # take the 'cost' values from each dictionary in the SortedUniverses list.\\n\\n      #NormalizedRates  = [x['cost'] for x in SortedUniverses]\\n      #NormalizedRates = np.array(NormalizedRates)\\n      #This ensures that the values are scaled between 0 and 1.\\n      #NormalizedRates = (NormalizedRates-np.min(NormalizedRates))/(np.max(NormalizedRates)-np.min(NormalizedRates))\\n\\n      costs  = [x['cost'] for x in SortedUniverses]\\n      #starting from the second universe\\n      for i in range(1,len(Population)):\\n            black_hole_index = i\\n            for j in range(trainX.shape[1]):\\n              #Exploration\\n              r1 = random.random()\\n              if r1<costs[i]:\\n                white_hole_index = roulette_wheel_selection(costs)\\n\\n                if white_hole_index ==-1:\\n                  white_hole_index=0\\n                Universes[black_hole_index]['universe'][j] = SortedUniverses[white_hole_index]['universe'][j]\\n\\n              #Exploitation\\n              r2 = random.random()\\n              if r2<WEP:\\n                r3 = random.random()\\n                  #If r3 is less than 0.5 = the feature is updated in the positive direction\\n                  # otherwise, it is updated in the negative direction.\\n                if r3<0.5:\\n                  Universes[i]['universe'][j] = BestUniverse[0][j] + TDR*(random.random())\\n                else:\\n                  Universes[i]['universe'][j] = BestUniverse[0][j] - TDR*(random.random())\\n\\n              # Checking: HERE select the feature or don't\\n              if Universes[i]['universe'][j]>=5.0:\\n                Universes[i]['universe'][j]=1\\n              else:\\n                Universes[i]['universe'][j]=0\\n\\n      for i in range(len(Population)):\\n        Universes[i] = {'universe':Universes[i]['universe'],'cost':calc_Fitness(Universes[i]['universe'] , trainX, testX, trainY, testY)}\\n\\n      Time = Time + 1\\n\\n    # selected_features = np.array([1 if x[i] >= 0.5 else 0 for i in range(lx)])\\n    # Universes[0]['universe'] , np.array()\\n    ModifiedTrainX = trainX.copy()\\n    ModifiedTestX = testX.copy()\\n\\n    lx = len(Universes[0]['universe'])\\n    selected_indices = [i for i in range(lx) if Universes[0]['universe'][i] == 0]\\n    ModifiedTrainX = np.delete(ModifiedTrainX, selected_indices, axis=1)\\n    ModifiedTestX = np.delete(ModifiedTestX, selected_indices, axis=1)\\n    return ModifiedTrainX, ModifiedTestX\\n\\n# Select feature by mvo algorithm\\njm1_mvo_x_train, jm1_mvo_x_test = mvo(jm1_x_train, jm1_x_test, jm1_y_train, jm1_y_test)\\ncm1_mvo_x_train, cm1_mvo_x_test = mvo(cm1_x_train, cm1_x_test, cm1_y_train, cm1_y_test)\\nkc1_mvo_x_train, kc1_mvo_x_test = mvo(kc1_x_train, kc1_x_test, kc1_y_train, kc1_y_test)\\nkc2_mvo_x_train, kc2_mvo_x_test = mvo(kc2_x_train, kc2_x_test, kc2_y_train, kc2_y_test)\\npc1_mvo_x_train, pc1_mvo_x_test = mvo(pc1_x_train, pc1_x_test, pc1_y_train, pc1_y_test)\\n\""
            ],
            "application/vnd.google.colaboratory.intrinsic+json": {
              "type": "string"
            }
          },
          "metadata": {},
          "execution_count": 35
        }
      ],
      "source": [
        "'''\n",
        "import random\n",
        "import math\n",
        "#import time\n",
        "import operator\n",
        "import numpy as np\n",
        "from sklearn.metrics import f1_score\n",
        "from sklearn.neighbors import KNeighborsClassifier\n",
        "from sklearn import preprocessing\n",
        "\n",
        "MAX_ITER = 50\n",
        "POP_SIZE = 49\n",
        "\n",
        "Population = []\n",
        "Universes = []\n",
        "SortedUniverses = []\n",
        "WEP_Max=1 # mimic the nature\n",
        "WEP_Min=0.2\n",
        "BestUniverse = []\n",
        "BestCost = 0.0\n",
        "\n",
        "\n",
        "\n",
        "def initPop(ds):\n",
        "    for i in range(POP_SIZE):\n",
        "        universe = [random.random() for i in range(ds.shape[1])]\n",
        "        Population.append(universe)\n",
        "    print(Population)\n",
        "\n",
        "def calc_Fitness(x, trainX, testX, trainY, testY):\n",
        "\n",
        "  trTrainX = trainX\n",
        "  trTestX = testX\n",
        "  trTrainX = np.array(trTrainX)\n",
        "  trTestX = np.array(trTestX)\n",
        "\n",
        "  ans = 0.0\n",
        "  selected_indices = [i for i in range(len(x)) if x[i] < 0.5]\n",
        "  trTrainX = np.delete(trTrainX, selected_indices, 1)\n",
        "  trTestX = np.delete(trTestX, selected_indices, 1)\n",
        "  print(trTrainX.shape, trTestX.shape)\n",
        "\n",
        "  # if number of columns == 0\n",
        "  if len(trTrainX) != 0:\n",
        "    clf = KNeighborsClassifier()\n",
        "    clf.fit(trTrainX,trainY)\n",
        "    predicted = clf.predict(trTestX)\n",
        "    ans =  f1_score(testY, predicted, average = 'micro') #It calculates F1 betw the predicted and actual\n",
        "\n",
        "  return ans\n",
        "\n",
        "\n",
        "\n",
        "def best_cost():\n",
        "  global Universes\n",
        "  # seq is a 1D array calculate get the cost(f1) of all unis, then return the highest value\n",
        "  seq = [x['cost'] for x in Universes]\n",
        "  return(max(seq))\n",
        "\n",
        "# NormalizedRates\n",
        "def roulette_wheel_selection(rates):\n",
        "    # fitness_sum var has sum of all the fitness values\n",
        "    fitness_sum = sum(rates)\n",
        "    probability_offset = 0\n",
        "    probabilities = []\n",
        "\n",
        "    #iterates through each element in the rates\n",
        "    for i in range(len(rates)):\n",
        "        # each element = its fitness value divided by the total fitness.\n",
        "        # to create segments on the roulette wheel\n",
        "        #  larger segments = higher fitness values\n",
        "        probabilities.append(probability_offset + (rates[i] / fitness_sum))\n",
        "        probability_offset += probabilities[i]\n",
        "\n",
        "    r = random.random()\n",
        "\n",
        "    selected_ind = 0 # initialize\n",
        "    for i in range(len(rates)):\n",
        "        if probabilities[i] > r:\n",
        "            break;\n",
        "        #choose -> the index where the cumulative probability exceeds the random number.\n",
        "        selected_ind = i\n",
        "    return (selected_ind)\n",
        "\n",
        "# -------------------------------------------- MVO Function --------------------------------------------\n",
        "\n",
        "def mvo(trainX, testX, trainY, testY):\n",
        "\n",
        "    global Population, Universes, SortedUniverses, BestUniverse, BestCost\n",
        "    Population = []\n",
        "    Universes = []\n",
        "    SortedUniverses = []\n",
        "    BestUniverse = []\n",
        "    BestCost = 0.0\n",
        "\n",
        "    # Each universe has random numbers between 0.0 and 1.0\n",
        "    initPop(trainX)\n",
        "\n",
        "    # EACH UNIVERSE in population calculate (fitness value)\n",
        "    # store it as dictionary ['universe']['cost'] => In Universes\n",
        "    for i in range(len(Population)):\n",
        "      universeObj = {'universe':Population[i],'cost':calc_Fitness(Population[i], trainX, testX, trainY, testY)}\n",
        "      Universes.append(universeObj)\n",
        "\n",
        "    Time = 1\n",
        "    while Time<MAX_ITER+1:\n",
        "      # WEP Update\n",
        "      # WEP (Wormhole Existence Probability)\n",
        "      WEP = WEP_Min+Time * ((WEP_Max-WEP_Min)/MAX_ITER)\n",
        "\n",
        "      # TDR Update\n",
        "      # TDR (Travelling Distance Rate)\n",
        "      TDR=1-((Time)**(1/6)/(MAX_ITER)**(1/6))\n",
        "\n",
        "      #get the max(f1) from all uni.\n",
        "      BestCost = best_cost()\n",
        "      #get the universe of bestCost.\n",
        "      BestUniverse = [x['universe'] for x in Universes if x['cost']==BestCost]\n",
        "\n",
        "      # take a shallow copy of Universes & sort them acording to 'cost' in desending order\n",
        "      SortedUniverses = Universes[:]\n",
        "      SortedUniverses.sort(key = operator.itemgetter('cost'),reverse = True)\n",
        "      # take the 'cost' values from each dictionary in the SortedUniverses list.\n",
        "\n",
        "      #NormalizedRates  = [x['cost'] for x in SortedUniverses]\n",
        "      #NormalizedRates = np.array(NormalizedRates)\n",
        "      #This ensures that the values are scaled between 0 and 1.\n",
        "      #NormalizedRates = (NormalizedRates-np.min(NormalizedRates))/(np.max(NormalizedRates)-np.min(NormalizedRates))\n",
        "\n",
        "      costs  = [x['cost'] for x in SortedUniverses]\n",
        "      #starting from the second universe\n",
        "      for i in range(1,len(Population)):\n",
        "            black_hole_index = i\n",
        "            for j in range(trainX.shape[1]):\n",
        "              #Exploration\n",
        "              r1 = random.random()\n",
        "              if r1<costs[i]:\n",
        "                white_hole_index = roulette_wheel_selection(costs)\n",
        "\n",
        "                if white_hole_index ==-1:\n",
        "                  white_hole_index=0\n",
        "                Universes[black_hole_index]['universe'][j] = SortedUniverses[white_hole_index]['universe'][j]\n",
        "\n",
        "              #Exploitation\n",
        "              r2 = random.random()\n",
        "              if r2<WEP:\n",
        "                r3 = random.random()\n",
        "                  #If r3 is less than 0.5 = the feature is updated in the positive direction\n",
        "                  # otherwise, it is updated in the negative direction.\n",
        "                if r3<0.5:\n",
        "                  Universes[i]['universe'][j] = BestUniverse[0][j] + TDR*(random.random())\n",
        "                else:\n",
        "                  Universes[i]['universe'][j] = BestUniverse[0][j] - TDR*(random.random())\n",
        "\n",
        "              # Checking: HERE select the feature or don't\n",
        "              if Universes[i]['universe'][j]>=5.0:\n",
        "                Universes[i]['universe'][j]=1\n",
        "              else:\n",
        "                Universes[i]['universe'][j]=0\n",
        "\n",
        "      for i in range(len(Population)):\n",
        "        Universes[i] = {'universe':Universes[i]['universe'],'cost':calc_Fitness(Universes[i]['universe'] , trainX, testX, trainY, testY)}\n",
        "\n",
        "      Time = Time + 1\n",
        "\n",
        "    # selected_features = np.array([1 if x[i] >= 0.5 else 0 for i in range(lx)])\n",
        "    # Universes[0]['universe'] , np.array()\n",
        "    ModifiedTrainX = trainX.copy()\n",
        "    ModifiedTestX = testX.copy()\n",
        "\n",
        "    lx = len(Universes[0]['universe'])\n",
        "    selected_indices = [i for i in range(lx) if Universes[0]['universe'][i] == 0]\n",
        "    ModifiedTrainX = np.delete(ModifiedTrainX, selected_indices, axis=1)\n",
        "    ModifiedTestX = np.delete(ModifiedTestX, selected_indices, axis=1)\n",
        "    return ModifiedTrainX, ModifiedTestX\n",
        "\n",
        "# Select feature by mvo algorithm\n",
        "jm1_mvo_x_train, jm1_mvo_x_test = mvo(jm1_x_train, jm1_x_test, jm1_y_train, jm1_y_test)\n",
        "cm1_mvo_x_train, cm1_mvo_x_test = mvo(cm1_x_train, cm1_x_test, cm1_y_train, cm1_y_test)\n",
        "kc1_mvo_x_train, kc1_mvo_x_test = mvo(kc1_x_train, kc1_x_test, kc1_y_train, kc1_y_test)\n",
        "kc2_mvo_x_train, kc2_mvo_x_test = mvo(kc2_x_train, kc2_x_test, kc2_y_train, kc2_y_test)\n",
        "pc1_mvo_x_train, pc1_mvo_x_test = mvo(pc1_x_train, pc1_x_test, pc1_y_train, pc1_y_test)\n",
        "'''"
      ]
    },
    {
      "cell_type": "code",
      "execution_count": 36,
      "metadata": {
        "id": "TcO3N77YjkK2"
      },
      "outputs": [],
      "source": [
        "from random import *\n",
        "import math\n",
        "import time\n",
        "import operator\n",
        "import numpy as np\n",
        "from sklearn.metrics import f1_score\n",
        "from sklearn.neighbors import KNeighborsClassifier\n",
        "from sklearn import preprocessing\n",
        "\n",
        "MAX_ITER = 50\n",
        "POP_SIZE = 49\n",
        "MAX_FEATURE = 21\n",
        "\n",
        "trainX = []\n",
        "trainY = []\n",
        "testX =  []\n",
        "testY =  []\n",
        "ModifiedTrainX = []\n",
        "ModifiedTestX = []\n",
        "\n",
        "Population = []\n",
        "Universes = []\n",
        "SortedUniverses = []\n",
        "WEP_Max=1;\n",
        "WEP_Min=0.2;\n",
        "BestUniverse = []\n",
        "BestCost = 0\n",
        "\n",
        "\n",
        "\n",
        "def initPop():\n",
        "\n",
        "    for i in range(POP_SIZE):\n",
        "        universe = [random() for i in range(MAX_FEATURE)]\n",
        "        Population.append(universe)\n",
        "\n",
        "\n",
        "def calc_Fitness(x):\n",
        "\n",
        "\n",
        "    global trainX , trainY, testX, testY\n",
        "    trTrainX = trainX\n",
        "    trTestX = testX\n",
        "\n",
        "    trTrainX = np.array(trTrainX)\n",
        "    trTestX = np.array(trTestX)\n",
        "\n",
        "    ct = 0\n",
        "    lx = len(x)\n",
        "    for i in range(lx):\n",
        "\n",
        "        if x[i] < 0.5:\n",
        "\n",
        "            trTrainX = np.delete(trTrainX, i-ct,1)\n",
        "            trTestX = np.delete(trTestX, i-ct, 1)\n",
        "            ct += 1\n",
        "\n",
        "\n",
        "\n",
        "\n",
        "    if trTrainX.shape[1] == 0:   # if number of columns == 0\n",
        "        return 0.0\n",
        "    clf = RandomForestClassifier(max_depth=6, n_estimators=30)\n",
        "    clf.fit(trTrainX,trainY)\n",
        "    predicted = clf.predict(trTestX)\n",
        "\n",
        "    ans =  f1_score(testY, predicted, average = 'binary')\n",
        "\t#print 'ans = %f' % ans*100\n",
        "\t#p.fitness = ans*100\n",
        "    return ans*100\n",
        "\n",
        "def best_cost():\n",
        "    seq = [x['cost'] for x in Universes]\n",
        "    return(max(seq))\n",
        "\n",
        "def roulette_wheel_selection(rates):\n",
        "    fitness_sum = sum(rates)\n",
        "    probability_offset = 0\n",
        "    probabilities = []\n",
        "\n",
        "    for i in range(len(rates)):\n",
        "        probabilities.append(probability_offset + (rates[i] / fitness_sum))\n",
        "        probability_offset += probabilities[i]\n",
        "\n",
        "    r = random()\n",
        "\n",
        "    selected_ind = 0 # initialize\n",
        "    for i in range(len(rates)):\n",
        "        if probabilities[i] > r:\n",
        "            break;\n",
        "        selected_ind = i\n",
        "    return (selected_ind)\n",
        "\n",
        "\n",
        "def mvo():\n",
        "\n",
        "    #allFeatures()\n",
        "    initPop()\n",
        "    for i in range(len(Population)):\n",
        "        universeObj = {'universe':Population[i],'cost':calc_Fitness(Population[i])}\n",
        "        Universes.append(universeObj)\n",
        "\n",
        "    Time = 1\n",
        "    while Time<MAX_ITER+1:\n",
        "\n",
        "        #WEP Update\n",
        "        WEP=WEP_Min+Time*((WEP_Max-WEP_Min)/MAX_ITER)\n",
        "\n",
        "        #TDR Update\n",
        "        TDR=1-((Time)**(1/6)/(MAX_ITER)**(1/6))\n",
        "\n",
        "        BestCost = best_cost()\n",
        "        BestUniverse = [x['universe'] for x in Universes if x['cost']==BestCost]\n",
        "\n",
        "\n",
        "        SortedUniverses = Universes[:]\n",
        "        SortedUniverses.sort(key = operator.itemgetter('cost'),reverse = True)\n",
        "        NormalizedRates  = [x['cost'] for x in SortedUniverses]\n",
        "        NormalizedRates = np.array(NormalizedRates)\n",
        "        NormalizedRates = (NormalizedRates-np.min(NormalizedRates))/(np.max(NormalizedRates)-np.min(NormalizedRates))\n",
        "\n",
        "\n",
        "        for i in range(1,len(Population)):\n",
        "            black_hole_index = i\n",
        "            for j in range(MAX_FEATURE):\n",
        "                #Exploration\n",
        "                r1 = random()\n",
        "                if r1<NormalizedRates[i]:\n",
        "                    white_hole_index = roulette_wheel_selection(NormalizedRates)\n",
        "\n",
        "                    if white_hole_index ==-1:\n",
        "                        white_hole_index=0\n",
        "                    Universes[black_hole_index]['universe'][j]= SortedUniverses[white_hole_index]['universe'][j]\n",
        "\n",
        "                #Exploitation\n",
        "                r2 = random()\n",
        "                if r2<WEP:\n",
        "                    r3 = random()\n",
        "                    if r3<0.5:\n",
        "                        Universes[i]['universe'][j] = BestUniverse[0][j] + TDR*(random())\n",
        "                    else:\n",
        "                        Universes[i]['universe'][j] = BestUniverse[0][j] - TDR*(random())\n",
        "\n",
        "                    if Universes[i]['universe'][j]>1:\n",
        "                        Universes[i]['universe'][j]=1\n",
        "                    if Universes[i]['universe'][j]<0:\n",
        "                        Universes[i]['universe'][j]=0\n",
        "\n",
        "\n",
        "\n",
        "        for i in range(len(Population)):\n",
        "            Universes[i] = {'universe':Universes[i]['universe'],'cost':calc_Fitness(Universes[i]['universe'])}\n",
        "        #print(BestUniverse)\n",
        "        Time = Time + 1\n",
        "    global ModifiedTrainX, ModifiedTestX\n",
        "    ModifiedTrainX = np.copy(trainX)\n",
        "    ModifiedTestX = np.copy(testX)\n",
        "    lx = len(Universes[0]['universe'])\n",
        "    selected_indices = [i for i in range(lx) if Universes[0]['universe'][i] < 0.5]\n",
        "    ModifiedTrainX = np.delete(ModifiedTrainX, selected_indices, axis=1)\n",
        "    ModifiedTestX = np.delete(ModifiedTestX, selected_indices, axis=1)\n",
        "    Population.clear()\n",
        "    Universes.clear()\n",
        "    SortedUniverses.clear()\n",
        "    BestUniverse.clear()\n",
        "    BestCost = 0.0\n",
        "\n",
        "\n",
        "trainX = X_jm1\n",
        "trainY = y_jm1\n",
        "testX =  jm1_x_test\n",
        "testY =  jm1_y_test\n",
        "mvo()\n",
        "jm1_mvo_x_train = ModifiedTrainX\n",
        "jm1_mvo_x_test =  ModifiedTestX\n",
        "\n",
        "#start_time = time.time()\n",
        "#print(\"****** %s second ******\" % (time.time() - start_time))\n",
        "\n"
      ]
    },
    {
      "cell_type": "code",
      "execution_count": 37,
      "metadata": {
        "id": "BFgYw_PNVR88",
        "colab": {
          "base_uri": "https://localhost:8080/",
          "height": 0
        },
        "outputId": "d87a742e-67d4-435e-d5f8-12467dc1d46e"
      },
      "outputs": [
        {
          "output_type": "stream",
          "name": "stdout",
          "text": [
            "(12336, 13)\n"
          ]
        }
      ],
      "source": [
        "print(jm1_mvo_x_train.shape)"
      ]
    },
    {
      "cell_type": "code",
      "execution_count": 38,
      "metadata": {
        "id": "XZNb_x37xC9f"
      },
      "outputs": [],
      "source": [
        "trainX = X_cm1\n",
        "trainY = y_cm1\n",
        "testX =  cm1_x_test\n",
        "testY =  cm1_y_test\n",
        "mvo()\n",
        "cm1_mvo_x_train = ModifiedTrainX\n",
        "cm1_mvo_x_test =  ModifiedTestX"
      ]
    },
    {
      "cell_type": "code",
      "execution_count": 39,
      "metadata": {
        "id": "2megDKPbAz60",
        "colab": {
          "base_uri": "https://localhost:8080/",
          "height": 0
        },
        "outputId": "5ce71475-47e5-44df-a36f-0dbb42db3613"
      },
      "outputs": [
        {
          "output_type": "stream",
          "name": "stdout",
          "text": [
            "(622, 11)\n"
          ]
        }
      ],
      "source": [
        "print(cm1_mvo_x_train.shape)"
      ]
    },
    {
      "cell_type": "code",
      "execution_count": 40,
      "metadata": {
        "id": "crrbxUNi1YIY"
      },
      "outputs": [],
      "source": [
        "trainX = X_kc1\n",
        "trainY = y_kc1\n",
        "testX =  kc1_x_test\n",
        "testY =  kc1_y_test\n",
        "mvo()\n",
        "kc1_mvo_x_train = ModifiedTrainX\n",
        "kc1_mvo_x_test =  ModifiedTestX"
      ]
    },
    {
      "cell_type": "code",
      "execution_count": 41,
      "metadata": {
        "id": "ASwJzhRXBhOn",
        "colab": {
          "base_uri": "https://localhost:8080/",
          "height": 0
        },
        "outputId": "9e347d58-54a0-44b8-db0c-b93be0262c57"
      },
      "outputs": [
        {
          "output_type": "stream",
          "name": "stdout",
          "text": [
            "(2522, 8)\n"
          ]
        }
      ],
      "source": [
        "print(kc1_mvo_x_train.shape)"
      ]
    },
    {
      "cell_type": "code",
      "execution_count": 42,
      "metadata": {
        "id": "aCj0ncnx1YXP"
      },
      "outputs": [],
      "source": [
        "trainX = X_kc2\n",
        "trainY = y_kc2\n",
        "testX =  kc2_x_test\n",
        "testY =  kc2_y_test\n",
        "mvo()\n",
        "kc2_mvo_x_train = ModifiedTrainX\n",
        "kc2_mvo_x_test =  ModifiedTestX"
      ]
    },
    {
      "cell_type": "code",
      "execution_count": 43,
      "metadata": {
        "id": "2I7H_ZqqG5gK",
        "colab": {
          "base_uri": "https://localhost:8080/",
          "height": 0
        },
        "outputId": "d498be55-bd6c-41b3-89e1-76c4e1e5dc64"
      },
      "outputs": [
        {
          "output_type": "stream",
          "name": "stdout",
          "text": [
            "(590, 11)\n"
          ]
        }
      ],
      "source": [
        "print(kc2_mvo_x_train.shape)"
      ]
    },
    {
      "cell_type": "code",
      "execution_count": 44,
      "metadata": {
        "id": "-bXRxooI1Y3t"
      },
      "outputs": [],
      "source": [
        "trainX = X_pc1\n",
        "trainY = y_pc1\n",
        "testX =  pc1_x_test\n",
        "testY =  pc1_y_test\n",
        "mvo()\n",
        "pc1_mvo_x_train = ModifiedTrainX\n",
        "pc1_mvo_x_test =  ModifiedTestX"
      ]
    },
    {
      "cell_type": "code",
      "execution_count": 45,
      "metadata": {
        "id": "WE7A4Z0AG0-y",
        "colab": {
          "base_uri": "https://localhost:8080/",
          "height": 0
        },
        "outputId": "0645e3c3-e24f-45d1-8f9c-4f9b896b5f06"
      },
      "outputs": [
        {
          "output_type": "stream",
          "name": "stdout",
          "text": [
            "(1446, 12)\n"
          ]
        }
      ],
      "source": [
        "print(pc1_mvo_x_train.shape)"
      ]
    },
    {
      "cell_type": "markdown",
      "metadata": {
        "id": "h3vi0yMIcBmj"
      },
      "source": [
        "# **SVM: train, testing & evaluate**\n",
        "\n",
        "1. **without FS**\n",
        "2. **with FS(GA)**\n",
        "3. **with FS(MVO)**\n",
        "\n",
        "\n"
      ]
    },
    {
      "cell_type": "markdown",
      "metadata": {
        "id": "4IVR2W0oA6o1"
      },
      "source": [
        "## **1) SVM without FS**"
      ]
    },
    {
      "cell_type": "code",
      "source": [
        "import time"
      ],
      "metadata": {
        "id": "4ISJCoB9aWzO"
      },
      "execution_count": 46,
      "outputs": []
    },
    {
      "cell_type": "code",
      "execution_count": 47,
      "metadata": {
        "id": "3uoriwW8r-l-",
        "colab": {
          "base_uri": "https://localhost:8080/",
          "height": 0
        },
        "outputId": "6b2614ae-94e9-4435-bf82-e815ffe287df"
      },
      "outputs": [
        {
          "output_type": "stream",
          "name": "stdout",
          "text": [
            "****** 0.043741464614868164 second ******\n"
          ]
        }
      ],
      "source": [
        "start_time = time.time()\n",
        "\n",
        "clf_cm1 = svm.SVC(kernel='rbf')\n",
        "clf_cm1.fit(X_cm1, y_cm1)\n",
        "cm1_y_pred = clf_cm1.predict(cm1_x_test)\n",
        "\n",
        "print(\"****** %s second ******\" % (time.time() - start_time))\n",
        "time_cm1.append(time.time() - start_time)\n"
      ]
    },
    {
      "cell_type": "code",
      "execution_count": 48,
      "metadata": {
        "id": "RZyUfiy3g2Io",
        "colab": {
          "base_uri": "https://localhost:8080/",
          "height": 0
        },
        "outputId": "bed0b7f8-dacc-4bfe-94c2-d5afdd6a6ecd"
      },
      "outputs": [
        {
          "output_type": "stream",
          "name": "stdout",
          "text": [
            "cm1 :  acc ( 0.806667 ) , f1 (0.292683) , auc (0.666667), pre (0.206897), recall(0.500000)\n"
          ]
        }
      ],
      "source": [
        "acc = metrics.accuracy_score(cm1_y_test, cm1_y_pred)\n",
        "f1  = metrics.f1_score(cm1_y_test, cm1_y_pred)\n",
        "auc = metrics.roc_auc_score(cm1_y_test, cm1_y_pred)\n",
        "pre = metrics.precision_score(cm1_y_test, cm1_y_pred)\n",
        "recall = metrics.recall_score(cm1_y_test, cm1_y_pred)\n",
        "print (\"cm1 :  acc ( %f ) , f1 (%f) , auc (%f), pre (%f), recall(%f)\"% (acc, f1, auc, pre, recall))\n",
        "\n",
        "accuracy_cm1.append(acc)\n",
        "pre_cm1.append(pre)\n",
        "auc_cm1.append(auc)\n",
        "recall_cm1.append(recall)\n",
        "f1_cm1.append(f1)"
      ]
    },
    {
      "cell_type": "code",
      "execution_count": 49,
      "metadata": {
        "id": "RRXLKZYeovhw"
      },
      "outputs": [],
      "source": [
        "#train & testing models  [SVM]\n",
        "start_time = time.time()\n",
        "\n",
        "clf_jm1 = svm.SVC(kernel='rbf')\n",
        "clf_jm1.fit(X_jm1, y_jm1)\n",
        "jm1_y_pred = clf_jm1.predict(jm1_x_test)\n",
        "\n",
        "time_jm1.append(time.time() - start_time)"
      ]
    },
    {
      "cell_type": "code",
      "execution_count": 50,
      "metadata": {
        "colab": {
          "base_uri": "https://localhost:8080/",
          "height": 0
        },
        "id": "RFxe49BDeX5o",
        "outputId": "15ccb583-9f31-4f82-a4ad-e41dffcc6766"
      },
      "outputs": [
        {
          "output_type": "stream",
          "name": "stdout",
          "text": [
            "\n",
            "jm1 :  acc ( 0.773897 ) , f1 (0.311567) , auc (0.579570), pre (0.400480), recall(0.254962)\n"
          ]
        }
      ],
      "source": [
        "acc = metrics.accuracy_score(jm1_y_test, jm1_y_pred)\n",
        "f1  = metrics.f1_score(jm1_y_test, jm1_y_pred)\n",
        "auc = metrics.roc_auc_score(jm1_y_test, jm1_y_pred)\n",
        "pre = metrics.precision_score(jm1_y_test, jm1_y_pred)\n",
        "recall = metrics.recall_score(jm1_y_test, jm1_y_pred)\n",
        "print (\"\\njm1 :  acc ( %f ) , f1 (%f) , auc (%f), pre (%f), recall(%f)\"% (acc, f1, auc, pre, recall))\n",
        "\n",
        "accuracy_jm1.append(acc)\n",
        "pre_jm1.append(pre)\n",
        "auc_jm1.append(auc)\n",
        "recall_jm1.append(recall)\n",
        "f1_jm1.append(f1)"
      ]
    },
    {
      "cell_type": "code",
      "execution_count": 51,
      "metadata": {
        "id": "OwnbJXhksEjW"
      },
      "outputs": [],
      "source": [
        "start_time = time.time()\n",
        "\n",
        "clf_kc1 = svm.SVC(kernel='rbf')\n",
        "clf_kc1.fit(X_kc1, y_kc1) #only balance data\n",
        "kc1_y_pred = clf_kc1.predict(kc1_x_test)\n",
        "\n",
        "time_kc1.append(time.time() - start_time)"
      ]
    },
    {
      "cell_type": "code",
      "execution_count": 52,
      "metadata": {
        "colab": {
          "base_uri": "https://localhost:8080/",
          "height": 0
        },
        "id": "7RcsB8eyeYuk",
        "outputId": "590568ad-4e93-4e6f-a0cc-ebb5ada32514"
      },
      "outputs": [
        {
          "output_type": "stream",
          "name": "stdout",
          "text": [
            "\n",
            "kc1 :  acc ( 0.791469 ) , f1 (0.488372) , auc (0.703324), pre (0.428571), recall(0.567568)\n"
          ]
        }
      ],
      "source": [
        "acc = metrics.accuracy_score(kc1_y_test, kc1_y_pred)\n",
        "f1  = metrics.f1_score(kc1_y_test, kc1_y_pred)\n",
        "auc = metrics.roc_auc_score(kc1_y_test, kc1_y_pred)\n",
        "pre = metrics.precision_score(kc1_y_test, kc1_y_pred)\n",
        "recall = metrics.recall_score(kc1_y_test, kc1_y_pred)\n",
        "print (\"\\nkc1 :  acc ( %f ) , f1 (%f) , auc (%f), pre (%f), recall(%f)\"% (acc, f1 , auc, pre, recall))\n",
        "\n",
        "accuracy_kc1.append(acc)\n",
        "pre_kc1.append(pre)\n",
        "auc_kc1.append(auc)\n",
        "recall_kc1.append(recall)\n",
        "f1_kc1.append(f1)"
      ]
    },
    {
      "cell_type": "code",
      "execution_count": 53,
      "metadata": {
        "id": "8o_HI78fsQFt"
      },
      "outputs": [],
      "source": [
        "start_time = time.time()\n",
        "\n",
        "clf_kc2 = svm.SVC(kernel='rbf')\n",
        "clf_kc2.fit(X_kc2, y_kc2)\n",
        "kc2_y_pred = clf_kc2.predict(kc2_x_test)\n",
        "\n",
        "time_kc2.append(time.time() - start_time)"
      ]
    },
    {
      "cell_type": "code",
      "execution_count": 54,
      "metadata": {
        "colab": {
          "base_uri": "https://localhost:8080/",
          "height": 0
        },
        "id": "Uyxcoa_WeZBG",
        "outputId": "d254da33-67a2-493a-f214-b016c3f0d901"
      },
      "outputs": [
        {
          "output_type": "stream",
          "name": "stdout",
          "text": [
            "\n",
            "kc2 :  acc ( 0.789809 ) , f1 (0.492308) , auc (0.666216), pre (0.571429), recall(0.432432)\n"
          ]
        }
      ],
      "source": [
        "acc = metrics.accuracy_score(kc2_y_test, kc2_y_pred)\n",
        "f1  = metrics.f1_score(kc2_y_test, kc2_y_pred)\n",
        "auc = metrics.roc_auc_score(kc2_y_test, kc2_y_pred)\n",
        "pre = metrics.precision_score(kc2_y_test, kc2_y_pred)\n",
        "recall = metrics.recall_score(kc2_y_test, kc2_y_pred)\n",
        "print (\"\\nkc2 :  acc ( %f ) , f1 (%f) , auc (%f), pre (%f), recall(%f)\"% (acc, f1 , auc, pre, recall))\n",
        "\n",
        "accuracy_kc2.append(acc)\n",
        "pre_kc2.append(pre)\n",
        "auc_kc2.append(auc)\n",
        "recall_kc2.append(recall)\n",
        "f1_kc2.append(f1)"
      ]
    },
    {
      "cell_type": "code",
      "execution_count": 55,
      "metadata": {
        "id": "7ZVthm1rtOhC"
      },
      "outputs": [],
      "source": [
        "start_time = time.time()\n",
        "\n",
        "\n",
        "clf_pc1 = svm.SVC(kernel='rbf')\n",
        "clf_pc1.fit(X_pc1, y_pc1)\n",
        "pc1_y_pred = clf_pc1.predict(pc1_x_test)\n",
        "\n",
        "time_pc1.append(time.time() - start_time)"
      ]
    },
    {
      "cell_type": "code",
      "execution_count": 56,
      "metadata": {
        "colab": {
          "base_uri": "https://localhost:8080/",
          "height": 0
        },
        "id": "mgRh8SVXebB-",
        "outputId": "362fd20c-8adf-4f5d-be2a-08b248b6dd99"
      },
      "outputs": [
        {
          "output_type": "stream",
          "name": "stdout",
          "text": [
            "\n",
            "pc1 :  acc ( 0.840841 ) , f1 (0.184615) , auc (0.568366), pre (0.146341), recall(0.250000)\n",
            "\n"
          ]
        }
      ],
      "source": [
        "acc = metrics.accuracy_score(pc1_y_test, pc1_y_pred)\n",
        "f1  = metrics.f1_score(pc1_y_test, pc1_y_pred)\n",
        "auc = metrics.roc_auc_score(pc1_y_test, pc1_y_pred)\n",
        "pre = metrics.precision_score(pc1_y_test, pc1_y_pred)\n",
        "recall = metrics.recall_score(pc1_y_test, pc1_y_pred)\n",
        "print (\"\\npc1 :  acc ( %f ) , f1 (%f) , auc (%f), pre (%f), recall(%f)\\n\"% (acc, f1 , auc, pre, recall))\n",
        "\n",
        "accuracy_pc1.append(acc)\n",
        "pre_pc1.append(pre)\n",
        "auc_pc1.append(auc)\n",
        "recall_pc1.append(recall)\n",
        "f1_pc1.append(f1)"
      ]
    },
    {
      "cell_type": "markdown",
      "metadata": {
        "id": "F8MIFyw1CIDl"
      },
      "source": [
        "## **2) SVM + With FS(GA)**"
      ]
    },
    {
      "cell_type": "code",
      "execution_count": 57,
      "metadata": {
        "id": "9j-lL13A-yvv"
      },
      "outputs": [],
      "source": [
        "#train & testing models  [SVM]\n",
        "start_time = time.time()\n",
        "\n",
        "clf_jm1_ga = svm.SVC(kernel='rbf')#, C = 0.1)\n",
        "clf_jm1_ga.fit(jm1_ga_x_train, y_jm1)\n",
        "jm1_ga_y_pred = clf_jm1_ga.predict(jm1_ga_x_test)\n",
        "\n",
        "time_jm1.append(time.time() - start_time)\n",
        "\n",
        "#--------------------------------------------\n",
        "start_time = time.time()\n",
        "\n",
        "clf_cm1_ga = svm.SVC(kernel='rbf')#, C = 0.1)\n",
        "clf_cm1_ga.fit(cm1_ga_x_train, y_cm1)\n",
        "cm1_ga_y_pred = clf_cm1_ga.predict(cm1_ga_x_test)\n",
        "\n",
        "time_cm1.append(time.time() - start_time)\n",
        "#--------------------------------------------\n",
        "start_time = time.time()\n",
        "\n",
        "clf_kc1_ga = svm.SVC(kernel='rbf')#, C = 0.1)\n",
        "clf_kc1_ga.fit(kc1_ga_x_train, y_kc1)\n",
        "kc1_ga_y_pred = clf_kc1_ga.predict(kc1_ga_x_test)\n",
        "\n",
        "time_kc1.append(time.time() - start_time)\n",
        "#--------------------------------------------\n",
        "start_time = time.time()\n",
        "\n",
        "clf_kc2_ga = svm.SVC(kernel='rbf')#, C = 0.1)\n",
        "clf_kc2_ga.fit(kc2_ga_x_train, y_kc2)\n",
        "kc2_ga_y_pred = clf_kc2_ga.predict(kc2_ga_x_test)\n",
        "\n",
        "time_kc2.append(time.time() - start_time)\n",
        "#--------------------------------------------\n",
        "start_time = time.time()\n",
        "\n",
        "clf_pc1_ga = svm.SVC(kernel='rbf')#, C = 0.1)\n",
        "clf_pc1_ga.fit(pc1_ga_x_train, y_pc1)\n",
        "pc1_ga_y_pred = clf_pc1_ga.predict(pc1_ga_x_test)\n",
        "\n",
        "time_pc1.append(time.time() - start_time)"
      ]
    },
    {
      "cell_type": "code",
      "execution_count": 58,
      "metadata": {
        "colab": {
          "base_uri": "https://localhost:8080/",
          "height": 0
        },
        "id": "NEqGSpUIFstJ",
        "outputId": "e67305dc-c55c-497f-d4a1-c07db9307e05"
      },
      "outputs": [
        {
          "output_type": "stream",
          "name": "stdout",
          "text": [
            "cm1 :  acc ( 0.686667 ) , f1 (0.229508) , auc (0.639493), pre (0.142857), recall(0.583333)\n"
          ]
        }
      ],
      "source": [
        "acc = metrics.accuracy_score(cm1_y_test, cm1_ga_y_pred)\n",
        "f1  = metrics.f1_score(cm1_y_test, cm1_ga_y_pred)\n",
        "auc = metrics.roc_auc_score(cm1_y_test, cm1_ga_y_pred)\n",
        "pre = metrics.precision_score(cm1_y_test, cm1_ga_y_pred)\n",
        "recall = metrics.recall_score(cm1_y_test, cm1_ga_y_pred)\n",
        "print (\"cm1 :  acc ( %f ) , f1 (%f) , auc (%f), pre (%f), recall(%f)\"% (acc, f1 , auc, pre, recall))\n",
        "\n",
        "accuracy_cm1.append(acc)\n",
        "pre_cm1.append(pre)\n",
        "auc_cm1.append(auc)\n",
        "recall_cm1.append(recall)\n",
        "f1_cm1.append(f1)"
      ]
    },
    {
      "cell_type": "code",
      "execution_count": 59,
      "metadata": {
        "colab": {
          "base_uri": "https://localhost:8080/",
          "height": 0
        },
        "id": "paJi7ff0rlqz",
        "outputId": "a0c25a89-7345-49c4-a9e5-a4461facf4ea"
      },
      "outputs": [
        {
          "output_type": "stream",
          "name": "stdout",
          "text": [
            "\n",
            "jm1 :  acc ( 0.710478 ) , f1 (0.429692) , auc (0.647954), pre (0.355289), recall(0.543511)\n"
          ]
        }
      ],
      "source": [
        "acc = metrics.accuracy_score(jm1_y_test, jm1_ga_y_pred)\n",
        "f1  = metrics.f1_score(jm1_y_test, jm1_ga_y_pred)\n",
        "auc = metrics.roc_auc_score(jm1_y_test, jm1_ga_y_pred)\n",
        "pre = metrics.precision_score(jm1_y_test, jm1_ga_y_pred)\n",
        "recall = metrics.recall_score(jm1_y_test, jm1_ga_y_pred)\n",
        "print (\"\\njm1 :  acc ( %f ) , f1 (%f) , auc (%f), pre (%f), recall(%f)\"% (acc, f1 , auc, pre, recall))\n",
        "\n",
        "accuracy_jm1.append(acc)\n",
        "pre_jm1.append(pre)\n",
        "auc_jm1.append(auc)\n",
        "recall_jm1.append(recall)\n",
        "f1_jm1.append(f1)"
      ]
    },
    {
      "cell_type": "code",
      "execution_count": 60,
      "metadata": {
        "colab": {
          "base_uri": "https://localhost:8080/",
          "height": 0
        },
        "id": "20ydL23ornuc",
        "outputId": "a33424f2-84b6-4cb5-98a5-4f845ee0785e"
      },
      "outputs": [
        {
          "output_type": "stream",
          "name": "stdout",
          "text": [
            "\n",
            "kc1 :  acc ( 0.791469 ) , f1 (0.488372) , auc (0.703324), pre (0.428571), recall(0.567568)\n"
          ]
        }
      ],
      "source": [
        "acc = metrics.accuracy_score(kc1_y_test, kc1_ga_y_pred)\n",
        "f1  = metrics.f1_score(kc1_y_test, kc1_ga_y_pred)\n",
        "auc = metrics.roc_auc_score(kc1_y_test, kc1_ga_y_pred)\n",
        "pre = metrics.precision_score(kc1_y_test, kc1_ga_y_pred)\n",
        "recall = metrics.recall_score(kc1_y_test, kc1_ga_y_pred)\n",
        "print (\"\\nkc1 :  acc ( %f ) , f1 (%f) , auc (%f), pre (%f), recall(%f)\"% (acc, f1 , auc, pre, recall))\n",
        "\n",
        "accuracy_kc1.append(acc)\n",
        "pre_kc1.append(pre)\n",
        "auc_kc1.append(auc)\n",
        "recall_kc1.append(recall)\n",
        "f1_kc1.append(f1)"
      ]
    },
    {
      "cell_type": "code",
      "execution_count": 61,
      "metadata": {
        "colab": {
          "base_uri": "https://localhost:8080/",
          "height": 0
        },
        "id": "ut2zrOi6rpdc",
        "outputId": "6e96c64a-13eb-47b6-d8da-a0a70ce059cb"
      },
      "outputs": [
        {
          "output_type": "stream",
          "name": "stdout",
          "text": [
            "\n",
            "kc2 :  acc ( 0.808917 ) , f1 (0.583333) , auc (0.725450), pre (0.600000), recall(0.567568)\n"
          ]
        }
      ],
      "source": [
        "acc = metrics.accuracy_score(kc2_y_test, kc2_ga_y_pred)\n",
        "f1  = metrics.f1_score(kc2_y_test, kc2_ga_y_pred)\n",
        "auc = metrics.roc_auc_score(kc2_y_test, kc2_ga_y_pred)\n",
        "pre = metrics.precision_score(kc2_y_test, kc2_ga_y_pred)\n",
        "recall = metrics.recall_score(kc2_y_test, kc2_ga_y_pred)\n",
        "print (\"\\nkc2 :  acc ( %f ) , f1 (%f) , auc (%f), pre (%f), recall(%f)\"% (acc, f1 , auc, pre, recall))\n",
        "\n",
        "accuracy_kc2.append(acc)\n",
        "pre_kc2.append(pre)\n",
        "auc_kc2.append(auc)\n",
        "recall_kc2.append(recall)\n",
        "f1_kc2.append(f1)"
      ]
    },
    {
      "cell_type": "code",
      "execution_count": 62,
      "metadata": {
        "colab": {
          "base_uri": "https://localhost:8080/",
          "height": 0
        },
        "id": "NVlHvL3YrrLB",
        "outputId": "5ae25962-1d1e-45e7-d890-c0cdef4c29b2"
      },
      "outputs": [
        {
          "output_type": "stream",
          "name": "stdout",
          "text": [
            "\n",
            "pc1 :  acc ( 0.750751 ) , f1 (0.325203) , auc (0.788835), pre (0.202020), recall(0.833333)\n",
            "\n"
          ]
        }
      ],
      "source": [
        "acc = metrics.accuracy_score(pc1_y_test, pc1_ga_y_pred)\n",
        "f1  = metrics.f1_score(pc1_y_test, pc1_ga_y_pred)\n",
        "auc = metrics.roc_auc_score(pc1_y_test, pc1_ga_y_pred)\n",
        "pre = metrics.precision_score(pc1_y_test, pc1_ga_y_pred)\n",
        "recall = metrics.recall_score(pc1_y_test, pc1_ga_y_pred)\n",
        "print (\"\\npc1 :  acc ( %f ) , f1 (%f) , auc (%f), pre (%f), recall(%f)\\n\"% (acc, f1 , auc, pre, recall))\n",
        "\n",
        "accuracy_pc1.append(acc)\n",
        "pre_pc1.append(pre)\n",
        "auc_pc1.append(auc)\n",
        "recall_pc1.append(recall)\n",
        "f1_pc1.append(f1)"
      ]
    },
    {
      "cell_type": "markdown",
      "metadata": {
        "id": "3_O2qMmh6VpL"
      },
      "source": [
        "## **3) SVM + With FS(MVO)**"
      ]
    },
    {
      "cell_type": "code",
      "execution_count": 63,
      "metadata": {
        "colab": {
          "base_uri": "https://localhost:8080/",
          "height": 0
        },
        "id": "D97isaXt6YG0",
        "outputId": "d1b1afca-abbe-4b8e-e5b8-d5be64b28922"
      },
      "outputs": [
        {
          "output_type": "stream",
          "name": "stdout",
          "text": [
            "\n",
            "jm1 :  acc ( 0.773897 ) , f1 (0.311567) , auc (0.579570), pre (0.400480), recall(0.254962)\n"
          ]
        }
      ],
      "source": [
        "#train & testing models  [SVM]\n",
        "\n",
        "start_time = time.time()\n",
        "\n",
        "clf_jm1_mvo = svm.SVC(kernel='rbf')\n",
        "clf_jm1_mvo.fit(jm1_mvo_x_train, y_jm1)\n",
        "jm1_mvo_y_pred = clf_jm1_mvo.predict(jm1_mvo_x_test)\n",
        "\n",
        "#time\n",
        "time_jm1.append(time.time() - start_time)\n",
        "\n",
        "\n",
        "acc = metrics.accuracy_score(jm1_y_test, jm1_mvo_y_pred)\n",
        "f1  = metrics.f1_score(jm1_y_test, jm1_mvo_y_pred)\n",
        "auc = metrics.roc_auc_score(jm1_y_test, jm1_mvo_y_pred)\n",
        "pre = metrics.precision_score(jm1_y_test, jm1_mvo_y_pred)\n",
        "recall = metrics.recall_score(jm1_y_test, jm1_mvo_y_pred)\n",
        "print (\"\\njm1 :  acc ( %f ) , f1 (%f) , auc (%f), pre (%f), recall(%f)\"% (acc, f1, auc, pre, recall))\n",
        "\n",
        "accuracy_jm1.append(acc)\n",
        "pre_jm1.append(pre)\n",
        "auc_jm1.append(auc)\n",
        "recall_jm1.append(recall)\n",
        "f1_jm1.append(f1)"
      ]
    },
    {
      "cell_type": "code",
      "execution_count": 64,
      "metadata": {
        "colab": {
          "base_uri": "https://localhost:8080/",
          "height": 0
        },
        "id": "qtn-igr9808v",
        "outputId": "65964db1-ea23-4814-fec3-cfb91d0c98c9"
      },
      "outputs": [
        {
          "output_type": "stream",
          "name": "stdout",
          "text": [
            "cm1 :  acc ( 0.806667 ) , f1 (0.292683) , auc (0.666667), pre (0.206897), recall(0.500000)\n"
          ]
        }
      ],
      "source": [
        "start_time = time.time()\n",
        "\n",
        "clf_cm1_mvo = svm.SVC(kernel='rbf')#, C = 0.1)\n",
        "clf_cm1_mvo.fit(cm1_mvo_x_train, y_cm1)\n",
        "cm1_mvo_y_pred = clf_cm1_mvo.predict(cm1_mvo_x_test)\n",
        "\n",
        "time_cm1.append(time.time() - start_time)\n",
        "\n",
        "acc = metrics.accuracy_score(cm1_y_test, cm1_mvo_y_pred)\n",
        "f1 = metrics.f1_score(cm1_y_test, cm1_mvo_y_pred)\n",
        "auc = metrics.roc_auc_score(cm1_y_test, cm1_mvo_y_pred)\n",
        "pre = metrics.precision_score(cm1_y_test, cm1_mvo_y_pred)\n",
        "recall = metrics.recall_score(cm1_y_test, cm1_mvo_y_pred)\n",
        "print (\"cm1 :  acc ( %f ) , f1 (%f) , auc (%f), pre (%f), recall(%f)\"% (acc, f1 , auc, pre, recall))\n",
        "\n",
        "accuracy_cm1.append(acc)\n",
        "pre_cm1.append(pre)\n",
        "auc_cm1.append(auc)\n",
        "recall_cm1.append(recall)\n",
        "f1_cm1.append(f1)"
      ]
    },
    {
      "cell_type": "code",
      "execution_count": 65,
      "metadata": {
        "colab": {
          "base_uri": "https://localhost:8080/",
          "height": 0
        },
        "id": "gfbc18rxQjiG",
        "outputId": "1751f1af-7420-41a3-cc09-0e0fc747a3a5"
      },
      "outputs": [
        {
          "output_type": "stream",
          "name": "stdout",
          "text": [
            "\n",
            "kc1 :  acc ( 0.791469 ) , f1 (0.488372) , auc (0.703324), pre (0.428571), recall(0.567568)\n"
          ]
        }
      ],
      "source": [
        "start_time = time.time()\n",
        "\n",
        "clf_kc1_mvo = svm.SVC(kernel='rbf')#, C = 0.1)\n",
        "clf_kc1_mvo.fit(kc1_mvo_x_train, y_kc1)\n",
        "kc1_mvo_y_pred = clf_kc1_mvo.predict(kc1_mvo_x_test)\n",
        "\n",
        "time_kc1.append(time.time() - start_time)\n",
        "\n",
        "acc = metrics.accuracy_score(kc1_y_test, kc1_mvo_y_pred)\n",
        "f1 = metrics.f1_score(kc1_y_test, kc1_mvo_y_pred)\n",
        "auc = metrics.roc_auc_score(kc1_y_test, kc1_mvo_y_pred)\n",
        "pre = metrics.precision_score(kc1_y_test, kc1_mvo_y_pred)\n",
        "recall = metrics.recall_score(kc1_y_test, kc1_mvo_y_pred)\n",
        "print (\"\\nkc1 :  acc ( %f ) , f1 (%f) , auc (%f), pre (%f), recall(%f)\"% (acc, f1 , auc, pre, recall))\n",
        "\n",
        "accuracy_kc1.append(acc)\n",
        "pre_kc1.append(pre)\n",
        "auc_kc1.append(auc)\n",
        "recall_kc1.append(recall)\n",
        "f1_kc1.append(f1)\n"
      ]
    },
    {
      "cell_type": "code",
      "execution_count": 66,
      "metadata": {
        "colab": {
          "base_uri": "https://localhost:8080/",
          "height": 0
        },
        "id": "NavdTP54Qj20",
        "outputId": "c3f27fc4-66fb-4fb6-eaa3-2f621cac168c"
      },
      "outputs": [
        {
          "output_type": "stream",
          "name": "stdout",
          "text": [
            "\n",
            "kc2 :  acc ( 0.802548 ) , f1 (0.563380) , auc (0.711937), pre (0.588235), recall(0.540541)\n"
          ]
        }
      ],
      "source": [
        "start_time = time.time()\n",
        "\n",
        "clf_kc2_mvo = svm.SVC(kernel='rbf')#, C = 0.1)\n",
        "clf_kc2_mvo.fit(kc2_mvo_x_train, y_kc2)\n",
        "kc2_mvo_y_pred = clf_kc2_mvo.predict(kc2_mvo_x_test)\n",
        "\n",
        "time_kc2.append(time.time() - start_time)\n",
        "\n",
        "acc = metrics.accuracy_score(kc2_y_test, kc2_mvo_y_pred)\n",
        "f1  = metrics.f1_score(kc2_y_test, kc2_mvo_y_pred)\n",
        "auc = metrics.roc_auc_score(kc2_y_test, kc2_mvo_y_pred)\n",
        "pre = metrics.precision_score(kc2_y_test, kc2_mvo_y_pred)\n",
        "recall = metrics.recall_score(kc2_y_test, kc2_mvo_y_pred)\n",
        "print (\"\\nkc2 :  acc ( %f ) , f1 (%f) , auc (%f), pre (%f), recall(%f)\"% (acc, f1 , auc, pre, recall))\n",
        "\n",
        "accuracy_kc2.append(acc)\n",
        "pre_kc2.append(pre)\n",
        "auc_kc2.append(auc)\n",
        "recall_kc2.append(recall)\n",
        "f1_kc2.append(f1)"
      ]
    },
    {
      "cell_type": "code",
      "execution_count": 67,
      "metadata": {
        "colab": {
          "base_uri": "https://localhost:8080/",
          "height": 0
        },
        "id": "NmjdUMoTT-rh",
        "outputId": "56869682-d9f3-4bd1-cff7-50008fb62c51"
      },
      "outputs": [
        {
          "output_type": "stream",
          "name": "stdout",
          "text": [
            "\n",
            "pc1 :  acc ( 0.840841 ) , f1 (0.184615) , auc (0.568366), pre (0.146341), recall(0.250000)\n",
            "\n"
          ]
        }
      ],
      "source": [
        "start_time = time.time()\n",
        "\n",
        "clf_pc1_mvo = svm.SVC(kernel='rbf')\n",
        "clf_pc1_mvo.fit(pc1_mvo_x_train, y_pc1)\n",
        "pc1_mvo_y_pred = clf_pc1_mvo.predict(pc1_mvo_x_test)\n",
        "\n",
        "time_pc1.append(time.time() - start_time)\n",
        "\n",
        "acc = metrics.accuracy_score(pc1_y_test, pc1_mvo_y_pred)\n",
        "f1  = metrics.f1_score(pc1_y_test, pc1_mvo_y_pred)\n",
        "auc = metrics.roc_auc_score(pc1_y_test, pc1_mvo_y_pred)\n",
        "pre = metrics.precision_score(pc1_y_test, pc1_mvo_y_pred)\n",
        "recall = metrics.recall_score(pc1_y_test, pc1_mvo_y_pred)\n",
        "print (\"\\npc1 :  acc ( %f ) , f1 (%f) , auc (%f), pre (%f), recall(%f)\\n\"% (acc, f1 , auc, pre, recall))\n",
        "\n",
        "accuracy_pc1.append(acc)\n",
        "pre_pc1.append(pre)\n",
        "auc_pc1.append(auc)\n",
        "recall_pc1.append(recall)\n",
        "f1_pc1.append(f1)\n"
      ]
    },
    {
      "cell_type": "markdown",
      "metadata": {
        "id": "UhNx_apvtkJD"
      },
      "source": [
        "# **SVM Model Comparisons**"
      ]
    },
    {
      "cell_type": "markdown",
      "metadata": {
        "id": "Qmzq68hTUo96"
      },
      "source": [
        "## 1) jm1 Dataset"
      ]
    },
    {
      "cell_type": "code",
      "execution_count": 150,
      "metadata": {
        "colab": {
          "base_uri": "https://localhost:8080/",
          "height": 519
        },
        "id": "UZBMTD_7MuaX",
        "outputId": "294b3e45-2187-4ebc-802c-12665cf87110"
      },
      "outputs": [
        {
          "output_type": "stream",
          "name": "stdout",
          "text": [
            "[0 1 2]\n"
          ]
        },
        {
          "output_type": "execute_result",
          "data": {
            "text/plain": [
              "<matplotlib.legend.Legend at 0x7eda0af6a020>"
            ]
          },
          "metadata": {},
          "execution_count": 150
        },
        {
          "output_type": "display_data",
          "data": {
            "text/plain": [
              "<Figure size 640x480 with 1 Axes>"
            ],
            "image/png": "[encoded data removed]"
          },
          "metadata": {}
        }
      ],
      "source": [
        "from pylab import *\n",
        "\n",
        "#data to plot\n",
        "n_groups = 3 # without features, with GA, with MVO\n",
        "\n",
        "#create plot\n",
        "fig, ax = subplots()\n",
        "index = arange(n_groups)\n",
        "print(index)\n",
        "bar_width = 0.1\n",
        "opacity = 0.7\n",
        "\n",
        "\n",
        "rects1 = bar(index, accuracy_jm1, bar_width, alpha = opacity, color = 'orange', label = 'Accuracy')\n",
        "rects2 = bar(index+bar_width, auc_jm1, bar_width, alpha = opacity, color = 'blue', label = 'ROC Area')\n",
        "rects3 = bar(index+bar_width*2, recall_jm1, bar_width, alpha = opacity, color = 'yellow', label = 'Recall')\n",
        "rects4 = bar(index+bar_width*3, f1_jm1, bar_width, alpha = opacity, color = 'green', label = 'F-measure')\n",
        "rects5 = bar(index+bar_width*4, pre_jm1, bar_width, alpha = opacity, color = 'grey', label = 'Precision')\n",
        "\n",
        "\n",
        "xticks(index+bar_width, ('SVM', 'SVM+GA', 'SVM+MVO'))\n",
        "legend()\n",
        "legend(loc =\"center right\", bbox_to_anchor=(1.1, 1.0))"
      ]
    },
    {
      "cell_type": "markdown",
      "metadata": {
        "id": "BE3HBNKGjDZh"
      },
      "source": [
        "## 2) cm1 Dataset"
      ]
    },
    {
      "cell_type": "code",
      "execution_count": 149,
      "metadata": {
        "colab": {
          "base_uri": "https://localhost:8080/",
          "height": 519
        },
        "id": "i3VwHm8IjAZv",
        "outputId": "4712c252-5127-4960-bff2-8520cb35e146"
      },
      "outputs": [
        {
          "output_type": "stream",
          "name": "stdout",
          "text": [
            "[0 1 2]\n"
          ]
        },
        {
          "output_type": "execute_result",
          "data": {
            "text/plain": [
              "<matplotlib.legend.Legend at 0x7eda0ab830d0>"
            ]
          },
          "metadata": {},
          "execution_count": 149
        },
        {
          "output_type": "display_data",
          "data": {
            "text/plain": [
              "<Figure size 640x480 with 1 Axes>"
            ],
            "image/png": "[encoded data removed]"
          },
          "metadata": {}
        }
      ],
      "source": [
        "from pylab import *\n",
        "\n",
        "#data to plot\n",
        "n_groups = 3 # without features, with GA, with MVO\n",
        "\n",
        "#create plot\n",
        "fig, ax = subplots()\n",
        "index = arange(n_groups)\n",
        "print(index)\n",
        "bar_width = 0.10\n",
        "opacity = 0.7\n",
        "\n",
        "\n",
        "rects1 = bar(index, accuracy_cm1, bar_width, alpha = opacity, color = 'orange', label = 'Accuracy')\n",
        "rects2 = bar(index+bar_width, auc_cm1, bar_width, alpha = opacity, color = 'blue', label = 'ROC Area')\n",
        "rects3 = bar(index+bar_width*2, recall_cm1, bar_width, alpha = opacity, color = 'yellow', label = 'Recall')\n",
        "rects4 = bar(index+bar_width*3, f1_cm1, bar_width, alpha = opacity, color = 'green', label = 'F-measure')\n",
        "rects5 = bar(index+bar_width*4, pre_cm1, bar_width, alpha = opacity, color = 'grey', label = 'Precision')\n",
        "\n",
        "\n",
        "xticks(index+bar_width, ('SVM', 'SVM+GA', 'SVM+MVO'))\n",
        "legend(loc =\"center right\", bbox_to_anchor=(1.1, 1.0))"
      ]
    },
    {
      "cell_type": "markdown",
      "metadata": {
        "id": "x5awVlYajwoi"
      },
      "source": [
        "## 3) kc1 Dataset"
      ]
    },
    {
      "cell_type": "code",
      "execution_count": 151,
      "metadata": {
        "colab": {
          "base_uri": "https://localhost:8080/",
          "height": 519
        },
        "id": "6qYvJ-vWjwo3",
        "outputId": "dde56e54-b06d-444d-9677-83bb7d7cb8c5"
      },
      "outputs": [
        {
          "output_type": "stream",
          "name": "stdout",
          "text": [
            "[0 1 2]\n"
          ]
        },
        {
          "output_type": "execute_result",
          "data": {
            "text/plain": [
              "<matplotlib.legend.Legend at 0x7eda0b3177f0>"
            ]
          },
          "metadata": {},
          "execution_count": 151
        },
        {
          "output_type": "display_data",
          "data": {
            "text/plain": [
              "<Figure size 640x480 with 1 Axes>"
            ],
            "image/png": "[encoded data removed]"
          },
          "metadata": {}
        }
      ],
      "source": [
        "from pylab import *\n",
        "\n",
        "#data to plot\n",
        "n_groups = 3 # without features, with GA, with MVO\n",
        "\n",
        "#create plot\n",
        "fig, ax = subplots()\n",
        "index = arange(n_groups)\n",
        "print(index)\n",
        "bar_width = 0.10\n",
        "opacity = 0.7\n",
        "\n",
        "\n",
        "rects1 = bar(index, accuracy_kc1, bar_width, alpha = opacity, color = 'orange', label = 'Accuracy')\n",
        "rects2 = bar(index+bar_width, auc_kc1, bar_width, alpha = opacity, color = 'blue', label = 'ROC Area')\n",
        "rects3 = bar(index+bar_width*2, recall_kc1, bar_width, alpha = opacity, color = 'yellow', label = 'Recall')\n",
        "rects4 = bar(index+bar_width*3, f1_kc1, bar_width, alpha = opacity, color = 'green', label = 'F-measure')\n",
        "rects5 = bar(index+bar_width*4, pre_kc1, bar_width, alpha = opacity, color = 'grey', label = 'Precision')\n",
        "\n",
        "\n",
        "xticks(index+bar_width, ('SVM', 'SVM+GA', 'SVM+MVO'))\n",
        "legend()\n",
        "legend(loc =\"center right\", bbox_to_anchor=(1.1, 1.0))"
      ]
    },
    {
      "cell_type": "markdown",
      "metadata": {
        "id": "MxV7CSwgjxfa"
      },
      "source": [
        "## 4) kc2 Dataset"
      ]
    },
    {
      "cell_type": "code",
      "execution_count": 152,
      "metadata": {
        "colab": {
          "base_uri": "https://localhost:8080/",
          "height": 519
        },
        "id": "Q0-UOxgZjxfb",
        "outputId": "6271854e-bd01-455d-9066-d5491142a1ed"
      },
      "outputs": [
        {
          "output_type": "stream",
          "name": "stdout",
          "text": [
            "[0 1 2]\n"
          ]
        },
        {
          "output_type": "execute_result",
          "data": {
            "text/plain": [
              "<matplotlib.legend.Legend at 0x7eda0b789000>"
            ]
          },
          "metadata": {},
          "execution_count": 152
        },
        {
          "output_type": "display_data",
          "data": {
            "text/plain": [
              "<Figure size 640x480 with 1 Axes>"
            ],
            "image/png": "[encoded data removed]"
          },
          "metadata": {}
        }
      ],
      "source": [
        "from pylab import *\n",
        "\n",
        "#data to plot\n",
        "n_groups =  3 # without features, with GA, with MVO\n",
        "\n",
        "#create plot\n",
        "fig, ax = subplots()\n",
        "index = arange(n_groups)\n",
        "print(index)\n",
        "bar_width = 0.10\n",
        "opacity = 0.7\n",
        "\n",
        "\n",
        "rects1 = bar(index, accuracy_kc2, bar_width, alpha = opacity, color = 'orange', label = 'Accuracy')\n",
        "rects2 = bar(index+bar_width, auc_kc2, bar_width, alpha = opacity, color = 'blue', label = 'ROC Area')\n",
        "rects3 = bar(index+bar_width*2, recall_kc2, bar_width, alpha = opacity, color = 'yellow', label = 'Recall')\n",
        "rects4 = bar(index+bar_width*3, f1_kc2, bar_width, alpha = opacity, color = 'green', label = 'F-measure')\n",
        "rects5 = bar(index+bar_width*4, pre_kc2, bar_width, alpha = opacity, color = 'grey', label = 'Precision')\n",
        "\n",
        "\n",
        "xticks(index+bar_width, ('SVM','SVM+GA','SVM+MVO'))\n",
        "legend()\n",
        "legend(loc =\"center right\", bbox_to_anchor=(1.1, 1.0))"
      ]
    },
    {
      "cell_type": "markdown",
      "metadata": {
        "id": "-QBPfUDbjyAZ"
      },
      "source": [
        "## 5) pc1 Dataset"
      ]
    },
    {
      "cell_type": "code",
      "execution_count": 153,
      "metadata": {
        "colab": {
          "base_uri": "https://localhost:8080/",
          "height": 519
        },
        "id": "NRPEbEwhjyAZ",
        "outputId": "0d807e56-eacc-42bd-8de5-b3d55e5f77ea"
      },
      "outputs": [
        {
          "output_type": "stream",
          "name": "stdout",
          "text": [
            "[0 1 2]\n"
          ]
        },
        {
          "output_type": "execute_result",
          "data": {
            "text/plain": [
              "<matplotlib.legend.Legend at 0x7eda0b11b610>"
            ]
          },
          "metadata": {},
          "execution_count": 153
        },
        {
          "output_type": "display_data",
          "data": {
            "text/plain": [
              "<Figure size 640x480 with 1 Axes>"
            ],
            "image/png": "[encoded data removed]"
          },
          "metadata": {}
        }
      ],
      "source": [
        "from pylab import *\n",
        "\n",
        "#data to plot\n",
        "n_groups = 3 # without features, with GA, with MVO\n",
        "\n",
        "#create plot\n",
        "fig, ax = subplots()\n",
        "index = arange(n_groups)\n",
        "print(index)\n",
        "bar_width = 0.10\n",
        "opacity = 0.7\n",
        "\n",
        "\n",
        "rects1 = bar(index, accuracy_pc1, bar_width, alpha = opacity, color = 'orange', label = 'Accuracy')\n",
        "rects2 = bar(index+bar_width, auc_pc1, bar_width, alpha = opacity, color = 'blue', label = 'ROC Area')\n",
        "rects3 = bar(index+bar_width*2, recall_pc1, bar_width, alpha = opacity, color = 'yellow', label = 'Recall')\n",
        "rects4 = bar(index+bar_width*3, f1_pc1, bar_width, alpha = opacity, color = 'green', label = 'F-measure')\n",
        "rects5 = bar(index+bar_width*4, pre_pc1, bar_width, alpha = opacity, color = 'grey', label = 'Precision')\n",
        "\n",
        "\n",
        "xticks(index+bar_width, ('SVM', 'SVM+GA', 'SVM+MVO'))\n",
        "legend()\n",
        "legend(loc =\"center right\", bbox_to_anchor=(1.1, 1.0))"
      ]
    },
    {
      "cell_type": "markdown",
      "source": [
        "## mesure time [svm models]"
      ],
      "metadata": {
        "id": "VZtaxmxY0IVL"
      }
    },
    {
      "cell_type": "code",
      "source": [
        "import matplotlib.pyplot as plt\n",
        "import seaborn as sns"
      ],
      "metadata": {
        "id": "Mb4p9BeV0jnp"
      },
      "execution_count": 175,
      "outputs": []
    },
    {
      "cell_type": "code",
      "source": [
        "model = 'SVM', 'SVM+GA', 'SVM+MVO'"
      ],
      "metadata": {
        "id": "21mrQqAR2yc2"
      },
      "execution_count": 176,
      "outputs": []
    },
    {
      "cell_type": "code",
      "source": [
        "plt.plot(model, time_jm1, marker ='s')\n",
        "plt.legend(['time (secs)'])\n",
        "plt.grid(True)"
      ],
      "metadata": {
        "colab": {
          "base_uri": "https://localhost:8080/",
          "height": 430
        },
        "id": "tR47boRC5e6W",
        "outputId": "97718902-4ba0-4bee-8d60-55524088b797"
      },
      "execution_count": 177,
      "outputs": [
        {
          "output_type": "display_data",
          "data": {
            "text/plain": [
              "<Figure size 640x480 with 1 Axes>"
            ],
            "image/png": "[encoded data removed]"
          },
          "metadata": {}
        }
      ]
    },
    {
      "cell_type": "code",
      "source": [
        "plt.plot(model, time_cm1, marker ='s')\n",
        "plt.legend(['time (secs)'])\n",
        "plt.grid(True)"
      ],
      "metadata": {
        "colab": {
          "base_uri": "https://localhost:8080/",
          "height": 430
        },
        "id": "AfAY__X_8Hs4",
        "outputId": "a33ece6e-3e0b-4b11-9187-257c0e9963f6"
      },
      "execution_count": 178,
      "outputs": [
        {
          "output_type": "display_data",
          "data": {
            "text/plain": [
              "<Figure size 640x480 with 1 Axes>"
            ],
            "image/png": "[encoded data removed]"
          },
          "metadata": {}
        }
      ]
    },
    {
      "cell_type": "code",
      "source": [
        "plt.plot(model, time_kc1, marker ='s')\n",
        "plt.legend(['time (secs)'])\n",
        "plt.grid(True)"
      ],
      "metadata": {
        "colab": {
          "base_uri": "https://localhost:8080/",
          "height": 430
        },
        "id": "dbfBN0MY8KGu",
        "outputId": "2078f55b-b40c-4c4d-f489-6ae45ea89159"
      },
      "execution_count": 179,
      "outputs": [
        {
          "output_type": "display_data",
          "data": {
            "text/plain": [
              "<Figure size 640x480 with 1 Axes>"
            ],
            "image/png": "[encoded data removed]"
          },
          "metadata": {}
        }
      ]
    },
    {
      "cell_type": "code",
      "source": [
        "plt.plot(model, time_kc2, marker ='s')\n",
        "plt.legend(['time (secs)'])\n",
        "plt.grid(True)"
      ],
      "metadata": {
        "colab": {
          "base_uri": "https://localhost:8080/",
          "height": 430
        },
        "id": "NmKTuB278Kco",
        "outputId": "4dca6eac-1d1d-4e4e-f25e-008d636a57b7"
      },
      "execution_count": 180,
      "outputs": [
        {
          "output_type": "display_data",
          "data": {
            "text/plain": [
              "<Figure size 640x480 with 1 Axes>"
            ],
            "image/png": "[encoded data removed]"
          },
          "metadata": {}
        }
      ]
    },
    {
      "cell_type": "code",
      "source": [
        "plt.plot(model, time_pc1, marker ='s')\n",
        "plt.legend(['time (secs)'])\n",
        "plt.grid(True)"
      ],
      "metadata": {
        "colab": {
          "base_uri": "https://localhost:8080/",
          "height": 430
        },
        "id": "lSHEQInuvLcF",
        "outputId": "55b7266a-fede-462b-e807-3cccd1ef83b5"
      },
      "execution_count": 181,
      "outputs": [
        {
          "output_type": "display_data",
          "data": {
            "text/plain": [
              "<Figure size 640x480 with 1 Axes>"
            ],
            "image/png": "[encoded data removed]"
          },
          "metadata": {}
        }
      ]
    },
    {
      "cell_type": "markdown",
      "metadata": {
        "id": "nTYHfF1VcbAI"
      },
      "source": [
        "# **RF: train, testing & evaluate**\n",
        "1. **without FS**\n",
        "2. **with FS(GA)**\n",
        "3. **with FS(MVO)**\n"
      ]
    },
    {
      "cell_type": "markdown",
      "metadata": {
        "id": "TgMyopduYG7A"
      },
      "source": [
        "## **1) RF without FS**"
      ]
    },
    {
      "cell_type": "code",
      "execution_count": 79,
      "metadata": {
        "id": "NytjUD9HMpt3"
      },
      "outputs": [],
      "source": [
        "p_grid = { 'n_estimators':[1000, 500, 800],\n",
        "          'max_features':['sqrt', 'log2'],\n",
        "           'max_depth':[4,6,8],\n",
        "           'criterion':['gini', 'entropy']\n",
        "           }\n",
        "\n",
        "est = RandomForestClassifier(n_jobs = 1)\n",
        "grid = GridSearchCV(estimator= est ,param_grid= p_grid , verbose = 2)\n",
        "grid2 = GridSearchCV(estimator= est ,param_grid= p_grid , verbose = 2)\n",
        "grid3 = GridSearchCV(estimator= est ,param_grid= p_grid , verbose = 2)\n",
        "grid4 = GridSearchCV(estimator= est ,param_grid= p_grid , verbose = 2)\n",
        "grid5 = GridSearchCV(estimator= est ,param_grid= p_grid , verbose = 2)"
      ]
    },
    {
      "cell_type": "code",
      "execution_count": 80,
      "metadata": {
        "colab": {
          "base_uri": "https://localhost:8080/",
          "height": 0
        },
        "id": "KZisEJWZzgCN",
        "outputId": "51a30190-1fad-4e66-9ec5-9f2ba3c6ec36"
      },
      "outputs": [
        {
          "output_type": "stream",
          "name": "stdout",
          "text": [
            "Fitting 5 folds for each of 36 candidates, totalling 180 fits\n",
            "[CV] END criterion=gini, max_depth=4, max_features=sqrt, n_estimators=1000; total time=   2.1s\n",
            "[CV] END criterion=gini, max_depth=4, max_features=sqrt, n_estimators=1000; total time=   2.1s\n",
            "[CV] END criterion=gini, max_depth=4, max_features=sqrt, n_estimators=1000; total time=   2.0s\n",
            "[CV] END criterion=gini, max_depth=4, max_features=sqrt, n_estimators=1000; total time=   2.0s\n",
            "[CV] END criterion=gini, max_depth=4, max_features=sqrt, n_estimators=1000; total time=   2.1s\n",
            "[CV] END criterion=gini, max_depth=4, max_features=sqrt, n_estimators=500; total time=   1.6s\n",
            "[CV] END criterion=gini, max_depth=4, max_features=sqrt, n_estimators=500; total time=   1.5s\n",
            "[CV] END criterion=gini, max_depth=4, max_features=sqrt, n_estimators=500; total time=   1.1s\n",
            "[CV] END criterion=gini, max_depth=4, max_features=sqrt, n_estimators=500; total time=   1.0s\n",
            "[CV] END criterion=gini, max_depth=4, max_features=sqrt, n_estimators=500; total time=   1.1s\n",
            "[CV] END criterion=gini, max_depth=4, max_features=sqrt, n_estimators=800; total time=   1.6s\n",
            "[CV] END criterion=gini, max_depth=4, max_features=sqrt, n_estimators=800; total time=   1.6s\n",
            "[CV] END criterion=gini, max_depth=4, max_features=sqrt, n_estimators=800; total time=   1.6s\n",
            "[CV] END criterion=gini, max_depth=4, max_features=sqrt, n_estimators=800; total time=   1.6s\n",
            "[CV] END criterion=gini, max_depth=4, max_features=sqrt, n_estimators=800; total time=   2.1s\n",
            "[CV] END criterion=gini, max_depth=4, max_features=log2, n_estimators=1000; total time=   2.7s\n",
            "[CV] END criterion=gini, max_depth=4, max_features=log2, n_estimators=1000; total time=   2.0s\n",
            "[CV] END criterion=gini, max_depth=4, max_features=log2, n_estimators=1000; total time=   2.0s\n",
            "[CV] END criterion=gini, max_depth=4, max_features=log2, n_estimators=1000; total time=   2.0s\n",
            "[CV] END criterion=gini, max_depth=4, max_features=log2, n_estimators=1000; total time=   2.0s\n",
            "[CV] END criterion=gini, max_depth=4, max_features=log2, n_estimators=500; total time=   1.0s\n",
            "[CV] END criterion=gini, max_depth=4, max_features=log2, n_estimators=500; total time=   1.3s\n",
            "[CV] END criterion=gini, max_depth=4, max_features=log2, n_estimators=500; total time=   1.5s\n",
            "[CV] END criterion=gini, max_depth=4, max_features=log2, n_estimators=500; total time=   1.4s\n",
            "[CV] END criterion=gini, max_depth=4, max_features=log2, n_estimators=500; total time=   1.0s\n",
            "[CV] END criterion=gini, max_depth=4, max_features=log2, n_estimators=800; total time=   1.6s\n",
            "[CV] END criterion=gini, max_depth=4, max_features=log2, n_estimators=800; total time=   1.6s\n",
            "[CV] END criterion=gini, max_depth=4, max_features=log2, n_estimators=800; total time=   1.6s\n",
            "[CV] END criterion=gini, max_depth=4, max_features=log2, n_estimators=800; total time=   1.6s\n",
            "[CV] END criterion=gini, max_depth=4, max_features=log2, n_estimators=800; total time=   1.6s\n",
            "[CV] END criterion=gini, max_depth=6, max_features=sqrt, n_estimators=1000; total time=   2.9s\n",
            "[CV] END criterion=gini, max_depth=6, max_features=sqrt, n_estimators=1000; total time=   2.7s\n",
            "[CV] END criterion=gini, max_depth=6, max_features=sqrt, n_estimators=1000; total time=   2.2s\n",
            "[CV] END criterion=gini, max_depth=6, max_features=sqrt, n_estimators=1000; total time=   2.2s\n",
            "[CV] END criterion=gini, max_depth=6, max_features=sqrt, n_estimators=1000; total time=   2.2s\n",
            "[CV] END criterion=gini, max_depth=6, max_features=sqrt, n_estimators=500; total time=   1.1s\n",
            "[CV] END criterion=gini, max_depth=6, max_features=sqrt, n_estimators=500; total time=   1.1s\n",
            "[CV] END criterion=gini, max_depth=6, max_features=sqrt, n_estimators=500; total time=   1.6s\n",
            "[CV] END criterion=gini, max_depth=6, max_features=sqrt, n_estimators=500; total time=   1.7s\n",
            "[CV] END criterion=gini, max_depth=6, max_features=sqrt, n_estimators=500; total time=   1.1s\n",
            "[CV] END criterion=gini, max_depth=6, max_features=sqrt, n_estimators=800; total time=   1.7s\n",
            "[CV] END criterion=gini, max_depth=6, max_features=sqrt, n_estimators=800; total time=   1.7s\n",
            "[CV] END criterion=gini, max_depth=6, max_features=sqrt, n_estimators=800; total time=   1.7s\n",
            "[CV] END criterion=gini, max_depth=6, max_features=sqrt, n_estimators=800; total time=   1.7s\n",
            "[CV] END criterion=gini, max_depth=6, max_features=sqrt, n_estimators=800; total time=   1.7s\n",
            "[CV] END criterion=gini, max_depth=6, max_features=log2, n_estimators=1000; total time=   3.0s\n",
            "[CV] END criterion=gini, max_depth=6, max_features=log2, n_estimators=1000; total time=   2.5s\n",
            "[CV] END criterion=gini, max_depth=6, max_features=log2, n_estimators=1000; total time=   2.1s\n",
            "[CV] END criterion=gini, max_depth=6, max_features=log2, n_estimators=1000; total time=   2.1s\n",
            "[CV] END criterion=gini, max_depth=6, max_features=log2, n_estimators=1000; total time=   2.2s\n",
            "[CV] END criterion=gini, max_depth=6, max_features=log2, n_estimators=500; total time=   1.1s\n",
            "[CV] END criterion=gini, max_depth=6, max_features=log2, n_estimators=500; total time=   1.2s\n",
            "[CV] END criterion=gini, max_depth=6, max_features=log2, n_estimators=500; total time=   1.7s\n",
            "[CV] END criterion=gini, max_depth=6, max_features=log2, n_estimators=500; total time=   1.7s\n",
            "[CV] END criterion=gini, max_depth=6, max_features=log2, n_estimators=500; total time=   1.1s\n",
            "[CV] END criterion=gini, max_depth=6, max_features=log2, n_estimators=800; total time=   1.7s\n",
            "[CV] END criterion=gini, max_depth=6, max_features=log2, n_estimators=800; total time=   1.7s\n",
            "[CV] END criterion=gini, max_depth=6, max_features=log2, n_estimators=800; total time=   1.7s\n",
            "[CV] END criterion=gini, max_depth=6, max_features=log2, n_estimators=800; total time=   1.7s\n",
            "[CV] END criterion=gini, max_depth=6, max_features=log2, n_estimators=800; total time=   1.8s\n",
            "[CV] END criterion=gini, max_depth=8, max_features=sqrt, n_estimators=1000; total time=   3.4s\n",
            "[CV] END criterion=gini, max_depth=8, max_features=sqrt, n_estimators=1000; total time=   2.3s\n",
            "[CV] END criterion=gini, max_depth=8, max_features=sqrt, n_estimators=1000; total time=   2.3s\n",
            "[CV] END criterion=gini, max_depth=8, max_features=sqrt, n_estimators=1000; total time=   2.3s\n",
            "[CV] END criterion=gini, max_depth=8, max_features=sqrt, n_estimators=1000; total time=   2.3s\n",
            "[CV] END criterion=gini, max_depth=8, max_features=sqrt, n_estimators=500; total time=   1.3s\n",
            "[CV] END criterion=gini, max_depth=8, max_features=sqrt, n_estimators=500; total time=   1.8s\n",
            "[CV] END criterion=gini, max_depth=8, max_features=sqrt, n_estimators=500; total time=   1.6s\n",
            "[CV] END criterion=gini, max_depth=8, max_features=sqrt, n_estimators=500; total time=   1.1s\n",
            "[CV] END criterion=gini, max_depth=8, max_features=sqrt, n_estimators=500; total time=   1.1s\n",
            "[CV] END criterion=gini, max_depth=8, max_features=sqrt, n_estimators=800; total time=   1.8s\n",
            "[CV] END criterion=gini, max_depth=8, max_features=sqrt, n_estimators=800; total time=   1.8s\n",
            "[CV] END criterion=gini, max_depth=8, max_features=sqrt, n_estimators=800; total time=   1.8s\n",
            "[CV] END criterion=gini, max_depth=8, max_features=sqrt, n_estimators=800; total time=   1.9s\n",
            "[CV] END criterion=gini, max_depth=8, max_features=sqrt, n_estimators=800; total time=   2.7s\n",
            "[CV] END criterion=gini, max_depth=8, max_features=log2, n_estimators=1000; total time=   2.7s\n",
            "[CV] END criterion=gini, max_depth=8, max_features=log2, n_estimators=1000; total time=   2.3s\n",
            "[CV] END criterion=gini, max_depth=8, max_features=log2, n_estimators=1000; total time=   2.3s\n",
            "[CV] END criterion=gini, max_depth=8, max_features=log2, n_estimators=1000; total time=   2.3s\n",
            "[CV] END criterion=gini, max_depth=8, max_features=log2, n_estimators=1000; total time=   2.7s\n",
            "[CV] END criterion=gini, max_depth=8, max_features=log2, n_estimators=500; total time=   1.7s\n",
            "[CV] END criterion=gini, max_depth=8, max_features=log2, n_estimators=500; total time=   1.3s\n",
            "[CV] END criterion=gini, max_depth=8, max_features=log2, n_estimators=500; total time=   1.1s\n",
            "[CV] END criterion=gini, max_depth=8, max_features=log2, n_estimators=500; total time=   1.1s\n",
            "[CV] END criterion=gini, max_depth=8, max_features=log2, n_estimators=500; total time=   1.1s\n",
            "[CV] END criterion=gini, max_depth=8, max_features=log2, n_estimators=800; total time=   1.8s\n",
            "[CV] END criterion=gini, max_depth=8, max_features=log2, n_estimators=800; total time=   1.8s\n",
            "[CV] END criterion=gini, max_depth=8, max_features=log2, n_estimators=800; total time=   1.9s\n",
            "[CV] END criterion=gini, max_depth=8, max_features=log2, n_estimators=800; total time=   2.7s\n",
            "[CV] END criterion=gini, max_depth=8, max_features=log2, n_estimators=800; total time=   2.2s\n",
            "[CV] END criterion=entropy, max_depth=4, max_features=sqrt, n_estimators=1000; total time=   2.1s\n",
            "[CV] END criterion=entropy, max_depth=4, max_features=sqrt, n_estimators=1000; total time=   2.1s\n",
            "[CV] END criterion=entropy, max_depth=4, max_features=sqrt, n_estimators=1000; total time=   2.1s\n",
            "[CV] END criterion=entropy, max_depth=4, max_features=sqrt, n_estimators=1000; total time=   2.2s\n",
            "[CV] END criterion=entropy, max_depth=4, max_features=sqrt, n_estimators=1000; total time=   3.2s\n",
            "[CV] END criterion=entropy, max_depth=4, max_features=sqrt, n_estimators=500; total time=   1.2s\n",
            "[CV] END criterion=entropy, max_depth=4, max_features=sqrt, n_estimators=500; total time=   1.1s\n",
            "[CV] END criterion=entropy, max_depth=4, max_features=sqrt, n_estimators=500; total time=   1.0s\n",
            "[CV] END criterion=entropy, max_depth=4, max_features=sqrt, n_estimators=500; total time=   1.3s\n",
            "[CV] END criterion=entropy, max_depth=4, max_features=sqrt, n_estimators=500; total time=   1.1s\n",
            "[CV] END criterion=entropy, max_depth=4, max_features=sqrt, n_estimators=800; total time=   1.8s\n",
            "[CV] END criterion=entropy, max_depth=4, max_features=sqrt, n_estimators=800; total time=   1.7s\n",
            "[CV] END criterion=entropy, max_depth=4, max_features=sqrt, n_estimators=800; total time=   1.9s\n",
            "[CV] END criterion=entropy, max_depth=4, max_features=sqrt, n_estimators=800; total time=   2.6s\n",
            "[CV] END criterion=entropy, max_depth=4, max_features=sqrt, n_estimators=800; total time=   1.8s\n",
            "[CV] END criterion=entropy, max_depth=4, max_features=log2, n_estimators=1000; total time=   2.3s\n",
            "[CV] END criterion=entropy, max_depth=4, max_features=log2, n_estimators=1000; total time=   2.2s\n",
            "[CV] END criterion=entropy, max_depth=4, max_features=log2, n_estimators=1000; total time=   2.1s\n",
            "[CV] END criterion=entropy, max_depth=4, max_features=log2, n_estimators=1000; total time=   2.3s\n",
            "[CV] END criterion=entropy, max_depth=4, max_features=log2, n_estimators=1000; total time=   3.2s\n",
            "[CV] END criterion=entropy, max_depth=4, max_features=log2, n_estimators=500; total time=   1.1s\n",
            "[CV] END criterion=entropy, max_depth=4, max_features=log2, n_estimators=500; total time=   1.1s\n",
            "[CV] END criterion=entropy, max_depth=4, max_features=log2, n_estimators=500; total time=   1.1s\n",
            "[CV] END criterion=entropy, max_depth=4, max_features=log2, n_estimators=500; total time=   1.1s\n",
            "[CV] END criterion=entropy, max_depth=4, max_features=log2, n_estimators=500; total time=   1.1s\n",
            "[CV] END criterion=entropy, max_depth=4, max_features=log2, n_estimators=800; total time=   1.7s\n",
            "[CV] END criterion=entropy, max_depth=4, max_features=log2, n_estimators=800; total time=   1.7s\n",
            "[CV] END criterion=entropy, max_depth=4, max_features=log2, n_estimators=800; total time=   2.1s\n",
            "[CV] END criterion=entropy, max_depth=4, max_features=log2, n_estimators=800; total time=   2.6s\n",
            "[CV] END criterion=entropy, max_depth=4, max_features=log2, n_estimators=800; total time=   1.7s\n",
            "[CV] END criterion=entropy, max_depth=6, max_features=sqrt, n_estimators=1000; total time=   2.3s\n",
            "[CV] END criterion=entropy, max_depth=6, max_features=sqrt, n_estimators=1000; total time=   2.3s\n",
            "[CV] END criterion=entropy, max_depth=6, max_features=sqrt, n_estimators=1000; total time=   2.4s\n",
            "[CV] END criterion=entropy, max_depth=6, max_features=sqrt, n_estimators=1000; total time=   3.0s\n",
            "[CV] END criterion=entropy, max_depth=6, max_features=sqrt, n_estimators=1000; total time=   3.0s\n",
            "[CV] END criterion=entropy, max_depth=6, max_features=sqrt, n_estimators=500; total time=   1.2s\n",
            "[CV] END criterion=entropy, max_depth=6, max_features=sqrt, n_estimators=500; total time=   1.2s\n",
            "[CV] END criterion=entropy, max_depth=6, max_features=sqrt, n_estimators=500; total time=   1.2s\n",
            "[CV] END criterion=entropy, max_depth=6, max_features=sqrt, n_estimators=500; total time=   1.2s\n",
            "[CV] END criterion=entropy, max_depth=6, max_features=sqrt, n_estimators=500; total time=   1.2s\n",
            "[CV] END criterion=entropy, max_depth=6, max_features=sqrt, n_estimators=800; total time=   1.8s\n",
            "[CV] END criterion=entropy, max_depth=6, max_features=sqrt, n_estimators=800; total time=   2.4s\n",
            "[CV] END criterion=entropy, max_depth=6, max_features=sqrt, n_estimators=800; total time=   2.6s\n",
            "[CV] END criterion=entropy, max_depth=6, max_features=sqrt, n_estimators=800; total time=   1.9s\n",
            "[CV] END criterion=entropy, max_depth=6, max_features=sqrt, n_estimators=800; total time=   1.9s\n",
            "[CV] END criterion=entropy, max_depth=6, max_features=log2, n_estimators=1000; total time=   2.3s\n",
            "[CV] END criterion=entropy, max_depth=6, max_features=log2, n_estimators=1000; total time=   2.3s\n",
            "[CV] END criterion=entropy, max_depth=6, max_features=log2, n_estimators=1000; total time=   3.0s\n",
            "[CV] END criterion=entropy, max_depth=6, max_features=log2, n_estimators=1000; total time=   2.9s\n",
            "[CV] END criterion=entropy, max_depth=6, max_features=log2, n_estimators=1000; total time=   2.3s\n",
            "[CV] END criterion=entropy, max_depth=6, max_features=log2, n_estimators=500; total time=   1.1s\n",
            "[CV] END criterion=entropy, max_depth=6, max_features=log2, n_estimators=500; total time=   1.2s\n",
            "[CV] END criterion=entropy, max_depth=6, max_features=log2, n_estimators=500; total time=   1.2s\n",
            "[CV] END criterion=entropy, max_depth=6, max_features=log2, n_estimators=500; total time=   1.2s\n",
            "[CV] END criterion=entropy, max_depth=6, max_features=log2, n_estimators=500; total time=   1.2s\n",
            "[CV] END criterion=entropy, max_depth=6, max_features=log2, n_estimators=800; total time=   2.7s\n",
            "[CV] END criterion=entropy, max_depth=6, max_features=log2, n_estimators=800; total time=   2.3s\n",
            "[CV] END criterion=entropy, max_depth=6, max_features=log2, n_estimators=800; total time=   1.9s\n",
            "[CV] END criterion=entropy, max_depth=6, max_features=log2, n_estimators=800; total time=   1.9s\n",
            "[CV] END criterion=entropy, max_depth=6, max_features=log2, n_estimators=800; total time=   1.9s\n",
            "[CV] END criterion=entropy, max_depth=8, max_features=sqrt, n_estimators=1000; total time=   2.5s\n",
            "[CV] END criterion=entropy, max_depth=8, max_features=sqrt, n_estimators=1000; total time=   3.4s\n",
            "[CV] END criterion=entropy, max_depth=8, max_features=sqrt, n_estimators=1000; total time=   2.8s\n",
            "[CV] END criterion=entropy, max_depth=8, max_features=sqrt, n_estimators=1000; total time=   2.5s\n",
            "[CV] END criterion=entropy, max_depth=8, max_features=sqrt, n_estimators=1000; total time=   2.4s\n",
            "[CV] END criterion=entropy, max_depth=8, max_features=sqrt, n_estimators=500; total time=   1.3s\n",
            "[CV] END criterion=entropy, max_depth=8, max_features=sqrt, n_estimators=500; total time=   1.3s\n",
            "[CV] END criterion=entropy, max_depth=8, max_features=sqrt, n_estimators=500; total time=   1.7s\n",
            "[CV] END criterion=entropy, max_depth=8, max_features=sqrt, n_estimators=500; total time=   2.0s\n",
            "[CV] END criterion=entropy, max_depth=8, max_features=sqrt, n_estimators=500; total time=   1.3s\n",
            "[CV] END criterion=entropy, max_depth=8, max_features=sqrt, n_estimators=800; total time=   2.0s\n",
            "[CV] END criterion=entropy, max_depth=8, max_features=sqrt, n_estimators=800; total time=   2.0s\n",
            "[CV] END criterion=entropy, max_depth=8, max_features=sqrt, n_estimators=800; total time=   2.0s\n",
            "[CV] END criterion=entropy, max_depth=8, max_features=sqrt, n_estimators=800; total time=   2.1s\n",
            "[CV] END criterion=entropy, max_depth=8, max_features=sqrt, n_estimators=800; total time=   2.8s\n",
            "[CV] END criterion=entropy, max_depth=8, max_features=log2, n_estimators=1000; total time=   3.0s\n",
            "[CV] END criterion=entropy, max_depth=8, max_features=log2, n_estimators=1000; total time=   2.4s\n",
            "[CV] END criterion=entropy, max_depth=8, max_features=log2, n_estimators=1000; total time=   2.4s\n",
            "[CV] END criterion=entropy, max_depth=8, max_features=log2, n_estimators=1000; total time=   2.5s\n",
            "[CV] END criterion=entropy, max_depth=8, max_features=log2, n_estimators=1000; total time=   3.3s\n",
            "[CV] END criterion=entropy, max_depth=8, max_features=log2, n_estimators=500; total time=   1.7s\n",
            "[CV] END criterion=entropy, max_depth=8, max_features=log2, n_estimators=500; total time=   1.3s\n",
            "[CV] END criterion=entropy, max_depth=8, max_features=log2, n_estimators=500; total time=   1.2s\n",
            "[CV] END criterion=entropy, max_depth=8, max_features=log2, n_estimators=500; total time=   1.3s\n",
            "[CV] END criterion=entropy, max_depth=8, max_features=log2, n_estimators=500; total time=   1.3s\n",
            "[CV] END criterion=entropy, max_depth=8, max_features=log2, n_estimators=800; total time=   2.0s\n",
            "[CV] END criterion=entropy, max_depth=8, max_features=log2, n_estimators=800; total time=   2.0s\n",
            "[CV] END criterion=entropy, max_depth=8, max_features=log2, n_estimators=800; total time=   2.7s\n",
            "[CV] END criterion=entropy, max_depth=8, max_features=log2, n_estimators=800; total time=   2.5s\n",
            "[CV] END criterion=entropy, max_depth=8, max_features=log2, n_estimators=800; total time=   2.0s\n",
            "Best random search hyperparameters are: {'criterion': 'gini', 'max_depth': 8, 'max_features': 'log2', 'n_estimators': 1000}\n"
          ]
        }
      ],
      "source": [
        "start_time = time.time()\n",
        "\n",
        "grid.fit(X_cm1, y_cm1)\n",
        "cm1_rf_y_pred = grid.predict(cm1_x_test)\n",
        "\n",
        "time_cm12.append(time.time() - start_time)\n",
        "\n",
        "print('Best random search hyperparameters are: '+str(grid.best_params_))"
      ]
    },
    {
      "cell_type": "code",
      "execution_count": 81,
      "metadata": {
        "colab": {
          "base_uri": "https://localhost:8080/",
          "height": 0
        },
        "id": "wPgROdaYSjhh",
        "outputId": "3ae94717-43aa-4828-eaa8-80dcad367b6c"
      },
      "outputs": [
        {
          "output_type": "stream",
          "name": "stdout",
          "text": [
            "cm1 :  acc ( 0.780000 ) , f1 (0.057143) , auc (0.461957), pre (0.043478), recall(0.083333)\n"
          ]
        }
      ],
      "source": [
        "acc = metrics.accuracy_score(cm1_y_test, cm1_rf_y_pred)\n",
        "f1  = metrics.f1_score(cm1_y_test, cm1_rf_y_pred)\n",
        "auc = metrics.roc_auc_score(cm1_y_test, cm1_rf_y_pred)\n",
        "pre = metrics.precision_score(cm1_y_test, cm1_rf_y_pred)\n",
        "recall = metrics.recall_score(cm1_y_test, cm1_rf_y_pred)\n",
        "print (\"cm1 :  acc ( %f ) , f1 (%f) , auc (%f), pre (%f), recall(%f)\"% (acc, f1 , auc, pre, recall))\n",
        "\n",
        "accuracy_cm12.append(acc)\n",
        "pre_cm12.append(pre)\n",
        "auc_cm12.append(auc)\n",
        "recall_cm12.append(recall)\n",
        "f1_cm12.append(f1)"
      ]
    },
    {
      "cell_type": "code",
      "execution_count": 82,
      "metadata": {
        "colab": {
          "base_uri": "https://localhost:8080/",
          "height": 0
        },
        "id": "aUhM8IqNRsOf",
        "outputId": "45ea4840-9458-44fe-dded-7c011abb1a77"
      },
      "outputs": [
        {
          "output_type": "stream",
          "name": "stdout",
          "text": [
            "Fitting 5 folds for each of 36 candidates, totalling 180 fits\n",
            "[CV] END criterion=gini, max_depth=4, max_features=sqrt, n_estimators=1000; total time=  11.9s\n",
            "[CV] END criterion=gini, max_depth=4, max_features=sqrt, n_estimators=1000; total time=  11.6s\n",
            "[CV] END criterion=gini, max_depth=4, max_features=sqrt, n_estimators=1000; total time=  11.5s\n",
            "[CV] END criterion=gini, max_depth=4, max_features=sqrt, n_estimators=1000; total time=  10.7s\n",
            "[CV] END criterion=gini, max_depth=4, max_features=sqrt, n_estimators=1000; total time=  11.2s\n",
            "[CV] END criterion=gini, max_depth=4, max_features=sqrt, n_estimators=500; total time=   6.5s\n",
            "[CV] END criterion=gini, max_depth=4, max_features=sqrt, n_estimators=500; total time=   5.3s\n",
            "[CV] END criterion=gini, max_depth=4, max_features=sqrt, n_estimators=500; total time=   6.1s\n",
            "[CV] END criterion=gini, max_depth=4, max_features=sqrt, n_estimators=500; total time=   5.3s\n",
            "[CV] END criterion=gini, max_depth=4, max_features=sqrt, n_estimators=500; total time=   5.4s\n",
            "[CV] END criterion=gini, max_depth=4, max_features=sqrt, n_estimators=800; total time=   9.6s\n",
            "[CV] END criterion=gini, max_depth=4, max_features=sqrt, n_estimators=800; total time=   9.4s\n",
            "[CV] END criterion=gini, max_depth=4, max_features=sqrt, n_estimators=800; total time=   8.7s\n",
            "[CV] END criterion=gini, max_depth=4, max_features=sqrt, n_estimators=800; total time=   9.0s\n",
            "[CV] END criterion=gini, max_depth=4, max_features=sqrt, n_estimators=800; total time=   9.3s\n",
            "[CV] END criterion=gini, max_depth=4, max_features=log2, n_estimators=1000; total time=  11.9s\n",
            "[CV] END criterion=gini, max_depth=4, max_features=log2, n_estimators=1000; total time=  11.2s\n",
            "[CV] END criterion=gini, max_depth=4, max_features=log2, n_estimators=1000; total time=  10.8s\n",
            "[CV] END criterion=gini, max_depth=4, max_features=log2, n_estimators=1000; total time=  11.4s\n",
            "[CV] END criterion=gini, max_depth=4, max_features=log2, n_estimators=1000; total time=  11.5s\n",
            "[CV] END criterion=gini, max_depth=4, max_features=log2, n_estimators=500; total time=   5.9s\n",
            "[CV] END criterion=gini, max_depth=4, max_features=log2, n_estimators=500; total time=   5.8s\n",
            "[CV] END criterion=gini, max_depth=4, max_features=log2, n_estimators=500; total time=   5.2s\n",
            "[CV] END criterion=gini, max_depth=4, max_features=log2, n_estimators=500; total time=   6.2s\n",
            "[CV] END criterion=gini, max_depth=4, max_features=log2, n_estimators=500; total time=   5.2s\n",
            "[CV] END criterion=gini, max_depth=4, max_features=log2, n_estimators=800; total time=   9.8s\n",
            "[CV] END criterion=gini, max_depth=4, max_features=log2, n_estimators=800; total time=   9.1s\n",
            "[CV] END criterion=gini, max_depth=4, max_features=log2, n_estimators=800; total time=   8.6s\n",
            "[CV] END criterion=gini, max_depth=4, max_features=log2, n_estimators=800; total time=   9.3s\n",
            "[CV] END criterion=gini, max_depth=4, max_features=log2, n_estimators=800; total time=   9.1s\n",
            "[CV] END criterion=gini, max_depth=6, max_features=sqrt, n_estimators=1000; total time=  15.8s\n",
            "[CV] END criterion=gini, max_depth=6, max_features=sqrt, n_estimators=1000; total time=  14.9s\n",
            "[CV] END criterion=gini, max_depth=6, max_features=sqrt, n_estimators=1000; total time=  14.8s\n",
            "[CV] END criterion=gini, max_depth=6, max_features=sqrt, n_estimators=1000; total time=  14.7s\n",
            "[CV] END criterion=gini, max_depth=6, max_features=sqrt, n_estimators=1000; total time=  14.7s\n",
            "[CV] END criterion=gini, max_depth=6, max_features=sqrt, n_estimators=500; total time=   8.2s\n",
            "[CV] END criterion=gini, max_depth=6, max_features=sqrt, n_estimators=500; total time=   7.0s\n",
            "[CV] END criterion=gini, max_depth=6, max_features=sqrt, n_estimators=500; total time=   7.9s\n",
            "[CV] END criterion=gini, max_depth=6, max_features=sqrt, n_estimators=500; total time=   7.0s\n",
            "[CV] END criterion=gini, max_depth=6, max_features=sqrt, n_estimators=500; total time=   7.9s\n",
            "[CV] END criterion=gini, max_depth=6, max_features=sqrt, n_estimators=800; total time=  12.5s\n",
            "[CV] END criterion=gini, max_depth=6, max_features=sqrt, n_estimators=800; total time=  12.1s\n",
            "[CV] END criterion=gini, max_depth=6, max_features=sqrt, n_estimators=800; total time=  12.1s\n",
            "[CV] END criterion=gini, max_depth=6, max_features=sqrt, n_estimators=800; total time=  12.0s\n",
            "[CV] END criterion=gini, max_depth=6, max_features=sqrt, n_estimators=800; total time=  11.6s\n",
            "[CV] END criterion=gini, max_depth=6, max_features=log2, n_estimators=1000; total time=  16.2s\n",
            "[CV] END criterion=gini, max_depth=6, max_features=log2, n_estimators=1000; total time=  15.0s\n",
            "[CV] END criterion=gini, max_depth=6, max_features=log2, n_estimators=1000; total time=  14.8s\n",
            "[CV] END criterion=gini, max_depth=6, max_features=log2, n_estimators=1000; total time=  14.9s\n",
            "[CV] END criterion=gini, max_depth=6, max_features=log2, n_estimators=1000; total time=  14.9s\n",
            "[CV] END criterion=gini, max_depth=6, max_features=log2, n_estimators=500; total time=   8.2s\n",
            "[CV] END criterion=gini, max_depth=6, max_features=log2, n_estimators=500; total time=   7.0s\n",
            "[CV] END criterion=gini, max_depth=6, max_features=log2, n_estimators=500; total time=   7.9s\n",
            "[CV] END criterion=gini, max_depth=6, max_features=log2, n_estimators=500; total time=   6.9s\n",
            "[CV] END criterion=gini, max_depth=6, max_features=log2, n_estimators=500; total time=   8.0s\n",
            "[CV] END criterion=gini, max_depth=6, max_features=log2, n_estimators=800; total time=  12.5s\n",
            "[CV] END criterion=gini, max_depth=6, max_features=log2, n_estimators=800; total time=  12.1s\n",
            "[CV] END criterion=gini, max_depth=6, max_features=log2, n_estimators=800; total time=  11.9s\n",
            "[CV] END criterion=gini, max_depth=6, max_features=log2, n_estimators=800; total time=  11.5s\n",
            "[CV] END criterion=gini, max_depth=6, max_features=log2, n_estimators=800; total time=  11.8s\n",
            "[CV] END criterion=gini, max_depth=8, max_features=sqrt, n_estimators=1000; total time=  19.6s\n",
            "[CV] END criterion=gini, max_depth=8, max_features=sqrt, n_estimators=1000; total time=  18.0s\n",
            "[CV] END criterion=gini, max_depth=8, max_features=sqrt, n_estimators=1000; total time=  18.3s\n",
            "[CV] END criterion=gini, max_depth=8, max_features=sqrt, n_estimators=1000; total time=  18.5s\n",
            "[CV] END criterion=gini, max_depth=8, max_features=sqrt, n_estimators=1000; total time=  17.9s\n",
            "[CV] END criterion=gini, max_depth=8, max_features=sqrt, n_estimators=500; total time=   9.8s\n",
            "[CV] END criterion=gini, max_depth=8, max_features=sqrt, n_estimators=500; total time=   9.5s\n",
            "[CV] END criterion=gini, max_depth=8, max_features=sqrt, n_estimators=500; total time=   8.6s\n",
            "[CV] END criterion=gini, max_depth=8, max_features=sqrt, n_estimators=500; total time=   9.4s\n",
            "[CV] END criterion=gini, max_depth=8, max_features=sqrt, n_estimators=500; total time=   9.4s\n",
            "[CV] END criterion=gini, max_depth=8, max_features=sqrt, n_estimators=800; total time=  15.1s\n",
            "[CV] END criterion=gini, max_depth=8, max_features=sqrt, n_estimators=800; total time=  14.6s\n",
            "[CV] END criterion=gini, max_depth=8, max_features=sqrt, n_estimators=800; total time=  14.5s\n",
            "[CV] END criterion=gini, max_depth=8, max_features=sqrt, n_estimators=800; total time=  14.4s\n",
            "[CV] END criterion=gini, max_depth=8, max_features=sqrt, n_estimators=800; total time=  14.6s\n",
            "[CV] END criterion=gini, max_depth=8, max_features=log2, n_estimators=1000; total time=  18.9s\n",
            "[CV] END criterion=gini, max_depth=8, max_features=log2, n_estimators=1000; total time=  18.7s\n",
            "[CV] END criterion=gini, max_depth=8, max_features=log2, n_estimators=1000; total time=  17.7s\n",
            "[CV] END criterion=gini, max_depth=8, max_features=log2, n_estimators=1000; total time=  18.9s\n",
            "[CV] END criterion=gini, max_depth=8, max_features=log2, n_estimators=1000; total time=  18.0s\n",
            "[CV] END criterion=gini, max_depth=8, max_features=log2, n_estimators=500; total time=   9.9s\n",
            "[CV] END criterion=gini, max_depth=8, max_features=log2, n_estimators=500; total time=   8.5s\n",
            "[CV] END criterion=gini, max_depth=8, max_features=log2, n_estimators=500; total time=   9.5s\n",
            "[CV] END criterion=gini, max_depth=8, max_features=log2, n_estimators=500; total time=   9.4s\n",
            "[CV] END criterion=gini, max_depth=8, max_features=log2, n_estimators=500; total time=   8.5s\n",
            "[CV] END criterion=gini, max_depth=8, max_features=log2, n_estimators=800; total time=  15.5s\n",
            "[CV] END criterion=gini, max_depth=8, max_features=log2, n_estimators=800; total time=  15.4s\n",
            "[CV] END criterion=gini, max_depth=8, max_features=log2, n_estimators=800; total time=  14.6s\n",
            "[CV] END criterion=gini, max_depth=8, max_features=log2, n_estimators=800; total time=  14.5s\n",
            "[CV] END criterion=gini, max_depth=8, max_features=log2, n_estimators=800; total time=  14.5s\n",
            "[CV] END criterion=entropy, max_depth=4, max_features=sqrt, n_estimators=1000; total time=  17.8s\n",
            "[CV] END criterion=entropy, max_depth=4, max_features=sqrt, n_estimators=1000; total time=  16.4s\n",
            "[CV] END criterion=entropy, max_depth=4, max_features=sqrt, n_estimators=1000; total time=  13.3s\n",
            "[CV] END criterion=entropy, max_depth=4, max_features=sqrt, n_estimators=1000; total time=  13.2s\n",
            "[CV] END criterion=entropy, max_depth=4, max_features=sqrt, n_estimators=1000; total time=  13.2s\n",
            "[CV] END criterion=entropy, max_depth=4, max_features=sqrt, n_estimators=500; total time=   7.5s\n",
            "[CV] END criterion=entropy, max_depth=4, max_features=sqrt, n_estimators=500; total time=   6.1s\n",
            "[CV] END criterion=entropy, max_depth=4, max_features=sqrt, n_estimators=500; total time=   7.2s\n",
            "[CV] END criterion=entropy, max_depth=4, max_features=sqrt, n_estimators=500; total time=   6.1s\n",
            "[CV] END criterion=entropy, max_depth=4, max_features=sqrt, n_estimators=500; total time=   7.2s\n",
            "[CV] END criterion=entropy, max_depth=4, max_features=sqrt, n_estimators=800; total time=  11.3s\n",
            "[CV] END criterion=entropy, max_depth=4, max_features=sqrt, n_estimators=800; total time=   9.9s\n",
            "[CV] END criterion=entropy, max_depth=4, max_features=sqrt, n_estimators=800; total time=  10.7s\n",
            "[CV] END criterion=entropy, max_depth=4, max_features=sqrt, n_estimators=800; total time=  10.8s\n",
            "[CV] END criterion=entropy, max_depth=4, max_features=sqrt, n_estimators=800; total time=  10.8s\n",
            "[CV] END criterion=entropy, max_depth=4, max_features=log2, n_estimators=1000; total time=  13.9s\n",
            "[CV] END criterion=entropy, max_depth=4, max_features=log2, n_estimators=1000; total time=  13.3s\n",
            "[CV] END criterion=entropy, max_depth=4, max_features=log2, n_estimators=1000; total time=  13.1s\n",
            "[CV] END criterion=entropy, max_depth=4, max_features=log2, n_estimators=1000; total time=  14.2s\n",
            "[CV] END criterion=entropy, max_depth=4, max_features=log2, n_estimators=1000; total time=  13.3s\n",
            "[CV] END criterion=entropy, max_depth=4, max_features=log2, n_estimators=500; total time=   6.4s\n",
            "[CV] END criterion=entropy, max_depth=4, max_features=log2, n_estimators=500; total time=   7.2s\n",
            "[CV] END criterion=entropy, max_depth=4, max_features=log2, n_estimators=500; total time=   6.1s\n",
            "[CV] END criterion=entropy, max_depth=4, max_features=log2, n_estimators=500; total time=   7.1s\n",
            "[CV] END criterion=entropy, max_depth=4, max_features=log2, n_estimators=500; total time=   6.0s\n",
            "[CV] END criterion=entropy, max_depth=4, max_features=log2, n_estimators=800; total time=  11.4s\n",
            "[CV] END criterion=entropy, max_depth=4, max_features=log2, n_estimators=800; total time=  10.9s\n",
            "[CV] END criterion=entropy, max_depth=4, max_features=log2, n_estimators=800; total time=  10.8s\n",
            "[CV] END criterion=entropy, max_depth=4, max_features=log2, n_estimators=800; total time=  10.2s\n",
            "[CV] END criterion=entropy, max_depth=4, max_features=log2, n_estimators=800; total time=  10.3s\n",
            "[CV] END criterion=entropy, max_depth=6, max_features=sqrt, n_estimators=1000; total time=  19.5s\n",
            "[CV] END criterion=entropy, max_depth=6, max_features=sqrt, n_estimators=1000; total time=  17.5s\n",
            "[CV] END criterion=entropy, max_depth=6, max_features=sqrt, n_estimators=1000; total time=  17.4s\n",
            "[CV] END criterion=entropy, max_depth=6, max_features=sqrt, n_estimators=1000; total time=  18.6s\n",
            "[CV] END criterion=entropy, max_depth=6, max_features=sqrt, n_estimators=1000; total time=  17.4s\n",
            "[CV] END criterion=entropy, max_depth=6, max_features=sqrt, n_estimators=500; total time=   9.8s\n",
            "[CV] END criterion=entropy, max_depth=6, max_features=sqrt, n_estimators=500; total time=   8.2s\n",
            "[CV] END criterion=entropy, max_depth=6, max_features=sqrt, n_estimators=500; total time=   9.3s\n",
            "[CV] END criterion=entropy, max_depth=6, max_features=sqrt, n_estimators=500; total time=   9.2s\n",
            "[CV] END criterion=entropy, max_depth=6, max_features=sqrt, n_estimators=500; total time=   8.1s\n",
            "[CV] END criterion=entropy, max_depth=6, max_features=sqrt, n_estimators=800; total time=  14.9s\n",
            "[CV] END criterion=entropy, max_depth=6, max_features=sqrt, n_estimators=800; total time=  14.6s\n",
            "[CV] END criterion=entropy, max_depth=6, max_features=sqrt, n_estimators=800; total time=  14.5s\n",
            "[CV] END criterion=entropy, max_depth=6, max_features=sqrt, n_estimators=800; total time=  14.4s\n",
            "[CV] END criterion=entropy, max_depth=6, max_features=sqrt, n_estimators=800; total time=  14.2s\n",
            "[CV] END criterion=entropy, max_depth=6, max_features=log2, n_estimators=1000; total time=  18.3s\n",
            "[CV] END criterion=entropy, max_depth=6, max_features=log2, n_estimators=1000; total time=  17.5s\n",
            "[CV] END criterion=entropy, max_depth=6, max_features=log2, n_estimators=1000; total time=  18.5s\n",
            "[CV] END criterion=entropy, max_depth=6, max_features=log2, n_estimators=1000; total time=  17.3s\n",
            "[CV] END criterion=entropy, max_depth=6, max_features=log2, n_estimators=1000; total time=  17.3s\n",
            "[CV] END criterion=entropy, max_depth=6, max_features=log2, n_estimators=500; total time=   9.7s\n",
            "[CV] END criterion=entropy, max_depth=6, max_features=log2, n_estimators=500; total time=   9.3s\n",
            "[CV] END criterion=entropy, max_depth=6, max_features=log2, n_estimators=500; total time=   8.1s\n",
            "[CV] END criterion=entropy, max_depth=6, max_features=log2, n_estimators=500; total time=   9.3s\n",
            "[CV] END criterion=entropy, max_depth=6, max_features=log2, n_estimators=500; total time=   9.2s\n",
            "[CV] END criterion=entropy, max_depth=6, max_features=log2, n_estimators=800; total time=  14.9s\n",
            "[CV] END criterion=entropy, max_depth=6, max_features=log2, n_estimators=800; total time=  14.2s\n",
            "[CV] END criterion=entropy, max_depth=6, max_features=log2, n_estimators=800; total time=  14.2s\n",
            "[CV] END criterion=entropy, max_depth=6, max_features=log2, n_estimators=800; total time=  14.1s\n",
            "[CV] END criterion=entropy, max_depth=6, max_features=log2, n_estimators=800; total time=  14.1s\n",
            "[CV] END criterion=entropy, max_depth=8, max_features=sqrt, n_estimators=1000; total time=  23.5s\n",
            "[CV] END criterion=entropy, max_depth=8, max_features=sqrt, n_estimators=1000; total time=  21.6s\n",
            "[CV] END criterion=entropy, max_depth=8, max_features=sqrt, n_estimators=1000; total time=  22.5s\n",
            "[CV] END criterion=entropy, max_depth=8, max_features=sqrt, n_estimators=1000; total time=  22.3s\n",
            "[CV] END criterion=entropy, max_depth=8, max_features=sqrt, n_estimators=1000; total time=  21.2s\n",
            "[CV] END criterion=entropy, max_depth=8, max_features=sqrt, n_estimators=500; total time=  11.8s\n",
            "[CV] END criterion=entropy, max_depth=8, max_features=sqrt, n_estimators=500; total time=  11.3s\n",
            "[CV] END criterion=entropy, max_depth=8, max_features=sqrt, n_estimators=500; total time=  11.2s\n",
            "[CV] END criterion=entropy, max_depth=8, max_features=sqrt, n_estimators=500; total time=  10.9s\n",
            "[CV] END criterion=entropy, max_depth=8, max_features=sqrt, n_estimators=500; total time=  10.3s\n",
            "[CV] END criterion=entropy, max_depth=8, max_features=sqrt, n_estimators=800; total time=  19.3s\n",
            "[CV] END criterion=entropy, max_depth=8, max_features=sqrt, n_estimators=800; total time=  17.5s\n",
            "[CV] END criterion=entropy, max_depth=8, max_features=sqrt, n_estimators=800; total time=  17.4s\n",
            "[CV] END criterion=entropy, max_depth=8, max_features=sqrt, n_estimators=800; total time=  18.4s\n",
            "[CV] END criterion=entropy, max_depth=8, max_features=sqrt, n_estimators=800; total time=  17.4s\n",
            "[CV] END criterion=entropy, max_depth=8, max_features=log2, n_estimators=1000; total time=  23.5s\n",
            "[CV] END criterion=entropy, max_depth=8, max_features=log2, n_estimators=1000; total time=  21.5s\n",
            "[CV] END criterion=entropy, max_depth=8, max_features=log2, n_estimators=1000; total time=  22.5s\n",
            "[CV] END criterion=entropy, max_depth=8, max_features=log2, n_estimators=1000; total time=  22.4s\n",
            "[CV] END criterion=entropy, max_depth=8, max_features=log2, n_estimators=1000; total time=  21.3s\n",
            "[CV] END criterion=entropy, max_depth=8, max_features=log2, n_estimators=500; total time=  11.7s\n",
            "[CV] END criterion=entropy, max_depth=8, max_features=log2, n_estimators=500; total time=  11.3s\n",
            "[CV] END criterion=entropy, max_depth=8, max_features=log2, n_estimators=500; total time=  11.2s\n",
            "[CV] END criterion=entropy, max_depth=8, max_features=log2, n_estimators=500; total time=  11.2s\n",
            "[CV] END criterion=entropy, max_depth=8, max_features=log2, n_estimators=500; total time=  10.3s\n",
            "[CV] END criterion=entropy, max_depth=8, max_features=log2, n_estimators=800; total time=  19.2s\n",
            "[CV] END criterion=entropy, max_depth=8, max_features=log2, n_estimators=800; total time=  17.4s\n",
            "[CV] END criterion=entropy, max_depth=8, max_features=log2, n_estimators=800; total time=  17.5s\n",
            "[CV] END criterion=entropy, max_depth=8, max_features=log2, n_estimators=800; total time=  18.2s\n",
            "[CV] END criterion=entropy, max_depth=8, max_features=log2, n_estimators=800; total time=  17.3s\n"
          ]
        }
      ],
      "source": [
        "start_time = time.time()\n",
        "\n",
        "grid2.fit(X_jm1, y_jm1)\n",
        "jm1_rf_y_pred = grid2.predict(jm1_x_test)\n",
        "\n",
        "time_jm12.append(time.time() - start_time)"
      ]
    },
    {
      "cell_type": "code",
      "execution_count": 83,
      "metadata": {
        "colab": {
          "base_uri": "https://localhost:8080/",
          "height": 0
        },
        "id": "i4c9V4hLSxOW",
        "outputId": "02a99640-221c-44d6-cb1c-9e839ae4b474"
      },
      "outputs": [
        {
          "output_type": "stream",
          "name": "stdout",
          "text": [
            "\n",
            "jm1 :  acc ( 0.746324 ) , f1 (0.451656) , auc (0.661800), pre (0.398830), recall(0.520611)\n"
          ]
        }
      ],
      "source": [
        "acc = metrics.accuracy_score(jm1_y_test, jm1_rf_y_pred)\n",
        "f1  = metrics.f1_score(jm1_y_test, jm1_rf_y_pred)\n",
        "auc = metrics.roc_auc_score(jm1_y_test, jm1_rf_y_pred)\n",
        "pre = metrics.precision_score(jm1_y_test, jm1_rf_y_pred)\n",
        "recall = metrics.recall_score(jm1_y_test, jm1_rf_y_pred)\n",
        "print (\"\\njm1 :  acc ( %f ) , f1 (%f) , auc (%f), pre (%f), recall(%f)\"% (acc, f1 , auc, pre, recall))\n",
        "\n",
        "accuracy_jm12.append(acc)\n",
        "pre_jm12.append(pre)\n",
        "auc_jm12.append(auc)\n",
        "recall_jm12.append(recall)\n",
        "f1_jm12.append(f1)"
      ]
    },
    {
      "cell_type": "code",
      "execution_count": 84,
      "metadata": {
        "colab": {
          "base_uri": "https://localhost:8080/",
          "height": 0
        },
        "id": "W3CJ5fbxRvYy",
        "outputId": "e1af9dba-69f0-47e7-f3ba-0a4baddcd912"
      },
      "outputs": [
        {
          "output_type": "stream",
          "name": "stdout",
          "text": [
            "Fitting 5 folds for each of 36 candidates, totalling 180 fits\n",
            "[CV] END criterion=gini, max_depth=4, max_features=sqrt, n_estimators=1000; total time=   3.2s\n",
            "[CV] END criterion=gini, max_depth=4, max_features=sqrt, n_estimators=1000; total time=   3.2s\n",
            "[CV] END criterion=gini, max_depth=4, max_features=sqrt, n_estimators=1000; total time=   4.3s\n",
            "[CV] END criterion=gini, max_depth=4, max_features=sqrt, n_estimators=1000; total time=   3.2s\n",
            "[CV] END criterion=gini, max_depth=4, max_features=sqrt, n_estimators=1000; total time=   3.3s\n",
            "[CV] END criterion=gini, max_depth=4, max_features=sqrt, n_estimators=500; total time=   1.6s\n",
            "[CV] END criterion=gini, max_depth=4, max_features=sqrt, n_estimators=500; total time=   2.0s\n",
            "[CV] END criterion=gini, max_depth=4, max_features=sqrt, n_estimators=500; total time=   2.4s\n",
            "[CV] END criterion=gini, max_depth=4, max_features=sqrt, n_estimators=500; total time=   1.6s\n",
            "[CV] END criterion=gini, max_depth=4, max_features=sqrt, n_estimators=500; total time=   1.6s\n",
            "[CV] END criterion=gini, max_depth=4, max_features=sqrt, n_estimators=800; total time=   2.6s\n",
            "[CV] END criterion=gini, max_depth=4, max_features=sqrt, n_estimators=800; total time=   2.6s\n",
            "[CV] END criterion=gini, max_depth=4, max_features=sqrt, n_estimators=800; total time=   3.0s\n",
            "[CV] END criterion=gini, max_depth=4, max_features=sqrt, n_estimators=800; total time=   3.2s\n",
            "[CV] END criterion=gini, max_depth=4, max_features=sqrt, n_estimators=800; total time=   2.5s\n",
            "[CV] END criterion=gini, max_depth=4, max_features=log2, n_estimators=1000; total time=   3.2s\n",
            "[CV] END criterion=gini, max_depth=4, max_features=log2, n_estimators=1000; total time=   3.3s\n",
            "[CV] END criterion=gini, max_depth=4, max_features=log2, n_estimators=1000; total time=   4.3s\n",
            "[CV] END criterion=gini, max_depth=4, max_features=log2, n_estimators=1000; total time=   3.2s\n",
            "[CV] END criterion=gini, max_depth=4, max_features=log2, n_estimators=1000; total time=   3.2s\n",
            "[CV] END criterion=gini, max_depth=4, max_features=log2, n_estimators=500; total time=   1.7s\n",
            "[CV] END criterion=gini, max_depth=4, max_features=log2, n_estimators=500; total time=   2.0s\n",
            "[CV] END criterion=gini, max_depth=4, max_features=log2, n_estimators=500; total time=   2.3s\n",
            "[CV] END criterion=gini, max_depth=4, max_features=log2, n_estimators=500; total time=   1.6s\n",
            "[CV] END criterion=gini, max_depth=4, max_features=log2, n_estimators=500; total time=   1.6s\n",
            "[CV] END criterion=gini, max_depth=4, max_features=log2, n_estimators=800; total time=   2.6s\n",
            "[CV] END criterion=gini, max_depth=4, max_features=log2, n_estimators=800; total time=   2.5s\n",
            "[CV] END criterion=gini, max_depth=4, max_features=log2, n_estimators=800; total time=   3.1s\n",
            "[CV] END criterion=gini, max_depth=4, max_features=log2, n_estimators=800; total time=   3.3s\n",
            "[CV] END criterion=gini, max_depth=4, max_features=log2, n_estimators=800; total time=   2.5s\n",
            "[CV] END criterion=gini, max_depth=6, max_features=sqrt, n_estimators=1000; total time=   4.0s\n",
            "[CV] END criterion=gini, max_depth=6, max_features=sqrt, n_estimators=1000; total time=   4.8s\n",
            "[CV] END criterion=gini, max_depth=6, max_features=sqrt, n_estimators=1000; total time=   4.2s\n",
            "[CV] END criterion=gini, max_depth=6, max_features=sqrt, n_estimators=1000; total time=   3.9s\n",
            "[CV] END criterion=gini, max_depth=6, max_features=sqrt, n_estimators=1000; total time=   4.4s\n",
            "[CV] END criterion=gini, max_depth=6, max_features=sqrt, n_estimators=500; total time=   2.6s\n",
            "[CV] END criterion=gini, max_depth=6, max_features=sqrt, n_estimators=500; total time=   1.9s\n",
            "[CV] END criterion=gini, max_depth=6, max_features=sqrt, n_estimators=500; total time=   1.9s\n",
            "[CV] END criterion=gini, max_depth=6, max_features=sqrt, n_estimators=500; total time=   1.9s\n",
            "[CV] END criterion=gini, max_depth=6, max_features=sqrt, n_estimators=500; total time=   1.9s\n",
            "[CV] END criterion=gini, max_depth=6, max_features=sqrt, n_estimators=800; total time=   3.9s\n",
            "[CV] END criterion=gini, max_depth=6, max_features=sqrt, n_estimators=800; total time=   3.4s\n",
            "[CV] END criterion=gini, max_depth=6, max_features=sqrt, n_estimators=800; total time=   3.1s\n",
            "[CV] END criterion=gini, max_depth=6, max_features=sqrt, n_estimators=800; total time=   3.0s\n",
            "[CV] END criterion=gini, max_depth=6, max_features=sqrt, n_estimators=800; total time=   3.9s\n",
            "[CV] END criterion=gini, max_depth=6, max_features=log2, n_estimators=1000; total time=   4.3s\n",
            "[CV] END criterion=gini, max_depth=6, max_features=log2, n_estimators=1000; total time=   3.9s\n",
            "[CV] END criterion=gini, max_depth=6, max_features=log2, n_estimators=1000; total time=   4.4s\n",
            "[CV] END criterion=gini, max_depth=6, max_features=log2, n_estimators=1000; total time=   4.5s\n",
            "[CV] END criterion=gini, max_depth=6, max_features=log2, n_estimators=1000; total time=   3.8s\n",
            "[CV] END criterion=gini, max_depth=6, max_features=log2, n_estimators=500; total time=   2.0s\n",
            "[CV] END criterion=gini, max_depth=6, max_features=log2, n_estimators=500; total time=   2.1s\n",
            "[CV] END criterion=gini, max_depth=6, max_features=log2, n_estimators=500; total time=   2.9s\n",
            "[CV] END criterion=gini, max_depth=6, max_features=log2, n_estimators=500; total time=   1.9s\n",
            "[CV] END criterion=gini, max_depth=6, max_features=log2, n_estimators=500; total time=   1.9s\n",
            "[CV] END criterion=gini, max_depth=6, max_features=log2, n_estimators=800; total time=   3.1s\n",
            "[CV] END criterion=gini, max_depth=6, max_features=log2, n_estimators=800; total time=   3.1s\n",
            "[CV] END criterion=gini, max_depth=6, max_features=log2, n_estimators=800; total time=   4.2s\n",
            "[CV] END criterion=gini, max_depth=6, max_features=log2, n_estimators=800; total time=   3.1s\n",
            "[CV] END criterion=gini, max_depth=6, max_features=log2, n_estimators=800; total time=   3.0s\n",
            "[CV] END criterion=gini, max_depth=8, max_features=sqrt, n_estimators=1000; total time=   5.1s\n",
            "[CV] END criterion=gini, max_depth=8, max_features=sqrt, n_estimators=1000; total time=   4.9s\n",
            "[CV] END criterion=gini, max_depth=8, max_features=sqrt, n_estimators=1000; total time=   4.5s\n",
            "[CV] END criterion=gini, max_depth=8, max_features=sqrt, n_estimators=1000; total time=   5.5s\n",
            "[CV] END criterion=gini, max_depth=8, max_features=sqrt, n_estimators=1000; total time=   4.4s\n",
            "[CV] END criterion=gini, max_depth=8, max_features=sqrt, n_estimators=500; total time=   2.2s\n",
            "[CV] END criterion=gini, max_depth=8, max_features=sqrt, n_estimators=500; total time=   2.2s\n",
            "[CV] END criterion=gini, max_depth=8, max_features=sqrt, n_estimators=500; total time=   2.9s\n",
            "[CV] END criterion=gini, max_depth=8, max_features=sqrt, n_estimators=500; total time=   2.8s\n",
            "[CV] END criterion=gini, max_depth=8, max_features=sqrt, n_estimators=500; total time=   2.2s\n",
            "[CV] END criterion=gini, max_depth=8, max_features=sqrt, n_estimators=800; total time=   3.6s\n",
            "[CV] END criterion=gini, max_depth=8, max_features=sqrt, n_estimators=800; total time=   3.8s\n",
            "[CV] END criterion=gini, max_depth=8, max_features=sqrt, n_estimators=800; total time=   4.4s\n",
            "[CV] END criterion=gini, max_depth=8, max_features=sqrt, n_estimators=800; total time=   3.5s\n",
            "[CV] END criterion=gini, max_depth=8, max_features=sqrt, n_estimators=800; total time=   3.5s\n",
            "[CV] END criterion=gini, max_depth=8, max_features=log2, n_estimators=1000; total time=   5.5s\n",
            "[CV] END criterion=gini, max_depth=8, max_features=log2, n_estimators=1000; total time=   4.5s\n",
            "[CV] END criterion=gini, max_depth=8, max_features=log2, n_estimators=1000; total time=   4.5s\n",
            "[CV] END criterion=gini, max_depth=8, max_features=log2, n_estimators=1000; total time=   5.7s\n",
            "[CV] END criterion=gini, max_depth=8, max_features=log2, n_estimators=1000; total time=   4.4s\n",
            "[CV] END criterion=gini, max_depth=8, max_features=log2, n_estimators=500; total time=   2.2s\n",
            "[CV] END criterion=gini, max_depth=8, max_features=log2, n_estimators=500; total time=   2.8s\n",
            "[CV] END criterion=gini, max_depth=8, max_features=log2, n_estimators=500; total time=   2.8s\n",
            "[CV] END criterion=gini, max_depth=8, max_features=log2, n_estimators=500; total time=   2.3s\n",
            "[CV] END criterion=gini, max_depth=8, max_features=log2, n_estimators=500; total time=   2.2s\n",
            "[CV] END criterion=gini, max_depth=8, max_features=log2, n_estimators=800; total time=   3.6s\n",
            "[CV] END criterion=gini, max_depth=8, max_features=log2, n_estimators=800; total time=   4.6s\n",
            "[CV] END criterion=gini, max_depth=8, max_features=log2, n_estimators=800; total time=   3.6s\n",
            "[CV] END criterion=gini, max_depth=8, max_features=log2, n_estimators=800; total time=   3.5s\n",
            "[CV] END criterion=gini, max_depth=8, max_features=log2, n_estimators=800; total time=   4.1s\n",
            "[CV] END criterion=entropy, max_depth=4, max_features=sqrt, n_estimators=1000; total time=   4.4s\n",
            "[CV] END criterion=entropy, max_depth=4, max_features=sqrt, n_estimators=1000; total time=   3.6s\n",
            "[CV] END criterion=entropy, max_depth=4, max_features=sqrt, n_estimators=1000; total time=   3.6s\n",
            "[CV] END criterion=entropy, max_depth=4, max_features=sqrt, n_estimators=1000; total time=   4.8s\n",
            "[CV] END criterion=entropy, max_depth=4, max_features=sqrt, n_estimators=1000; total time=   3.6s\n",
            "[CV] END criterion=entropy, max_depth=4, max_features=sqrt, n_estimators=500; total time=   1.9s\n",
            "[CV] END criterion=entropy, max_depth=4, max_features=sqrt, n_estimators=500; total time=   1.8s\n",
            "[CV] END criterion=entropy, max_depth=4, max_features=sqrt, n_estimators=500; total time=   1.9s\n",
            "[CV] END criterion=entropy, max_depth=4, max_features=sqrt, n_estimators=500; total time=   2.8s\n",
            "[CV] END criterion=entropy, max_depth=4, max_features=sqrt, n_estimators=500; total time=   1.9s\n",
            "[CV] END criterion=entropy, max_depth=4, max_features=sqrt, n_estimators=800; total time=   2.9s\n",
            "[CV] END criterion=entropy, max_depth=4, max_features=sqrt, n_estimators=800; total time=   2.8s\n",
            "[CV] END criterion=entropy, max_depth=4, max_features=sqrt, n_estimators=800; total time=   3.1s\n",
            "[CV] END criterion=entropy, max_depth=4, max_features=sqrt, n_estimators=800; total time=   4.0s\n",
            "[CV] END criterion=entropy, max_depth=4, max_features=sqrt, n_estimators=800; total time=   2.9s\n",
            "[CV] END criterion=entropy, max_depth=4, max_features=log2, n_estimators=1000; total time=   3.8s\n",
            "[CV] END criterion=entropy, max_depth=4, max_features=log2, n_estimators=1000; total time=   4.4s\n",
            "[CV] END criterion=entropy, max_depth=4, max_features=log2, n_estimators=1000; total time=   4.1s\n",
            "[CV] END criterion=entropy, max_depth=4, max_features=log2, n_estimators=1000; total time=   3.6s\n",
            "[CV] END criterion=entropy, max_depth=4, max_features=log2, n_estimators=1000; total time=   3.6s\n",
            "[CV] END criterion=entropy, max_depth=4, max_features=log2, n_estimators=500; total time=   2.9s\n",
            "[CV] END criterion=entropy, max_depth=4, max_features=log2, n_estimators=500; total time=   2.0s\n",
            "[CV] END criterion=entropy, max_depth=4, max_features=log2, n_estimators=500; total time=   1.8s\n",
            "[CV] END criterion=entropy, max_depth=4, max_features=log2, n_estimators=500; total time=   1.8s\n",
            "[CV] END criterion=entropy, max_depth=4, max_features=log2, n_estimators=500; total time=   1.8s\n",
            "[CV] END criterion=entropy, max_depth=4, max_features=log2, n_estimators=800; total time=   3.0s\n",
            "[CV] END criterion=entropy, max_depth=4, max_features=log2, n_estimators=800; total time=   4.1s\n",
            "[CV] END criterion=entropy, max_depth=4, max_features=log2, n_estimators=800; total time=   2.9s\n",
            "[CV] END criterion=entropy, max_depth=4, max_features=log2, n_estimators=800; total time=   2.9s\n",
            "[CV] END criterion=entropy, max_depth=4, max_features=log2, n_estimators=800; total time=   2.9s\n",
            "[CV] END criterion=entropy, max_depth=6, max_features=sqrt, n_estimators=1000; total time=   5.8s\n",
            "[CV] END criterion=entropy, max_depth=6, max_features=sqrt, n_estimators=1000; total time=   4.5s\n",
            "[CV] END criterion=entropy, max_depth=6, max_features=sqrt, n_estimators=1000; total time=   4.9s\n",
            "[CV] END criterion=entropy, max_depth=6, max_features=sqrt, n_estimators=1000; total time=   5.4s\n",
            "[CV] END criterion=entropy, max_depth=6, max_features=sqrt, n_estimators=1000; total time=   4.4s\n",
            "[CV] END criterion=entropy, max_depth=6, max_features=sqrt, n_estimators=500; total time=   2.3s\n",
            "[CV] END criterion=entropy, max_depth=6, max_features=sqrt, n_estimators=500; total time=   3.4s\n",
            "[CV] END criterion=entropy, max_depth=6, max_features=sqrt, n_estimators=500; total time=   2.3s\n",
            "[CV] END criterion=entropy, max_depth=6, max_features=sqrt, n_estimators=500; total time=   2.2s\n",
            "[CV] END criterion=entropy, max_depth=6, max_features=sqrt, n_estimators=500; total time=   2.3s\n",
            "[CV] END criterion=entropy, max_depth=6, max_features=sqrt, n_estimators=800; total time=   3.8s\n",
            "[CV] END criterion=entropy, max_depth=6, max_features=sqrt, n_estimators=800; total time=   4.7s\n",
            "[CV] END criterion=entropy, max_depth=6, max_features=sqrt, n_estimators=800; total time=   3.6s\n",
            "[CV] END criterion=entropy, max_depth=6, max_features=sqrt, n_estimators=800; total time=   3.6s\n",
            "[CV] END criterion=entropy, max_depth=6, max_features=sqrt, n_estimators=800; total time=   4.7s\n",
            "[CV] END criterion=entropy, max_depth=6, max_features=log2, n_estimators=1000; total time=   4.6s\n",
            "[CV] END criterion=entropy, max_depth=6, max_features=log2, n_estimators=1000; total time=   4.5s\n",
            "[CV] END criterion=entropy, max_depth=6, max_features=log2, n_estimators=1000; total time=   5.8s\n",
            "[CV] END criterion=entropy, max_depth=6, max_features=log2, n_estimators=1000; total time=   4.5s\n",
            "[CV] END criterion=entropy, max_depth=6, max_features=log2, n_estimators=1000; total time=   4.8s\n",
            "[CV] END criterion=entropy, max_depth=6, max_features=log2, n_estimators=500; total time=   3.2s\n",
            "[CV] END criterion=entropy, max_depth=6, max_features=log2, n_estimators=500; total time=   2.2s\n",
            "[CV] END criterion=entropy, max_depth=6, max_features=log2, n_estimators=500; total time=   2.3s\n",
            "[CV] END criterion=entropy, max_depth=6, max_features=log2, n_estimators=500; total time=   2.3s\n",
            "[CV] END criterion=entropy, max_depth=6, max_features=log2, n_estimators=500; total time=   2.2s\n",
            "[CV] END criterion=entropy, max_depth=6, max_features=log2, n_estimators=800; total time=   4.9s\n",
            "[CV] END criterion=entropy, max_depth=6, max_features=log2, n_estimators=800; total time=   3.6s\n",
            "[CV] END criterion=entropy, max_depth=6, max_features=log2, n_estimators=800; total time=   3.6s\n",
            "[CV] END criterion=entropy, max_depth=6, max_features=log2, n_estimators=800; total time=   4.7s\n",
            "[CV] END criterion=entropy, max_depth=6, max_features=log2, n_estimators=800; total time=   3.7s\n",
            "[CV] END criterion=entropy, max_depth=8, max_features=sqrt, n_estimators=1000; total time=   5.4s\n",
            "[CV] END criterion=entropy, max_depth=8, max_features=sqrt, n_estimators=1000; total time=   6.4s\n",
            "[CV] END criterion=entropy, max_depth=8, max_features=sqrt, n_estimators=1000; total time=   5.3s\n",
            "[CV] END criterion=entropy, max_depth=8, max_features=sqrt, n_estimators=1000; total time=   6.3s\n",
            "[CV] END criterion=entropy, max_depth=8, max_features=sqrt, n_estimators=1000; total time=   5.2s\n",
            "[CV] END criterion=entropy, max_depth=8, max_features=sqrt, n_estimators=500; total time=   2.7s\n",
            "[CV] END criterion=entropy, max_depth=8, max_features=sqrt, n_estimators=500; total time=   2.8s\n",
            "[CV] END criterion=entropy, max_depth=8, max_features=sqrt, n_estimators=500; total time=   3.6s\n",
            "[CV] END criterion=entropy, max_depth=8, max_features=sqrt, n_estimators=500; total time=   2.6s\n",
            "[CV] END criterion=entropy, max_depth=8, max_features=sqrt, n_estimators=500; total time=   2.6s\n",
            "[CV] END criterion=entropy, max_depth=8, max_features=sqrt, n_estimators=800; total time=   4.4s\n",
            "[CV] END criterion=entropy, max_depth=8, max_features=sqrt, n_estimators=800; total time=   5.2s\n",
            "[CV] END criterion=entropy, max_depth=8, max_features=sqrt, n_estimators=800; total time=   4.2s\n",
            "[CV] END criterion=entropy, max_depth=8, max_features=sqrt, n_estimators=800; total time=   4.5s\n",
            "[CV] END criterion=entropy, max_depth=8, max_features=sqrt, n_estimators=800; total time=   5.1s\n",
            "[CV] END criterion=entropy, max_depth=8, max_features=log2, n_estimators=1000; total time=   5.3s\n",
            "[CV] END criterion=entropy, max_depth=8, max_features=log2, n_estimators=1000; total time=   6.4s\n",
            "[CV] END criterion=entropy, max_depth=8, max_features=log2, n_estimators=1000; total time=   5.2s\n",
            "[CV] END criterion=entropy, max_depth=8, max_features=log2, n_estimators=1000; total time=   5.8s\n",
            "[CV] END criterion=entropy, max_depth=8, max_features=log2, n_estimators=1000; total time=   5.8s\n",
            "[CV] END criterion=entropy, max_depth=8, max_features=log2, n_estimators=500; total time=   2.7s\n",
            "[CV] END criterion=entropy, max_depth=8, max_features=log2, n_estimators=500; total time=   2.7s\n",
            "[CV] END criterion=entropy, max_depth=8, max_features=log2, n_estimators=500; total time=   3.7s\n",
            "[CV] END criterion=entropy, max_depth=8, max_features=log2, n_estimators=500; total time=   2.6s\n",
            "[CV] END criterion=entropy, max_depth=8, max_features=log2, n_estimators=500; total time=   2.6s\n",
            "[CV] END criterion=entropy, max_depth=8, max_features=log2, n_estimators=800; total time=   4.3s\n",
            "[CV] END criterion=entropy, max_depth=8, max_features=log2, n_estimators=800; total time=   5.3s\n",
            "[CV] END criterion=entropy, max_depth=8, max_features=log2, n_estimators=800; total time=   4.1s\n",
            "[CV] END criterion=entropy, max_depth=8, max_features=log2, n_estimators=800; total time=   4.1s\n",
            "[CV] END criterion=entropy, max_depth=8, max_features=log2, n_estimators=800; total time=   5.2s\n"
          ]
        }
      ],
      "source": [
        "start_time = time.time()\n",
        "\n",
        "grid3.fit(X_kc1, y_kc1)\n",
        "kc1_rf_y_pred = grid3.predict(kc1_x_test)\n",
        "\n",
        "time_kc12.append(time.time() - start_time)"
      ]
    },
    {
      "cell_type": "code",
      "execution_count": 85,
      "metadata": {
        "colab": {
          "base_uri": "https://localhost:8080/",
          "height": 0
        },
        "id": "GYl2MgnBWrS9",
        "outputId": "4687b8a2-2407-470b-b3ab-b7fc9785e185"
      },
      "outputs": [
        {
          "output_type": "stream",
          "name": "stdout",
          "text": [
            "\n",
            "kc1 :  acc ( 0.821485 ) , f1 (0.519149) , auc (0.714430), pre (0.491935), recall(0.549550)\n"
          ]
        }
      ],
      "source": [
        "acc = metrics.accuracy_score(kc1_y_test, kc1_rf_y_pred)\n",
        "f1  = metrics.f1_score(kc1_y_test, kc1_rf_y_pred)\n",
        "auc = metrics.roc_auc_score(kc1_y_test, kc1_rf_y_pred)\n",
        "pre = metrics.precision_score(kc1_y_test, kc1_rf_y_pred)\n",
        "recall = metrics.recall_score(kc1_y_test, kc1_rf_y_pred)\n",
        "print (\"\\nkc1 :  acc ( %f ) , f1 (%f) , auc (%f), pre (%f), recall(%f)\"% (acc, f1 , auc, pre, recall))\n",
        "\n",
        "accuracy_kc12.append(acc)\n",
        "pre_kc12.append(pre)\n",
        "auc_kc12.append(auc)\n",
        "recall_kc12.append(recall)\n",
        "f1_kc12.append(f1)"
      ]
    },
    {
      "cell_type": "code",
      "execution_count": 86,
      "metadata": {
        "colab": {
          "base_uri": "https://localhost:8080/",
          "height": 0
        },
        "id": "qaVwUYTDRxK6",
        "outputId": "f188f5e3-0572-4b04-ada0-0f231d2ab75b"
      },
      "outputs": [
        {
          "output_type": "stream",
          "name": "stdout",
          "text": [
            "Fitting 5 folds for each of 36 candidates, totalling 180 fits\n",
            "[CV] END criterion=gini, max_depth=4, max_features=sqrt, n_estimators=1000; total time=   2.0s\n",
            "[CV] END criterion=gini, max_depth=4, max_features=sqrt, n_estimators=1000; total time=   2.0s\n",
            "[CV] END criterion=gini, max_depth=4, max_features=sqrt, n_estimators=1000; total time=   2.7s\n",
            "[CV] END criterion=gini, max_depth=4, max_features=sqrt, n_estimators=1000; total time=   2.4s\n",
            "[CV] END criterion=gini, max_depth=4, max_features=sqrt, n_estimators=1000; total time=   2.0s\n",
            "[CV] END criterion=gini, max_depth=4, max_features=sqrt, n_estimators=500; total time=   1.0s\n",
            "[CV] END criterion=gini, max_depth=4, max_features=sqrt, n_estimators=500; total time=   1.0s\n",
            "[CV] END criterion=gini, max_depth=4, max_features=sqrt, n_estimators=500; total time=   1.0s\n",
            "[CV] END criterion=gini, max_depth=4, max_features=sqrt, n_estimators=500; total time=   1.0s\n",
            "[CV] END criterion=gini, max_depth=4, max_features=sqrt, n_estimators=500; total time=   1.0s\n",
            "[CV] END criterion=gini, max_depth=4, max_features=sqrt, n_estimators=800; total time=   1.6s\n",
            "[CV] END criterion=gini, max_depth=4, max_features=sqrt, n_estimators=800; total time=   2.2s\n",
            "[CV] END criterion=gini, max_depth=4, max_features=sqrt, n_estimators=800; total time=   2.2s\n",
            "[CV] END criterion=gini, max_depth=4, max_features=sqrt, n_estimators=800; total time=   1.6s\n",
            "[CV] END criterion=gini, max_depth=4, max_features=sqrt, n_estimators=800; total time=   1.6s\n",
            "[CV] END criterion=gini, max_depth=4, max_features=log2, n_estimators=1000; total time=   2.0s\n",
            "[CV] END criterion=gini, max_depth=4, max_features=log2, n_estimators=1000; total time=   2.0s\n",
            "[CV] END criterion=gini, max_depth=4, max_features=log2, n_estimators=1000; total time=   2.0s\n",
            "[CV] END criterion=gini, max_depth=4, max_features=log2, n_estimators=1000; total time=   2.8s\n",
            "[CV] END criterion=gini, max_depth=4, max_features=log2, n_estimators=1000; total time=   2.3s\n",
            "[CV] END criterion=gini, max_depth=4, max_features=log2, n_estimators=500; total time=   1.0s\n",
            "[CV] END criterion=gini, max_depth=4, max_features=log2, n_estimators=500; total time=   1.0s\n",
            "[CV] END criterion=gini, max_depth=4, max_features=log2, n_estimators=500; total time=   1.0s\n",
            "[CV] END criterion=gini, max_depth=4, max_features=log2, n_estimators=500; total time=   1.0s\n",
            "[CV] END criterion=gini, max_depth=4, max_features=log2, n_estimators=500; total time=   1.0s\n",
            "[CV] END criterion=gini, max_depth=4, max_features=log2, n_estimators=800; total time=   1.6s\n",
            "[CV] END criterion=gini, max_depth=4, max_features=log2, n_estimators=800; total time=   1.6s\n",
            "[CV] END criterion=gini, max_depth=4, max_features=log2, n_estimators=800; total time=   2.1s\n",
            "[CV] END criterion=gini, max_depth=4, max_features=log2, n_estimators=800; total time=   2.2s\n",
            "[CV] END criterion=gini, max_depth=4, max_features=log2, n_estimators=800; total time=   1.6s\n",
            "[CV] END criterion=gini, max_depth=6, max_features=sqrt, n_estimators=1000; total time=   2.1s\n",
            "[CV] END criterion=gini, max_depth=6, max_features=sqrt, n_estimators=1000; total time=   2.1s\n",
            "[CV] END criterion=gini, max_depth=6, max_features=sqrt, n_estimators=1000; total time=   2.1s\n",
            "[CV] END criterion=gini, max_depth=6, max_features=sqrt, n_estimators=1000; total time=   2.2s\n",
            "[CV] END criterion=gini, max_depth=6, max_features=sqrt, n_estimators=1000; total time=   3.2s\n",
            "[CV] END criterion=gini, max_depth=6, max_features=sqrt, n_estimators=500; total time=   1.0s\n",
            "[CV] END criterion=gini, max_depth=6, max_features=sqrt, n_estimators=500; total time=   1.1s\n",
            "[CV] END criterion=gini, max_depth=6, max_features=sqrt, n_estimators=500; total time=   1.1s\n",
            "[CV] END criterion=gini, max_depth=6, max_features=sqrt, n_estimators=500; total time=   1.1s\n",
            "[CV] END criterion=gini, max_depth=6, max_features=sqrt, n_estimators=500; total time=   1.0s\n",
            "[CV] END criterion=gini, max_depth=6, max_features=sqrt, n_estimators=800; total time=   1.7s\n",
            "[CV] END criterion=gini, max_depth=6, max_features=sqrt, n_estimators=800; total time=   1.7s\n",
            "[CV] END criterion=gini, max_depth=6, max_features=sqrt, n_estimators=800; total time=   1.9s\n",
            "[CV] END criterion=gini, max_depth=6, max_features=sqrt, n_estimators=800; total time=   2.6s\n",
            "[CV] END criterion=gini, max_depth=6, max_features=sqrt, n_estimators=800; total time=   1.8s\n",
            "[CV] END criterion=gini, max_depth=6, max_features=log2, n_estimators=1000; total time=   2.1s\n",
            "[CV] END criterion=gini, max_depth=6, max_features=log2, n_estimators=1000; total time=   2.0s\n",
            "[CV] END criterion=gini, max_depth=6, max_features=log2, n_estimators=1000; total time=   2.1s\n",
            "[CV] END criterion=gini, max_depth=6, max_features=log2, n_estimators=1000; total time=   2.0s\n",
            "[CV] END criterion=gini, max_depth=6, max_features=log2, n_estimators=1000; total time=   3.0s\n",
            "[CV] END criterion=gini, max_depth=6, max_features=log2, n_estimators=500; total time=   1.3s\n",
            "[CV] END criterion=gini, max_depth=6, max_features=log2, n_estimators=500; total time=   1.0s\n",
            "[CV] END criterion=gini, max_depth=6, max_features=log2, n_estimators=500; total time=   1.0s\n",
            "[CV] END criterion=gini, max_depth=6, max_features=log2, n_estimators=500; total time=   1.0s\n",
            "[CV] END criterion=gini, max_depth=6, max_features=log2, n_estimators=500; total time=   1.0s\n",
            "[CV] END criterion=gini, max_depth=6, max_features=log2, n_estimators=800; total time=   1.6s\n",
            "[CV] END criterion=gini, max_depth=6, max_features=log2, n_estimators=800; total time=   1.6s\n",
            "[CV] END criterion=gini, max_depth=6, max_features=log2, n_estimators=800; total time=   1.6s\n",
            "[CV] END criterion=gini, max_depth=6, max_features=log2, n_estimators=800; total time=   2.3s\n",
            "[CV] END criterion=gini, max_depth=6, max_features=log2, n_estimators=800; total time=   2.2s\n",
            "[CV] END criterion=gini, max_depth=8, max_features=sqrt, n_estimators=1000; total time=   2.1s\n",
            "[CV] END criterion=gini, max_depth=8, max_features=sqrt, n_estimators=1000; total time=   2.1s\n",
            "[CV] END criterion=gini, max_depth=8, max_features=sqrt, n_estimators=1000; total time=   2.1s\n",
            "[CV] END criterion=gini, max_depth=8, max_features=sqrt, n_estimators=1000; total time=   2.1s\n",
            "[CV] END criterion=gini, max_depth=8, max_features=sqrt, n_estimators=1000; total time=   2.8s\n",
            "[CV] END criterion=gini, max_depth=8, max_features=sqrt, n_estimators=500; total time=   1.6s\n",
            "[CV] END criterion=gini, max_depth=8, max_features=sqrt, n_estimators=500; total time=   1.1s\n",
            "[CV] END criterion=gini, max_depth=8, max_features=sqrt, n_estimators=500; total time=   1.1s\n",
            "[CV] END criterion=gini, max_depth=8, max_features=sqrt, n_estimators=500; total time=   1.1s\n",
            "[CV] END criterion=gini, max_depth=8, max_features=sqrt, n_estimators=500; total time=   1.1s\n",
            "[CV] END criterion=gini, max_depth=8, max_features=sqrt, n_estimators=800; total time=   1.7s\n",
            "[CV] END criterion=gini, max_depth=8, max_features=sqrt, n_estimators=800; total time=   1.7s\n",
            "[CV] END criterion=gini, max_depth=8, max_features=sqrt, n_estimators=800; total time=   1.7s\n",
            "[CV] END criterion=gini, max_depth=8, max_features=sqrt, n_estimators=800; total time=   2.3s\n",
            "[CV] END criterion=gini, max_depth=8, max_features=sqrt, n_estimators=800; total time=   2.4s\n",
            "[CV] END criterion=gini, max_depth=8, max_features=log2, n_estimators=1000; total time=   2.1s\n",
            "[CV] END criterion=gini, max_depth=8, max_features=log2, n_estimators=1000; total time=   2.1s\n",
            "[CV] END criterion=gini, max_depth=8, max_features=log2, n_estimators=1000; total time=   2.1s\n",
            "[CV] END criterion=gini, max_depth=8, max_features=log2, n_estimators=1000; total time=   2.1s\n",
            "[CV] END criterion=gini, max_depth=8, max_features=log2, n_estimators=1000; total time=   2.7s\n",
            "[CV] END criterion=gini, max_depth=8, max_features=log2, n_estimators=500; total time=   1.6s\n",
            "[CV] END criterion=gini, max_depth=8, max_features=log2, n_estimators=500; total time=   1.1s\n",
            "[CV] END criterion=gini, max_depth=8, max_features=log2, n_estimators=500; total time=   1.1s\n",
            "[CV] END criterion=gini, max_depth=8, max_features=log2, n_estimators=500; total time=   1.1s\n",
            "[CV] END criterion=gini, max_depth=8, max_features=log2, n_estimators=500; total time=   1.1s\n",
            "[CV] END criterion=gini, max_depth=8, max_features=log2, n_estimators=800; total time=   1.7s\n",
            "[CV] END criterion=gini, max_depth=8, max_features=log2, n_estimators=800; total time=   1.7s\n",
            "[CV] END criterion=gini, max_depth=8, max_features=log2, n_estimators=800; total time=   1.7s\n",
            "[CV] END criterion=gini, max_depth=8, max_features=log2, n_estimators=800; total time=   2.2s\n",
            "[CV] END criterion=gini, max_depth=8, max_features=log2, n_estimators=800; total time=   2.4s\n",
            "[CV] END criterion=entropy, max_depth=4, max_features=sqrt, n_estimators=1000; total time=   2.2s\n",
            "[CV] END criterion=entropy, max_depth=4, max_features=sqrt, n_estimators=1000; total time=   2.1s\n",
            "[CV] END criterion=entropy, max_depth=4, max_features=sqrt, n_estimators=1000; total time=   2.0s\n",
            "[CV] END criterion=entropy, max_depth=4, max_features=sqrt, n_estimators=1000; total time=   2.0s\n",
            "[CV] END criterion=entropy, max_depth=4, max_features=sqrt, n_estimators=1000; total time=   2.6s\n",
            "[CV] END criterion=entropy, max_depth=4, max_features=sqrt, n_estimators=500; total time=   1.6s\n",
            "[CV] END criterion=entropy, max_depth=4, max_features=sqrt, n_estimators=500; total time=   1.2s\n",
            "[CV] END criterion=entropy, max_depth=4, max_features=sqrt, n_estimators=500; total time=   1.0s\n",
            "[CV] END criterion=entropy, max_depth=4, max_features=sqrt, n_estimators=500; total time=   1.0s\n",
            "[CV] END criterion=entropy, max_depth=4, max_features=sqrt, n_estimators=500; total time=   1.0s\n",
            "[CV] END criterion=entropy, max_depth=4, max_features=sqrt, n_estimators=800; total time=   1.6s\n",
            "[CV] END criterion=entropy, max_depth=4, max_features=sqrt, n_estimators=800; total time=   1.7s\n",
            "[CV] END criterion=entropy, max_depth=4, max_features=sqrt, n_estimators=800; total time=   1.6s\n",
            "[CV] END criterion=entropy, max_depth=4, max_features=sqrt, n_estimators=800; total time=   1.9s\n",
            "[CV] END criterion=entropy, max_depth=4, max_features=sqrt, n_estimators=800; total time=   2.5s\n",
            "[CV] END criterion=entropy, max_depth=4, max_features=log2, n_estimators=1000; total time=   2.1s\n",
            "[CV] END criterion=entropy, max_depth=4, max_features=log2, n_estimators=1000; total time=   2.0s\n",
            "[CV] END criterion=entropy, max_depth=4, max_features=log2, n_estimators=1000; total time=   2.0s\n",
            "[CV] END criterion=entropy, max_depth=4, max_features=log2, n_estimators=1000; total time=   2.0s\n",
            "[CV] END criterion=entropy, max_depth=4, max_features=log2, n_estimators=1000; total time=   2.1s\n",
            "[CV] END criterion=entropy, max_depth=4, max_features=log2, n_estimators=500; total time=   1.6s\n",
            "[CV] END criterion=entropy, max_depth=4, max_features=log2, n_estimators=500; total time=   1.6s\n",
            "[CV] END criterion=entropy, max_depth=4, max_features=log2, n_estimators=500; total time=   1.0s\n",
            "[CV] END criterion=entropy, max_depth=4, max_features=log2, n_estimators=500; total time=   1.0s\n",
            "[CV] END criterion=entropy, max_depth=4, max_features=log2, n_estimators=500; total time=   1.0s\n",
            "[CV] END criterion=entropy, max_depth=4, max_features=log2, n_estimators=800; total time=   1.7s\n",
            "[CV] END criterion=entropy, max_depth=4, max_features=log2, n_estimators=800; total time=   1.6s\n",
            "[CV] END criterion=entropy, max_depth=4, max_features=log2, n_estimators=800; total time=   1.6s\n",
            "[CV] END criterion=entropy, max_depth=4, max_features=log2, n_estimators=800; total time=   1.6s\n",
            "[CV] END criterion=entropy, max_depth=4, max_features=log2, n_estimators=800; total time=   2.4s\n",
            "[CV] END criterion=entropy, max_depth=6, max_features=sqrt, n_estimators=1000; total time=   2.8s\n",
            "[CV] END criterion=entropy, max_depth=6, max_features=sqrt, n_estimators=1000; total time=   2.2s\n",
            "[CV] END criterion=entropy, max_depth=6, max_features=sqrt, n_estimators=1000; total time=   2.2s\n",
            "[CV] END criterion=entropy, max_depth=6, max_features=sqrt, n_estimators=1000; total time=   2.2s\n",
            "[CV] END criterion=entropy, max_depth=6, max_features=sqrt, n_estimators=1000; total time=   2.3s\n",
            "[CV] END criterion=entropy, max_depth=6, max_features=sqrt, n_estimators=500; total time=   1.8s\n",
            "[CV] END criterion=entropy, max_depth=6, max_features=sqrt, n_estimators=500; total time=   1.6s\n",
            "[CV] END criterion=entropy, max_depth=6, max_features=sqrt, n_estimators=500; total time=   1.1s\n",
            "[CV] END criterion=entropy, max_depth=6, max_features=sqrt, n_estimators=500; total time=   1.1s\n",
            "[CV] END criterion=entropy, max_depth=6, max_features=sqrt, n_estimators=500; total time=   1.1s\n",
            "[CV] END criterion=entropy, max_depth=6, max_features=sqrt, n_estimators=800; total time=   1.7s\n",
            "[CV] END criterion=entropy, max_depth=6, max_features=sqrt, n_estimators=800; total time=   1.8s\n",
            "[CV] END criterion=entropy, max_depth=6, max_features=sqrt, n_estimators=800; total time=   1.8s\n",
            "[CV] END criterion=entropy, max_depth=6, max_features=sqrt, n_estimators=800; total time=   2.0s\n",
            "[CV] END criterion=entropy, max_depth=6, max_features=sqrt, n_estimators=800; total time=   2.7s\n",
            "[CV] END criterion=entropy, max_depth=6, max_features=log2, n_estimators=1000; total time=   2.2s\n",
            "[CV] END criterion=entropy, max_depth=6, max_features=log2, n_estimators=1000; total time=   2.2s\n",
            "[CV] END criterion=entropy, max_depth=6, max_features=log2, n_estimators=1000; total time=   2.4s\n",
            "[CV] END criterion=entropy, max_depth=6, max_features=log2, n_estimators=1000; total time=   2.2s\n",
            "[CV] END criterion=entropy, max_depth=6, max_features=log2, n_estimators=1000; total time=   2.8s\n",
            "[CV] END criterion=entropy, max_depth=6, max_features=log2, n_estimators=500; total time=   1.7s\n",
            "[CV] END criterion=entropy, max_depth=6, max_features=log2, n_estimators=500; total time=   1.1s\n",
            "[CV] END criterion=entropy, max_depth=6, max_features=log2, n_estimators=500; total time=   1.1s\n",
            "[CV] END criterion=entropy, max_depth=6, max_features=log2, n_estimators=500; total time=   1.1s\n",
            "[CV] END criterion=entropy, max_depth=6, max_features=log2, n_estimators=500; total time=   1.1s\n",
            "[CV] END criterion=entropy, max_depth=6, max_features=log2, n_estimators=800; total time=   1.8s\n",
            "[CV] END criterion=entropy, max_depth=6, max_features=log2, n_estimators=800; total time=   1.8s\n",
            "[CV] END criterion=entropy, max_depth=6, max_features=log2, n_estimators=800; total time=   1.7s\n",
            "[CV] END criterion=entropy, max_depth=6, max_features=log2, n_estimators=800; total time=   2.6s\n",
            "[CV] END criterion=entropy, max_depth=6, max_features=log2, n_estimators=800; total time=   2.1s\n",
            "[CV] END criterion=entropy, max_depth=8, max_features=sqrt, n_estimators=1000; total time=   2.3s\n",
            "[CV] END criterion=entropy, max_depth=8, max_features=sqrt, n_estimators=1000; total time=   2.3s\n",
            "[CV] END criterion=entropy, max_depth=8, max_features=sqrt, n_estimators=1000; total time=   2.3s\n",
            "[CV] END criterion=entropy, max_depth=8, max_features=sqrt, n_estimators=1000; total time=   2.4s\n",
            "[CV] END criterion=entropy, max_depth=8, max_features=sqrt, n_estimators=1000; total time=   3.4s\n",
            "[CV] END criterion=entropy, max_depth=8, max_features=sqrt, n_estimators=500; total time=   1.1s\n",
            "[CV] END criterion=entropy, max_depth=8, max_features=sqrt, n_estimators=500; total time=   1.1s\n",
            "[CV] END criterion=entropy, max_depth=8, max_features=sqrt, n_estimators=500; total time=   1.1s\n",
            "[CV] END criterion=entropy, max_depth=8, max_features=sqrt, n_estimators=500; total time=   1.1s\n",
            "[CV] END criterion=entropy, max_depth=8, max_features=sqrt, n_estimators=500; total time=   1.2s\n",
            "[CV] END criterion=entropy, max_depth=8, max_features=sqrt, n_estimators=800; total time=   1.8s\n",
            "[CV] END criterion=entropy, max_depth=8, max_features=sqrt, n_estimators=800; total time=   1.8s\n",
            "[CV] END criterion=entropy, max_depth=8, max_features=sqrt, n_estimators=800; total time=   2.6s\n",
            "[CV] END criterion=entropy, max_depth=8, max_features=sqrt, n_estimators=800; total time=   2.3s\n",
            "[CV] END criterion=entropy, max_depth=8, max_features=sqrt, n_estimators=800; total time=   1.8s\n",
            "[CV] END criterion=entropy, max_depth=8, max_features=log2, n_estimators=1000; total time=   2.3s\n",
            "[CV] END criterion=entropy, max_depth=8, max_features=log2, n_estimators=1000; total time=   2.3s\n",
            "[CV] END criterion=entropy, max_depth=8, max_features=log2, n_estimators=1000; total time=   2.3s\n",
            "[CV] END criterion=entropy, max_depth=8, max_features=log2, n_estimators=1000; total time=   3.3s\n",
            "[CV] END criterion=entropy, max_depth=8, max_features=log2, n_estimators=1000; total time=   2.5s\n",
            "[CV] END criterion=entropy, max_depth=8, max_features=log2, n_estimators=500; total time=   1.1s\n",
            "[CV] END criterion=entropy, max_depth=8, max_features=log2, n_estimators=500; total time=   1.1s\n",
            "[CV] END criterion=entropy, max_depth=8, max_features=log2, n_estimators=500; total time=   1.1s\n",
            "[CV] END criterion=entropy, max_depth=8, max_features=log2, n_estimators=500; total time=   1.2s\n",
            "[CV] END criterion=entropy, max_depth=8, max_features=log2, n_estimators=500; total time=   1.2s\n",
            "[CV] END criterion=entropy, max_depth=8, max_features=log2, n_estimators=800; total time=   1.8s\n",
            "[CV] END criterion=entropy, max_depth=8, max_features=log2, n_estimators=800; total time=   2.6s\n",
            "[CV] END criterion=entropy, max_depth=8, max_features=log2, n_estimators=800; total time=   2.2s\n",
            "[CV] END criterion=entropy, max_depth=8, max_features=log2, n_estimators=800; total time=   1.8s\n",
            "[CV] END criterion=entropy, max_depth=8, max_features=log2, n_estimators=800; total time=   1.8s\n"
          ]
        }
      ],
      "source": [
        "start_time = time.time()\n",
        "\n",
        "grid4.fit(X_kc2, y_kc2)\n",
        "kc2_rf_y_pred= grid4.predict(kc2_x_test)\n",
        "\n",
        "time_kc22.append(time.time() - start_time)"
      ]
    },
    {
      "cell_type": "code",
      "execution_count": 87,
      "metadata": {
        "colab": {
          "base_uri": "https://localhost:8080/",
          "height": 0
        },
        "id": "Iut6Yin4XWH1",
        "outputId": "2f1e609e-4bd3-4e49-c0a4-72f0ca38f0f1"
      },
      "outputs": [
        {
          "output_type": "stream",
          "name": "stdout",
          "text": [
            "\n",
            "kc2 :  acc ( 0.828025 ) , f1 (0.619718) , auc (0.747297), pre (0.647059), recall(0.594595)\n"
          ]
        }
      ],
      "source": [
        "acc = metrics.accuracy_score(kc2_y_test, kc2_rf_y_pred)\n",
        "f1  = metrics.f1_score(kc2_y_test, kc2_rf_y_pred)\n",
        "auc = metrics.roc_auc_score(kc2_y_test, kc2_rf_y_pred)\n",
        "pre = metrics.precision_score(kc2_y_test, kc2_rf_y_pred)\n",
        "recall = metrics.recall_score(kc2_y_test, kc2_rf_y_pred)\n",
        "print (\"\\nkc2 :  acc ( %f ) , f1 (%f) , auc (%f), pre (%f), recall(%f)\"% (acc, f1 , auc, pre, recall))\n",
        "\n",
        "accuracy_kc22.append(acc)\n",
        "pre_kc22.append(pre)\n",
        "auc_kc22.append(auc)\n",
        "recall_kc22.append(recall)\n",
        "f1_kc22.append(f1)"
      ]
    },
    {
      "cell_type": "code",
      "execution_count": 88,
      "metadata": {
        "colab": {
          "base_uri": "https://localhost:8080/",
          "height": 0
        },
        "id": "D1Fqk49_Ry5r",
        "outputId": "95e2e981-6a0f-4881-bc03-21d5d871c262"
      },
      "outputs": [
        {
          "output_type": "stream",
          "name": "stdout",
          "text": [
            "Fitting 5 folds for each of 36 candidates, totalling 180 fits\n",
            "[CV] END criterion=gini, max_depth=4, max_features=sqrt, n_estimators=1000; total time=   2.7s\n",
            "[CV] END criterion=gini, max_depth=4, max_features=sqrt, n_estimators=1000; total time=   3.3s\n",
            "[CV] END criterion=gini, max_depth=4, max_features=sqrt, n_estimators=1000; total time=   3.2s\n",
            "[CV] END criterion=gini, max_depth=4, max_features=sqrt, n_estimators=1000; total time=   2.6s\n",
            "[CV] END criterion=gini, max_depth=4, max_features=sqrt, n_estimators=1000; total time=   2.6s\n",
            "[CV] END criterion=gini, max_depth=4, max_features=sqrt, n_estimators=500; total time=   1.3s\n",
            "[CV] END criterion=gini, max_depth=4, max_features=sqrt, n_estimators=500; total time=   1.3s\n",
            "[CV] END criterion=gini, max_depth=4, max_features=sqrt, n_estimators=500; total time=   1.8s\n",
            "[CV] END criterion=gini, max_depth=4, max_features=sqrt, n_estimators=500; total time=   2.1s\n",
            "[CV] END criterion=gini, max_depth=4, max_features=sqrt, n_estimators=500; total time=   1.3s\n",
            "[CV] END criterion=gini, max_depth=4, max_features=sqrt, n_estimators=800; total time=   2.1s\n",
            "[CV] END criterion=gini, max_depth=4, max_features=sqrt, n_estimators=800; total time=   2.1s\n",
            "[CV] END criterion=gini, max_depth=4, max_features=sqrt, n_estimators=800; total time=   2.1s\n",
            "[CV] END criterion=gini, max_depth=4, max_features=sqrt, n_estimators=800; total time=   2.1s\n",
            "[CV] END criterion=gini, max_depth=4, max_features=sqrt, n_estimators=800; total time=   3.1s\n",
            "[CV] END criterion=gini, max_depth=4, max_features=log2, n_estimators=1000; total time=   2.8s\n",
            "[CV] END criterion=gini, max_depth=4, max_features=log2, n_estimators=1000; total time=   2.6s\n",
            "[CV] END criterion=gini, max_depth=4, max_features=log2, n_estimators=1000; total time=   2.7s\n",
            "[CV] END criterion=gini, max_depth=4, max_features=log2, n_estimators=1000; total time=   2.7s\n",
            "[CV] END criterion=gini, max_depth=4, max_features=log2, n_estimators=1000; total time=   3.8s\n",
            "[CV] END criterion=gini, max_depth=4, max_features=log2, n_estimators=500; total time=   1.3s\n",
            "[CV] END criterion=gini, max_depth=4, max_features=log2, n_estimators=500; total time=   1.3s\n",
            "[CV] END criterion=gini, max_depth=4, max_features=log2, n_estimators=500; total time=   1.3s\n",
            "[CV] END criterion=gini, max_depth=4, max_features=log2, n_estimators=500; total time=   1.4s\n",
            "[CV] END criterion=gini, max_depth=4, max_features=log2, n_estimators=500; total time=   1.3s\n",
            "[CV] END criterion=gini, max_depth=4, max_features=log2, n_estimators=800; total time=   2.1s\n",
            "[CV] END criterion=gini, max_depth=4, max_features=log2, n_estimators=800; total time=   2.9s\n",
            "[CV] END criterion=gini, max_depth=4, max_features=log2, n_estimators=800; total time=   2.5s\n",
            "[CV] END criterion=gini, max_depth=4, max_features=log2, n_estimators=800; total time=   2.1s\n",
            "[CV] END criterion=gini, max_depth=4, max_features=log2, n_estimators=800; total time=   2.1s\n",
            "[CV] END criterion=gini, max_depth=6, max_features=sqrt, n_estimators=1000; total time=   3.0s\n",
            "[CV] END criterion=gini, max_depth=6, max_features=sqrt, n_estimators=1000; total time=   4.1s\n",
            "[CV] END criterion=gini, max_depth=6, max_features=sqrt, n_estimators=1000; total time=   3.3s\n",
            "[CV] END criterion=gini, max_depth=6, max_features=sqrt, n_estimators=1000; total time=   3.1s\n",
            "[CV] END criterion=gini, max_depth=6, max_features=sqrt, n_estimators=1000; total time=   3.1s\n",
            "[CV] END criterion=gini, max_depth=6, max_features=sqrt, n_estimators=500; total time=   1.8s\n",
            "[CV] END criterion=gini, max_depth=6, max_features=sqrt, n_estimators=500; total time=   2.4s\n",
            "[CV] END criterion=gini, max_depth=6, max_features=sqrt, n_estimators=500; total time=   1.7s\n",
            "[CV] END criterion=gini, max_depth=6, max_features=sqrt, n_estimators=500; total time=   1.6s\n",
            "[CV] END criterion=gini, max_depth=6, max_features=sqrt, n_estimators=500; total time=   1.6s\n",
            "[CV] END criterion=gini, max_depth=6, max_features=sqrt, n_estimators=800; total time=   2.5s\n",
            "[CV] END criterion=gini, max_depth=6, max_features=sqrt, n_estimators=800; total time=   2.5s\n",
            "[CV] END criterion=gini, max_depth=6, max_features=sqrt, n_estimators=800; total time=   3.6s\n",
            "[CV] END criterion=gini, max_depth=6, max_features=sqrt, n_estimators=800; total time=   2.6s\n",
            "[CV] END criterion=gini, max_depth=6, max_features=sqrt, n_estimators=800; total time=   2.5s\n",
            "[CV] END criterion=gini, max_depth=6, max_features=log2, n_estimators=1000; total time=   3.2s\n",
            "[CV] END criterion=gini, max_depth=6, max_features=log2, n_estimators=1000; total time=   3.8s\n",
            "[CV] END criterion=gini, max_depth=6, max_features=log2, n_estimators=1000; total time=   3.7s\n",
            "[CV] END criterion=gini, max_depth=6, max_features=log2, n_estimators=1000; total time=   3.1s\n",
            "[CV] END criterion=gini, max_depth=6, max_features=log2, n_estimators=1000; total time=   3.1s\n",
            "[CV] END criterion=gini, max_depth=6, max_features=log2, n_estimators=500; total time=   1.5s\n",
            "[CV] END criterion=gini, max_depth=6, max_features=log2, n_estimators=500; total time=   2.2s\n",
            "[CV] END criterion=gini, max_depth=6, max_features=log2, n_estimators=500; total time=   2.0s\n",
            "[CV] END criterion=gini, max_depth=6, max_features=log2, n_estimators=500; total time=   1.5s\n",
            "[CV] END criterion=gini, max_depth=6, max_features=log2, n_estimators=500; total time=   1.6s\n",
            "[CV] END criterion=gini, max_depth=6, max_features=log2, n_estimators=800; total time=   2.4s\n",
            "[CV] END criterion=gini, max_depth=6, max_features=log2, n_estimators=800; total time=   2.4s\n",
            "[CV] END criterion=gini, max_depth=6, max_features=log2, n_estimators=800; total time=   3.0s\n",
            "[CV] END criterion=gini, max_depth=6, max_features=log2, n_estimators=800; total time=   3.1s\n",
            "[CV] END criterion=gini, max_depth=6, max_features=log2, n_estimators=800; total time=   2.4s\n",
            "[CV] END criterion=gini, max_depth=8, max_features=sqrt, n_estimators=1000; total time=   3.3s\n",
            "[CV] END criterion=gini, max_depth=8, max_features=sqrt, n_estimators=1000; total time=   3.6s\n",
            "[CV] END criterion=gini, max_depth=8, max_features=sqrt, n_estimators=1000; total time=   4.4s\n",
            "[CV] END criterion=gini, max_depth=8, max_features=sqrt, n_estimators=1000; total time=   3.4s\n",
            "[CV] END criterion=gini, max_depth=8, max_features=sqrt, n_estimators=1000; total time=   3.3s\n",
            "[CV] END criterion=gini, max_depth=8, max_features=sqrt, n_estimators=500; total time=   1.7s\n",
            "[CV] END criterion=gini, max_depth=8, max_features=sqrt, n_estimators=500; total time=   2.5s\n",
            "[CV] END criterion=gini, max_depth=8, max_features=sqrt, n_estimators=500; total time=   2.0s\n",
            "[CV] END criterion=gini, max_depth=8, max_features=sqrt, n_estimators=500; total time=   1.7s\n",
            "[CV] END criterion=gini, max_depth=8, max_features=sqrt, n_estimators=500; total time=   1.7s\n",
            "[CV] END criterion=gini, max_depth=8, max_features=sqrt, n_estimators=800; total time=   2.7s\n",
            "[CV] END criterion=gini, max_depth=8, max_features=sqrt, n_estimators=800; total time=   2.7s\n",
            "[CV] END criterion=gini, max_depth=8, max_features=sqrt, n_estimators=800; total time=   3.9s\n",
            "[CV] END criterion=gini, max_depth=8, max_features=sqrt, n_estimators=800; total time=   2.7s\n",
            "[CV] END criterion=gini, max_depth=8, max_features=sqrt, n_estimators=800; total time=   2.7s\n",
            "[CV] END criterion=gini, max_depth=8, max_features=log2, n_estimators=1000; total time=   3.4s\n",
            "[CV] END criterion=gini, max_depth=8, max_features=log2, n_estimators=1000; total time=   4.5s\n",
            "[CV] END criterion=gini, max_depth=8, max_features=log2, n_estimators=1000; total time=   3.4s\n",
            "[CV] END criterion=gini, max_depth=8, max_features=log2, n_estimators=1000; total time=   3.4s\n",
            "[CV] END criterion=gini, max_depth=8, max_features=log2, n_estimators=1000; total time=   3.7s\n",
            "[CV] END criterion=gini, max_depth=8, max_features=log2, n_estimators=500; total time=   2.5s\n",
            "[CV] END criterion=gini, max_depth=8, max_features=log2, n_estimators=500; total time=   1.7s\n",
            "[CV] END criterion=gini, max_depth=8, max_features=log2, n_estimators=500; total time=   1.7s\n",
            "[CV] END criterion=gini, max_depth=8, max_features=log2, n_estimators=500; total time=   1.7s\n",
            "[CV] END criterion=gini, max_depth=8, max_features=log2, n_estimators=500; total time=   1.7s\n",
            "[CV] END criterion=gini, max_depth=8, max_features=log2, n_estimators=800; total time=   2.7s\n",
            "[CV] END criterion=gini, max_depth=8, max_features=log2, n_estimators=800; total time=   3.8s\n",
            "[CV] END criterion=gini, max_depth=8, max_features=log2, n_estimators=800; total time=   2.8s\n",
            "[CV] END criterion=gini, max_depth=8, max_features=log2, n_estimators=800; total time=   2.7s\n",
            "[CV] END criterion=gini, max_depth=8, max_features=log2, n_estimators=800; total time=   2.9s\n",
            "[CV] END criterion=entropy, max_depth=4, max_features=sqrt, n_estimators=1000; total time=   3.8s\n",
            "[CV] END criterion=entropy, max_depth=4, max_features=sqrt, n_estimators=1000; total time=   3.5s\n",
            "[CV] END criterion=entropy, max_depth=4, max_features=sqrt, n_estimators=1000; total time=   2.9s\n",
            "[CV] END criterion=entropy, max_depth=4, max_features=sqrt, n_estimators=1000; total time=   3.0s\n",
            "[CV] END criterion=entropy, max_depth=4, max_features=sqrt, n_estimators=1000; total time=   3.7s\n",
            "[CV] END criterion=entropy, max_depth=4, max_features=sqrt, n_estimators=500; total time=   2.0s\n",
            "[CV] END criterion=entropy, max_depth=4, max_features=sqrt, n_estimators=500; total time=   1.5s\n",
            "[CV] END criterion=entropy, max_depth=4, max_features=sqrt, n_estimators=500; total time=   1.5s\n",
            "[CV] END criterion=entropy, max_depth=4, max_features=sqrt, n_estimators=500; total time=   1.5s\n",
            "[CV] END criterion=entropy, max_depth=4, max_features=sqrt, n_estimators=500; total time=   1.5s\n",
            "[CV] END criterion=entropy, max_depth=4, max_features=sqrt, n_estimators=800; total time=   2.5s\n",
            "[CV] END criterion=entropy, max_depth=4, max_features=sqrt, n_estimators=800; total time=   3.3s\n",
            "[CV] END criterion=entropy, max_depth=4, max_features=sqrt, n_estimators=800; total time=   2.8s\n",
            "[CV] END criterion=entropy, max_depth=4, max_features=sqrt, n_estimators=800; total time=   2.4s\n",
            "[CV] END criterion=entropy, max_depth=4, max_features=sqrt, n_estimators=800; total time=   2.4s\n",
            "[CV] END criterion=entropy, max_depth=4, max_features=log2, n_estimators=1000; total time=   3.0s\n",
            "[CV] END criterion=entropy, max_depth=4, max_features=log2, n_estimators=1000; total time=   4.3s\n",
            "[CV] END criterion=entropy, max_depth=4, max_features=log2, n_estimators=1000; total time=   3.0s\n",
            "[CV] END criterion=entropy, max_depth=4, max_features=log2, n_estimators=1000; total time=   3.1s\n",
            "[CV] END criterion=entropy, max_depth=4, max_features=log2, n_estimators=1000; total time=   3.0s\n",
            "[CV] END criterion=entropy, max_depth=4, max_features=log2, n_estimators=500; total time=   2.2s\n",
            "[CV] END criterion=entropy, max_depth=4, max_features=log2, n_estimators=500; total time=   2.1s\n",
            "[CV] END criterion=entropy, max_depth=4, max_features=log2, n_estimators=500; total time=   1.5s\n",
            "[CV] END criterion=entropy, max_depth=4, max_features=log2, n_estimators=500; total time=   1.5s\n",
            "[CV] END criterion=entropy, max_depth=4, max_features=log2, n_estimators=500; total time=   1.6s\n",
            "[CV] END criterion=entropy, max_depth=4, max_features=log2, n_estimators=800; total time=   2.4s\n",
            "[CV] END criterion=entropy, max_depth=4, max_features=log2, n_estimators=800; total time=   2.4s\n",
            "[CV] END criterion=entropy, max_depth=4, max_features=log2, n_estimators=800; total time=   3.7s\n",
            "[CV] END criterion=entropy, max_depth=4, max_features=log2, n_estimators=800; total time=   2.4s\n",
            "[CV] END criterion=entropy, max_depth=4, max_features=log2, n_estimators=800; total time=   2.5s\n",
            "[CV] END criterion=entropy, max_depth=6, max_features=sqrt, n_estimators=1000; total time=   3.6s\n",
            "[CV] END criterion=entropy, max_depth=6, max_features=sqrt, n_estimators=1000; total time=   4.8s\n",
            "[CV] END criterion=entropy, max_depth=6, max_features=sqrt, n_estimators=1000; total time=   3.7s\n",
            "[CV] END criterion=entropy, max_depth=6, max_features=sqrt, n_estimators=1000; total time=   3.6s\n",
            "[CV] END criterion=entropy, max_depth=6, max_features=sqrt, n_estimators=1000; total time=   4.2s\n",
            "[CV] END criterion=entropy, max_depth=6, max_features=sqrt, n_estimators=500; total time=   2.5s\n",
            "[CV] END criterion=entropy, max_depth=6, max_features=sqrt, n_estimators=500; total time=   1.8s\n",
            "[CV] END criterion=entropy, max_depth=6, max_features=sqrt, n_estimators=500; total time=   1.8s\n",
            "[CV] END criterion=entropy, max_depth=6, max_features=sqrt, n_estimators=500; total time=   1.8s\n",
            "[CV] END criterion=entropy, max_depth=6, max_features=sqrt, n_estimators=500; total time=   1.8s\n",
            "[CV] END criterion=entropy, max_depth=6, max_features=sqrt, n_estimators=800; total time=   3.3s\n",
            "[CV] END criterion=entropy, max_depth=6, max_features=sqrt, n_estimators=800; total time=   3.6s\n",
            "[CV] END criterion=entropy, max_depth=6, max_features=sqrt, n_estimators=800; total time=   2.9s\n",
            "[CV] END criterion=entropy, max_depth=6, max_features=sqrt, n_estimators=800; total time=   2.9s\n",
            "[CV] END criterion=entropy, max_depth=6, max_features=sqrt, n_estimators=800; total time=   2.9s\n",
            "[CV] END criterion=entropy, max_depth=6, max_features=log2, n_estimators=1000; total time=   4.7s\n",
            "[CV] END criterion=entropy, max_depth=6, max_features=log2, n_estimators=1000; total time=   3.5s\n",
            "[CV] END criterion=entropy, max_depth=6, max_features=log2, n_estimators=1000; total time=   3.6s\n",
            "[CV] END criterion=entropy, max_depth=6, max_features=log2, n_estimators=1000; total time=   4.5s\n",
            "[CV] END criterion=entropy, max_depth=6, max_features=log2, n_estimators=1000; total time=   3.9s\n",
            "[CV] END criterion=entropy, max_depth=6, max_features=log2, n_estimators=500; total time=   1.8s\n",
            "[CV] END criterion=entropy, max_depth=6, max_features=log2, n_estimators=500; total time=   1.8s\n",
            "[CV] END criterion=entropy, max_depth=6, max_features=log2, n_estimators=500; total time=   1.8s\n",
            "[CV] END criterion=entropy, max_depth=6, max_features=log2, n_estimators=500; total time=   2.0s\n",
            "[CV] END criterion=entropy, max_depth=6, max_features=log2, n_estimators=500; total time=   2.7s\n",
            "[CV] END criterion=entropy, max_depth=6, max_features=log2, n_estimators=800; total time=   2.8s\n",
            "[CV] END criterion=entropy, max_depth=6, max_features=log2, n_estimators=800; total time=   2.8s\n",
            "[CV] END criterion=entropy, max_depth=6, max_features=log2, n_estimators=800; total time=   2.8s\n",
            "[CV] END criterion=entropy, max_depth=6, max_features=log2, n_estimators=800; total time=   3.4s\n",
            "[CV] END criterion=entropy, max_depth=6, max_features=log2, n_estimators=800; total time=   3.4s\n",
            "[CV] END criterion=entropy, max_depth=8, max_features=sqrt, n_estimators=1000; total time=   3.9s\n",
            "[CV] END criterion=entropy, max_depth=8, max_features=sqrt, n_estimators=1000; total time=   3.9s\n",
            "[CV] END criterion=entropy, max_depth=8, max_features=sqrt, n_estimators=1000; total time=   5.1s\n",
            "[CV] END criterion=entropy, max_depth=8, max_features=sqrt, n_estimators=1000; total time=   3.9s\n",
            "[CV] END criterion=entropy, max_depth=8, max_features=sqrt, n_estimators=1000; total time=   3.9s\n",
            "[CV] END criterion=entropy, max_depth=8, max_features=sqrt, n_estimators=500; total time=   2.5s\n",
            "[CV] END criterion=entropy, max_depth=8, max_features=sqrt, n_estimators=500; total time=   2.6s\n",
            "[CV] END criterion=entropy, max_depth=8, max_features=sqrt, n_estimators=500; total time=   1.9s\n",
            "[CV] END criterion=entropy, max_depth=8, max_features=sqrt, n_estimators=500; total time=   1.9s\n",
            "[CV] END criterion=entropy, max_depth=8, max_features=sqrt, n_estimators=500; total time=   2.0s\n",
            "[CV] END criterion=entropy, max_depth=8, max_features=sqrt, n_estimators=800; total time=   3.2s\n",
            "[CV] END criterion=entropy, max_depth=8, max_features=sqrt, n_estimators=800; total time=   4.3s\n",
            "[CV] END criterion=entropy, max_depth=8, max_features=sqrt, n_estimators=800; total time=   3.1s\n",
            "[CV] END criterion=entropy, max_depth=8, max_features=sqrt, n_estimators=800; total time=   3.2s\n",
            "[CV] END criterion=entropy, max_depth=8, max_features=sqrt, n_estimators=800; total time=   3.2s\n",
            "[CV] END criterion=entropy, max_depth=8, max_features=log2, n_estimators=1000; total time=   5.1s\n",
            "[CV] END criterion=entropy, max_depth=8, max_features=log2, n_estimators=1000; total time=   3.9s\n",
            "[CV] END criterion=entropy, max_depth=8, max_features=log2, n_estimators=1000; total time=   3.9s\n",
            "[CV] END criterion=entropy, max_depth=8, max_features=log2, n_estimators=1000; total time=   5.0s\n",
            "[CV] END criterion=entropy, max_depth=8, max_features=log2, n_estimators=1000; total time=   3.9s\n",
            "[CV] END criterion=entropy, max_depth=8, max_features=log2, n_estimators=500; total time=   2.0s\n",
            "[CV] END criterion=entropy, max_depth=8, max_features=log2, n_estimators=500; total time=   1.9s\n",
            "[CV] END criterion=entropy, max_depth=8, max_features=log2, n_estimators=500; total time=   2.7s\n",
            "[CV] END criterion=entropy, max_depth=8, max_features=log2, n_estimators=500; total time=   2.5s\n",
            "[CV] END criterion=entropy, max_depth=8, max_features=log2, n_estimators=500; total time=   1.9s\n",
            "[CV] END criterion=entropy, max_depth=8, max_features=log2, n_estimators=800; total time=   3.1s\n",
            "[CV] END criterion=entropy, max_depth=8, max_features=log2, n_estimators=800; total time=   3.1s\n",
            "[CV] END criterion=entropy, max_depth=8, max_features=log2, n_estimators=800; total time=   4.2s\n",
            "[CV] END criterion=entropy, max_depth=8, max_features=log2, n_estimators=800; total time=   3.1s\n",
            "[CV] END criterion=entropy, max_depth=8, max_features=log2, n_estimators=800; total time=   3.1s\n"
          ]
        }
      ],
      "source": [
        "start_time = time.time()\n",
        "\n",
        "grid5.fit(X_pc1, y_pc1)\n",
        "pc1_rf_y_pred = grid5.predict(pc1_x_test)\n",
        "\n",
        "time_pc12.append(time.time() - start_time)"
      ]
    },
    {
      "cell_type": "code",
      "execution_count": 89,
      "metadata": {
        "colab": {
          "base_uri": "https://localhost:8080/",
          "height": 0
        },
        "id": "1SYCxAxjMeY9",
        "outputId": "fcfa4920-a8a0-460c-aacc-d2f610c3884e"
      },
      "outputs": [
        {
          "output_type": "stream",
          "name": "stdout",
          "text": [
            "\n",
            "pc1 :  acc ( 0.882883 ) , f1 (0.380952) , auc (0.706311), pre (0.307692), recall(0.500000)\n",
            "\n"
          ]
        }
      ],
      "source": [
        "acc = metrics.accuracy_score(pc1_y_test, pc1_rf_y_pred)\n",
        "f1  = metrics.f1_score(pc1_y_test, pc1_rf_y_pred)\n",
        "auc = metrics.roc_auc_score(pc1_y_test, pc1_rf_y_pred)\n",
        "pre = metrics.precision_score(pc1_y_test, pc1_rf_y_pred)\n",
        "recall = metrics.recall_score(pc1_y_test, pc1_rf_y_pred)\n",
        "print (\"\\npc1 :  acc ( %f ) , f1 (%f) , auc (%f), pre (%f), recall(%f)\\n\"% (acc, f1 , auc, pre, recall))\n",
        "\n",
        "accuracy_pc12.append(acc)\n",
        "pre_pc12.append(pre)\n",
        "auc_pc12.append(auc)\n",
        "recall_pc12.append(recall)\n",
        "f1_pc12.append(f1)"
      ]
    },
    {
      "cell_type": "markdown",
      "metadata": {
        "id": "j_OooZ3AYpGA"
      },
      "source": [
        "## **2) RF + With FS(GA)**"
      ]
    },
    {
      "cell_type": "code",
      "execution_count": 90,
      "metadata": {
        "colab": {
          "base_uri": "https://localhost:8080/",
          "height": 0
        },
        "id": "P1dOaR-mY5Wd",
        "outputId": "fc507d50-675d-41dc-9811-9264f2965b8d"
      },
      "outputs": [
        {
          "output_type": "stream",
          "name": "stdout",
          "text": [
            "Best random search hyperparameters are cm1: {'criterion': 'gini', 'max_depth': 8, 'max_features': 'sqrt', 'n_estimators': 1000}\n"
          ]
        }
      ],
      "source": [
        "ga_grid = GridSearchCV(estimator= est ,param_grid= p_grid)\n",
        "\n",
        "start_time = time.time() #time\n",
        "\n",
        "ga_grid.fit(cm1_ga_x_train, y_cm1)\n",
        "\n",
        "time_cm12.append(time.time() - start_time)\n",
        "\n",
        "cm1_rf_y_pred = ga_grid.predict(cm1_ga_x_test)\n",
        "\n",
        "print('Best random search hyperparameters are cm1: '+str(ga_grid.best_params_))"
      ]
    },
    {
      "cell_type": "code",
      "execution_count": 91,
      "metadata": {
        "colab": {
          "base_uri": "https://localhost:8080/",
          "height": 0
        },
        "id": "bom78xM-b1v8",
        "outputId": "3bd68890-fa63-45ca-abad-7f753480e4fa"
      },
      "outputs": [
        {
          "output_type": "stream",
          "name": "stdout",
          "text": [
            "cm1 :  acc ( 0.760000 ) , f1 (0.100000) , auc (0.489130), pre (0.071429), recall(0.166667)\n"
          ]
        }
      ],
      "source": [
        "acc = metrics.accuracy_score(cm1_y_test, cm1_rf_y_pred)\n",
        "f1  = metrics.f1_score(cm1_y_test, cm1_rf_y_pred)\n",
        "auc = metrics.roc_auc_score(cm1_y_test, cm1_rf_y_pred)\n",
        "pre = metrics.precision_score(cm1_y_test, cm1_rf_y_pred)\n",
        "recall = metrics.recall_score(cm1_y_test, cm1_rf_y_pred)\n",
        "print (\"cm1 :  acc ( %f ) , f1 (%f) , auc (%f), pre (%f), recall(%f)\"% (acc, f1 , auc, pre, recall))\n",
        "\n",
        "accuracy_cm12.append(acc)\n",
        "pre_cm12.append(pre)\n",
        "auc_cm12.append(auc)\n",
        "recall_cm12.append(recall)\n",
        "f1_cm12.append(f1)"
      ]
    },
    {
      "cell_type": "code",
      "execution_count": 92,
      "metadata": {
        "colab": {
          "base_uri": "https://localhost:8080/",
          "height": 0
        },
        "id": "PQqSLL_vaEs2",
        "outputId": "69185c19-89f1-4138-983e-153535884130"
      },
      "outputs": [
        {
          "output_type": "stream",
          "name": "stdout",
          "text": [
            "Best random search hyperparameters are cm1: {'criterion': 'gini', 'max_depth': 8, 'max_features': 'sqrt', 'n_estimators': 500}\n"
          ]
        }
      ],
      "source": [
        "ga_grid2 = GridSearchCV(estimator= est ,param_grid= p_grid)\n",
        "\n",
        "start_time = time.time()\n",
        "\n",
        "ga_grid2.fit(jm1_ga_x_train, y_jm1)\n",
        "jm1_rf_y_pred = ga_grid2.predict(jm1_ga_x_test)\n",
        "\n",
        "time_jm12.append(time.time() - start_time)\n",
        "print('Best random search hyperparameters are cm1: '+str(ga_grid2.best_params_))"
      ]
    },
    {
      "cell_type": "code",
      "execution_count": 93,
      "metadata": {
        "colab": {
          "base_uri": "https://localhost:8080/",
          "height": 0
        },
        "id": "1yZ9p3rxddHd",
        "outputId": "e57327bd-7f0c-4564-f5a5-2bde44ac5af7"
      },
      "outputs": [
        {
          "output_type": "stream",
          "name": "stdout",
          "text": [
            "\n",
            "jm1 :  acc ( 0.758578 ) , f1 (0.426492) , auc (0.642024), pre (0.407510), recall(0.447328)\n"
          ]
        }
      ],
      "source": [
        "acc = metrics.accuracy_score(jm1_y_test, jm1_rf_y_pred)\n",
        "f1  = metrics.f1_score(jm1_y_test, jm1_rf_y_pred)\n",
        "auc = metrics.roc_auc_score(jm1_y_test, jm1_rf_y_pred)\n",
        "pre = metrics.precision_score(jm1_y_test, jm1_rf_y_pred)\n",
        "recall = metrics.recall_score(jm1_y_test, jm1_rf_y_pred)\n",
        "print (\"\\njm1 :  acc ( %f ) , f1 (%f) , auc (%f), pre (%f), recall(%f)\"% (acc, f1 , auc, pre, recall))\n",
        "\n",
        "accuracy_jm12.append(acc)\n",
        "pre_jm12.append(pre)\n",
        "auc_jm12.append(auc)\n",
        "recall_jm12.append(recall)\n",
        "f1_jm12.append(f1)"
      ]
    },
    {
      "cell_type": "code",
      "execution_count": 94,
      "metadata": {
        "colab": {
          "base_uri": "https://localhost:8080/",
          "height": 0
        },
        "id": "wUHEDw95cuBF",
        "outputId": "3d48874e-ae6c-4ee6-cd7d-a2514eef3a71"
      },
      "outputs": [
        {
          "output_type": "stream",
          "name": "stdout",
          "text": [
            "Best random search hyperparameters are kc1: {'criterion': 'gini', 'max_depth': 8, 'max_features': 'log2', 'n_estimators': 1000}\n"
          ]
        }
      ],
      "source": [
        "ga_grid3 = GridSearchCV(estimator= est ,param_grid= p_grid)\n",
        "\n",
        "start_time = time.time()\n",
        "\n",
        "ga_grid3.fit(kc1_ga_x_train, y_kc1)\n",
        "kc1_rf_y_pred = ga_grid3.predict(kc1_ga_x_test)\n",
        "\n",
        "time_kc12.append(time.time() - start_time)\n",
        "print('Best random search hyperparameters are kc1: '+str(ga_grid3.best_params_))"
      ]
    },
    {
      "cell_type": "code",
      "execution_count": 95,
      "metadata": {
        "colab": {
          "base_uri": "https://localhost:8080/",
          "height": 0
        },
        "id": "P0Lpcj0LdeBV",
        "outputId": "9821739a-0ac2-456a-b3d9-a927cac3d027"
      },
      "outputs": [
        {
          "output_type": "stream",
          "name": "stdout",
          "text": [
            "\n",
            "kc1 :  acc ( 0.761453 ) , f1 (0.488136) , auc (0.717045), pre (0.391304), recall(0.648649)\n"
          ]
        }
      ],
      "source": [
        "\n",
        "acc = metrics.accuracy_score(kc1_y_test, kc1_rf_y_pred)\n",
        "f1  = metrics.f1_score(kc1_y_test, kc1_rf_y_pred)\n",
        "auc = metrics.roc_auc_score(kc1_y_test, kc1_rf_y_pred)\n",
        "pre = metrics.precision_score(kc1_y_test, kc1_rf_y_pred)\n",
        "recall = metrics.recall_score(kc1_y_test, kc1_rf_y_pred)\n",
        "print (\"\\nkc1 :  acc ( %f ) , f1 (%f) , auc (%f), pre (%f), recall(%f)\"% (acc, f1 , auc, pre, recall))\n",
        "\n",
        "accuracy_kc12.append(acc)\n",
        "pre_kc12.append(pre)\n",
        "auc_kc12.append(auc)\n",
        "recall_kc12.append(recall)\n",
        "f1_kc12.append(f1)"
      ]
    },
    {
      "cell_type": "code",
      "execution_count": 96,
      "metadata": {
        "colab": {
          "base_uri": "https://localhost:8080/",
          "height": 0
        },
        "id": "WydvB0DCcwKv",
        "outputId": "accbe258-f8d2-4ea0-ea94-0c84aad80e48"
      },
      "outputs": [
        {
          "output_type": "stream",
          "name": "stdout",
          "text": [
            "Best random search hyperparameters are kc2: {'criterion': 'gini', 'max_depth': 8, 'max_features': 'log2', 'n_estimators': 500}\n"
          ]
        }
      ],
      "source": [
        "ga_grid4 = GridSearchCV(estimator= est ,param_grid= p_grid)\n",
        "\n",
        "start_time = time.time()\n",
        "\n",
        "\n",
        "ga_grid4.fit(kc2_ga_x_train, y_kc2)\n",
        "kc2_rf_y_pred= ga_grid4.predict(kc2_ga_x_test)\n",
        "\n",
        "time_kc22.append(time.time() - start_time)\n",
        "\n",
        "print('Best random search hyperparameters are kc2: '+str(ga_grid4.best_params_))"
      ]
    },
    {
      "cell_type": "code",
      "execution_count": 97,
      "metadata": {
        "colab": {
          "base_uri": "https://localhost:8080/",
          "height": 0
        },
        "id": "U0JWgyukfnjw",
        "outputId": "cd3f87ea-9234-440b-a603-6f88e17f1334"
      },
      "outputs": [
        {
          "output_type": "stream",
          "name": "stdout",
          "text": [
            "\n",
            "kc2 :  acc ( 0.802548 ) , f1 (0.597403) , auc (0.739977), pre (0.575000), recall(0.621622)\n"
          ]
        }
      ],
      "source": [
        "acc = metrics.accuracy_score(kc2_y_test, kc2_rf_y_pred)\n",
        "f1  = metrics.f1_score(kc2_y_test, kc2_rf_y_pred)\n",
        "auc = metrics.roc_auc_score(kc2_y_test, kc2_rf_y_pred)\n",
        "pre = metrics.precision_score(kc2_y_test, kc2_rf_y_pred)\n",
        "recall = metrics.recall_score(kc2_y_test, kc2_rf_y_pred)\n",
        "print (\"\\nkc2 :  acc ( %f ) , f1 (%f) , auc (%f), pre (%f), recall(%f)\"% (acc, f1 , auc, pre, recall))\n",
        "\n",
        "accuracy_kc22.append(acc)\n",
        "pre_kc22.append(pre)\n",
        "auc_kc22.append(auc)\n",
        "recall_kc22.append(recall)\n",
        "f1_kc22.append(f1)"
      ]
    },
    {
      "cell_type": "code",
      "execution_count": 98,
      "metadata": {
        "colab": {
          "base_uri": "https://localhost:8080/",
          "height": 0
        },
        "id": "kB3-JYsRcxps",
        "outputId": "85b54aad-f0c7-4b19-f553-0ec3149c0881"
      },
      "outputs": [
        {
          "output_type": "stream",
          "name": "stdout",
          "text": [
            "Best random search hyperparameters are pc1: {'criterion': 'gini', 'max_depth': 8, 'max_features': 'sqrt', 'n_estimators': 500}\n"
          ]
        }
      ],
      "source": [
        "ga_grid5 = GridSearchCV(estimator= est ,param_grid= p_grid)\n",
        "\n",
        "start_time = time.time()\n",
        "\n",
        "ga_grid5.fit(pc1_ga_x_train, y_pc1)\n",
        "pc1_rf_y_pred = ga_grid5.predict(pc1_ga_x_test)\n",
        "\n",
        "time_pc12.append(time.time() - start_time)\n",
        "\n",
        "print('Best random search hyperparameters are pc1: '+str(ga_grid5.best_params_))"
      ]
    },
    {
      "cell_type": "code",
      "execution_count": 99,
      "metadata": {
        "colab": {
          "base_uri": "https://localhost:8080/",
          "height": 0
        },
        "id": "CEs4hN_GlYc5",
        "outputId": "0c359c43-3c32-4919-89a3-1cfb4fb36ca0"
      },
      "outputs": [
        {
          "output_type": "stream",
          "name": "stdout",
          "text": [
            "\n",
            "pc1 :  acc ( 0.861862 ) , f1 (0.394737) , auc (0.752629), pre (0.288462), recall(0.625000)\n",
            "\n"
          ]
        }
      ],
      "source": [
        "acc = metrics.accuracy_score(pc1_y_test, pc1_rf_y_pred)\n",
        "f1  = metrics.f1_score(pc1_y_test, pc1_rf_y_pred)\n",
        "auc = metrics.roc_auc_score(pc1_y_test, pc1_rf_y_pred)\n",
        "pre = metrics.precision_score(pc1_y_test, pc1_rf_y_pred)\n",
        "recall = metrics.recall_score(pc1_y_test, pc1_rf_y_pred)\n",
        "print (\"\\npc1 :  acc ( %f ) , f1 (%f) , auc (%f), pre (%f), recall(%f)\\n\"% (acc, f1 , auc, pre, recall))\n",
        "\n",
        "accuracy_pc12.append(acc)\n",
        "pre_pc12.append(pre)\n",
        "auc_pc12.append(auc)\n",
        "recall_pc12.append(recall)\n",
        "f1_pc12.append(f1)"
      ]
    },
    {
      "cell_type": "markdown",
      "metadata": {
        "id": "_9CtlhsUrVW5"
      },
      "source": [
        "## **3) RF + With FS(MVO)**"
      ]
    },
    {
      "cell_type": "code",
      "execution_count": 100,
      "metadata": {
        "colab": {
          "base_uri": "https://localhost:8080/",
          "height": 0
        },
        "id": "nqrH6LKSrVXG",
        "outputId": "043eab57-ad1e-4b6a-84ae-50276b4b4d83"
      },
      "outputs": [
        {
          "output_type": "stream",
          "name": "stdout",
          "text": [
            "Best random search hyperparameters are cm1: {'criterion': 'gini', 'max_depth': 8, 'max_features': 'log2', 'n_estimators': 800}\n"
          ]
        }
      ],
      "source": [
        "mvo_grid = GridSearchCV(estimator= est ,param_grid= p_grid)\n",
        "\n",
        "\n",
        "start_time = time.time() #time\n",
        "\n",
        "\n",
        "mvo_grid.fit(cm1_mvo_x_train, y_cm1)\n",
        "cm1_rf_y_pred = mvo_grid.predict(cm1_mvo_x_test)\n",
        "\n",
        "time_cm12.append(time.time() - start_time)\n",
        "\n",
        "print('Best random search hyperparameters are cm1: ' + str(mvo_grid.best_params_))"
      ]
    },
    {
      "cell_type": "code",
      "execution_count": 101,
      "metadata": {
        "colab": {
          "base_uri": "https://localhost:8080/",
          "height": 0
        },
        "id": "1jI7vWmdrVXH",
        "outputId": "e7834214-debf-476e-bccd-9f4acea1fdda"
      },
      "outputs": [
        {
          "output_type": "stream",
          "name": "stdout",
          "text": [
            "cm1 :  acc ( 0.813333 ) , f1 (0.125000) , auc (0.518116), pre (0.100000), recall(0.166667)\n"
          ]
        }
      ],
      "source": [
        "acc = metrics.accuracy_score(cm1_y_test, cm1_rf_y_pred)\n",
        "f1  = metrics.f1_score(cm1_y_test, cm1_rf_y_pred)\n",
        "auc = metrics.roc_auc_score(cm1_y_test, cm1_rf_y_pred)\n",
        "pre = metrics.precision_score(cm1_y_test, cm1_rf_y_pred)\n",
        "recall = metrics.recall_score(cm1_y_test, cm1_rf_y_pred)\n",
        "print (\"cm1 :  acc ( %f ) , f1 (%f) , auc (%f), pre (%f), recall(%f)\"% (acc, f1 , auc, pre, recall))\n",
        "\n",
        "accuracy_cm12.append(acc)\n",
        "pre_cm12.append(pre)\n",
        "auc_cm12.append(auc)\n",
        "recall_cm12.append(recall)\n",
        "f1_cm12.append(f1)"
      ]
    },
    {
      "cell_type": "code",
      "execution_count": 102,
      "metadata": {
        "id": "yS9PlJv8rVXH",
        "colab": {
          "base_uri": "https://localhost:8080/",
          "height": 0
        },
        "outputId": "5db1347b-7b6a-469d-81a5-484da0cd7183"
      },
      "outputs": [
        {
          "output_type": "stream",
          "name": "stdout",
          "text": [
            "Best random search hyperparameters are jm1: {'criterion': 'gini', 'max_depth': 8, 'max_features': 'sqrt', 'n_estimators': 800}\n"
          ]
        }
      ],
      "source": [
        "mvo_grid2 = GridSearchCV(estimator= est ,param_grid= p_grid)\n",
        "\n",
        "\n",
        "start_time = time.time() #time\n",
        "\n",
        "mvo_grid2.fit(jm1_mvo_x_train, y_jm1)\n",
        "jm1_rf_y_pred = mvo_grid2.predict(jm1_mvo_x_test)\n",
        "\n",
        "time_jm12.append(time.time() - start_time)\n",
        "\n",
        "\n",
        "print('Best random search hyperparameters are jm1: '+str(mvo_grid2.best_params_))"
      ]
    },
    {
      "cell_type": "code",
      "execution_count": 103,
      "metadata": {
        "id": "vl8Y56y6rVXI",
        "colab": {
          "base_uri": "https://localhost:8080/",
          "height": 0
        },
        "outputId": "5781fe33-e6a3-42aa-9e84-848d1708febf"
      },
      "outputs": [
        {
          "output_type": "stream",
          "name": "stdout",
          "text": [
            "\n",
            "jm1 :  acc ( 0.742341 ) , f1 (0.418798) , auc (0.637584), pre (0.382576), recall(0.462595)\n"
          ]
        }
      ],
      "source": [
        "acc = metrics.accuracy_score(jm1_y_test, jm1_rf_y_pred)\n",
        "f1  = metrics.f1_score(jm1_y_test, jm1_rf_y_pred)\n",
        "auc = metrics.roc_auc_score(jm1_y_test, jm1_rf_y_pred)\n",
        "pre = metrics.precision_score(jm1_y_test, jm1_rf_y_pred)\n",
        "recall = metrics.recall_score(jm1_y_test, jm1_rf_y_pred)\n",
        "print (\"\\njm1 :  acc ( %f ) , f1 (%f) , auc (%f), pre (%f), recall(%f)\"% (acc, f1 , auc, pre, recall))\n",
        "\n",
        "accuracy_jm12.append(acc)\n",
        "pre_jm12.append(pre)\n",
        "auc_jm12.append(auc)\n",
        "recall_jm12.append(recall)\n",
        "f1_jm12.append(f1)"
      ]
    },
    {
      "cell_type": "code",
      "execution_count": 108,
      "metadata": {
        "id": "icPjh2n9rVXI",
        "colab": {
          "base_uri": "https://localhost:8080/",
          "height": 0
        },
        "outputId": "42efbf03-3e31-4c2a-c39f-47c80ccf0311"
      },
      "outputs": [
        {
          "output_type": "stream",
          "name": "stdout",
          "text": [
            "Best random search hyperparameters are cm1: {'criterion': 'gini', 'max_depth': 8, 'max_features': 'log2', 'n_estimators': 500}\n"
          ]
        }
      ],
      "source": [
        "mvo_grid3 = GridSearchCV(estimator= est ,param_grid= p_grid)\n",
        "\n",
        "start_time = time.time() #time\n",
        "\n",
        "mvo_grid3.fit(kc1_mvo_x_train, y_kc1)\n",
        "kc1_rf_y_pred = mvo_grid3.predict(kc1_mvo_x_test)\n",
        "\n",
        "time_kc12.append(time.time() - start_time)\n",
        "\n",
        "print('Best random search hyperparameters are cm1: ' + str(mvo_grid3.best_params_))"
      ]
    },
    {
      "cell_type": "code",
      "execution_count": 109,
      "metadata": {
        "id": "_RvjMY_prVXI",
        "colab": {
          "base_uri": "https://localhost:8080/",
          "height": 0
        },
        "outputId": "3b3e8316-beb2-4bbd-de4d-279948274559"
      },
      "outputs": [
        {
          "output_type": "stream",
          "name": "stdout",
          "text": [
            "\n",
            "kc1 :  acc ( 0.788310 ) , f1 (0.496241) , auc (0.712048), pre (0.425806), recall(0.594595)\n"
          ]
        }
      ],
      "source": [
        "\n",
        "acc = metrics.accuracy_score(kc1_y_test, kc1_rf_y_pred)\n",
        "f1  = metrics.f1_score(kc1_y_test, kc1_rf_y_pred)\n",
        "auc = metrics.roc_auc_score(kc1_y_test, kc1_rf_y_pred)\n",
        "pre = metrics.precision_score(kc1_y_test, kc1_rf_y_pred)\n",
        "recall = metrics.recall_score(kc1_y_test, kc1_rf_y_pred)\n",
        "print (\"\\nkc1 :  acc ( %f ) , f1 (%f) , auc (%f), pre (%f), recall(%f)\"% (acc, f1 , auc, pre, recall))\n",
        "\n",
        "accuracy_kc12.append(acc)\n",
        "pre_kc12.append(pre)\n",
        "auc_kc12.append(auc)\n",
        "recall_kc12.append(recall)\n",
        "f1_kc12.append(f1)\n"
      ]
    },
    {
      "cell_type": "code",
      "execution_count": 110,
      "metadata": {
        "id": "oxTGrkjCrVXJ",
        "colab": {
          "base_uri": "https://localhost:8080/",
          "height": 0
        },
        "outputId": "aff1ced7-a379-41d9-f9d9-39b053bb3d64"
      },
      "outputs": [
        {
          "output_type": "stream",
          "name": "stdout",
          "text": [
            "Best random search hyperparameters are cm1: {'criterion': 'gini', 'max_depth': 8, 'max_features': 'sqrt', 'n_estimators': 800}\n"
          ]
        }
      ],
      "source": [
        "mvo_grid4 = GridSearchCV(estimator= est ,param_grid= p_grid)\n",
        "\n",
        "start_time = time.time() #time\n",
        "\n",
        "mvo_grid4.fit(kc2_mvo_x_train, y_kc2)\n",
        "kc2_rf_y_pred= mvo_grid4.predict(kc2_mvo_x_test)\n",
        "\n",
        "time_kc22.append(time.time() - start_time)\n",
        "\n",
        "print('Best random search hyperparameters are cm1: '+str(mvo_grid4.best_params_))"
      ]
    },
    {
      "cell_type": "code",
      "execution_count": 111,
      "metadata": {
        "id": "2uNhb1rXrVXJ",
        "colab": {
          "base_uri": "https://localhost:8080/",
          "height": 0
        },
        "outputId": "986bd1f3-27f4-4cc2-b372-4765a94e78e7"
      },
      "outputs": [
        {
          "output_type": "stream",
          "name": "stdout",
          "text": [
            "\n",
            "kc2 :  acc ( 0.808917 ) , f1 (0.571429) , auc (0.716104), pre (0.606061), recall(0.540541)\n"
          ]
        }
      ],
      "source": [
        "acc = metrics.accuracy_score(kc2_y_test, kc2_rf_y_pred)\n",
        "f1  = metrics.f1_score(kc2_y_test, kc2_rf_y_pred)\n",
        "auc = metrics.roc_auc_score(kc2_y_test, kc2_rf_y_pred)\n",
        "pre = metrics.precision_score(kc2_y_test, kc2_rf_y_pred)\n",
        "recall = metrics.recall_score(kc2_y_test, kc2_rf_y_pred)\n",
        "print (\"\\nkc2 :  acc ( %f ) , f1 (%f) , auc (%f), pre (%f), recall(%f)\"% (acc, f1 , auc, pre, recall))\n",
        "\n",
        "accuracy_kc22.append(acc)\n",
        "pre_kc22.append(pre)\n",
        "auc_kc22.append(auc)\n",
        "recall_kc22.append(recall)\n",
        "f1_kc22.append(f1)"
      ]
    },
    {
      "cell_type": "code",
      "execution_count": 112,
      "metadata": {
        "id": "f1A69bEjrVXJ",
        "colab": {
          "base_uri": "https://localhost:8080/",
          "height": 0
        },
        "outputId": "d002d874-b12e-431d-ae91-60989bc726f7"
      },
      "outputs": [
        {
          "output_type": "stream",
          "name": "stdout",
          "text": [
            "Best random search hyperparameters are cm1: {'criterion': 'gini', 'max_depth': 8, 'max_features': 'sqrt', 'n_estimators': 500}\n"
          ]
        }
      ],
      "source": [
        "mvo_grid5 = GridSearchCV(estimator= est ,param_grid= p_grid)\n",
        "\n",
        "start_time = time.time() #time\n",
        "\n",
        "mvo_grid5.fit(pc1_mvo_x_train, y_pc1)\n",
        "pc1_rf_y_pred = mvo_grid5.predict(pc1_mvo_x_test)\n",
        "\n",
        "time_pc12.append(time.time() - start_time)\n",
        "\n",
        "print('Best random search hyperparameters are cm1: '+str(mvo_grid5.best_params_))"
      ]
    },
    {
      "cell_type": "code",
      "execution_count": 113,
      "metadata": {
        "id": "84NX90i3rVXK",
        "colab": {
          "base_uri": "https://localhost:8080/",
          "height": 0
        },
        "outputId": "441bfa32-64dd-4294-8e90-07653dea6a36"
      },
      "outputs": [
        {
          "output_type": "stream",
          "name": "stdout",
          "text": [
            "\n",
            "pc1 :  acc ( 0.846847 ) , f1 (0.370370) , auc (0.744539), pre (0.263158), recall(0.625000)\n",
            "\n"
          ]
        }
      ],
      "source": [
        "acc = metrics.accuracy_score(pc1_y_test, pc1_rf_y_pred)\n",
        "f1  = metrics.f1_score(pc1_y_test, pc1_rf_y_pred)\n",
        "auc = metrics.roc_auc_score(pc1_y_test, pc1_rf_y_pred)\n",
        "pre = metrics.precision_score(pc1_y_test, pc1_rf_y_pred)\n",
        "recall = metrics.recall_score(pc1_y_test, pc1_rf_y_pred)\n",
        "print (\"\\npc1 :  acc ( %f ) , f1 (%f) , auc (%f), pre (%f), recall(%f)\\n\"% (acc, f1 , auc, pre, recall))\n",
        "\n",
        "accuracy_pc12.append(acc)\n",
        "pre_pc12.append(pre)\n",
        "auc_pc12.append(auc)\n",
        "recall_pc12.append(recall)\n",
        "f1_pc12.append(f1)"
      ]
    },
    {
      "cell_type": "markdown",
      "metadata": {
        "id": "hbXhPdHw92e9"
      },
      "source": [
        "# **RF Model Comparisons**"
      ]
    },
    {
      "cell_type": "markdown",
      "metadata": {
        "id": "1zBbA7pu92fu"
      },
      "source": [
        "## 1) jm1 Dataset"
      ]
    },
    {
      "cell_type": "code",
      "execution_count": 154,
      "metadata": {
        "colab": {
          "base_uri": "https://localhost:8080/",
          "height": 519
        },
        "id": "EkwGJhiY92fu",
        "outputId": "49062bae-6820-4770-b1a3-93511694d13e"
      },
      "outputs": [
        {
          "output_type": "stream",
          "name": "stdout",
          "text": [
            "[0 1 2]\n"
          ]
        },
        {
          "output_type": "execute_result",
          "data": {
            "text/plain": [
              "<matplotlib.legend.Legend at 0x7eda0a3b2050>"
            ]
          },
          "metadata": {},
          "execution_count": 154
        },
        {
          "output_type": "display_data",
          "data": {
            "text/plain": [
              "<Figure size 640x480 with 1 Axes>"
            ],
            "image/png": "[encoded data removed]"
          },
          "metadata": {}
        }
      ],
      "source": [
        "from pylab import *\n",
        "\n",
        "#data to plot\n",
        "n_groups = 3 # without features, with GA, with MVO\n",
        "\n",
        "#create plot\n",
        "fig, ax = subplots()\n",
        "index = arange(n_groups)\n",
        "print(index)\n",
        "bar_width = 0.1\n",
        "opacity = 0.7\n",
        "\n",
        "\n",
        "rects1 = bar(index, accuracy_jm12, bar_width, alpha = opacity, color = 'orange', label = 'Accuracy')\n",
        "rects2 = bar(index+bar_width, auc_jm12, bar_width, alpha = opacity, color = 'blue', label = 'ROC Area')\n",
        "rects3 = bar(index+bar_width*2, recall_jm12, bar_width, alpha = opacity, color = 'yellow', label = 'Recall')\n",
        "rects4 = bar(index+bar_width*3, f1_jm12, bar_width, alpha = opacity, color = 'green', label = 'F-measure')\n",
        "rects5 = bar(index+bar_width*4, pre_jm12, bar_width, alpha = opacity, color = 'grey', label = 'Precision')\n",
        "\n",
        "\n",
        "xticks(index+bar_width, ('RF', 'RF+GA', 'RF+MVO'))\n",
        "legend()\n",
        "legend(loc =\"center right\", bbox_to_anchor=(1.1, 1.0))"
      ]
    },
    {
      "cell_type": "markdown",
      "metadata": {
        "id": "2Gr4-Bb092fv"
      },
      "source": [
        "## 2) cm1 Dataset"
      ]
    },
    {
      "cell_type": "code",
      "execution_count": 155,
      "metadata": {
        "colab": {
          "base_uri": "https://localhost:8080/",
          "height": 519
        },
        "id": "VXqQhE-n92fw",
        "outputId": "309ef954-5edc-4385-ba81-6944b539e63c"
      },
      "outputs": [
        {
          "output_type": "stream",
          "name": "stdout",
          "text": [
            "[0 1 2]\n"
          ]
        },
        {
          "output_type": "execute_result",
          "data": {
            "text/plain": [
              "<matplotlib.legend.Legend at 0x7eda0a259870>"
            ]
          },
          "metadata": {},
          "execution_count": 155
        },
        {
          "output_type": "display_data",
          "data": {
            "text/plain": [
              "<Figure size 640x480 with 1 Axes>"
            ],
            "image/png": "[encoded data removed]"
          },
          "metadata": {}
        }
      ],
      "source": [
        "from pylab import *\n",
        "\n",
        "#data to plot\n",
        "n_groups = 3 # without features, with GA, with MVO\n",
        "\n",
        "#create plot\n",
        "fig, ax = subplots()\n",
        "index = arange(n_groups)\n",
        "print(index)\n",
        "bar_width = 0.10\n",
        "opacity = 0.7\n",
        "\n",
        "\n",
        "rects1 = bar(index, accuracy_cm12, bar_width, alpha = opacity, color = 'orange', label = 'Accuracy')\n",
        "rects2 = bar(index+bar_width, auc_cm12, bar_width, alpha = opacity, color = 'blue', label = 'ROC Area')\n",
        "rects3 = bar(index+bar_width*2, recall_cm12, bar_width, alpha = opacity, color = 'yellow', label = 'Recall')\n",
        "rects4 = bar(index+bar_width*3, f1_cm12, bar_width, alpha = opacity, color = 'green', label = 'F-measure')\n",
        "rects5 = bar(index+bar_width*4, pre_cm12, bar_width, alpha = opacity, color = 'grey', label = 'Precision')\n",
        "\n",
        "\n",
        "xticks(index+bar_width, ('RF', 'RF+GA', 'RF+MVO'))\n",
        "legend()\n",
        "legend(loc =\"center right\", bbox_to_anchor=(1.1, 1.0))"
      ]
    },
    {
      "cell_type": "markdown",
      "metadata": {
        "id": "ajMrj-TJ92fw"
      },
      "source": [
        "## 3) kc1 Dataset"
      ]
    },
    {
      "cell_type": "code",
      "execution_count": 156,
      "metadata": {
        "colab": {
          "base_uri": "https://localhost:8080/",
          "height": 519
        },
        "id": "Qcv344dl92fx",
        "outputId": "5255fe7a-a07a-4eea-a2c3-de15a2736501"
      },
      "outputs": [
        {
          "output_type": "stream",
          "name": "stdout",
          "text": [
            "[0 1 2]\n"
          ]
        },
        {
          "output_type": "execute_result",
          "data": {
            "text/plain": [
              "<matplotlib.legend.Legend at 0x7eda0a2e9c00>"
            ]
          },
          "metadata": {},
          "execution_count": 156
        },
        {
          "output_type": "display_data",
          "data": {
            "text/plain": [
              "<Figure size 640x480 with 1 Axes>"
            ],
            "image/png": "[encoded data removed]"
          },
          "metadata": {}
        }
      ],
      "source": [
        "from pylab import *\n",
        "\n",
        "#data to plot\n",
        "n_groups = 3 # without features, with GA, with MVO\n",
        "\n",
        "#create plot\n",
        "fig, ax = subplots()\n",
        "index = arange(n_groups)\n",
        "print(index)\n",
        "bar_width = 0.10\n",
        "opacity = 0.7\n",
        "\n",
        "\n",
        "rects1 = bar(index, accuracy_kc12, bar_width, alpha = opacity, color = 'orange', label = 'Accuracy')\n",
        "rects2 = bar(index+bar_width, auc_kc12, bar_width, alpha = opacity, color = 'blue', label = 'ROC Area')\n",
        "rects3 = bar(index+bar_width*2, recall_kc12, bar_width, alpha = opacity, color = 'yellow', label = 'Recall')\n",
        "rects4 = bar(index+bar_width*3, f1_kc12, bar_width, alpha = opacity, color = 'green', label = 'F-measure')\n",
        "rects5 = bar(index+bar_width*4, pre_kc12, bar_width, alpha = opacity, color = 'grey', label = 'Precision')\n",
        "\n",
        "\n",
        "xticks(index+bar_width, ('RF', 'RF+GA', 'RF+MVO'))\n",
        "legend()\n",
        "legend(loc =\"center right\", bbox_to_anchor=(1.1, 1.0))"
      ]
    },
    {
      "cell_type": "markdown",
      "metadata": {
        "id": "vG5QlCN-92fx"
      },
      "source": [
        "## 4) kc2 Dataset"
      ]
    },
    {
      "cell_type": "code",
      "execution_count": 157,
      "metadata": {
        "colab": {
          "base_uri": "https://localhost:8080/",
          "height": 519
        },
        "id": "FSqE8FRh92fx",
        "outputId": "b279d887-f51b-4ac8-8ef2-b6edaf650010"
      },
      "outputs": [
        {
          "output_type": "stream",
          "name": "stdout",
          "text": [
            "[0 1 2]\n"
          ]
        },
        {
          "output_type": "execute_result",
          "data": {
            "text/plain": [
              "<matplotlib.legend.Legend at 0x7eda0a195cc0>"
            ]
          },
          "metadata": {},
          "execution_count": 157
        },
        {
          "output_type": "display_data",
          "data": {
            "text/plain": [
              "<Figure size 640x480 with 1 Axes>"
            ],
            "image/png": "[encoded data removed]"
          },
          "metadata": {}
        }
      ],
      "source": [
        "from pylab import *\n",
        "\n",
        "#data to plot\n",
        "n_groups = 3 # without features, with GA, with MVO\n",
        "\n",
        "#create plot\n",
        "fig, ax = subplots()\n",
        "index = arange(n_groups)\n",
        "print(index)\n",
        "bar_width = 0.10\n",
        "opacity = 0.7\n",
        "\n",
        "\n",
        "rects1 = bar(index, accuracy_kc22, bar_width, alpha = opacity, color = 'orange', label = 'Accuracy')\n",
        "rects2 = bar(index+bar_width, auc_kc22, bar_width, alpha = opacity, color = 'blue', label = 'ROC Area')\n",
        "rects3 = bar(index+bar_width*2, recall_kc22, bar_width, alpha = opacity, color = 'yellow', label = 'Recall')\n",
        "rects4 = bar(index+bar_width*3, f1_kc22, bar_width, alpha = opacity, color = 'green', label = 'F-measure')\n",
        "rects5 = bar(index+bar_width*4, pre_kc22, bar_width, alpha = opacity, color = 'grey', label = 'Precision')\n",
        "\n",
        "\n",
        "xticks(index+bar_width, ('RF', 'RF+GA', 'RF+MVO'))\n",
        "legend()\n",
        "legend(loc =\"center right\", bbox_to_anchor=(1.1, 1.0))"
      ]
    },
    {
      "cell_type": "markdown",
      "metadata": {
        "id": "qi3jjQoZ92fy"
      },
      "source": [
        "## 5) pc1 Dataset"
      ]
    },
    {
      "cell_type": "code",
      "execution_count": 158,
      "metadata": {
        "colab": {
          "base_uri": "https://localhost:8080/",
          "height": 519
        },
        "id": "YoJTJfsk92fy",
        "outputId": "b44e2863-04ca-4edc-9bf0-99d93cddde15"
      },
      "outputs": [
        {
          "output_type": "stream",
          "name": "stdout",
          "text": [
            "[0 1 2]\n"
          ]
        },
        {
          "output_type": "execute_result",
          "data": {
            "text/plain": [
              "<matplotlib.legend.Legend at 0x7eda0a1ece20>"
            ]
          },
          "metadata": {},
          "execution_count": 158
        },
        {
          "output_type": "display_data",
          "data": {
            "text/plain": [
              "<Figure size 640x480 with 1 Axes>"
            ],
            "image/png": "[encoded data removed]"
          },
          "metadata": {}
        }
      ],
      "source": [
        "from pylab import *\n",
        "\n",
        "#data to plot\n",
        "n_groups = 3 # without features, with GA, with MVO\n",
        "\n",
        "#create plot\n",
        "fig, ax = subplots()\n",
        "index = arange(n_groups)\n",
        "print(index)\n",
        "bar_width = 0.10\n",
        "opacity = 0.7\n",
        "\n",
        "\n",
        "rects1 = bar(index, accuracy_pc12, bar_width, alpha = opacity, color = 'orange', label = 'Accuracy')\n",
        "rects2 = bar(index+bar_width, auc_pc12, bar_width, alpha = opacity, color = 'blue', label = 'ROC Area')\n",
        "rects3 = bar(index+bar_width*2, recall_pc12, bar_width, alpha = opacity, color = 'yellow', label = 'Recall')\n",
        "rects4 = bar(index+bar_width*3, f1_pc12, bar_width, alpha = opacity, color = 'green', label = 'F-measure')\n",
        "rects5 = bar(index+bar_width*4, pre_pc12, bar_width, alpha = opacity, color = 'grey', label = 'Precision')\n",
        "\n",
        "\n",
        "xticks(index+bar_width, ('RF', 'RF+GA', 'RF+MVO'))\n",
        "legend()\n",
        "legend(loc =\"center right\", bbox_to_anchor=(1.1, 1.0))"
      ]
    },
    {
      "cell_type": "markdown",
      "source": [
        "## mesure time [rf models]"
      ],
      "metadata": {
        "id": "qomxnrUL7rmx"
      }
    },
    {
      "cell_type": "code",
      "source": [
        "import matplotlib.pyplot as plt\n",
        "import seaborn as sns"
      ],
      "metadata": {
        "id": "WJnPbKdS7rm-"
      },
      "execution_count": 184,
      "outputs": []
    },
    {
      "cell_type": "code",
      "source": [
        "model = 'RF', 'RF+GA', 'RF+MVO'"
      ],
      "metadata": {
        "id": "M22L7_nm7rm_"
      },
      "execution_count": 185,
      "outputs": []
    },
    {
      "cell_type": "code",
      "source": [
        "plt.plot(model, time_jm12, marker ='s')\n",
        "plt.legend(['time (secs)'])\n",
        "plt.grid(True)"
      ],
      "metadata": {
        "colab": {
          "base_uri": "https://localhost:8080/",
          "height": 430
        },
        "id": "1J-eBiOg7rm_",
        "outputId": "d4e6d0a8-e8af-434b-d1da-1d0e2b9a3965"
      },
      "execution_count": 186,
      "outputs": [
        {
          "output_type": "display_data",
          "data": {
            "text/plain": [
              "<Figure size 640x480 with 1 Axes>"
            ],
            "image/png": "[encoded data removed]"
          },
          "metadata": {}
        }
      ]
    },
    {
      "cell_type": "code",
      "source": [
        "plt.plot(model, time_cm12, marker ='s')\n",
        "plt.legend(['time (secs)'])\n",
        "plt.grid(True)"
      ],
      "metadata": {
        "colab": {
          "base_uri": "https://localhost:8080/",
          "height": 430
        },
        "id": "mOTNrl3X7rm_",
        "outputId": "88b27201-72a4-4076-88b2-f0a3db23af5d"
      },
      "execution_count": 187,
      "outputs": [
        {
          "output_type": "display_data",
          "data": {
            "text/plain": [
              "<Figure size 640x480 with 1 Axes>"
            ],
            "image/png": "[encoded data removed]"
          },
          "metadata": {}
        }
      ]
    },
    {
      "cell_type": "code",
      "source": [
        "plt.plot(model, time_kc12, marker ='s')\n",
        "plt.legend(['time (secs)'])\n",
        "plt.grid(True)"
      ],
      "metadata": {
        "colab": {
          "base_uri": "https://localhost:8080/",
          "height": 430
        },
        "id": "4G-i4pvT7rm_",
        "outputId": "f94d411f-ee2b-4dfc-beab-75d4d8c4fbc6"
      },
      "execution_count": 188,
      "outputs": [
        {
          "output_type": "display_data",
          "data": {
            "text/plain": [
              "<Figure size 640x480 with 1 Axes>"
            ],
            "image/png": "[encoded data removed]"
          },
          "metadata": {}
        }
      ]
    },
    {
      "cell_type": "code",
      "source": [
        "plt.plot(model, time_kc22, marker ='s')\n",
        "plt.legend(['time (secs)'])\n",
        "plt.grid(True)"
      ],
      "metadata": {
        "colab": {
          "base_uri": "https://localhost:8080/",
          "height": 430
        },
        "id": "Ydig1Ke67rm_",
        "outputId": "4b2e41c7-19c2-46a4-95f5-f266f3948020"
      },
      "execution_count": 189,
      "outputs": [
        {
          "output_type": "display_data",
          "data": {
            "text/plain": [
              "<Figure size 640x480 with 1 Axes>"
            ],
            "image/png": "[encoded data removed]"
          },
          "metadata": {}
        }
      ]
    },
    {
      "cell_type": "code",
      "source": [
        "plt.plot(model, time_pc12, marker ='s')\n",
        "plt.legend(['time (secs)'])\n",
        "plt.grid(True)"
      ],
      "metadata": {
        "colab": {
          "base_uri": "https://localhost:8080/",
          "height": 430
        },
        "id": "HSGgY_B522d6",
        "outputId": "391cb3af-674c-436d-8c64-66a81896eb10"
      },
      "execution_count": 190,
      "outputs": [
        {
          "output_type": "display_data",
          "data": {
            "text/plain": [
              "<Figure size 640x480 with 1 Axes>"
            ],
            "image/png": "[encoded data removed]"
          },
          "metadata": {}
        }
      ]
    }
  ],
  "metadata": {
    "colab": {
      "collapsed_sections": [
        "iYoaWc_8X0yZ",
        "BfDR3s-zbDnL",
        "r8541npaD5sT",
        "dFyZmQBOZA20",
        "j_OooZ3AYpGA",
        "_9CtlhsUrVW5",
        "hbXhPdHw92e9"
      ],
      "provenance": [],
      "toc_visible": true
    },
    "kernelspec": {
      "display_name": "Python 3",
      "name": "python3"
    },
    "language_info": {
      "name": "python"
    }
  },
  "nbformat": 4,
  "nbformat_minor": 0
}