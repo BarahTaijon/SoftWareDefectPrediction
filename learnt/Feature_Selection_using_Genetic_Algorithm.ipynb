{
  "nbformat": 4,
  "nbformat_minor": 0,
  "metadata": {
    "colab": {
      "provenance": []
    },
    "kernelspec": {
      "name": "python3",
      "display_name": "Python 3"
    },
    "language_info": {
      "name": "python"
    }
  },
  "cells": [
    {
      "cell_type": "code",
      "source": [
        "from sklearn.model_selection import train_test_split\n",
        "import numpy as np # linear algebra\n",
        "from sklearn.ensemble import RandomForestClassifier\n",
        "from sklearn.datasets import load_iris"
      ],
      "metadata": {
        "id": "DaIKeVL2IwX-"
      },
      "execution_count": 35,
      "outputs": []
    },
    {
      "cell_type": "code",
      "source": [
        "all = load_iris()\n",
        "features = all.data\n",
        "labels = all.target\n",
        "\n",
        "'''\n",
        "print(feature.shape)\n",
        "print(label.shape)\n",
        "'''"
      ],
      "metadata": {
        "colab": {
          "base_uri": "https://localhost:8080/",
          "height": 35
        },
        "id": "Kl2jfDK9oyar",
        "outputId": "4f9d183e-311c-4ca8-f9c2-67278764e8d3"
      },
      "execution_count": 36,
      "outputs": [
        {
          "output_type": "execute_result",
          "data": {
            "text/plain": [
              "'\\nprint(feature.shape)\\nprint(label.shape)\\n'"
            ],
            "application/vnd.google.colaboratory.intrinsic+json": {
              "type": "string"
            }
          },
          "metadata": {},
          "execution_count": 36
        }
      ]
    },
    {
      "cell_type": "code",
      "source": [
        "features_tain, features_test, label_train, label_test = train_test_split (features, labels, test_size=.3, random_state=42)\n"
      ],
      "metadata": {
        "id": "snd29JxgE7zk"
      },
      "execution_count": 37,
      "outputs": []
    },
    {
      "cell_type": "markdown",
      "source": [
        "#fittness function"
      ],
      "metadata": {
        "id": "HLbcqxocHKuD"
      }
    },
    {
      "cell_type": "code",
      "source": [
        " def fitness(featu):\n",
        "  features_train_sub = features_tain[:,featu]\n",
        "  featrues_test_sub = features_test[:,featu]\n",
        "  clf = RandomForestClassifier()\n",
        "  clf.fit(features_train_sub, label_train)\n",
        "  return clf.score(featrues_test_sub, label_test)"
      ],
      "metadata": {
        "id": "chfpzAcBFfq2"
      },
      "execution_count": 38,
      "outputs": []
    },
    {
      "cell_type": "markdown",
      "source": [
        "#define genetic algorithm parameters"
      ],
      "metadata": {
        "id": "mDuMbEkGHdJj"
      }
    },
    {
      "cell_type": "code",
      "source": [
        "population_size = 100\n",
        "num_generations = 20\n",
        "mutation_rate = 0.05"
      ],
      "metadata": {
        "id": "DCunTxFhHSoq"
      },
      "execution_count": 39,
      "outputs": []
    },
    {
      "cell_type": "markdown",
      "source": [
        "# Initialize the population randomly"
      ],
      "metadata": {
        "id": "baAOiX2uKCrR"
      }
    },
    {
      "cell_type": "code",
      "source": [
        "population = np.random.randint(2, size=(population_size, features.shape[1]))\n",
        "# 2, means it's gonna store a value between [0,1]\n",
        "#features.shape, this return tuple (row, cloumns).but features.shape[1], return tuple cloumns only\n",
        "#print (population)"
      ],
      "metadata": {
        "id": "ZazncUGHHva9"
      },
      "execution_count": 40,
      "outputs": []
    },
    {
      "cell_type": "markdown",
      "source": [
        "# evaluate the population by fitness fun"
      ],
      "metadata": {
        "id": "_vJjC7kfLAkK"
      }
    },
    {
      "cell_type": "code",
      "source": [
        "fitness_scores = [fitness(i_feat) for i_feat in population]\n",
        "#every row in population will be evaluate, then add to fitness_score list"
      ],
      "metadata": {
        "id": "Csm1txvkKPOR"
      },
      "execution_count": 41,
      "outputs": []
    },
    {
      "cell_type": "markdown",
      "source": [
        "# Iterate through the generation"
      ],
      "metadata": {
        "id": "FzdaGjMid7g-"
      }
    },
    {
      "cell_type": "code",
      "source": [
        "for generation in range(num_generations):\n",
        "  #select the parents for crossover\n",
        "  parent_indices = np.random.choice(population_size, size = population_size, replace=True, p=fitness_scores/np.sum(fitness_scores))\n",
        "  parents = population[parent_indices]\n",
        "\n",
        "  #performe crossover to create the children\n",
        "  children = np.empty_like(parents)\n",
        "  for i in range(population_size):\n",
        "    parent1 = parents[i]\n",
        "    parent2 = parents[np.random.randint(population_size)]\n",
        "    crossover_point = np.random.randint(1, features.shape[1]-1)\n",
        "    child = np.concatenate((parent1[:crossover_point], parent2[crossover_point:]))\n",
        "    children[i] = child\n",
        "\n",
        "  #perform nutation on some of the childern\n",
        "  for i in range(population_size):\n",
        "    if np.random.rand() < mutation_rate:\n",
        "      mutation_point = np.random.randint(features.shape[1])\n",
        "      children[i, mutation_point] = 1 - children[i, mutation_point]\n",
        "\n",
        "  #evaluate the fitness of the children\n",
        "  children_fitness_scores = [fitness(i_feat) for i_feat in children]\n",
        "\n",
        "  #replace the old population with the new population of children\n",
        "  population = children\n",
        "  fitness_scores = children_fitness_scores"
      ],
      "metadata": {
        "id": "nXNk8q0pMw5j"
      },
      "execution_count": 44,
      "outputs": []
    },
    {
      "cell_type": "markdown",
      "source": [
        "# select the best feature subset from the final population"
      ],
      "metadata": {
        "id": "IVevhsXrhVrD"
      }
    },
    {
      "cell_type": "code",
      "source": [
        "best_features = population[np.argmax(fitness_scores)]"
      ],
      "metadata": {
        "id": "0dvYAYvzhCld"
      },
      "execution_count": 46,
      "outputs": []
    },
    {
      "cell_type": "markdown",
      "source": [
        "# train and evaluate a classifier using the selected features"
      ],
      "metadata": {
        "id": "yWmf9EwmjNxy"
      }
    },
    {
      "cell_type": "code",
      "source": [
        "features_train_sub = features_tain[:, best_features.astype(bool)]\n",
        "featrues_test_sub = features_test[:, best_features.astype(bool)]\n",
        "clf = RandomForestClassifier()\n",
        "clf.fit(features_train_sub, label_train)\n",
        "accuracy = clf.score(featrues_test_sub, label_test)"
      ],
      "metadata": {
        "id": "QxVhSmgWiMZa"
      },
      "execution_count": 47,
      "outputs": []
    },
    {
      "cell_type": "code",
      "source": [
        "print(\"selected features: \", best_features)\n",
        "print(\"Accuracy: \" , accuracy)"
      ],
      "metadata": {
        "colab": {
          "base_uri": "https://localhost:8080/"
        },
        "id": "w1H5DnggjUAZ",
        "outputId": "a1fc5765-2d5e-4262-d767-8c01e8679f44"
      },
      "execution_count": 50,
      "outputs": [
        {
          "output_type": "stream",
          "name": "stdout",
          "text": [
            "selected features:  [1 1 0 1]\n",
            "Accuracy:  0.9333333333333333\n"
          ]
        }
      ]
    }
  ]
}