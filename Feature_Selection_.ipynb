{
  "nbformat": 4,
  "nbformat_minor": 0,
  "metadata": {
    "colab": {
      "provenance": []
    },
    "kernelspec": {
      "name": "python3",
      "display_name": "Python 3"
    },
    "language_info": {
      "name": "python"
    }
  },
  "cells": [
    {
      "cell_type": "markdown",
      "source": [
        "# **1- filter methods**"
      ],
      "metadata": {
        "id": "7yuwggIyOGtA"
      }
    },
    {
      "cell_type": "markdown",
      "source": [
        "\n",
        "filter feature by a filter you give, ex: low varience"
      ],
      "metadata": {
        "id": "sBzT7js1LcLX"
      }
    },
    {
      "cell_type": "code",
      "execution_count": 49,
      "metadata": {
        "id": "8mf5cTHRXdg1"
      },
      "outputs": [],
      "source": [
        "from sklearn.datasets import load_iris\n",
        "import numpy as np\n",
        "from sklearn.feature_selection import chi2, SelectKBest, f_classif\n",
        "\n",
        "x,y = load_iris(return_X_y = True)\n"
      ]
    },
    {
      "cell_type": "code",
      "source": [
        "chi2(x,y)\n",
        "# first one for ranking, best one  116.31261309, then: 67.0483602\n",
        "# second one for num between 0,1"
      ],
      "metadata": {
        "colab": {
          "base_uri": "https://localhost:8080/"
        },
        "id": "hLDaOas9YVdY",
        "outputId": "028890b5-8a86-42c7-dae1-2dbc82fd4419"
      },
      "execution_count": 50,
      "outputs": [
        {
          "output_type": "execute_result",
          "data": {
            "text/plain": [
              "(array([ 10.81782088,   3.7107283 , 116.31261309,  67.0483602 ]),\n",
              " array([4.47651499e-03, 1.56395980e-01, 5.53397228e-26, 2.75824965e-15]))"
            ]
          },
          "metadata": {},
          "execution_count": 50
        }
      ]
    },
    {
      "cell_type": "code",
      "source": [
        "f_classif(x,y)\n",
        "#different ranks, but same order of importance"
      ],
      "metadata": {
        "colab": {
          "base_uri": "https://localhost:8080/"
        },
        "id": "HR9jcuKRuu0o",
        "outputId": "02a90728-1e67-4621-f5da-9515e6d65f86"
      },
      "execution_count": 51,
      "outputs": [
        {
          "output_type": "execute_result",
          "data": {
            "text/plain": [
              "(array([ 119.26450218,   49.16004009, 1180.16118225,  960.0071468 ]),\n",
              " array([1.66966919e-31, 4.49201713e-17, 2.85677661e-91, 4.16944584e-85]))"
            ]
          },
          "metadata": {},
          "execution_count": 51
        }
      ]
    },
    {
      "cell_type": "code",
      "source": [
        "print (x.shape)\n",
        "x_new = SelectKBest(chi2, k = 2).fit_transform(x,y)\n",
        "print(x_new.shape)\n",
        "x_new2 = SelectKBest(f_classif, k = 3).fit_transform(x,y)\n",
        "print(x_new2.shape)\n"
      ],
      "metadata": {
        "colab": {
          "base_uri": "https://localhost:8080/"
        },
        "id": "j8P5kr_saRVL",
        "outputId": "8f6f2197-2d3f-4efd-cdbc-1308ce6cbe12"
      },
      "execution_count": 52,
      "outputs": [
        {
          "output_type": "stream",
          "name": "stdout",
          "text": [
            "(150, 4)\n",
            "(150, 2)\n",
            "(150, 3)\n"
          ]
        }
      ]
    },
    {
      "cell_type": "markdown",
      "source": [
        "# 2- **wrapper methods**"
      ],
      "metadata": {
        "id": "RWZk8LdYOji0"
      }
    },
    {
      "cell_type": "markdown",
      "source": [
        "decide the best feature by trying every featuer/combination how it can predict the label [y]  \n",
        "\n",
        "*   forward - every single feature, then combination of features.\n",
        "*   backward - all features\n",
        "*   and recursive [forward + backward]\n",
        "\n"
      ],
      "metadata": {
        "id": "NYELLUiRKhY7"
      }
    },
    {
      "cell_type": "code",
      "source": [
        "from sklearn.feature_selection import SequentialFeatureSelector\n",
        "from sklearn.neighbors import KNeighborsClassifier\n",
        "\n",
        "knn = KNeighborsClassifier(n_neighbors=3)\n",
        "model = SequentialFeatureSelector(knn, n_features_to_select=2) # i put the feature selection [in it the ml model] - how many feature i want [best 3 combination]\n",
        "model.fit(x, y)\n",
        "print(model.get_support())\n",
        "\n",
        "'''\n",
        "direction{‘forward’, ‘backward’}, default=’forward’\n",
        "Whether to perform forward selection or backward selection.\n",
        "'''\n",
        "\n",
        "model1 = SequentialFeatureSelector(knn,\n",
        "                                   direction = 'backward',\n",
        "                                  n_features_to_select=2) # i put the feature selection [in it the ml model] - how many feature i want [best 3 combination]\n",
        "model1.fit(x, y)\n",
        "print(model1.get_support())"
      ],
      "metadata": {
        "colab": {
          "base_uri": "https://localhost:8080/"
        },
        "id": "bqZKD6KpxasA",
        "outputId": "97cbb52e-066f-4ce0-e0dc-947aee74a77a"
      },
      "execution_count": 53,
      "outputs": [
        {
          "output_type": "stream",
          "name": "stdout",
          "text": [
            "[ True False False  True]\n",
            "[False False  True  True]\n"
          ]
        }
      ]
    },
    {
      "cell_type": "code",
      "source": [
        "from sklearn.feature_selection import RFECV\n",
        "from sklearn.svm import SVR\n",
        "\n",
        "estimator = SVR(kernel=\"linear\")\n",
        "selector = RFECV(estimator, step=1, cv=5)\n",
        "selector = selector.fit(x, y)\n",
        "selector.support_"
      ],
      "metadata": {
        "colab": {
          "base_uri": "https://localhost:8080/"
        },
        "id": "Qc1JEKesG8pe",
        "outputId": "5a051efc-66fd-485d-ac39-0d3299c28bd3"
      },
      "execution_count": 54,
      "outputs": [
        {
          "output_type": "execute_result",
          "data": {
            "text/plain": [
              "array([ True, False,  True,  True])"
            ]
          },
          "metadata": {},
          "execution_count": 54
        }
      ]
    },
    {
      "cell_type": "code",
      "source": [
        "from sklearn.feature_selection import RFE\n",
        "from sklearn.svm import SVR\n",
        "\n",
        "svc = SVR(kernel=\"linear\", C=1)\n",
        "selector = RFE(svc, n_features_to_select=2, step=1)\n",
        "selector = selector.fit(x, y)\n",
        "print(selector.ranking_) # one's is the best\n",
        "print(selector.support_)"
      ],
      "metadata": {
        "colab": {
          "base_uri": "https://localhost:8080/"
        },
        "id": "ARjzemhXDTbD",
        "outputId": "d40a7dc2-ae15-4f53-b938-87f88de01c0d"
      },
      "execution_count": 55,
      "outputs": [
        {
          "output_type": "stream",
          "name": "stdout",
          "text": [
            "[2 3 1 1]\n",
            "[False False  True  True]\n"
          ]
        }
      ]
    },
    {
      "cell_type": "code",
      "source": [
        "import matplotlib.pyplot as plt\n",
        "\n",
        "plt.plot([0,1,2,3], selector.ranking_)\n"
      ],
      "metadata": {
        "colab": {
          "base_uri": "https://localhost:8080/",
          "height": 447
        },
        "id": "bhsQsd9hEkMd",
        "outputId": "7e6090ac-54ef-4a74-892b-67c92596ecf0"
      },
      "execution_count": 56,
      "outputs": [
        {
          "output_type": "execute_result",
          "data": {
            "text/plain": [
              "[<matplotlib.lines.Line2D at 0x7f6c21ca5ba0>]"
            ]
          },
          "metadata": {},
          "execution_count": 56
        },
        {
          "output_type": "display_data",
          "data": {
            "text/plain": [
              "<Figure size 640x480 with 1 Axes>"
            ],
            "image/png": "[encoded data removed]"
          },
          "metadata": {}
        }
      ]
    },
    {
      "cell_type": "markdown",
      "source": [
        "# 3- empeded"
      ],
      "metadata": {
        "id": "P6ruYRsuPKcz"
      }
    },
    {
      "cell_type": "markdown",
      "source": [
        "all the above type of just decide the feautres but this type select the best features then train the model and gives the model.\n"
      ],
      "metadata": {
        "id": "LEJ1U8z-O_g3"
      }
    },
    {
      "cell_type": "code",
      "source": [
        "from sklearn.linear_model import Lasso\n",
        "from sklearn.model_selection import train_test_split\n",
        "from sklearn.metrics import r2_score #for reg\n",
        "\n",
        "feature_train, feature_test, label_train, label_test = train_test_split(x, y, test_size=0.3, random_state=42)\n",
        "\n",
        "clf = Lasso(alpha=0.1)\n",
        "clf.fit(feature_train, label_train)\n",
        "label_pred = clf.predict(feature_test)\n",
        "\n",
        "#print(clf.coef_)\n",
        "#print(clf.intercept_)\n",
        "\n",
        "acc = r2_score(label_test, label_pred)\n",
        "acc"
      ],
      "metadata": {
        "colab": {
          "base_uri": "https://localhost:8080/"
        },
        "id": "inZd070QPnAi",
        "outputId": "6f9c60e6-15c0-48d9-dd99-7d4868556c7e"
      },
      "execution_count": 57,
      "outputs": [
        {
          "output_type": "execute_result",
          "data": {
            "text/plain": [
              "0.9063068004974982"
            ]
          },
          "metadata": {},
          "execution_count": 57
        }
      ]
    },
    {
      "cell_type": "code",
      "source": [
        "from sklearn.linear_model import ElasticNet\n",
        "\n",
        "modelE = ElasticNet()\n",
        "modelE.fit(feature_train, label_train)\n",
        "label_pred2 = modelE.predict(feature_test)\n",
        "\n",
        "acc = r2_score(label_test, label_pred2)\n",
        "print(acc)\n",
        "\n",
        "print(modelE.coef_)\n",
        "print(modelE.intercept_)"
      ],
      "metadata": {
        "colab": {
          "base_uri": "https://localhost:8080/"
        },
        "id": "S12veqc0LeIz",
        "outputId": "23439d0c-c593-412e-ef1a-6f83fed14cd0"
      },
      "execution_count": 58,
      "outputs": [
        {
          "output_type": "stream",
          "name": "stdout",
          "text": [
            "0.7017712571836526\n",
            "[ 0.         -0.          0.23312122  0.        ]\n",
            "0.15485273761168072\n"
          ]
        }
      ]
    }
  ]
}